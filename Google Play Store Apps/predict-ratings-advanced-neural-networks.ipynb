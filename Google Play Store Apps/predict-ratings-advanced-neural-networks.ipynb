{
 "cells": [
  {
   "cell_type": "markdown",
   "id": "d3aeebcf",
   "metadata": {
    "papermill": {
     "duration": 0.023606,
     "end_time": "2024-03-10T02:07:22.403718",
     "exception": false,
     "start_time": "2024-03-10T02:07:22.380112",
     "status": "completed"
    },
    "tags": []
   },
   "source": [
    "<span style=\"font-family:Comic Sans MS; color:#18B4FF; font-weight: bold; font-size: 70px\">Title:</span><br>\n",
    " <span style=\"font-family:Comic Sans MS; font-size: 40px\">📱Cracking Google Playstore: Predicting Ratings with Advanced Neural Networks! 🚀</span>"
   ]
  },
  {
   "cell_type": "markdown",
   "id": "49d03290",
   "metadata": {
    "papermill": {
     "duration": 0.025504,
     "end_time": "2024-03-10T02:07:22.454124",
     "exception": false,
     "start_time": "2024-03-10T02:07:22.428620",
     "status": "completed"
    },
    "tags": []
   },
   "source": [
    "<h2 style=\"font-family:Comic Sans MS; color:#18B4FF; font-weight: bold; font-size: 70px\">Introduction: </h2>\n",
    "<div style=\"display: flex; flex-direction: row; align-items: center;\">\n",
    "    <div style=\"flex: 1; margin-right: 12px;\">\n",
    "        <img src=\"https://th.bing.com/th/id/OIG4.BIJFJs6zZk4mmQxtqvSQ?pid=ImgGn\" alt=\"Image\" style=\"width: 650px; height: 300px; border-radius: 0px;\" />\n",
    "    </div>\n",
    "    <div style=\"flex: 2; margin-top: 0px\">\n",
    "        <!-- <p style=\"font-weight: bold; color: #dc2f02; font-size: 30px;\">INTRODUCTION</p> -->\n",
    "        <p>Hello everyone! Welcome to my notebook.</p>\n",
    "        <p>I'm <b>Muhammad Asfar Zafar</b>, a passionate Data Scientist eager to unravel insights from data.📶</p>\n",
    "        <p>In this notebook, we'll embark on an exploration of the <b>Google Play Store Dataset</b>. Our goal is to predict app ratings using advanced machine learning and deep learning techniques, specifically Artificial Neural Networks (ANN).</p>\n",
    "        <p>Join me as we delve into Exploratory Data Analysis (EDA), harness the power of ANN, and discuss our findings along the way.</p>\n",
    "        <blockquote>If you find this notebook helpful, please consider upvoting and following! ❤️</blockquote>\n",
    "    </div>\n",
    "</div>\n",
    "\n"
   ]
  },
  {
   "cell_type": "markdown",
   "id": "f365a900",
   "metadata": {
    "papermill": {
     "duration": 0.024472,
     "end_time": "2024-03-10T02:07:22.501982",
     "exception": false,
     "start_time": "2024-03-10T02:07:22.477510",
     "status": "completed"
    },
    "tags": []
   },
   "source": [
    "<h2 style=\"font-family:Comic Sans MS; color:#18B4FF; font-weight: bold; font-size: 70px\">Links: </h2>\n",
    "<div style=\"text-align:center;\">\n",
    "    <div>\n",
    "    <a href=\"https://www.kaggle.com/asfarzafar/\">\n",
    "        <img src=\"https://img.shields.io/badge/Kaggle-035a7d?style=for-the-badge&logo=kaggle&logoColor=white\" alt=\"Kaggle\" style=\"width:250px;height:100px; margin-bottom: 20px;\">\n",
    "    </a></div>\n",
    "    <div>\n",
    "    <a href=\"https://www.linkedin.com/in/muhammad-asfar-384964268/\">\n",
    "        <img src=\"https://img.shields.io/badge/LinkedIn-0077B5?style=for-the-badge&logo=linkedin&logoColor=white\" alt=\"LinkedIn\" style=\"width:250px;height:100px;\">\n",
    "    </a>\n",
    "    </div>\n",
    "</div>\n"
   ]
  },
  {
   "cell_type": "markdown",
   "id": "8f68a469",
   "metadata": {
    "papermill": {
     "duration": 0.025763,
     "end_time": "2024-03-10T02:07:22.551771",
     "exception": false,
     "start_time": "2024-03-10T02:07:22.526008",
     "status": "completed"
    },
    "tags": []
   },
   "source": [
    "<hr style=\"border: none; border-top: 2px solid #18B4FF;\">\n"
   ]
  },
  {
   "cell_type": "markdown",
   "id": "c1b1e9c3",
   "metadata": {
    "papermill": {
     "duration": 0.022931,
     "end_time": "2024-03-10T02:07:22.598375",
     "exception": false,
     "start_time": "2024-03-10T02:07:22.575444",
     "status": "completed"
    },
    "tags": []
   },
   "source": [
    "<span style=\"font-family:Comic Sans MS; color:#18B4FF; font-weight: bold; font-size: 70px\">Meta Data:</span><br>"
   ]
  },
  {
   "cell_type": "markdown",
   "id": "fe2d02e4",
   "metadata": {
    "papermill": {
     "duration": 0.023063,
     "end_time": "2024-03-10T02:07:22.644640",
     "exception": false,
     "start_time": "2024-03-10T02:07:22.621577",
     "status": "completed"
    },
    "tags": []
   },
   "source": [
    "<strong style=\"font-family:Comic Sans MS; color:purple; font-weight: bold; font-size: 35px\">Context</strong>\n",
    "\n",
    "While many public datasets (on Kaggle and the like) provide Apple App Store data, there are not many counterpart datasets available for Google Play Store apps anywhere on the web. On digging deeper, I found out that iTunes App Store page deploys a nicely indexed appendix-like structure to allow for simple and easy web scraping. On the other hand, Google Play Store uses sophisticated modern-day techniques (like dynamic page load) using JQuery making scraping more challenging.\n",
    "\n",
    "\n",
    "<strong style=\"font-family:Comic Sans MS; color:purple; font-weight: bold; font-size: 35px\">Content</strong>\n",
    "\n",
    "Each app (row) has values for catergory, rating, size, and more.\n",
    "\n",
    "<strong style=\"font-family:Comic Sans MS; color:purple; font-weight: bold; font-size: 35px\">Acknowledgements</strong>\n",
    "\n",
    "This information is scraped from the Google Play Store. This app information would not be available without it.\n",
    "\n",
    "<strong style=\"font-family:Comic Sans MS; color:purple; font-weight: bold; font-size: 35px\">Inspiration</strong>\n",
    "\n",
    "The Play Store apps data has enormous potential to drive app-making businesses to success. Actionable insights can be drawn for developers to work on and capture the Android market!\n",
    "<hr style=\"border: none; border-top: 2px solid #18B4FF;\">\n"
   ]
  },
  {
   "cell_type": "markdown",
   "id": "289f2abb",
   "metadata": {
    "papermill": {
     "duration": 0.02285,
     "end_time": "2024-03-10T02:07:22.690628",
     "exception": false,
     "start_time": "2024-03-10T02:07:22.667778",
     "status": "completed"
    },
    "tags": []
   },
   "source": [
    "<h2 style=\"font-family:Comic Sans MS; color:#18B4FF; font-weight: bold; font-size: 70px\">1.0 Import Libraries: </h2>\n"
   ]
  },
  {
   "cell_type": "code",
   "execution_count": 1,
   "id": "8a91ed8e",
   "metadata": {
    "execution": {
     "iopub.execute_input": "2024-03-10T02:07:22.738537Z",
     "iopub.status.busy": "2024-03-10T02:07:22.738025Z",
     "iopub.status.idle": "2024-03-10T02:07:40.263654Z",
     "shell.execute_reply": "2024-03-10T02:07:40.262387Z"
    },
    "papermill": {
     "duration": 17.5534,
     "end_time": "2024-03-10T02:07:40.266970",
     "exception": false,
     "start_time": "2024-03-10T02:07:22.713570",
     "status": "completed"
    },
    "tags": []
   },
   "outputs": [
    {
     "name": "stderr",
     "output_type": "stream",
     "text": [
      "2024-03-10 02:07:28.826065: E external/local_xla/xla/stream_executor/cuda/cuda_dnn.cc:9261] Unable to register cuDNN factory: Attempting to register factory for plugin cuDNN when one has already been registered\n",
      "2024-03-10 02:07:28.826211: E external/local_xla/xla/stream_executor/cuda/cuda_fft.cc:607] Unable to register cuFFT factory: Attempting to register factory for plugin cuFFT when one has already been registered\n",
      "2024-03-10 02:07:29.006345: E external/local_xla/xla/stream_executor/cuda/cuda_blas.cc:1515] Unable to register cuBLAS factory: Attempting to register factory for plugin cuBLAS when one has already been registered\n"
     ]
    }
   ],
   "source": [
    "# for data manipulation\n",
    "import pandas as pd\n",
    "import numpy as np\n",
    "\n",
    "# for data visualization\n",
    "import matplotlib.pyplot as plt\n",
    "import seaborn as sns\n",
    "import plotly.express as px\n",
    "\n",
    "# for preprocessing\n",
    "from sklearn.preprocessing import LabelEncoder, OneHotEncoder, OrdinalEncoder\n",
    "from sklearn.preprocessing import StandardScaler, MinMaxScaler, QuantileTransformer\n",
    "from sklearn.experimental import enable_iterative_imputer\n",
    "from sklearn.impute import KNNImputer, SimpleImputer, IterativeImputer\n",
    "from sklearn.linear_model import BayesianRidge \n",
    "from sklearn.ensemble import RandomForestRegressor, GradientBoostingRegressor, AdaBoostRegressor\n",
    "\n",
    "\n",
    "\n",
    "# for model training\n",
    "from sklearn.model_selection import train_test_split, cross_val_score, GridSearchCV\n",
    "from sklearn.pipeline import Pipeline\n",
    "from sklearn.compose import ColumnTransformer\n",
    "\n",
    "# import model for regression\n",
    "from sklearn.linear_model import LinearRegression\n",
    "from sklearn.svm import SVR\n",
    "from sklearn.neighbors import KNeighborsRegressor\n",
    "from xgboost import XGBRegressor\n",
    "from sklearn.tree import DecisionTreeRegressor\n",
    "from sklearn.ensemble import RandomForestRegressor\n",
    "\n",
    "# import tensorflow for creating neural networks\n",
    "import tensorflow as tf\n",
    "from tensorflow.keras.models import Sequential\n",
    "from tensorflow.keras.layers import Dense\n",
    "from tensorflow.keras.callbacks import EarlyStopping\n",
    "\n",
    "# for model evaluation\n",
    "from sklearn.metrics import mean_absolute_error, mean_squared_error, r2_score\n",
    "\n",
    "# ignore warnings\n",
    "import warnings\n",
    "warnings.filterwarnings(\"ignore\")\n",
    "\n",
    "# function for Sub-Heading\n",
    "def heading(title):\n",
    "    print('-'*80)\n",
    "    print(title.upper())\n",
    "    print('-'*80)"
   ]
  },
  {
   "cell_type": "markdown",
   "id": "e861cda4",
   "metadata": {
    "papermill": {
     "duration": 0.02308,
     "end_time": "2024-03-10T02:07:40.319428",
     "exception": false,
     "start_time": "2024-03-10T02:07:40.296348",
     "status": "completed"
    },
    "tags": []
   },
   "source": [
    "<hr style=\"border: none; border-top: 2px solid #18B4FF;\">\n"
   ]
  },
  {
   "cell_type": "markdown",
   "id": "4e87e9db",
   "metadata": {
    "papermill": {
     "duration": 0.082895,
     "end_time": "2024-03-10T02:07:40.425837",
     "exception": false,
     "start_time": "2024-03-10T02:07:40.342942",
     "status": "completed"
    },
    "tags": []
   },
   "source": [
    "<h2 style=\"font-family:Comic Sans MS; color:#18B4FF; font-weight: bold; font-size: 70px\">2.0 Import Dataset:</h2>"
   ]
  },
  {
   "cell_type": "code",
   "execution_count": 2,
   "id": "49de35c7",
   "metadata": {
    "execution": {
     "iopub.execute_input": "2024-03-10T02:07:40.476315Z",
     "iopub.status.busy": "2024-03-10T02:07:40.475007Z",
     "iopub.status.idle": "2024-03-10T02:07:40.566427Z",
     "shell.execute_reply": "2024-03-10T02:07:40.565233Z"
    },
    "papermill": {
     "duration": 0.120666,
     "end_time": "2024-03-10T02:07:40.569921",
     "exception": false,
     "start_time": "2024-03-10T02:07:40.449255",
     "status": "completed"
    },
    "tags": []
   },
   "outputs": [],
   "source": [
    "data = pd.read_csv('/kaggle/input/google-play-store-apps/googleplaystore.csv')\n",
    "df = data.sample(4200, random_state=42)"
   ]
  },
  {
   "cell_type": "markdown",
   "id": "7e7b9948",
   "metadata": {
    "papermill": {
     "duration": 0.02388,
     "end_time": "2024-03-10T02:07:40.628680",
     "exception": false,
     "start_time": "2024-03-10T02:07:40.604800",
     "status": "completed"
    },
    "tags": []
   },
   "source": [
    "<hr style=\"border: none; border-top: 2px solid #18B4FF;\">\n"
   ]
  },
  {
   "cell_type": "markdown",
   "id": "bdba8410",
   "metadata": {
    "papermill": {
     "duration": 0.024095,
     "end_time": "2024-03-10T02:07:40.679156",
     "exception": false,
     "start_time": "2024-03-10T02:07:40.655061",
     "status": "completed"
    },
    "tags": []
   },
   "source": [
    "<h2 style=\"font-family:Comic Sans MS; color:#18B4FF; font-weight: bold; font-size: 70px\">3.0 Data Overview:</h2>"
   ]
  },
  {
   "cell_type": "markdown",
   "id": "b726cd5e",
   "metadata": {
    "papermill": {
     "duration": 0.02294,
     "end_time": "2024-03-10T02:07:40.726231",
     "exception": false,
     "start_time": "2024-03-10T02:07:40.703291",
     "status": "completed"
    },
    "tags": []
   },
   "source": [
    "<strong style=\"font-family:Comic Sans MS; color:purple; font-weight: bold; font-size: 35px\">3.1: Dataset Head</strong>"
   ]
  },
  {
   "cell_type": "code",
   "execution_count": 3,
   "id": "ad1698ca",
   "metadata": {
    "execution": {
     "iopub.execute_input": "2024-03-10T02:07:40.774399Z",
     "iopub.status.busy": "2024-03-10T02:07:40.774005Z",
     "iopub.status.idle": "2024-03-10T02:07:40.799361Z",
     "shell.execute_reply": "2024-03-10T02:07:40.798209Z"
    },
    "papermill": {
     "duration": 0.052489,
     "end_time": "2024-03-10T02:07:40.801952",
     "exception": false,
     "start_time": "2024-03-10T02:07:40.749463",
     "status": "completed"
    },
    "tags": []
   },
   "outputs": [
    {
     "name": "stdout",
     "output_type": "stream",
     "text": [
      "--------------------------------------------------------------------------------\n",
      "DATASET HEAD\n",
      "--------------------------------------------------------------------------------\n"
     ]
    },
    {
     "data": {
      "text/html": [
       "<div>\n",
       "<style scoped>\n",
       "    .dataframe tbody tr th:only-of-type {\n",
       "        vertical-align: middle;\n",
       "    }\n",
       "\n",
       "    .dataframe tbody tr th {\n",
       "        vertical-align: top;\n",
       "    }\n",
       "\n",
       "    .dataframe thead th {\n",
       "        text-align: right;\n",
       "    }\n",
       "</style>\n",
       "<table border=\"1\" class=\"dataframe\">\n",
       "  <thead>\n",
       "    <tr style=\"text-align: right;\">\n",
       "      <th></th>\n",
       "      <th>App</th>\n",
       "      <th>Category</th>\n",
       "      <th>Rating</th>\n",
       "      <th>Reviews</th>\n",
       "      <th>Size</th>\n",
       "      <th>Installs</th>\n",
       "      <th>Type</th>\n",
       "      <th>Price</th>\n",
       "      <th>Content Rating</th>\n",
       "      <th>Genres</th>\n",
       "      <th>Last Updated</th>\n",
       "      <th>Current Ver</th>\n",
       "      <th>Android Ver</th>\n",
       "    </tr>\n",
       "  </thead>\n",
       "  <tbody>\n",
       "    <tr>\n",
       "      <th>3457</th>\n",
       "      <td>Microsoft Outlook</td>\n",
       "      <td>PRODUCTIVITY</td>\n",
       "      <td>4.3</td>\n",
       "      <td>3252896</td>\n",
       "      <td>50M</td>\n",
       "      <td>100,000,000+</td>\n",
       "      <td>Free</td>\n",
       "      <td>0</td>\n",
       "      <td>Everyone</td>\n",
       "      <td>Productivity</td>\n",
       "      <td>August 2, 2018</td>\n",
       "      <td>2.2.194</td>\n",
       "      <td>4.4 and up</td>\n",
       "    </tr>\n",
       "    <tr>\n",
       "      <th>3069</th>\n",
       "      <td>FotMob - Live Soccer Scores</td>\n",
       "      <td>SPORTS</td>\n",
       "      <td>4.7</td>\n",
       "      <td>410395</td>\n",
       "      <td>Varies with device</td>\n",
       "      <td>10,000,000+</td>\n",
       "      <td>Free</td>\n",
       "      <td>0</td>\n",
       "      <td>Everyone</td>\n",
       "      <td>Sports</td>\n",
       "      <td>July 31, 2018</td>\n",
       "      <td>Varies with device</td>\n",
       "      <td>Varies with device</td>\n",
       "    </tr>\n",
       "    <tr>\n",
       "      <th>9657</th>\n",
       "      <td>EO Guide</td>\n",
       "      <td>HEALTH_AND_FITNESS</td>\n",
       "      <td>NaN</td>\n",
       "      <td>15</td>\n",
       "      <td>24M</td>\n",
       "      <td>1,000+</td>\n",
       "      <td>Paid</td>\n",
       "      <td>$4.99</td>\n",
       "      <td>Everyone</td>\n",
       "      <td>Health &amp; Fitness</td>\n",
       "      <td>July 23, 2018</td>\n",
       "      <td>1.0.4</td>\n",
       "      <td>4.1 and up</td>\n",
       "    </tr>\n",
       "    <tr>\n",
       "      <th>10714</th>\n",
       "      <td>FunForMobile Ringtones &amp; Chat</td>\n",
       "      <td>SOCIAL</td>\n",
       "      <td>4.4</td>\n",
       "      <td>68358</td>\n",
       "      <td>7.2M</td>\n",
       "      <td>5,000,000+</td>\n",
       "      <td>Free</td>\n",
       "      <td>0</td>\n",
       "      <td>Mature 17+</td>\n",
       "      <td>Social</td>\n",
       "      <td>May 7, 2016</td>\n",
       "      <td>3.22</td>\n",
       "      <td>4.1 and up</td>\n",
       "    </tr>\n",
       "    <tr>\n",
       "      <th>3963</th>\n",
       "      <td>Oral-B App</td>\n",
       "      <td>HEALTH_AND_FITNESS</td>\n",
       "      <td>3.3</td>\n",
       "      <td>14210</td>\n",
       "      <td>96M</td>\n",
       "      <td>1,000,000+</td>\n",
       "      <td>Free</td>\n",
       "      <td>0</td>\n",
       "      <td>Everyone</td>\n",
       "      <td>Health &amp; Fitness</td>\n",
       "      <td>July 19, 2018</td>\n",
       "      <td>6.0.1</td>\n",
       "      <td>5.0 and up</td>\n",
       "    </tr>\n",
       "  </tbody>\n",
       "</table>\n",
       "</div>"
      ],
      "text/plain": [
       "                                 App            Category  Rating  Reviews  \\\n",
       "3457               Microsoft Outlook        PRODUCTIVITY     4.3  3252896   \n",
       "3069     FotMob - Live Soccer Scores              SPORTS     4.7   410395   \n",
       "9657                        EO Guide  HEALTH_AND_FITNESS     NaN       15   \n",
       "10714  FunForMobile Ringtones & Chat              SOCIAL     4.4    68358   \n",
       "3963                      Oral-B App  HEALTH_AND_FITNESS     3.3    14210   \n",
       "\n",
       "                     Size      Installs  Type  Price Content Rating  \\\n",
       "3457                  50M  100,000,000+  Free      0       Everyone   \n",
       "3069   Varies with device   10,000,000+  Free      0       Everyone   \n",
       "9657                  24M        1,000+  Paid  $4.99       Everyone   \n",
       "10714                7.2M    5,000,000+  Free      0     Mature 17+   \n",
       "3963                  96M    1,000,000+  Free      0       Everyone   \n",
       "\n",
       "                 Genres    Last Updated         Current Ver  \\\n",
       "3457       Productivity  August 2, 2018             2.2.194   \n",
       "3069             Sports   July 31, 2018  Varies with device   \n",
       "9657   Health & Fitness   July 23, 2018               1.0.4   \n",
       "10714            Social     May 7, 2016                3.22   \n",
       "3963   Health & Fitness   July 19, 2018               6.0.1   \n",
       "\n",
       "              Android Ver  \n",
       "3457           4.4 and up  \n",
       "3069   Varies with device  \n",
       "9657           4.1 and up  \n",
       "10714          4.1 and up  \n",
       "3963           5.0 and up  "
      ]
     },
     "execution_count": 3,
     "metadata": {},
     "output_type": "execute_result"
    }
   ],
   "source": [
    "heading('Dataset Head')\n",
    "df.head()"
   ]
  },
  {
   "cell_type": "markdown",
   "id": "463ad6f2",
   "metadata": {
    "papermill": {
     "duration": 0.02327,
     "end_time": "2024-03-10T02:07:40.848923",
     "exception": false,
     "start_time": "2024-03-10T02:07:40.825653",
     "status": "completed"
    },
    "tags": []
   },
   "source": [
    "<strong style=\"font-family:Comic Sans MS; color:purple; font-weight: bold; font-size: 35px\">3.2: Shape of Data</strong>"
   ]
  },
  {
   "cell_type": "code",
   "execution_count": 4,
   "id": "a0f27e3e",
   "metadata": {
    "execution": {
     "iopub.execute_input": "2024-03-10T02:07:40.898056Z",
     "iopub.status.busy": "2024-03-10T02:07:40.897682Z",
     "iopub.status.idle": "2024-03-10T02:07:40.902913Z",
     "shell.execute_reply": "2024-03-10T02:07:40.901884Z"
    },
    "papermill": {
     "duration": 0.032638,
     "end_time": "2024-03-10T02:07:40.905275",
     "exception": false,
     "start_time": "2024-03-10T02:07:40.872637",
     "status": "completed"
    },
    "tags": []
   },
   "outputs": [
    {
     "name": "stdout",
     "output_type": "stream",
     "text": [
      "There are 4200 rows and 13 columns in the dataset.\n"
     ]
    }
   ],
   "source": [
    "# No of rows and columns in the dataset\n",
    "shape = df.shape\n",
    "print(f'There are {shape[0]} rows and {shape[1]} columns in the dataset.')"
   ]
  },
  {
   "cell_type": "markdown",
   "id": "f1de7afe",
   "metadata": {
    "papermill": {
     "duration": 0.023899,
     "end_time": "2024-03-10T02:07:40.952927",
     "exception": false,
     "start_time": "2024-03-10T02:07:40.929028",
     "status": "completed"
    },
    "tags": []
   },
   "source": [
    "<strong style=\"font-family:Comic Sans MS; color:purple; font-weight: bold; font-size: 35px\">3.3: Statistical Summary</strong>"
   ]
  },
  {
   "cell_type": "code",
   "execution_count": 5,
   "id": "8fb36229",
   "metadata": {
    "execution": {
     "iopub.execute_input": "2024-03-10T02:07:41.002482Z",
     "iopub.status.busy": "2024-03-10T02:07:41.002079Z",
     "iopub.status.idle": "2024-03-10T02:07:41.029919Z",
     "shell.execute_reply": "2024-03-10T02:07:41.028717Z"
    },
    "papermill": {
     "duration": 0.055335,
     "end_time": "2024-03-10T02:07:41.032128",
     "exception": false,
     "start_time": "2024-03-10T02:07:40.976793",
     "status": "completed"
    },
    "tags": []
   },
   "outputs": [
    {
     "name": "stdout",
     "output_type": "stream",
     "text": [
      "--------------------------------------------------------------------------------\n",
      "DATASET INFORMATION\n",
      "--------------------------------------------------------------------------------\n",
      "<class 'pandas.core.frame.DataFrame'>\n",
      "Index: 4200 entries, 3457 to 9133\n",
      "Data columns (total 13 columns):\n",
      " #   Column          Non-Null Count  Dtype  \n",
      "---  ------          --------------  -----  \n",
      " 0   App             4200 non-null   object \n",
      " 1   Category        4200 non-null   object \n",
      " 2   Rating          3623 non-null   float64\n",
      " 3   Reviews         4200 non-null   object \n",
      " 4   Size            4200 non-null   object \n",
      " 5   Installs        4200 non-null   object \n",
      " 6   Type            4200 non-null   object \n",
      " 7   Price           4200 non-null   object \n",
      " 8   Content Rating  4200 non-null   object \n",
      " 9   Genres          4200 non-null   object \n",
      " 10  Last Updated    4200 non-null   object \n",
      " 11  Current Ver     4197 non-null   object \n",
      " 12  Android Ver     4199 non-null   object \n",
      "dtypes: float64(1), object(12)\n",
      "memory usage: 459.4+ KB\n"
     ]
    }
   ],
   "source": [
    "heading('Dataset Information')\n",
    "df.info() # checking information about the dataset"
   ]
  },
  {
   "cell_type": "code",
   "execution_count": 6,
   "id": "a8d5f942",
   "metadata": {
    "execution": {
     "iopub.execute_input": "2024-03-10T02:07:41.081713Z",
     "iopub.status.busy": "2024-03-10T02:07:41.081320Z",
     "iopub.status.idle": "2024-03-10T02:07:41.096351Z",
     "shell.execute_reply": "2024-03-10T02:07:41.095268Z"
    },
    "papermill": {
     "duration": 0.042842,
     "end_time": "2024-03-10T02:07:41.098848",
     "exception": false,
     "start_time": "2024-03-10T02:07:41.056006",
     "status": "completed"
    },
    "tags": []
   },
   "outputs": [
    {
     "data": {
      "text/html": [
       "<div>\n",
       "<style scoped>\n",
       "    .dataframe tbody tr th:only-of-type {\n",
       "        vertical-align: middle;\n",
       "    }\n",
       "\n",
       "    .dataframe tbody tr th {\n",
       "        vertical-align: top;\n",
       "    }\n",
       "\n",
       "    .dataframe thead th {\n",
       "        text-align: right;\n",
       "    }\n",
       "</style>\n",
       "<table border=\"1\" class=\"dataframe\">\n",
       "  <thead>\n",
       "    <tr style=\"text-align: right;\">\n",
       "      <th></th>\n",
       "      <th>Rating</th>\n",
       "    </tr>\n",
       "  </thead>\n",
       "  <tbody>\n",
       "    <tr>\n",
       "      <th>count</th>\n",
       "      <td>3623.000000</td>\n",
       "    </tr>\n",
       "    <tr>\n",
       "      <th>mean</th>\n",
       "      <td>4.188131</td>\n",
       "    </tr>\n",
       "    <tr>\n",
       "      <th>std</th>\n",
       "      <td>0.516992</td>\n",
       "    </tr>\n",
       "    <tr>\n",
       "      <th>min</th>\n",
       "      <td>1.000000</td>\n",
       "    </tr>\n",
       "    <tr>\n",
       "      <th>25%</th>\n",
       "      <td>4.000000</td>\n",
       "    </tr>\n",
       "    <tr>\n",
       "      <th>50%</th>\n",
       "      <td>4.300000</td>\n",
       "    </tr>\n",
       "    <tr>\n",
       "      <th>75%</th>\n",
       "      <td>4.500000</td>\n",
       "    </tr>\n",
       "    <tr>\n",
       "      <th>max</th>\n",
       "      <td>5.000000</td>\n",
       "    </tr>\n",
       "  </tbody>\n",
       "</table>\n",
       "</div>"
      ],
      "text/plain": [
       "            Rating\n",
       "count  3623.000000\n",
       "mean      4.188131\n",
       "std       0.516992\n",
       "min       1.000000\n",
       "25%       4.000000\n",
       "50%       4.300000\n",
       "75%       4.500000\n",
       "max       5.000000"
      ]
     },
     "execution_count": 6,
     "metadata": {},
     "output_type": "execute_result"
    }
   ],
   "source": [
    "# Description of numeric columns\n",
    "df.describe()"
   ]
  },
  {
   "cell_type": "markdown",
   "id": "ed8d3ae5",
   "metadata": {
    "papermill": {
     "duration": 0.023953,
     "end_time": "2024-03-10T02:07:41.147205",
     "exception": false,
     "start_time": "2024-03-10T02:07:41.123252",
     "status": "completed"
    },
    "tags": []
   },
   "source": [
    "<strong style=\"font-family:Comic Sans MS; color:purple; font-weight: bold; font-size: 35px\">3.4: Data Types of Columns</strong>"
   ]
  },
  {
   "cell_type": "code",
   "execution_count": 7,
   "id": "dc731c70",
   "metadata": {
    "execution": {
     "iopub.execute_input": "2024-03-10T02:07:41.197286Z",
     "iopub.status.busy": "2024-03-10T02:07:41.196837Z",
     "iopub.status.idle": "2024-03-10T02:07:41.205953Z",
     "shell.execute_reply": "2024-03-10T02:07:41.204784Z"
    },
    "papermill": {
     "duration": 0.036716,
     "end_time": "2024-03-10T02:07:41.208213",
     "exception": false,
     "start_time": "2024-03-10T02:07:41.171497",
     "status": "completed"
    },
    "tags": []
   },
   "outputs": [
    {
     "name": "stdout",
     "output_type": "stream",
     "text": [
      "There are 1 numeric columns and 12 object columns in the dataset.\n"
     ]
    }
   ],
   "source": [
    "# Counting the number of float columns\n",
    "float_columns = df.select_dtypes('float').columns.value_counts()\n",
    "\n",
    "# Counting the number of object columns\n",
    "object_columns = df.select_dtypes('object').columns.value_counts().sum()\n",
    "\n",
    "# Printing the total number of numeric and object columns in the dataset\n",
    "print(f'There are {float_columns.sum()} numeric columns and {object_columns} object columns in the dataset.')"
   ]
  },
  {
   "cell_type": "markdown",
   "id": "c071c52b",
   "metadata": {
    "papermill": {
     "duration": 0.024063,
     "end_time": "2024-03-10T02:07:41.256784",
     "exception": false,
     "start_time": "2024-03-10T02:07:41.232721",
     "status": "completed"
    },
    "tags": []
   },
   "source": [
    "<strong style=\"font-family:Comic Sans MS; color:purple; font-weight: bold; font-size: 35px\">3.5: Percentage of missing values in each column</strong>"
   ]
  },
  {
   "cell_type": "code",
   "execution_count": 8,
   "id": "748d8710",
   "metadata": {
    "execution": {
     "iopub.execute_input": "2024-03-10T02:07:41.307104Z",
     "iopub.status.busy": "2024-03-10T02:07:41.306656Z",
     "iopub.status.idle": "2024-03-10T02:07:41.321168Z",
     "shell.execute_reply": "2024-03-10T02:07:41.320111Z"
    },
    "papermill": {
     "duration": 0.042384,
     "end_time": "2024-03-10T02:07:41.323339",
     "exception": false,
     "start_time": "2024-03-10T02:07:41.280955",
     "status": "completed"
    },
    "tags": []
   },
   "outputs": [
    {
     "name": "stdout",
     "output_type": "stream",
     "text": [
      "--------------------------------------------------------------------------------\n",
      "PERCENTAGE OF MISSING VALUES IN EACH COLUMN\n",
      "--------------------------------------------------------------------------------\n"
     ]
    },
    {
     "data": {
      "text/plain": [
       "Rating            13.738095\n",
       "Current Ver        0.071429\n",
       "Android Ver        0.023810\n",
       "App                0.000000\n",
       "Category           0.000000\n",
       "Reviews            0.000000\n",
       "Size               0.000000\n",
       "Installs           0.000000\n",
       "Type               0.000000\n",
       "Price              0.000000\n",
       "Content Rating     0.000000\n",
       "Genres             0.000000\n",
       "Last Updated       0.000000\n",
       "dtype: float64"
      ]
     },
     "execution_count": 8,
     "metadata": {},
     "output_type": "execute_result"
    }
   ],
   "source": [
    "heading('Percentage of missing values in each column')\n",
    "# Calculate the percentage of missing values in each column\n",
    "df.isnull().sum().sort_values(ascending=False) / len(df) * 100"
   ]
  },
  {
   "cell_type": "markdown",
   "id": "d812b3cf",
   "metadata": {
    "papermill": {
     "duration": 0.024196,
     "end_time": "2024-03-10T02:07:41.371852",
     "exception": false,
     "start_time": "2024-03-10T02:07:41.347656",
     "status": "completed"
    },
    "tags": []
   },
   "source": [
    "<strong style=\"font-family:Comic Sans MS; color:purple; font-weight: bold; font-size: 35px\">3.6: Visualizing Missing Values</strong>"
   ]
  },
  {
   "cell_type": "code",
   "execution_count": 9,
   "id": "24081939",
   "metadata": {
    "execution": {
     "iopub.execute_input": "2024-03-10T02:07:41.423433Z",
     "iopub.status.busy": "2024-03-10T02:07:41.422997Z",
     "iopub.status.idle": "2024-03-10T02:07:41.780160Z",
     "shell.execute_reply": "2024-03-10T02:07:41.779188Z"
    },
    "papermill": {
     "duration": 0.386377,
     "end_time": "2024-03-10T02:07:41.782903",
     "exception": false,
     "start_time": "2024-03-10T02:07:41.396526",
     "status": "completed"
    },
    "tags": []
   },
   "outputs": [
    {
     "name": "stdout",
     "output_type": "stream",
     "text": [
      "--------------------------------------------------------------------------------\n",
      "VISULALIZING THE MISSING VALUES IN THE DATASET\n",
      "--------------------------------------------------------------------------------\n"
     ]
    },
    {
     "data": {
      "image/png": "[encoded data removed]",
      "text/plain": [
       "<Figure size 1800x900 with 1 Axes>"
      ]
     },
     "metadata": {},
     "output_type": "display_data"
    }
   ],
   "source": [
    "heading('visulalizing the missing values in the dataset')\n",
    "# Set up the figure size for the plot\n",
    "plt.figure(figsize=(18, 9))\n",
    "\n",
    "# Create the heatmap to plot null values\n",
    "sns.heatmap(df.isnull(), cbar=False, yticklabels=False, cmap='RdPu')\n",
    "\n",
    "# Show the plot\n",
    "plt.show()"
   ]
  },
  {
   "cell_type": "markdown",
   "id": "dd715e8d",
   "metadata": {
    "papermill": {
     "duration": 0.02484,
     "end_time": "2024-03-10T02:07:41.840318",
     "exception": false,
     "start_time": "2024-03-10T02:07:41.815478",
     "status": "completed"
    },
    "tags": []
   },
   "source": [
    "<strong style=\"font-family:Comic Sans MS; color:purple; font-weight: bold; font-size: 35px\">3.7: Correlation Matrix</strong>"
   ]
  },
  {
   "cell_type": "code",
   "execution_count": 10,
   "id": "b8b8cf91",
   "metadata": {
    "execution": {
     "iopub.execute_input": "2024-03-10T02:07:41.897697Z",
     "iopub.status.busy": "2024-03-10T02:07:41.897324Z",
     "iopub.status.idle": "2024-03-10T02:07:42.771342Z",
     "shell.execute_reply": "2024-03-10T02:07:42.770513Z"
    },
    "papermill": {
     "duration": 0.904425,
     "end_time": "2024-03-10T02:07:42.774975",
     "exception": false,
     "start_time": "2024-03-10T02:07:41.870550",
     "status": "completed"
    },
    "tags": []
   },
   "outputs": [
    {
     "data": {
      "image/png": "[encoded data removed]",
      "text/plain": [
       "<Figure size 1600x1100 with 2 Axes>"
      ]
     },
     "metadata": {},
     "output_type": "display_data"
    }
   ],
   "source": [
    "# Make a copy of the dataframe to avoid modifying the original data\n",
    "df2 = df.copy()\n",
    "\n",
    "# Convert categorical columns to numerical using label encoding\n",
    "# Iterate over categorical columns and apply label encoding\n",
    "cat_cols = df2.select_dtypes(include=['object', 'category']).columns\n",
    "for col in cat_cols:\n",
    "    df2[col] = LabelEncoder().fit_transform(df2[col])\n",
    "\n",
    "# Calculate correlation matrix\n",
    "correlation_matrix = df2.corr()\n",
    "\n",
    "# Sort correlation features\n",
    "sort_corr_features = correlation_matrix.index \n",
    "\n",
    "# Plot correlation matrix\n",
    "plt.figure(figsize=(16, 11))\n",
    "sns.heatmap(df2[sort_corr_features].corr(), annot=True, cmap='RdBu', alpha=0.9, square=False)\n",
    "plt.show()\n"
   ]
  },
  {
   "cell_type": "markdown",
   "id": "b6e63f55",
   "metadata": {
    "papermill": {
     "duration": 0.028317,
     "end_time": "2024-03-10T02:07:42.832535",
     "exception": false,
     "start_time": "2024-03-10T02:07:42.804218",
     "status": "completed"
    },
    "tags": []
   },
   "source": [
    "<strong style=\"font-family:Comic Sans MS; color:purple; font-weight: bold; font-size: 35px\">3.8: Conclusions</strong>\n",
    "\n",
    "1. There are `4200 rows` and `13 columns` in the dataset.\n",
    "2. There are `1 numeric` columns and `12 object(categorical)` columns in the dataset.\n",
    "3. Only Rating and Current Ver column has NaN values.\n",
    "3. Rating has `13.82%` missing values.\n",
    "4. Current Ver has `0.045%` missing values.\n",
    "5. Android Ver has `0.023` missing values.\n",
    "\n",
    "\n",
    "\n",
    "<hr style=\"border: none; border-top: 2px solid #18B4FF;\">\n"
   ]
  },
  {
   "cell_type": "markdown",
   "id": "03c262a5",
   "metadata": {
    "papermill": {
     "duration": 0.028439,
     "end_time": "2024-03-10T02:07:42.889246",
     "exception": false,
     "start_time": "2024-03-10T02:07:42.860807",
     "status": "completed"
    },
    "tags": []
   },
   "source": [
    "<h2 style=\"font-family:Comic Sans MS; color:#18B4FF; font-weight: bold; font-size: 70px\">4.0 Data Cleaning and Preprocessing:</h2>"
   ]
  },
  {
   "cell_type": "markdown",
   "id": "e47bc069",
   "metadata": {
    "papermill": {
     "duration": 0.028075,
     "end_time": "2024-03-10T02:07:42.946245",
     "exception": false,
     "start_time": "2024-03-10T02:07:42.918170",
     "status": "completed"
    },
    "tags": []
   },
   "source": [
    "<strong style=\"font-family:Comic Sans MS; color:purple; font-weight: bold; font-size: 35px\">4.1 Dealing with Rating column</strong>"
   ]
  },
  {
   "cell_type": "code",
   "execution_count": 11,
   "id": "201cbf76",
   "metadata": {
    "execution": {
     "iopub.execute_input": "2024-03-10T02:07:43.006961Z",
     "iopub.status.busy": "2024-03-10T02:07:43.005639Z",
     "iopub.status.idle": "2024-03-10T02:07:43.015356Z",
     "shell.execute_reply": "2024-03-10T02:07:43.014218Z"
    },
    "papermill": {
     "duration": 0.042932,
     "end_time": "2024-03-10T02:07:43.017444",
     "exception": false,
     "start_time": "2024-03-10T02:07:42.974512",
     "status": "completed"
    },
    "tags": []
   },
   "outputs": [
    {
     "name": "stdout",
     "output_type": "stream",
     "text": [
      "--------------------------------------------------------------------------------\n",
      "MISSING VALUES BEFORE IMPUTATION\n",
      "--------------------------------------------------------------------------------\n"
     ]
    },
    {
     "data": {
      "text/plain": [
       "577"
      ]
     },
     "execution_count": 11,
     "metadata": {},
     "output_type": "execute_result"
    }
   ],
   "source": [
    "heading('Missing values before imputation')\n",
    "df['Rating'].isnull().sum()"
   ]
  },
  {
   "cell_type": "code",
   "execution_count": 12,
   "id": "1b009907",
   "metadata": {
    "execution": {
     "iopub.execute_input": "2024-03-10T02:07:43.077530Z",
     "iopub.status.busy": "2024-03-10T02:07:43.076248Z",
     "iopub.status.idle": "2024-03-10T02:07:43.088046Z",
     "shell.execute_reply": "2024-03-10T02:07:43.087221Z"
    },
    "papermill": {
     "duration": 0.044017,
     "end_time": "2024-03-10T02:07:43.090250",
     "exception": false,
     "start_time": "2024-03-10T02:07:43.046233",
     "status": "completed"
    },
    "tags": []
   },
   "outputs": [],
   "source": [
    "# Initialize an IterativeImputer with XGBRegressor as estimator\n",
    "impute = IterativeImputer(estimator=XGBRegressor(), max_iter=100, random_state=42)\n",
    "\n",
    "# Impute missing values in the 'Rating' column using IterativeImputer\n",
    "# The input to fit_transform should be a DataFrame, so we pass df[['Rating']] instead of df['Rating']\n",
    "df['Rating'] = impute.fit_transform(df[['Rating']])"
   ]
  },
  {
   "cell_type": "code",
   "execution_count": 13,
   "id": "d1eb0806",
   "metadata": {
    "execution": {
     "iopub.execute_input": "2024-03-10T02:07:43.150977Z",
     "iopub.status.busy": "2024-03-10T02:07:43.150101Z",
     "iopub.status.idle": "2024-03-10T02:07:43.157147Z",
     "shell.execute_reply": "2024-03-10T02:07:43.156399Z"
    },
    "papermill": {
     "duration": 0.039345,
     "end_time": "2024-03-10T02:07:43.159153",
     "exception": false,
     "start_time": "2024-03-10T02:07:43.119808",
     "status": "completed"
    },
    "tags": []
   },
   "outputs": [
    {
     "name": "stdout",
     "output_type": "stream",
     "text": [
      "--------------------------------------------------------------------------------\n",
      "MISSING VALUES AFTER IMPUTATION\n",
      "--------------------------------------------------------------------------------\n"
     ]
    },
    {
     "data": {
      "text/plain": [
       "0"
      ]
     },
     "execution_count": 13,
     "metadata": {},
     "output_type": "execute_result"
    }
   ],
   "source": [
    "heading('Missing values after imputation')\n",
    "# Check if there are any missing values in the 'Rating' column after imputation\n",
    "df['Rating'].isnull().sum()"
   ]
  },
  {
   "cell_type": "markdown",
   "id": "eda1d315",
   "metadata": {
    "papermill": {
     "duration": 0.029116,
     "end_time": "2024-03-10T02:07:43.217081",
     "exception": false,
     "start_time": "2024-03-10T02:07:43.187965",
     "status": "completed"
    },
    "tags": []
   },
   "source": [
    "<strong style=\"font-family:Comic Sans MS; color:purple; font-weight: bold; font-size: 35px\">4.2 Dealing with Current Ver column</strong>"
   ]
  },
  {
   "cell_type": "code",
   "execution_count": 14,
   "id": "28996eed",
   "metadata": {
    "execution": {
     "iopub.execute_input": "2024-03-10T02:07:43.277218Z",
     "iopub.status.busy": "2024-03-10T02:07:43.276380Z",
     "iopub.status.idle": "2024-03-10T02:07:43.284377Z",
     "shell.execute_reply": "2024-03-10T02:07:43.283517Z"
    },
    "papermill": {
     "duration": 0.040118,
     "end_time": "2024-03-10T02:07:43.286223",
     "exception": false,
     "start_time": "2024-03-10T02:07:43.246105",
     "status": "completed"
    },
    "tags": []
   },
   "outputs": [
    {
     "name": "stdout",
     "output_type": "stream",
     "text": [
      "--------------------------------------------------------------------------------\n",
      "MISSING VALUES BEFORE IMPUTATION\n",
      "--------------------------------------------------------------------------------\n"
     ]
    },
    {
     "data": {
      "text/plain": [
       "3"
      ]
     },
     "execution_count": 14,
     "metadata": {},
     "output_type": "execute_result"
    }
   ],
   "source": [
    "heading('Missing values before imputation')\n",
    "# Check if there are any missing values in the 'Current Ver' column\n",
    "df['Current Ver'].isnull().sum()"
   ]
  },
  {
   "cell_type": "code",
   "execution_count": 15,
   "id": "5aa4f6e3",
   "metadata": {
    "execution": {
     "iopub.execute_input": "2024-03-10T02:07:43.346068Z",
     "iopub.status.busy": "2024-03-10T02:07:43.345352Z",
     "iopub.status.idle": "2024-03-10T02:07:43.353342Z",
     "shell.execute_reply": "2024-03-10T02:07:43.352191Z"
    },
    "papermill": {
     "duration": 0.040255,
     "end_time": "2024-03-10T02:07:43.355705",
     "exception": false,
     "start_time": "2024-03-10T02:07:43.315450",
     "status": "completed"
    },
    "tags": []
   },
   "outputs": [],
   "source": [
    "# Fill missing values in the 'Current Ver' column with the mode\n",
    "df['Current Ver'].fillna(df['Current Ver'].mode()[0], inplace=True)"
   ]
  },
  {
   "cell_type": "code",
   "execution_count": 16,
   "id": "5ba60cfb",
   "metadata": {
    "execution": {
     "iopub.execute_input": "2024-03-10T02:07:43.415257Z",
     "iopub.status.busy": "2024-03-10T02:07:43.414775Z",
     "iopub.status.idle": "2024-03-10T02:07:43.424411Z",
     "shell.execute_reply": "2024-03-10T02:07:43.423134Z"
    },
    "papermill": {
     "duration": 0.042072,
     "end_time": "2024-03-10T02:07:43.426767",
     "exception": false,
     "start_time": "2024-03-10T02:07:43.384695",
     "status": "completed"
    },
    "tags": []
   },
   "outputs": [
    {
     "name": "stdout",
     "output_type": "stream",
     "text": [
      "--------------------------------------------------------------------------------\n",
      "MISSING VALUES AFTER IMPUTATION\n",
      "--------------------------------------------------------------------------------\n"
     ]
    },
    {
     "data": {
      "text/plain": [
       "0"
      ]
     },
     "execution_count": 16,
     "metadata": {},
     "output_type": "execute_result"
    }
   ],
   "source": [
    "heading('Missing values after imputation')\n",
    "# Check if there are any missing values in the 'Current Ver' column after imputation\n",
    "df['Current Ver'].isnull().sum()"
   ]
  },
  {
   "cell_type": "markdown",
   "id": "939c9a97",
   "metadata": {
    "papermill": {
     "duration": 0.029782,
     "end_time": "2024-03-10T02:07:43.485795",
     "exception": false,
     "start_time": "2024-03-10T02:07:43.456013",
     "status": "completed"
    },
    "tags": []
   },
   "source": [
    "<strong style=\"font-family:Comic Sans MS; color:purple; font-weight: bold; font-size: 35px\">4.3 Dealing with Android Ver column</strong>"
   ]
  },
  {
   "cell_type": "code",
   "execution_count": 17,
   "id": "fbb35bd6",
   "metadata": {
    "execution": {
     "iopub.execute_input": "2024-03-10T02:07:43.547492Z",
     "iopub.status.busy": "2024-03-10T02:07:43.546717Z",
     "iopub.status.idle": "2024-03-10T02:07:43.555702Z",
     "shell.execute_reply": "2024-03-10T02:07:43.554317Z"
    },
    "papermill": {
     "duration": 0.042884,
     "end_time": "2024-03-10T02:07:43.557611",
     "exception": false,
     "start_time": "2024-03-10T02:07:43.514727",
     "status": "completed"
    },
    "tags": []
   },
   "outputs": [
    {
     "name": "stdout",
     "output_type": "stream",
     "text": [
      "--------------------------------------------------------------------------------\n",
      "MISSING VALUES BEFORE IMPUTATION\n",
      "--------------------------------------------------------------------------------\n"
     ]
    },
    {
     "data": {
      "text/plain": [
       "0"
      ]
     },
     "execution_count": 17,
     "metadata": {},
     "output_type": "execute_result"
    }
   ],
   "source": [
    "heading('Missing values before imputation')\n",
    "df['Current Ver'].isnull().sum()"
   ]
  },
  {
   "cell_type": "code",
   "execution_count": 18,
   "id": "86267a70",
   "metadata": {
    "execution": {
     "iopub.execute_input": "2024-03-10T02:07:43.619493Z",
     "iopub.status.busy": "2024-03-10T02:07:43.619080Z",
     "iopub.status.idle": "2024-03-10T02:07:43.626279Z",
     "shell.execute_reply": "2024-03-10T02:07:43.625135Z"
    },
    "papermill": {
     "duration": 0.041439,
     "end_time": "2024-03-10T02:07:43.628422",
     "exception": false,
     "start_time": "2024-03-10T02:07:43.586983",
     "status": "completed"
    },
    "tags": []
   },
   "outputs": [],
   "source": [
    "df['Current Ver'].fillna(df['Current Ver'].mode()[0], inplace=True)"
   ]
  },
  {
   "cell_type": "code",
   "execution_count": 19,
   "id": "79d7fa52",
   "metadata": {
    "execution": {
     "iopub.execute_input": "2024-03-10T02:07:43.691407Z",
     "iopub.status.busy": "2024-03-10T02:07:43.691014Z",
     "iopub.status.idle": "2024-03-10T02:07:43.699376Z",
     "shell.execute_reply": "2024-03-10T02:07:43.698056Z"
    },
    "papermill": {
     "duration": 0.041387,
     "end_time": "2024-03-10T02:07:43.701670",
     "exception": false,
     "start_time": "2024-03-10T02:07:43.660283",
     "status": "completed"
    },
    "tags": []
   },
   "outputs": [
    {
     "name": "stdout",
     "output_type": "stream",
     "text": [
      "--------------------------------------------------------------------------------\n",
      "MISSING VALUES AFTER IMPUTATION\n",
      "--------------------------------------------------------------------------------\n"
     ]
    },
    {
     "data": {
      "text/plain": [
       "0"
      ]
     },
     "execution_count": 19,
     "metadata": {},
     "output_type": "execute_result"
    }
   ],
   "source": [
    "heading('Missing values after imputation')\n",
    "df['Current Ver'].isnull().sum()"
   ]
  },
  {
   "cell_type": "markdown",
   "id": "3a6e3996",
   "metadata": {
    "papermill": {
     "duration": 0.02895,
     "end_time": "2024-03-10T02:07:43.760312",
     "exception": false,
     "start_time": "2024-03-10T02:07:43.731362",
     "status": "completed"
    },
    "tags": []
   },
   "source": [
    "<strong style=\"font-family:Comic Sans MS; color:purple; font-weight: bold; font-size: 35px\">4.4 Dealing with Size column</strong>"
   ]
  },
  {
   "cell_type": "code",
   "execution_count": 20,
   "id": "af4845be",
   "metadata": {
    "execution": {
     "iopub.execute_input": "2024-03-10T02:07:43.820846Z",
     "iopub.status.busy": "2024-03-10T02:07:43.820474Z",
     "iopub.status.idle": "2024-03-10T02:07:43.830563Z",
     "shell.execute_reply": "2024-03-10T02:07:43.829271Z"
    },
    "papermill": {
     "duration": 0.043514,
     "end_time": "2024-03-10T02:07:43.833022",
     "exception": false,
     "start_time": "2024-03-10T02:07:43.789508",
     "status": "completed"
    },
    "tags": []
   },
   "outputs": [
    {
     "name": "stdout",
     "output_type": "stream",
     "text": [
      "--------------------------------------------------------------------------------\n",
      "NUMBER OF APP THAT HAVE SIZE IN 'KBS'\n",
      "--------------------------------------------------------------------------------\n",
      "123\n"
     ]
    }
   ],
   "source": [
    "heading(\"Number of app that have size in 'Kbs'\")\n",
    "kbs = df[df['Size'].str.endswith('k')]\n",
    "print(kbs['Size'].value_counts().sum())"
   ]
  },
  {
   "cell_type": "code",
   "execution_count": 21,
   "id": "755ed4e6",
   "metadata": {
    "execution": {
     "iopub.execute_input": "2024-03-10T02:07:43.894286Z",
     "iopub.status.busy": "2024-03-10T02:07:43.893866Z",
     "iopub.status.idle": "2024-03-10T02:07:43.905583Z",
     "shell.execute_reply": "2024-03-10T02:07:43.904280Z"
    },
    "papermill": {
     "duration": 0.045414,
     "end_time": "2024-03-10T02:07:43.908007",
     "exception": false,
     "start_time": "2024-03-10T02:07:43.862593",
     "status": "completed"
    },
    "tags": []
   },
   "outputs": [
    {
     "name": "stdout",
     "output_type": "stream",
     "text": [
      "--------------------------------------------------------------------------------\n",
      "NUMBER OF APPS THAT HAVE SIZE IN 'MBS'\n",
      "--------------------------------------------------------------------------------\n",
      "3392\n"
     ]
    }
   ],
   "source": [
    "# Filter apps whose size ends with 'k'\n",
    "heading(\n",
    "    \"Number of apps that have size in 'Mbs'\"\n",
    ")\n",
    "mbs = df[df['Size'].str.endswith('M')]\n",
    "print(mbs['Size'].value_counts().sum())\n"
   ]
  },
  {
   "cell_type": "code",
   "execution_count": 22,
   "id": "15834bdb",
   "metadata": {
    "execution": {
     "iopub.execute_input": "2024-03-10T02:07:43.969959Z",
     "iopub.status.busy": "2024-03-10T02:07:43.969571Z",
     "iopub.status.idle": "2024-03-10T02:07:43.978331Z",
     "shell.execute_reply": "2024-03-10T02:07:43.977237Z"
    },
    "papermill": {
     "duration": 0.042451,
     "end_time": "2024-03-10T02:07:43.980380",
     "exception": false,
     "start_time": "2024-03-10T02:07:43.937929",
     "status": "completed"
    },
    "tags": []
   },
   "outputs": [
    {
     "name": "stdout",
     "output_type": "stream",
     "text": [
      "--------------------------------------------------------------------------------\n",
      "NO OF COLUMNS THATS SIZE VARIES WITH DEVICE\n",
      "--------------------------------------------------------------------------------\n",
      "685\n"
     ]
    }
   ],
   "source": [
    "heading(\"No of columns thats size varies with device\")\n",
    "varies = df[df['Size'] == 'Varies with device']['Size'].value_counts().sum()\n",
    "print(varies)"
   ]
  },
  {
   "cell_type": "code",
   "execution_count": 23,
   "id": "8876f4c2",
   "metadata": {
    "execution": {
     "iopub.execute_input": "2024-03-10T02:07:44.041945Z",
     "iopub.status.busy": "2024-03-10T02:07:44.041548Z",
     "iopub.status.idle": "2024-03-10T02:07:44.101946Z",
     "shell.execute_reply": "2024-03-10T02:07:44.100812Z"
    },
    "papermill": {
     "duration": 0.094355,
     "end_time": "2024-03-10T02:07:44.104560",
     "exception": false,
     "start_time": "2024-03-10T02:07:44.010205",
     "status": "completed"
    },
    "tags": []
   },
   "outputs": [],
   "source": [
    "import pandas as pd\n",
    "import numpy as np\n",
    "\n",
    "# Define a function to convert size from string format to numerical values\n",
    "def convert_size(convertings):\n",
    "    \"\"\"\n",
    "    Convert size from string format to numerical values.\n",
    "    \n",
    "    Parameters:\n",
    "        convertings (str): Size in string format (e.g., '10M', '20k', 'Varies with device').\n",
    "        \n",
    "    Returns:\n",
    "        int or float: Size in kilobytes (KB).\n",
    "    \"\"\"\n",
    "    if 'M' in convertings:\n",
    "        # If size is in megabytes (M), convert to kilobytes (KB)\n",
    "        return pd.to_numeric(convertings.replace('M', '')) * 1024\n",
    "    elif 'k' in convertings:\n",
    "        # If size is in kilobytes (k), convert to numeric value\n",
    "        return pd.to_numeric(convertings.replace('k', ''))\n",
    "    elif pd.isna(convertings):\n",
    "        # If size is NaN (missing value), return NaN\n",
    "        return np.nan\n",
    "    elif 'Varies with device' in convertings:\n",
    "        # If size varies with device, return NaN\n",
    "        return np.nan\n",
    "    else:\n",
    "        # If size is in any other format, convert to numeric value\n",
    "        return pd.to_numeric(convertings)\n",
    "    \n",
    "# Apply the function to preprocess the 'Size' column in the DataFrame\n",
    "df['Size'] = df['Size'].apply(convert_size)\n",
    "\n",
    "# Rename the 'Size' column to 'Size in Kbs'\n",
    "df.rename(columns={'Size': 'Size in Kbs'}, inplace=True)\n"
   ]
  },
  {
   "cell_type": "code",
   "execution_count": 24,
   "id": "dac65f6b",
   "metadata": {
    "execution": {
     "iopub.execute_input": "2024-03-10T02:07:44.166371Z",
     "iopub.status.busy": "2024-03-10T02:07:44.165897Z",
     "iopub.status.idle": "2024-03-10T02:07:44.207260Z",
     "shell.execute_reply": "2024-03-10T02:07:44.206008Z"
    },
    "papermill": {
     "duration": 0.075423,
     "end_time": "2024-03-10T02:07:44.210030",
     "exception": false,
     "start_time": "2024-03-10T02:07:44.134607",
     "status": "completed"
    },
    "tags": []
   },
   "outputs": [],
   "source": [
    "\n",
    "df2 = df.copy()\n",
    "\n",
    "# Encode categorical columns using LabelEncoder\n",
    "cat_cols = df2.select_dtypes(include=['object', 'category']).columns\n",
    "for col in cat_cols:\n",
    "    df2[col] = LabelEncoder().fit_transform(df2[col])"
   ]
  },
  {
   "cell_type": "code",
   "execution_count": 25,
   "id": "b1d84a59",
   "metadata": {
    "execution": {
     "iopub.execute_input": "2024-03-10T02:07:44.271933Z",
     "iopub.status.busy": "2024-03-10T02:07:44.271539Z",
     "iopub.status.idle": "2024-03-10T02:07:58.310948Z",
     "shell.execute_reply": "2024-03-10T02:07:58.309769Z"
    },
    "papermill": {
     "duration": 14.072759,
     "end_time": "2024-03-10T02:07:58.313218",
     "exception": false,
     "start_time": "2024-03-10T02:07:44.240459",
     "status": "completed"
    },
    "tags": []
   },
   "outputs": [
    {
     "name": "stdout",
     "output_type": "stream",
     "text": [
      "r2_score is 0.8356687394812813\n",
      "Best parameters are {'bootstrap': True, 'max_depth': None, 'min_samples_leaf': 2, 'min_samples_split': 5, 'n_estimators': 50}\n",
      "CPU times: user 14 s, sys: 39.7 ms, total: 14 s\n",
      "Wall time: 14 s\n"
     ]
    }
   ],
   "source": [
    "%%time\n",
    "\"\"\"Using Random Forest Regressor to predict missing values in 'Size in Kbs'\"\"\"\n",
    "# Separate data into missing and non-missing values\n",
    "df2_missing = df2[df2['Size in Kbs'].isnull()]\n",
    "df2_not_missing = df2[df2['Size in Kbs'].notnull()]\n",
    "\n",
    "# Create feature matrix (X_train) and target vector (y_train) for non-missing data\n",
    "X_train = df2_not_missing.drop(columns=['Size in Kbs'])\n",
    "y_train = df2_not_missing['Size in Kbs']\n",
    "\n",
    "# Select the model (Random Forest Regressor)\n",
    "model = RandomForestRegressor()\n",
    "\n",
    "# Choose the hyperparameters for the model\n",
    "params = {'bootstrap': [True], 'max_depth': [None], 'min_samples_leaf':[2], 'min_samples_split': [5], 'n_estimators':[50, 100]}\n",
    "\n",
    "# Note: The commented-out section below demonstrates a more extensive set of hyperparameters for grid search\n",
    "# params = {\n",
    "#     'n_estimators': [10, 50, 100],\n",
    "#     'max_depth': [None, 5, 10],\n",
    "#     'min_samples_split': [2, 5, 10],\n",
    "#     'min_samples_leaf': [1, 2, 4],\n",
    "#     'bootstrap': [True, False]\n",
    "# }\n",
    "\n",
    "# Find the best hyperparameters using Grid Search Cross Validation\n",
    "grid_search = GridSearchCV(model, params, cv=5)\n",
    "grid_search.fit(X_train, y_train)\n",
    "\n",
    "# Get the best hyperparameters\n",
    "best_params = grid_search.best_params_\n",
    "best_params = {'bootstrap': True, 'max_depth': None, 'min_samples_leaf': 2, 'min_samples_split': 5, 'n_estimators': 50}\n",
    "\n",
    "# Initialize a new Random Forest Regressor model with the best hyperparameters\n",
    "model = RandomForestRegressor(**best_params)\n",
    "\n",
    "# Fit the model to the non-missing data\n",
    "model.fit(X_train, y_train)\n",
    "\n",
    "# Prepare feature matrix (X_missing) for predicting missing values\n",
    "X_missing = df2_missing.drop(columns=['Size in Kbs'])\n",
    "\n",
    "# Predict missing values using the trained model\n",
    "predicted_missing_values = model.predict(X_missing)\n",
    "\n",
    "# Calculate R-squared score to evaluate model performance on the non-missing data\n",
    "r_2 = r2_score(y_train, model.predict(X_train))\n",
    "\n",
    "# Replace missing values in the original dataset with the predicted values\n",
    "df.loc[df['Size in Kbs'].isnull(), 'Size in Kbs'] = predicted_missing_values\n",
    "\n",
    "# Print R-squared score and best parameters found during grid search\n",
    "print(f'r2_score is {r_2}')\n",
    "print(f'Best parameters are {best_params}')\n"
   ]
  },
  {
   "cell_type": "markdown",
   "id": "0ae2e2a2",
   "metadata": {
    "papermill": {
     "duration": 0.029465,
     "end_time": "2024-03-10T02:07:58.372943",
     "exception": false,
     "start_time": "2024-03-10T02:07:58.343478",
     "status": "completed"
    },
    "tags": []
   },
   "source": [
    "<strong style=\"font-family:Comic Sans MS; color:purple; font-weight: bold; font-size: 35px\">4.5: Dealing with Installs column</strong>"
   ]
  },
  {
   "cell_type": "code",
   "execution_count": 26,
   "id": "9af359e2",
   "metadata": {
    "execution": {
     "iopub.execute_input": "2024-03-10T02:07:58.435239Z",
     "iopub.status.busy": "2024-03-10T02:07:58.434192Z",
     "iopub.status.idle": "2024-03-10T02:07:58.443361Z",
     "shell.execute_reply": "2024-03-10T02:07:58.442251Z"
    },
    "papermill": {
     "duration": 0.043115,
     "end_time": "2024-03-10T02:07:58.445797",
     "exception": false,
     "start_time": "2024-03-10T02:07:58.402682",
     "status": "completed"
    },
    "tags": []
   },
   "outputs": [],
   "source": [
    "data = df.copy()"
   ]
  },
  {
   "cell_type": "code",
   "execution_count": 27,
   "id": "98200fb4",
   "metadata": {
    "execution": {
     "iopub.execute_input": "2024-03-10T02:07:58.508803Z",
     "iopub.status.busy": "2024-03-10T02:07:58.508416Z",
     "iopub.status.idle": "2024-03-10T02:07:58.517755Z",
     "shell.execute_reply": "2024-03-10T02:07:58.516447Z"
    },
    "papermill": {
     "duration": 0.043762,
     "end_time": "2024-03-10T02:07:58.520369",
     "exception": false,
     "start_time": "2024-03-10T02:07:58.476607",
     "status": "completed"
    },
    "tags": []
   },
   "outputs": [],
   "source": [
    "# Define a function to convert the 'Installs' column to numeric values\n",
    "def convert(convertings):\n",
    "    \"\"\"\n",
    "    Convert the 'Installs' column to numeric values.\n",
    "    \n",
    "    Parameters:\n",
    "        convertings (str): String representation of installs.\n",
    "        \n",
    "    Returns:\n",
    "        int: Numeric representation of installs.\n",
    "    \"\"\"\n",
    "    # If the string contains a comma, remove the comma\n",
    "    if ',' in convertings:\n",
    "        return convertings.replace(',', '')\n",
    "    # If the string contains a plus sign, remove the plus sign\n",
    "    elif '+' in convertings:\n",
    "        return convertings.replace('+', '')\n",
    "    # If the string is in a numeric format, convert it to numeric\n",
    "    else:\n",
    "        return pd.to_numeric(convertings)\n",
    "\n",
    "# Apply the 'convert' function to preprocess the 'Installs' column in the DataFrame 'data'\n",
    "data['Installs'] = data['Installs'].apply(convert)\n"
   ]
  },
  {
   "cell_type": "code",
   "execution_count": 28,
   "id": "64a094ab",
   "metadata": {
    "execution": {
     "iopub.execute_input": "2024-03-10T02:07:58.583206Z",
     "iopub.status.busy": "2024-03-10T02:07:58.582748Z",
     "iopub.status.idle": "2024-03-10T02:07:58.664549Z",
     "shell.execute_reply": "2024-03-10T02:07:58.663280Z"
    },
    "papermill": {
     "duration": 0.116999,
     "end_time": "2024-03-10T02:07:58.667198",
     "exception": false,
     "start_time": "2024-03-10T02:07:58.550199",
     "status": "completed"
    },
    "tags": []
   },
   "outputs": [],
   "source": [
    "# Apply a lambda function to convert the 'Installs' column to numeric values\n",
    "data['Installs'] = data['Installs'].apply(lambda x: pd.to_numeric(x.replace('+', '')))"
   ]
  },
  {
   "cell_type": "markdown",
   "id": "1b6be72e",
   "metadata": {
    "papermill": {
     "duration": 0.029885,
     "end_time": "2024-03-10T02:07:58.727330",
     "exception": false,
     "start_time": "2024-03-10T02:07:58.697445",
     "status": "completed"
    },
    "tags": []
   },
   "source": [
    "<strong style=\"font-family:Comic Sans MS; color:purple; font-weight: bold; font-size: 35px\">4.6: Dealing with Price column</strong>"
   ]
  },
  {
   "cell_type": "code",
   "execution_count": 29,
   "id": "1d3f8055",
   "metadata": {
    "execution": {
     "iopub.execute_input": "2024-03-10T02:07:58.789603Z",
     "iopub.status.busy": "2024-03-10T02:07:58.789159Z",
     "iopub.status.idle": "2024-03-10T02:07:58.797003Z",
     "shell.execute_reply": "2024-03-10T02:07:58.796110Z"
    },
    "papermill": {
     "duration": 0.041653,
     "end_time": "2024-03-10T02:07:58.799219",
     "exception": false,
     "start_time": "2024-03-10T02:07:58.757566",
     "status": "completed"
    },
    "tags": []
   },
   "outputs": [
    {
     "name": "stdout",
     "output_type": "stream",
     "text": [
      "--------------------------------------------------------------------------------\n",
      "NUMBER OF APPS THAT ARE PAID AND FREE.\n",
      "--------------------------------------------------------------------------------\n",
      "Number of apps that have zero price is 3894\n",
      "Number of apps that are paid: 306\n"
     ]
    }
   ],
   "source": [
    "# Print a heading for the analysis\n",
    "heading('Number of apps that are paid and free.')\n",
    "\n",
    "# Initialize counters for apps with zero and non-zero prices\n",
    "zero_price = 0\n",
    "non_zero = 0\n",
    "\n",
    "# Iterate through the 'Price' column in the DataFrame 'data'\n",
    "for i in data['Price']:\n",
    "    # If the price is '0', increment the counter for zero-priced apps\n",
    "    if i == '0':\n",
    "        zero_price += 1\n",
    "    # If the price is not '0', increment the counter for non-zero-priced apps\n",
    "    elif i != '0':\n",
    "        non_zero += 1\n",
    "\n",
    "# Print the total number of apps with zero price\n",
    "print(f'Number of apps that have zero price is {zero_price}')\n",
    "# Print the total number of paid apps (non-zero price)\n",
    "print(f'Number of apps that are paid: {non_zero}')\n"
   ]
  },
  {
   "cell_type": "code",
   "execution_count": 30,
   "id": "0460f12e",
   "metadata": {
    "execution": {
     "iopub.execute_input": "2024-03-10T02:07:58.860667Z",
     "iopub.status.busy": "2024-03-10T02:07:58.860261Z",
     "iopub.status.idle": "2024-03-10T02:07:58.925534Z",
     "shell.execute_reply": "2024-03-10T02:07:58.924427Z"
    },
    "papermill": {
     "duration": 0.099038,
     "end_time": "2024-03-10T02:07:58.927982",
     "exception": false,
     "start_time": "2024-03-10T02:07:58.828944",
     "status": "completed"
    },
    "tags": []
   },
   "outputs": [],
   "source": [
    "# Define a function to convert the 'Price' column to numeric values\n",
    "def convertings(convert):\n",
    "    \"\"\"\n",
    "    Convert the 'Price' column to numeric values.\n",
    "    \n",
    "    Parameters:\n",
    "        convert (str): String representation of price.\n",
    "        \n",
    "    Returns:\n",
    "        float: Numeric representation of price.\n",
    "    \"\"\"\n",
    "    # If the price is '0', convert it to numeric\n",
    "    if convert == '0':\n",
    "        return pd.to_numeric(convert.replace('0', '0'))\n",
    "    # If the price contains a dollar sign ($), remove it and convert to numeric\n",
    "    elif '$' in convert:\n",
    "        return pd.to_numeric(convert.replace('$', ''))\n",
    "\n",
    "# Apply the 'convertings' function to preprocess the 'Price' column in the DataFrame 'data'\n",
    "data['Price'] = data[\"Price\"].apply(convertings)\n"
   ]
  },
  {
   "cell_type": "markdown",
   "id": "dfa8fc75",
   "metadata": {
    "papermill": {
     "duration": 0.029684,
     "end_time": "2024-03-10T02:07:58.987285",
     "exception": false,
     "start_time": "2024-03-10T02:07:58.957601",
     "status": "completed"
    },
    "tags": []
   },
   "source": [
    "<strong style=\"font-family:Comic Sans MS; color:purple; font-weight: bold; font-size: 35px\">4.7: Dealing with Reviews column</strong>"
   ]
  },
  {
   "cell_type": "code",
   "execution_count": 31,
   "id": "8684e751",
   "metadata": {
    "execution": {
     "iopub.execute_input": "2024-03-10T02:07:59.049826Z",
     "iopub.status.busy": "2024-03-10T02:07:59.049417Z",
     "iopub.status.idle": "2024-03-10T02:07:59.114730Z",
     "shell.execute_reply": "2024-03-10T02:07:59.113630Z"
    },
    "papermill": {
     "duration": 0.099423,
     "end_time": "2024-03-10T02:07:59.117378",
     "exception": false,
     "start_time": "2024-03-10T02:07:59.017955",
     "status": "completed"
    },
    "tags": []
   },
   "outputs": [],
   "source": [
    "# converting reviews column to numeric type\n",
    "data['Reviews'] = data['Reviews'].apply(lambda x: pd.to_numeric(x.replace(\"'\", '') if \"'\" in x else x))"
   ]
  },
  {
   "cell_type": "markdown",
   "id": "c2cdfe1f",
   "metadata": {
    "papermill": {
     "duration": 0.029228,
     "end_time": "2024-03-10T02:07:59.176002",
     "exception": false,
     "start_time": "2024-03-10T02:07:59.146774",
     "status": "completed"
    },
    "tags": []
   },
   "source": [
    "<strong style=\"font-family:Comic Sans MS; color:purple; font-weight: bold; font-size: 35px\">4.8: Dealing with unnecessary columns</strong>"
   ]
  },
  {
   "cell_type": "code",
   "execution_count": 32,
   "id": "3011e990",
   "metadata": {
    "execution": {
     "iopub.execute_input": "2024-03-10T02:07:59.236899Z",
     "iopub.status.busy": "2024-03-10T02:07:59.236550Z",
     "iopub.status.idle": "2024-03-10T02:07:59.244405Z",
     "shell.execute_reply": "2024-03-10T02:07:59.243204Z"
    },
    "papermill": {
     "duration": 0.040945,
     "end_time": "2024-03-10T02:07:59.246533",
     "exception": false,
     "start_time": "2024-03-10T02:07:59.205588",
     "status": "completed"
    },
    "tags": []
   },
   "outputs": [],
   "source": [
    "# dropping 'Last Updated', 'Current Ver' and 'Android Ver' columns\n",
    "data.drop(columns=['Last Updated', 'Current Ver', 'Android Ver', 'Content Rating'], inplace=True)"
   ]
  },
  {
   "cell_type": "markdown",
   "id": "f432f2ad",
   "metadata": {
    "papermill": {
     "duration": 0.031008,
     "end_time": "2024-03-10T02:07:59.307155",
     "exception": false,
     "start_time": "2024-03-10T02:07:59.276147",
     "status": "completed"
    },
    "tags": []
   },
   "source": [
    "<strong style=\"font-family:Comic Sans MS; color:purple; font-weight: bold; font-size: 35px\">4.9: Dealing with duplicates</strong>"
   ]
  },
  {
   "cell_type": "code",
   "execution_count": 33,
   "id": "e2c75591",
   "metadata": {
    "execution": {
     "iopub.execute_input": "2024-03-10T02:07:59.369736Z",
     "iopub.status.busy": "2024-03-10T02:07:59.369372Z",
     "iopub.status.idle": "2024-03-10T02:07:59.379054Z",
     "shell.execute_reply": "2024-03-10T02:07:59.377919Z"
    },
    "papermill": {
     "duration": 0.04436,
     "end_time": "2024-03-10T02:07:59.381385",
     "exception": false,
     "start_time": "2024-03-10T02:07:59.337025",
     "status": "completed"
    },
    "tags": []
   },
   "outputs": [
    {
     "name": "stdout",
     "output_type": "stream",
     "text": [
      "--------------------------------------------------------------------------------\n",
      "NUMBER OF DUPLICATES BEFORE REMOVING\n",
      "--------------------------------------------------------------------------------\n",
      "There are 230 duplicates in the dataset.\n"
     ]
    }
   ],
   "source": [
    "heading('Number of duplicates before removing')\n",
    "# count the number of duplicates in the dataset\n",
    "dups = data.duplicated(subset=\"App\").value_counts()[True]\n",
    "# print the number of duplicates\n",
    "print(f'There are {dups} duplicates in the dataset.')"
   ]
  },
  {
   "cell_type": "code",
   "execution_count": 34,
   "id": "6cde3f71",
   "metadata": {
    "execution": {
     "iopub.execute_input": "2024-03-10T02:07:59.442805Z",
     "iopub.status.busy": "2024-03-10T02:07:59.442438Z",
     "iopub.status.idle": "2024-03-10T02:07:59.449599Z",
     "shell.execute_reply": "2024-03-10T02:07:59.448717Z"
    },
    "papermill": {
     "duration": 0.040555,
     "end_time": "2024-03-10T02:07:59.451693",
     "exception": false,
     "start_time": "2024-03-10T02:07:59.411138",
     "status": "completed"
    },
    "tags": []
   },
   "outputs": [],
   "source": [
    "# dropping duplicates based on 'App'\n",
    "data.drop_duplicates(subset='App', inplace=True)"
   ]
  },
  {
   "cell_type": "code",
   "execution_count": 35,
   "id": "9a8159b5",
   "metadata": {
    "execution": {
     "iopub.execute_input": "2024-03-10T02:07:59.513480Z",
     "iopub.status.busy": "2024-03-10T02:07:59.512238Z",
     "iopub.status.idle": "2024-03-10T02:07:59.520600Z",
     "shell.execute_reply": "2024-03-10T02:07:59.519238Z"
    },
    "papermill": {
     "duration": 0.041377,
     "end_time": "2024-03-10T02:07:59.522678",
     "exception": false,
     "start_time": "2024-03-10T02:07:59.481301",
     "status": "completed"
    },
    "tags": []
   },
   "outputs": [
    {
     "name": "stdout",
     "output_type": "stream",
     "text": [
      "--------------------------------------------------------------------------------\n",
      "NUMBER OF DUPLICATES AFTER REMOVING\n",
      "--------------------------------------------------------------------------------\n",
      "There are 0 duplicates in the dataset\n"
     ]
    }
   ],
   "source": [
    "heading(f'Number of duplicates after removing')\n",
    "# count the number of duplicates in the dataset after removing\n",
    "dps = data.duplicated(subset=\"App\").sum()\n",
    "print(f'There are {dps} duplicates in the dataset')"
   ]
  },
  {
   "cell_type": "markdown",
   "id": "14f43939",
   "metadata": {
    "papermill": {
     "duration": 0.031125,
     "end_time": "2024-03-10T02:07:59.583525",
     "exception": false,
     "start_time": "2024-03-10T02:07:59.552400",
     "status": "completed"
    },
    "tags": []
   },
   "source": [
    "<strong style=\"font-family:Comic Sans MS; color:purple; font-weight: bold; font-size: 35px\">4.10: Data after preprocessing and imputation</strong>"
   ]
  },
  {
   "cell_type": "code",
   "execution_count": 36,
   "id": "ec536872",
   "metadata": {
    "execution": {
     "iopub.execute_input": "2024-03-10T02:07:59.648020Z",
     "iopub.status.busy": "2024-03-10T02:07:59.647635Z",
     "iopub.status.idle": "2024-03-10T02:07:59.662271Z",
     "shell.execute_reply": "2024-03-10T02:07:59.661095Z"
    },
    "papermill": {
     "duration": 0.049049,
     "end_time": "2024-03-10T02:07:59.664499",
     "exception": false,
     "start_time": "2024-03-10T02:07:59.615450",
     "status": "completed"
    },
    "tags": []
   },
   "outputs": [
    {
     "data": {
      "text/html": [
       "<div>\n",
       "<style scoped>\n",
       "    .dataframe tbody tr th:only-of-type {\n",
       "        vertical-align: middle;\n",
       "    }\n",
       "\n",
       "    .dataframe tbody tr th {\n",
       "        vertical-align: top;\n",
       "    }\n",
       "\n",
       "    .dataframe thead th {\n",
       "        text-align: right;\n",
       "    }\n",
       "</style>\n",
       "<table border=\"1\" class=\"dataframe\">\n",
       "  <thead>\n",
       "    <tr style=\"text-align: right;\">\n",
       "      <th></th>\n",
       "      <th>App</th>\n",
       "      <th>Category</th>\n",
       "      <th>Rating</th>\n",
       "      <th>Reviews</th>\n",
       "      <th>Size in Kbs</th>\n",
       "      <th>Installs</th>\n",
       "      <th>Type</th>\n",
       "      <th>Price</th>\n",
       "      <th>Genres</th>\n",
       "    </tr>\n",
       "  </thead>\n",
       "  <tbody>\n",
       "    <tr>\n",
       "      <th>3457</th>\n",
       "      <td>Microsoft Outlook</td>\n",
       "      <td>PRODUCTIVITY</td>\n",
       "      <td>4.300000</td>\n",
       "      <td>3252896</td>\n",
       "      <td>51200.000000</td>\n",
       "      <td>100000000</td>\n",
       "      <td>Free</td>\n",
       "      <td>0.00</td>\n",
       "      <td>Productivity</td>\n",
       "    </tr>\n",
       "    <tr>\n",
       "      <th>3069</th>\n",
       "      <td>FotMob - Live Soccer Scores</td>\n",
       "      <td>SPORTS</td>\n",
       "      <td>4.700000</td>\n",
       "      <td>410395</td>\n",
       "      <td>22631.004711</td>\n",
       "      <td>10000000</td>\n",
       "      <td>Free</td>\n",
       "      <td>0.00</td>\n",
       "      <td>Sports</td>\n",
       "    </tr>\n",
       "    <tr>\n",
       "      <th>9657</th>\n",
       "      <td>EO Guide</td>\n",
       "      <td>HEALTH_AND_FITNESS</td>\n",
       "      <td>4.188131</td>\n",
       "      <td>15</td>\n",
       "      <td>24576.000000</td>\n",
       "      <td>1000</td>\n",
       "      <td>Paid</td>\n",
       "      <td>4.99</td>\n",
       "      <td>Health &amp; Fitness</td>\n",
       "    </tr>\n",
       "    <tr>\n",
       "      <th>10714</th>\n",
       "      <td>FunForMobile Ringtones &amp; Chat</td>\n",
       "      <td>SOCIAL</td>\n",
       "      <td>4.400000</td>\n",
       "      <td>68358</td>\n",
       "      <td>7372.800000</td>\n",
       "      <td>5000000</td>\n",
       "      <td>Free</td>\n",
       "      <td>0.00</td>\n",
       "      <td>Social</td>\n",
       "    </tr>\n",
       "    <tr>\n",
       "      <th>3963</th>\n",
       "      <td>Oral-B App</td>\n",
       "      <td>HEALTH_AND_FITNESS</td>\n",
       "      <td>3.300000</td>\n",
       "      <td>14210</td>\n",
       "      <td>98304.000000</td>\n",
       "      <td>1000000</td>\n",
       "      <td>Free</td>\n",
       "      <td>0.00</td>\n",
       "      <td>Health &amp; Fitness</td>\n",
       "    </tr>\n",
       "  </tbody>\n",
       "</table>\n",
       "</div>"
      ],
      "text/plain": [
       "                                 App            Category    Rating  Reviews  \\\n",
       "3457               Microsoft Outlook        PRODUCTIVITY  4.300000  3252896   \n",
       "3069     FotMob - Live Soccer Scores              SPORTS  4.700000   410395   \n",
       "9657                        EO Guide  HEALTH_AND_FITNESS  4.188131       15   \n",
       "10714  FunForMobile Ringtones & Chat              SOCIAL  4.400000    68358   \n",
       "3963                      Oral-B App  HEALTH_AND_FITNESS  3.300000    14210   \n",
       "\n",
       "        Size in Kbs   Installs  Type  Price            Genres  \n",
       "3457   51200.000000  100000000  Free   0.00      Productivity  \n",
       "3069   22631.004711   10000000  Free   0.00            Sports  \n",
       "9657   24576.000000       1000  Paid   4.99  Health & Fitness  \n",
       "10714   7372.800000    5000000  Free   0.00            Social  \n",
       "3963   98304.000000    1000000  Free   0.00  Health & Fitness  "
      ]
     },
     "execution_count": 36,
     "metadata": {},
     "output_type": "execute_result"
    }
   ],
   "source": [
    "data.head()"
   ]
  },
  {
   "cell_type": "code",
   "execution_count": 37,
   "id": "2155741a",
   "metadata": {
    "execution": {
     "iopub.execute_input": "2024-03-10T02:07:59.728806Z",
     "iopub.status.busy": "2024-03-10T02:07:59.728401Z",
     "iopub.status.idle": "2024-03-10T02:08:00.000230Z",
     "shell.execute_reply": "2024-03-10T02:07:59.999079Z"
    },
    "papermill": {
     "duration": 0.307271,
     "end_time": "2024-03-10T02:08:00.002596",
     "exception": false,
     "start_time": "2024-03-10T02:07:59.695325",
     "status": "completed"
    },
    "tags": []
   },
   "outputs": [
    {
     "name": "stdout",
     "output_type": "stream",
     "text": [
      "--------------------------------------------------------------------------------\n",
      "VISUALIZING THE MISSING VALUES IN THE DATASET\n",
      "--------------------------------------------------------------------------------\n"
     ]
    },
    {
     "data": {
      "image/png": "[encoded data removed]",
      "text/plain": [
       "<Figure size 1800x900 with 1 Axes>"
      ]
     },
     "metadata": {},
     "output_type": "display_data"
    }
   ],
   "source": [
    "# Print a heading for the visualization\n",
    "heading('Visualizing the missing values in the dataset')\n",
    "\n",
    "# Set up the figure size for the plot\n",
    "plt.figure(figsize=(18, 9))\n",
    "\n",
    "# Create a heatmap to visualize missing values in the dataset\n",
    "sns.heatmap(data.isnull(), cbar=False, yticklabels=False, cmap='RdPu')\n",
    "\n",
    "# Show the plot\n",
    "plt.show()"
   ]
  },
  {
   "cell_type": "markdown",
   "id": "791afcbc",
   "metadata": {
    "papermill": {
     "duration": 0.030897,
     "end_time": "2024-03-10T02:08:00.064648",
     "exception": false,
     "start_time": "2024-03-10T02:08:00.033751",
     "status": "completed"
    },
    "tags": []
   },
   "source": [
    "<strong style=\"font-family:Comic Sans MS; color:purple; font-weight: bold; font-size: 35px\">4.11: Conclusion</strong>\n",
    "\n",
    "1. Imputation of Missing Values in 'Ratings' Column: \n",
    "   - Missing values in the `'Ratings'` column were imputed using the `IterativeImputer` algorithm along with the `XGBRegressor` estimator.\n",
    "\n",
    "2. Imputation of Missing Values in 'Size' Column: \n",
    "   - The `RandomForestRegressor` model was employed to impute missing values in the `'Size'`column. The imputation process achieved an `R-squared score of 0.83`, indicating a satisfactory fit of the imputed values to the observed data.\n",
    "\n",
    "3. Conversion of Categorical Columns to Numeric:\n",
    "   - A custom function was utilized to preprocess the data, specifically to `remove alphabetical signs` from categorical columns. However, further clarification is required regarding the exact approach used for converting categorical columns to numeric representation. \n"
   ]
  },
  {
   "cell_type": "markdown",
   "id": "11b5618d",
   "metadata": {
    "papermill": {
     "duration": 0.030691,
     "end_time": "2024-03-10T02:08:00.126363",
     "exception": false,
     "start_time": "2024-03-10T02:08:00.095672",
     "status": "completed"
    },
    "tags": []
   },
   "source": [
    "<hr style=\"border: none; border-top: 2px solid #18B4FF;\">\n"
   ]
  },
  {
   "cell_type": "markdown",
   "id": "af0cde9a",
   "metadata": {
    "papermill": {
     "duration": 0.031449,
     "end_time": "2024-03-10T02:08:00.188620",
     "exception": false,
     "start_time": "2024-03-10T02:08:00.157171",
     "status": "completed"
    },
    "tags": []
   },
   "source": [
    "<h2 style=\"font-family:Comic Sans MS; color:#18B4FF; font-weight: bold; font-size: 70px\">5.0 Column Exploration:</h2>"
   ]
  },
  {
   "cell_type": "markdown",
   "id": "b35d14ae",
   "metadata": {
    "papermill": {
     "duration": 0.030571,
     "end_time": "2024-03-10T02:08:00.249907",
     "exception": false,
     "start_time": "2024-03-10T02:08:00.219336",
     "status": "completed"
    },
    "tags": []
   },
   "source": [
    "<strong style=\"font-family:Comic Sans MS; color:purple; font-weight: bold; font-size: 35px\">5.1: Ratings Column</strong>"
   ]
  },
  {
   "cell_type": "code",
   "execution_count": 38,
   "id": "00bad717",
   "metadata": {
    "execution": {
     "iopub.execute_input": "2024-03-10T02:08:00.314395Z",
     "iopub.status.busy": "2024-03-10T02:08:00.313360Z",
     "iopub.status.idle": "2024-03-10T02:08:00.319712Z",
     "shell.execute_reply": "2024-03-10T02:08:00.318501Z"
    },
    "papermill": {
     "duration": 0.04108,
     "end_time": "2024-03-10T02:08:00.321852",
     "exception": false,
     "start_time": "2024-03-10T02:08:00.280772",
     "status": "completed"
    },
    "tags": []
   },
   "outputs": [],
   "source": [
    "df = data.copy()"
   ]
  },
  {
   "cell_type": "code",
   "execution_count": 39,
   "id": "733a99b7",
   "metadata": {
    "execution": {
     "iopub.execute_input": "2024-03-10T02:08:00.385472Z",
     "iopub.status.busy": "2024-03-10T02:08:00.385047Z",
     "iopub.status.idle": "2024-03-10T02:08:00.765449Z",
     "shell.execute_reply": "2024-03-10T02:08:00.764133Z"
    },
    "papermill": {
     "duration": 0.415548,
     "end_time": "2024-03-10T02:08:00.767957",
     "exception": false,
     "start_time": "2024-03-10T02:08:00.352409",
     "status": "completed"
    },
    "tags": []
   },
   "outputs": [
    {
     "name": "stdout",
     "output_type": "stream",
     "text": [
      "--------------------------------------------------------------------------------\n",
      "CHECKING THE RATINGS OF THE APPS\n",
      "--------------------------------------------------------------------------------\n",
      "The number of apps that have 5-star ratings are 109\n",
      "The number of apps that have ratings between 4 to 5 stars are 3104\n",
      "The number of apps that have ratings less than 3 stars are 757\n"
     ]
    },
    {
     "data": {
      "text/plain": [
       "Text(0, 0.5, 'Count')"
      ]
     },
     "execution_count": 39,
     "metadata": {},
     "output_type": "execute_result"
    },
    {
     "data": {
      "image/png": "[encoded data removed]",
      "text/plain": [
       "<Figure size 1800x900 with 1 Axes>"
      ]
     },
     "metadata": {},
     "output_type": "display_data"
    }
   ],
   "source": [
    "# Print a heading for the analysis\n",
    "heading('Checking the ratings of the apps')\n",
    "\n",
    "# Initialize variables to store the count of different rating categories\n",
    "count_5 = 0  # for 5 star\n",
    "count_4_5 = 0  # for 4 to 5 star\n",
    "count_3 = 0  # for 3 star\n",
    "\n",
    "# Iterate through the 'Rating' column to count ratings in different categories\n",
    "for i in df['Rating']: \n",
    "    if i == 5.0:  # condition for 5 star\n",
    "        count_5 += 1  # increment the count\n",
    "    elif i >= 4 and i < 5:  # condition for 4 to 5 star\n",
    "         count_4_5 += 1  # increment the count\n",
    "    elif i < 4:  # condition for less than 3 star\n",
    "        count_3 += 1  # increment the count\n",
    "\n",
    "# Printing the results\n",
    "print(f'The number of apps that have 5-star ratings are {count_5}')\n",
    "print(f'The number of apps that have ratings between 4 to 5 stars are {count_4_5}')\n",
    "print(f'The number of apps that have ratings less than 3 stars are {count_3}')\n",
    "\n",
    "# Create a DataFrame to store the counts for each rating category\n",
    "dfx = pd.DataFrame(\n",
    "    {\n",
    "        'num': ['5 Star', '4 to 5 star', 'Less than 3 star'], \n",
    "        'count': [count_5, count_4_5, count_3]\n",
    "    }\n",
    ")\n",
    "\n",
    "# Set the aesthetic style of the plots\n",
    "plt.figure(figsize=(18, 9))\n",
    "sns.set_style(\"whitegrid\")\n",
    "\n",
    "# Create a bar plot to visualize the distribution of app ratings\n",
    "sns.barplot(x=dfx['num'], y=dfx['count'], color='#19AADE')\n",
    "plt.title('Distribution of App Ratings', fontsize=24)\n",
    "plt.xlabel('Rating', fontsize=18)\n",
    "plt.ylabel('Count', fontsize=18)\n"
   ]
  },
  {
   "cell_type": "markdown",
   "id": "8e5dd977",
   "metadata": {
    "papermill": {
     "duration": 0.031183,
     "end_time": "2024-03-10T02:08:00.830657",
     "exception": false,
     "start_time": "2024-03-10T02:08:00.799474",
     "status": "completed"
    },
    "tags": []
   },
   "source": [
    "<strong style=\"font-family:Comic Sans MS; color:purple; font-weight: bold; font-size: 35px\">5.2: Reviews Column</strong>"
   ]
  },
  {
   "cell_type": "code",
   "execution_count": 40,
   "id": "b2abca4b",
   "metadata": {
    "execution": {
     "iopub.execute_input": "2024-03-10T02:08:00.896699Z",
     "iopub.status.busy": "2024-03-10T02:08:00.896055Z",
     "iopub.status.idle": "2024-03-10T02:08:00.904148Z",
     "shell.execute_reply": "2024-03-10T02:08:00.903275Z"
    },
    "papermill": {
     "duration": 0.044299,
     "end_time": "2024-03-10T02:08:00.906428",
     "exception": false,
     "start_time": "2024-03-10T02:08:00.862129",
     "status": "completed"
    },
    "tags": []
   },
   "outputs": [
    {
     "name": "stdout",
     "output_type": "stream",
     "text": [
      "--------------------------------------------------------------------------------\n",
      "REVIEWS OF 5-STAR RATED APPS\n",
      "--------------------------------------------------------------------------------\n",
      "Most 5-star rated apps have reviews: 4.00\n",
      "The average number of reviews of 5-star rated apps is 8.62\n"
     ]
    }
   ],
   "source": [
    "# Print a heading for the analysis\n",
    "heading(\"Reviews of 5-star rated apps\")\n",
    "\n",
    "# Calculate the median and mean number of reviews for 5-star rated apps\n",
    "rev_median = df[df['Rating'] == 5.0]['Reviews'].median()\n",
    "rev_mean = df[df['Rating'] == 5.0]['Reviews'].mean()\n",
    "\n",
    "# Print the median and mean number of reviews for 5-star rated apps\n",
    "print(f'Most 5-star rated apps have reviews: {rev_median:.2f}')\n",
    "print(f'The average number of reviews of 5-star rated apps is {rev_mean:.2f}')"
   ]
  },
  {
   "cell_type": "markdown",
   "id": "89b38ec1",
   "metadata": {
    "papermill": {
     "duration": 0.03152,
     "end_time": "2024-03-10T02:08:00.969673",
     "exception": false,
     "start_time": "2024-03-10T02:08:00.938153",
     "status": "completed"
    },
    "tags": []
   },
   "source": [
    "<strong style=\"font-family:Comic Sans MS; color:purple; font-weight: bold; font-size: 35px\">5.3: Size Column</strong>"
   ]
  },
  {
   "cell_type": "code",
   "execution_count": 41,
   "id": "233300b4",
   "metadata": {
    "execution": {
     "iopub.execute_input": "2024-03-10T02:08:01.035948Z",
     "iopub.status.busy": "2024-03-10T02:08:01.035543Z",
     "iopub.status.idle": "2024-03-10T02:08:01.044495Z",
     "shell.execute_reply": "2024-03-10T02:08:01.043111Z"
    },
    "papermill": {
     "duration": 0.045628,
     "end_time": "2024-03-10T02:08:01.046859",
     "exception": false,
     "start_time": "2024-03-10T02:08:01.001231",
     "status": "completed"
    },
    "tags": []
   },
   "outputs": [
    {
     "name": "stdout",
     "output_type": "stream",
     "text": [
      "--------------------------------------------------------------------------------\n",
      "SIZE OF 5-STAR RATED APPS\n",
      "--------------------------------------------------------------------------------\n",
      "Most 5-star rated apps have a size: 11.0 MB\n",
      "The average size of 5-star rated apps is 16.54 MB\n"
     ]
    }
   ],
   "source": [
    "# Print a heading for the analysis\n",
    "heading(\"Size of 5-star rated apps\")\n",
    "\n",
    "# Calculate the median and mean size of 5-star rated apps\n",
    "size_median_kb = df[df['Rating'] == 5.0]['Size in Kbs'].median()\n",
    "size_mean_kb = df[df['Rating'] == 5.0]['Size in Kbs'].mean()\n",
    "\n",
    "# Print the median and mean size of 5-star rated apps in megabytes (MB)\n",
    "print(f'Most 5-star rated apps have a size: {np.round(size_median_kb / 1024, 2)} MB')\n",
    "print(f'The average size of 5-star rated apps is {np.round(size_mean_kb / 1024, 2)} MB')"
   ]
  },
  {
   "cell_type": "markdown",
   "id": "1d8acbfa",
   "metadata": {
    "papermill": {
     "duration": 0.032476,
     "end_time": "2024-03-10T02:08:01.111731",
     "exception": false,
     "start_time": "2024-03-10T02:08:01.079255",
     "status": "completed"
    },
    "tags": []
   },
   "source": [
    "<strong style=\"font-family:Comic Sans MS; color:purple; font-weight: bold; font-size: 35px\">5.4: Type of 5-star Rated apps</strong>"
   ]
  },
  {
   "cell_type": "code",
   "execution_count": 42,
   "id": "cbbd74e0",
   "metadata": {
    "execution": {
     "iopub.execute_input": "2024-03-10T02:08:01.177626Z",
     "iopub.status.busy": "2024-03-10T02:08:01.177232Z",
     "iopub.status.idle": "2024-03-10T02:08:01.463392Z",
     "shell.execute_reply": "2024-03-10T02:08:01.462020Z"
    },
    "papermill": {
     "duration": 0.322165,
     "end_time": "2024-03-10T02:08:01.465977",
     "exception": false,
     "start_time": "2024-03-10T02:08:01.143812",
     "status": "completed"
    },
    "tags": []
   },
   "outputs": [
    {
     "name": "stdout",
     "output_type": "stream",
     "text": [
      "Number of 5-star apps that are free is 95 and number of 5-star apps that are paid is 14\n"
     ]
    },
    {
     "data": {
      "text/plain": [
       "Text(0, 0.5, 'Count')"
      ]
     },
     "execution_count": 42,
     "metadata": {},
     "output_type": "execute_result"
    },
    {
     "data": {
      "image/png": "[encoded data removed]",
      "text/plain": [
       "<Figure size 1200x600 with 1 Axes>"
      ]
     },
     "metadata": {},
     "output_type": "display_data"
    }
   ],
   "source": [
    "# Count the number of 5-star rated apps that are free and paid\n",
    "rev_type = df[df['Rating'] == 5.0]['Type'].value_counts()\n",
    "\n",
    "# Print the count of free and paid 5-star rated apps\n",
    "print(f'Number of 5-star apps that are free is {rev_type[0]} and number of 5-star apps that are paid is {rev_type[1]}')\n",
    "\n",
    "# Plot the type of 5-star rated apps\n",
    "plt.figure(figsize=(12, 6))\n",
    "sns.set_style(\"whitegrid\") # Set the aesthetic style of the plots\n",
    "sns.set_palette(\"pastel\")\n",
    "\n",
    "# Create a count plot to visualize the type of 5-star rated apps\n",
    "sns.countplot(x='Type', data=df[df['Rating'] == 5.0], color='#19AADE')\n",
    "\n",
    "# Set the title and labels of the plot\n",
    "plt.title('Type of 5-star rated apps', fontsize=18)\n",
    "plt.xlabel('Type', fontsize=14)\n",
    "plt.ylabel('Count', fontsize=14)"
   ]
  },
  {
   "cell_type": "markdown",
   "id": "3e8f72b1",
   "metadata": {
    "papermill": {
     "duration": 0.032843,
     "end_time": "2024-03-10T02:08:01.531406",
     "exception": false,
     "start_time": "2024-03-10T02:08:01.498563",
     "status": "completed"
    },
    "tags": []
   },
   "source": [
    "<strong style=\"font-family:Comic Sans MS; color:purple; font-weight: bold; font-size: 35px\">5.5: Category of 5-star apps</strong>"
   ]
  },
  {
   "cell_type": "code",
   "execution_count": 43,
   "id": "088bc5fb",
   "metadata": {
    "execution": {
     "iopub.execute_input": "2024-03-10T02:08:01.600593Z",
     "iopub.status.busy": "2024-03-10T02:08:01.600165Z",
     "iopub.status.idle": "2024-03-10T02:08:01.995579Z",
     "shell.execute_reply": "2024-03-10T02:08:01.994240Z"
    },
    "papermill": {
     "duration": 0.433289,
     "end_time": "2024-03-10T02:08:01.998007",
     "exception": false,
     "start_time": "2024-03-10T02:08:01.564718",
     "status": "completed"
    },
    "tags": []
   },
   "outputs": [
    {
     "name": "stdout",
     "output_type": "stream",
     "text": [
      "--------------------------------------------------------------------------------\n",
      "CATEGORY OF 5-STAR APPS\n",
      "--------------------------------------------------------------------------------\n"
     ]
    },
    {
     "data": {
      "text/plain": [
       "Text(0, 0.5, 'Category')"
      ]
     },
     "execution_count": 43,
     "metadata": {},
     "output_type": "execute_result"
    },
    {
     "data": {
      "image/png": "[encoded data removed]",
      "text/plain": [
       "<Figure size 1800x900 with 1 Axes>"
      ]
     },
     "metadata": {},
     "output_type": "display_data"
    }
   ],
   "source": [
    "# check the category of 5-star apps\n",
    "heading('Category of 5-star apps')\n",
    "cat = df[df['Rating'] == 5.0]['Category'].value_counts().sort_values(ascending=False).head(5)\n",
    "cat\n",
    "# plot the category of 5-star apps usign sns\n",
    "plt.figure(figsize=(18, 9))\n",
    "sns.barplot(y=cat.values, x=cat.index, color='#19AADE')\n",
    "plt.title('Category of 5-star apps', fontsize=24)\n",
    "plt.xlabel('Count', fontsize=18)\n",
    "plt.ylabel('Category', fontsize=18)"
   ]
  },
  {
   "cell_type": "markdown",
   "id": "e51d98c6",
   "metadata": {
    "papermill": {
     "duration": 0.033167,
     "end_time": "2024-03-10T02:08:02.064790",
     "exception": false,
     "start_time": "2024-03-10T02:08:02.031623",
     "status": "completed"
    },
    "tags": []
   },
   "source": [
    "<strong style=\"font-family:Comic Sans MS; color:purple; font-weight: bold; font-size: 35px\">5.6: Reviews of those app that have ratings between 4 to 5 stars</strong>"
   ]
  },
  {
   "cell_type": "code",
   "execution_count": 44,
   "id": "8915e846",
   "metadata": {
    "execution": {
     "iopub.execute_input": "2024-03-10T02:08:02.135994Z",
     "iopub.status.busy": "2024-03-10T02:08:02.135287Z",
     "iopub.status.idle": "2024-03-10T02:08:02.146824Z",
     "shell.execute_reply": "2024-03-10T02:08:02.145234Z"
    },
    "papermill": {
     "duration": 0.051249,
     "end_time": "2024-03-10T02:08:02.149198",
     "exception": false,
     "start_time": "2024-03-10T02:08:02.097949",
     "status": "completed"
    },
    "tags": []
   },
   "outputs": [
    {
     "name": "stdout",
     "output_type": "stream",
     "text": [
      "The average number of reviews of apps with ratings between 4 to 5 is 423292.76\n",
      "The median number of reviews of apps with ratings between 4 to 5 is 4217.5\n"
     ]
    }
   ],
   "source": [
    "# Calculate the average and median number of reviews for apps with ratings between 4 and 5\n",
    "rev_4_5_mean = df[(df['Rating'] >= 4) & (df['Rating'] < 5)]['Reviews'].mean()\n",
    "rev_4_5_med = df[(df['Rating'] >= 4) & (df['Rating'] < 5)]['Reviews'].median()\n",
    "\n",
    "# Print the average and median number of reviews for apps with ratings between 4 and 5\n",
    "print(f'The average number of reviews of apps with ratings between 4 to 5 is {np.round(rev_4_5_mean, 2)}')\n",
    "print(f'The median number of reviews of apps with ratings between 4 to 5 is {np.round(rev_4_5_med, 2)}')\n"
   ]
  },
  {
   "cell_type": "markdown",
   "id": "58987e8f",
   "metadata": {
    "papermill": {
     "duration": 0.033405,
     "end_time": "2024-03-10T02:08:02.218967",
     "exception": false,
     "start_time": "2024-03-10T02:08:02.185562",
     "status": "completed"
    },
    "tags": []
   },
   "source": [
    "<strong style=\"font-family:Comic Sans MS; color:purple; font-weight: bold; font-size: 35px\">5.7: Size of those app that have ratings between 4 to 5 stars</strong>"
   ]
  },
  {
   "cell_type": "code",
   "execution_count": 45,
   "id": "c5976700",
   "metadata": {
    "execution": {
     "iopub.execute_input": "2024-03-10T02:08:02.289096Z",
     "iopub.status.busy": "2024-03-10T02:08:02.288662Z",
     "iopub.status.idle": "2024-03-10T02:08:02.299953Z",
     "shell.execute_reply": "2024-03-10T02:08:02.298270Z"
    },
    "papermill": {
     "duration": 0.049559,
     "end_time": "2024-03-10T02:08:02.302135",
     "exception": false,
     "start_time": "2024-03-10T02:08:02.252576",
     "status": "completed"
    },
    "tags": []
   },
   "outputs": [
    {
     "name": "stdout",
     "output_type": "stream",
     "text": [
      "--------------------------------------------------------------------------------\n",
      "SIZE OF APPS WITH RATINGS BETWEEN 4 TO 5\n",
      "--------------------------------------------------------------------------------\n",
      "The average size of apps with ratings between 4 to 5 is 23.05 MB\n",
      "The median size of apps with ratings between 4 to 5 is 18.0 MB\n"
     ]
    }
   ],
   "source": [
    "# Print a heading for the analysis\n",
    "heading('Size of Apps with Ratings Between 4 to 5')\n",
    "\n",
    "# Calculate the average and median size of apps with ratings between 4 and 5\n",
    "size_4_5_mean = df[(df['Rating'] >= 4) & (df['Rating'] < 5)]['Size in Kbs'].mean()\n",
    "size_4_5_median = df[(df['Rating'] >= 4) & (df['Rating'] < 5)]['Size in Kbs'].median()\n",
    "\n",
    "# Print the average and median size of apps with ratings between 4 and 5\n",
    "print(f'The average size of apps with ratings between 4 to 5 is {np.round(size_4_5_mean / 1024, 2)} MB')\n",
    "print(f'The median size of apps with ratings between 4 to 5 is {np.round(size_4_5_median / 1024, 2)} MB')\n"
   ]
  },
  {
   "cell_type": "markdown",
   "id": "cf57e5f8",
   "metadata": {
    "papermill": {
     "duration": 0.03325,
     "end_time": "2024-03-10T02:08:02.368768",
     "exception": false,
     "start_time": "2024-03-10T02:08:02.335518",
     "status": "completed"
    },
    "tags": []
   },
   "source": [
    "<strong style=\"font-family:Comic Sans MS; color:purple; font-weight: bold; font-size: 35px\">5.8: Type of those app that have ratings between 4 to 5 stars</strong>"
   ]
  },
  {
   "cell_type": "code",
   "execution_count": 46,
   "id": "b65e6908",
   "metadata": {
    "execution": {
     "iopub.execute_input": "2024-03-10T02:08:02.440062Z",
     "iopub.status.busy": "2024-03-10T02:08:02.439048Z",
     "iopub.status.idle": "2024-03-10T02:08:02.787479Z",
     "shell.execute_reply": "2024-03-10T02:08:02.786259Z"
    },
    "papermill": {
     "duration": 0.386498,
     "end_time": "2024-03-10T02:08:02.789860",
     "exception": false,
     "start_time": "2024-03-10T02:08:02.403362",
     "status": "completed"
    },
    "tags": []
   },
   "outputs": [
    {
     "name": "stdout",
     "output_type": "stream",
     "text": [
      "Number of free apps that have reting between 4 to 5 is 2863 and number of paid apps that have reting between 4 to 5 is 241\n"
     ]
    },
    {
     "data": {
      "text/plain": [
       "Text(0, 0.5, 'Count')"
      ]
     },
     "execution_count": 46,
     "metadata": {},
     "output_type": "execute_result"
    },
    {
     "data": {
      "image/png": "[encoded data removed]",
      "text/plain": [
       "<Figure size 1800x900 with 1 Axes>"
      ]
     },
     "metadata": {},
     "output_type": "display_data"
    }
   ],
   "source": [
    "type_4_5 = df[(df['Rating'] >=4) & (df['Rating'] < 5)]['Type'].value_counts()\n",
    "print(f'Number of free apps that have reting between 4 to 5 is {type_4_5[0]} and number of paid apps that have reting between 4 to 5 is {type_4_5[1]}')\n",
    "\n",
    "# plot the type of 5-star apps\n",
    "plt.figure(figsize=(18, 9))\n",
    "sns.countplot(data=df[(df['Rating'] >=4) & (df['Rating'] <= 5.0)], color='#19AADE', x='Type')\n",
    "plt.title('Type of 5-star apps', fontsize=18)\n",
    "plt.xlabel('Type', fontsize=14)\n",
    "plt.ylabel('Count', fontsize=14)"
   ]
  },
  {
   "cell_type": "markdown",
   "id": "ab746012",
   "metadata": {
    "papermill": {
     "duration": 0.033368,
     "end_time": "2024-03-10T02:08:02.857002",
     "exception": false,
     "start_time": "2024-03-10T02:08:02.823634",
     "status": "completed"
    },
    "tags": []
   },
   "source": [
    "<strong style=\"font-family:Comic Sans MS; color:purple; font-weight: bold; font-size: 35px\">5.9: Reviews of those app that have ratings less than 3</strong>"
   ]
  },
  {
   "cell_type": "code",
   "execution_count": 47,
   "id": "e0f04a10",
   "metadata": {
    "execution": {
     "iopub.execute_input": "2024-03-10T02:08:02.926715Z",
     "iopub.status.busy": "2024-03-10T02:08:02.926322Z",
     "iopub.status.idle": "2024-03-10T02:08:02.934451Z",
     "shell.execute_reply": "2024-03-10T02:08:02.932993Z"
    },
    "papermill": {
     "duration": 0.045551,
     "end_time": "2024-03-10T02:08:02.936570",
     "exception": false,
     "start_time": "2024-03-10T02:08:02.891019",
     "status": "completed"
    },
    "tags": []
   },
   "outputs": [
    {
     "name": "stdout",
     "output_type": "stream",
     "text": [
      "The average number of reviews for apps with ratings less than 3 is 486.45\n",
      "The median number of reviews for apps with ratings less than 3 is 74.0\n"
     ]
    }
   ],
   "source": [
    "# Filter the dataset for apps with ratings less than 3\n",
    "rev_le_3 = df[df['Rating'] < 3]\n",
    "\n",
    "# Calculate the mean and median number of reviews for apps with ratings less than 3\n",
    "rev3_mean = rev_le_3['Reviews'].mean()\n",
    "rev3_median = rev_le_3['Reviews'].median()\n",
    "\n",
    "# Print the results\n",
    "print(f'The average number of reviews for apps with ratings less than 3 is {np.round(rev3_mean, 2)}')\n",
    "print(f'The median number of reviews for apps with ratings less than 3 is {np.round(rev3_median, 2)}')\n"
   ]
  },
  {
   "cell_type": "markdown",
   "id": "63ecb12e",
   "metadata": {
    "papermill": {
     "duration": 0.03457,
     "end_time": "2024-03-10T02:08:03.004738",
     "exception": false,
     "start_time": "2024-03-10T02:08:02.970168",
     "status": "completed"
    },
    "tags": []
   },
   "source": [
    "<strong style=\"font-family:Comic Sans MS; color:purple; font-weight: bold; font-size: 35px\">5.10: Size of those app that have ratings less than 3</strong>"
   ]
  },
  {
   "cell_type": "code",
   "execution_count": 48,
   "id": "1fad92fd",
   "metadata": {
    "execution": {
     "iopub.execute_input": "2024-03-10T02:08:03.074254Z",
     "iopub.status.busy": "2024-03-10T02:08:03.073546Z",
     "iopub.status.idle": "2024-03-10T02:08:03.082131Z",
     "shell.execute_reply": "2024-03-10T02:08:03.081067Z"
    },
    "papermill": {
     "duration": 0.045746,
     "end_time": "2024-03-10T02:08:03.084192",
     "exception": false,
     "start_time": "2024-03-10T02:08:03.038446",
     "status": "completed"
    },
    "tags": []
   },
   "outputs": [
    {
     "name": "stdout",
     "output_type": "stream",
     "text": [
      "The average size of apps that have a rating less than 3 is 18.33Mbs\n",
      "The median size of apps that have a rating less than 3 is 9.4Mbs\n"
     ]
    }
   ],
   "source": [
    "# Calculate the average and median size of apps that have a rating less than 3\n",
    "siz_le_3_mean = df[df['Rating'] < 3]['Size in Kbs'].mean()\n",
    "siz_le_3_med = df[df['Rating'] < 3]['Size in Kbs'].median()\n",
    "\n",
    "# Print the results\n",
    "print(f'The average size of apps that have a rating less than 3 is {np.round(siz_le_3_mean / 1024, 2)}Mbs')\n",
    "print(f'The median size of apps that have a rating less than 3 is {np.round(siz_le_3_med / 1024, 2)}Mbs')\n"
   ]
  },
  {
   "cell_type": "markdown",
   "id": "e3dd7419",
   "metadata": {
    "papermill": {
     "duration": 0.033845,
     "end_time": "2024-03-10T02:08:03.152228",
     "exception": false,
     "start_time": "2024-03-10T02:08:03.118383",
     "status": "completed"
    },
    "tags": []
   },
   "source": [
    "<strong style=\"font-family:Comic Sans MS; color:purple; font-weight: bold; font-size: 35px\">5.11: Type of those app that have ratings less than 3</strong>"
   ]
  },
  {
   "cell_type": "code",
   "execution_count": 49,
   "id": "20953b8d",
   "metadata": {
    "execution": {
     "iopub.execute_input": "2024-03-10T02:08:03.222002Z",
     "iopub.status.busy": "2024-03-10T02:08:03.221571Z",
     "iopub.status.idle": "2024-03-10T02:08:03.554622Z",
     "shell.execute_reply": "2024-03-10T02:08:03.553529Z"
    },
    "papermill": {
     "duration": 0.371094,
     "end_time": "2024-03-10T02:08:03.557247",
     "exception": false,
     "start_time": "2024-03-10T02:08:03.186153",
     "status": "completed"
    },
    "tags": []
   },
   "outputs": [
    {
     "name": "stdout",
     "output_type": "stream",
     "text": [
      "Number of free apps that have a rating less than 3 is 99 and number of paid apps that have a rating less than 3 is 10\n"
     ]
    },
    {
     "data": {
      "text/plain": [
       "Text(0, 0.5, 'Count')"
      ]
     },
     "execution_count": 49,
     "metadata": {},
     "output_type": "execute_result"
    },
    {
     "data": {
      "image/png": "[encoded data removed]",
      "text/plain": [
       "<Figure size 1800x900 with 1 Axes>"
      ]
     },
     "metadata": {},
     "output_type": "display_data"
    }
   ],
   "source": [
    "# Count the number of free and paid apps that have a rating less than 3\n",
    "typ = df[df[\"Rating\"] < 3]['Type'].value_counts()\n",
    "print(f'Number of free apps that have a rating less than 3 is {typ[0]} and number of paid apps that have a rating less than 3 is {typ[1]}')\n",
    "\n",
    "# Plot the count of free and paid apps with a rating less than 3\n",
    "plt.figure(figsize=(18, 9))\n",
    "sns.countplot(data=df[(df['Rating'] < 3)], color='#19AADE', x='Type')\n",
    "plt.title('Type of apps with a rating less than 3', fontsize=18)\n",
    "plt.xlabel('Type', fontsize=14)\n",
    "plt.ylabel('Count', fontsize=14)\n"
   ]
  },
  {
   "cell_type": "markdown",
   "id": "20ab834d",
   "metadata": {
    "papermill": {
     "duration": 0.03611,
     "end_time": "2024-03-10T02:08:03.628730",
     "exception": false,
     "start_time": "2024-03-10T02:08:03.592620",
     "status": "completed"
    },
    "tags": []
   },
   "source": [
    "<strong style=\"font-family:Comic Sans MS; color:purple; font-weight: bold; font-size: 35px\">5.12: Top 10 most installed apps with their categories</strong>"
   ]
  },
  {
   "cell_type": "code",
   "execution_count": 50,
   "id": "55a55826",
   "metadata": {
    "execution": {
     "iopub.execute_input": "2024-03-10T02:08:03.700655Z",
     "iopub.status.busy": "2024-03-10T02:08:03.700257Z",
     "iopub.status.idle": "2024-03-10T02:08:04.526791Z",
     "shell.execute_reply": "2024-03-10T02:08:04.525624Z"
    },
    "papermill": {
     "duration": 0.865216,
     "end_time": "2024-03-10T02:08:04.529104",
     "exception": false,
     "start_time": "2024-03-10T02:08:03.663888",
     "status": "completed"
    },
    "tags": []
   },
   "outputs": [
    {
     "name": "stdout",
     "output_type": "stream",
     "text": [
      "--------------------------------------------------------------------------------\n",
      "TOP 10 APPS WITH THE HIGHEST NUMBER OF INSTALLS WITH THEIR CATEGORIES\n",
      "--------------------------------------------------------------------------------\n"
     ]
    },
    {
     "data": {
      "text/plain": [
       "Text(0, 0.5, 'Installs')"
      ]
     },
     "execution_count": 50,
     "metadata": {},
     "output_type": "execute_result"
    },
    {
     "data": {
      "image/png": "[encoded data removed]",
      "text/plain": [
       "<Figure size 1800x900 with 1 Axes>"
      ]
     },
     "metadata": {},
     "output_type": "display_data"
    }
   ],
   "source": [
    "heading('Top 10 apps with the highest number of installs with their categories')\n",
    "df.groupby(['App', 'Category'])['Installs'].max().sort_values(ascending=False).head(10)\n",
    "\n",
    "# plot the top 10 apps with the highest number of installs\n",
    "df.groupby(['App', 'Category'])['Installs'].max().sort_values(ascending=False).head(10).plot(kind='bar', figsize=(18, 9), color='#19AADE')\n",
    "plt.title('Top 10 apps with the highest number of installs', fontsize=18)\n",
    "plt.xlabel('App', fontsize=14)\n",
    "plt.ylabel('Installs', fontsize=14)"
   ]
  },
  {
   "cell_type": "markdown",
   "id": "b7e0edb3",
   "metadata": {
    "papermill": {
     "duration": 0.03923,
     "end_time": "2024-03-10T02:08:04.605662",
     "exception": false,
     "start_time": "2024-03-10T02:08:04.566432",
     "status": "completed"
    },
    "tags": []
   },
   "source": [
    "<strong style=\"font-family:Comic Sans MS; color:purple; font-weight: bold; font-size: 35px\">5.13: Top 10 apps with the greatest size</strong>"
   ]
  },
  {
   "cell_type": "code",
   "execution_count": 51,
   "id": "e35113bc",
   "metadata": {
    "execution": {
     "iopub.execute_input": "2024-03-10T02:08:04.683723Z",
     "iopub.status.busy": "2024-03-10T02:08:04.683305Z",
     "iopub.status.idle": "2024-03-10T02:08:04.735479Z",
     "shell.execute_reply": "2024-03-10T02:08:04.734460Z"
    },
    "papermill": {
     "duration": 0.093206,
     "end_time": "2024-03-10T02:08:04.737706",
     "exception": false,
     "start_time": "2024-03-10T02:08:04.644500",
     "status": "completed"
    },
    "tags": []
   },
   "outputs": [
    {
     "name": "stdout",
     "output_type": "stream",
     "text": [
      "--------------------------------------------------------------------------------\n",
      "TOP 10 APPS WITH THE GREATEST SIZE\n",
      "--------------------------------------------------------------------------------\n"
     ]
    },
    {
     "data": {
      "text/plain": [
       "App                                Category \n",
       "Miami crime simulator              GAME          102.4 Mbs\n",
       "Mini Golf King - Multiplayer Game  GAME          102.4 Mbs\n",
       "Navi Radiography Pro               MEDICAL       102.4 Mbs\n",
       "Gangster Town: Vice District       FAMILY        102.4 Mbs\n",
       "Talking Babsy Baby: Baby Games     LIFESTYLE     102.4 Mbs\n",
       "Hungry Shark Evolution             GAME          102.4 Mbs\n",
       "Ultimate Tennis                    SPORTS        102.4 Mbs\n",
       "Draft Simulator for FUT 18         SPORTS        102.4 Mbs\n",
       "Earn to Die 2                      GAME         101.38 Mbs\n",
       "Robocar X Ray                      GAME         101.38 Mbs\n",
       "Name: Size in Kbs, dtype: object"
      ]
     },
     "execution_count": 51,
     "metadata": {},
     "output_type": "execute_result"
    }
   ],
   "source": [
    "heading('Top 10 apps with the greatest size')\n",
    "\n",
    "# sort  the install colum\n",
    "sort = df.sort_values(by='Size in Kbs', ascending=False)\n",
    "\n",
    "sort['Size in Kbs'] = sort['Size in Kbs'].apply(lambda x: np.round(x/1000, 2))\n",
    "# select the top 10 apps with the greatest size \n",
    "sort.groupby(['App', 'Category'])['Size in Kbs'].max().sort_values(ascending=False).head(10).apply(lambda x: f'{x} Mbs')"
   ]
  },
  {
   "cell_type": "markdown",
   "id": "df0abb3e",
   "metadata": {
    "papermill": {
     "duration": 0.037936,
     "end_time": "2024-03-10T02:08:04.812893",
     "exception": false,
     "start_time": "2024-03-10T02:08:04.774957",
     "status": "completed"
    },
    "tags": []
   },
   "source": [
    "<strong style=\"font-family:Comic Sans MS; color:purple; font-weight: bold; font-size: 35px\">5.14: Top 10 apps with the highest number of reviews</strong>"
   ]
  },
  {
   "cell_type": "code",
   "execution_count": 52,
   "id": "f8eb65ea",
   "metadata": {
    "execution": {
     "iopub.execute_input": "2024-03-10T02:08:04.889962Z",
     "iopub.status.busy": "2024-03-10T02:08:04.889149Z",
     "iopub.status.idle": "2024-03-10T02:08:04.907599Z",
     "shell.execute_reply": "2024-03-10T02:08:04.906453Z"
    },
    "papermill": {
     "duration": 0.059592,
     "end_time": "2024-03-10T02:08:04.909720",
     "exception": false,
     "start_time": "2024-03-10T02:08:04.850128",
     "status": "completed"
    },
    "tags": []
   },
   "outputs": [
    {
     "name": "stdout",
     "output_type": "stream",
     "text": [
      "--------------------------------------------------------------------------------\n",
      "TOP 10 APPS WITH HIGHEST NUMBER OF REVIEWS\n",
      "--------------------------------------------------------------------------------\n"
     ]
    },
    {
     "data": {
      "text/plain": [
       "App                                                 Category     \n",
       "Facebook                                            SOCIAL           78158306\n",
       "WhatsApp Messenger                                  COMMUNICATION    69119316\n",
       "Instagram                                           SOCIAL           66577313\n",
       "Messenger – Text and Video Chat for Free            COMMUNICATION    56642847\n",
       "Clash of Clans                                      GAME             44891723\n",
       "YouTube                                             VIDEO_PLAYERS    25623548\n",
       "Security Master - Antivirus, VPN, AppLock, Booster  TOOLS            24900999\n",
       "Clash Royale                                        GAME             23133508\n",
       "Candy Crush Saga                                    GAME             22426677\n",
       "UC Browser - Fast Download Private & Secure         COMMUNICATION    17712922\n",
       "Name: Reviews, dtype: int64"
      ]
     },
     "execution_count": 52,
     "metadata": {},
     "output_type": "execute_result"
    }
   ],
   "source": [
    "heading('Top 10 apps with highest number of reviews')\n",
    "# select the top 10 apps with the highest number of reviews\n",
    "df.groupby(['App', 'Category'])['Reviews'].max().sort_values(ascending=False).head(10)"
   ]
  },
  {
   "cell_type": "markdown",
   "id": "2ffa64d0",
   "metadata": {
    "papermill": {
     "duration": 0.03693,
     "end_time": "2024-03-10T02:08:04.983874",
     "exception": false,
     "start_time": "2024-03-10T02:08:04.946944",
     "status": "completed"
    },
    "tags": []
   },
   "source": [
    "<strong style=\"font-family:Comic Sans MS; color:purple; font-weight: bold; font-size: 35px\">5.15: Top 5 categories with the highest number of apps</strong>"
   ]
  },
  {
   "cell_type": "code",
   "execution_count": 53,
   "id": "e62c0adb",
   "metadata": {
    "execution": {
     "iopub.execute_input": "2024-03-10T02:08:05.061282Z",
     "iopub.status.busy": "2024-03-10T02:08:05.060492Z",
     "iopub.status.idle": "2024-03-10T02:08:05.070725Z",
     "shell.execute_reply": "2024-03-10T02:08:05.069603Z"
    },
    "papermill": {
     "duration": 0.050963,
     "end_time": "2024-03-10T02:08:05.072714",
     "exception": false,
     "start_time": "2024-03-10T02:08:05.021751",
     "status": "completed"
    },
    "tags": []
   },
   "outputs": [
    {
     "name": "stdout",
     "output_type": "stream",
     "text": [
      "--------------------------------------------------------------------------------\n",
      "TOP 5 CATEGORIES WITH THE HIGHEST NUMBER OF APPS\n",
      "--------------------------------------------------------------------------------\n"
     ]
    },
    {
     "data": {
      "text/plain": [
       "Category\n",
       "FAMILY      719\n",
       "GAME        422\n",
       "TOOLS       320\n",
       "MEDICAL     176\n",
       "BUSINESS    154\n",
       "Name: count, dtype: int64"
      ]
     },
     "execution_count": 53,
     "metadata": {},
     "output_type": "execute_result"
    }
   ],
   "source": [
    "heading('Top 5 categories with the highest number of apps')\n",
    "df['Category'].value_counts().head()"
   ]
  },
  {
   "cell_type": "markdown",
   "id": "211d9547",
   "metadata": {
    "papermill": {
     "duration": 0.037174,
     "end_time": "2024-03-10T02:08:05.147642",
     "exception": false,
     "start_time": "2024-03-10T02:08:05.110468",
     "status": "completed"
    },
    "tags": []
   },
   "source": [
    "<strong style=\"font-family:Comic Sans MS; color:purple; font-weight: bold; font-size: 35px\">5.16: Categories with the highest number of installs</strong> debug"
   ]
  },
  {
   "cell_type": "code",
   "execution_count": 54,
   "id": "9d714349",
   "metadata": {
    "execution": {
     "iopub.execute_input": "2024-03-10T02:08:05.224888Z",
     "iopub.status.busy": "2024-03-10T02:08:05.224141Z",
     "iopub.status.idle": "2024-03-10T02:08:05.233890Z",
     "shell.execute_reply": "2024-03-10T02:08:05.232852Z"
    },
    "papermill": {
     "duration": 0.050823,
     "end_time": "2024-03-10T02:08:05.235948",
     "exception": false,
     "start_time": "2024-03-10T02:08:05.185125",
     "status": "completed"
    },
    "tags": []
   },
   "outputs": [
    {
     "data": {
      "text/plain": [
       "Category\n",
       "FAMILY              1000000000\n",
       "SOCIAL              1000000000\n",
       "VIDEO_PLAYERS       1000000000\n",
       "PHOTOGRAPHY         1000000000\n",
       "PRODUCTIVITY        1000000000\n",
       "TRAVEL_AND_LOCAL    1000000000\n",
       "COMMUNICATION       1000000000\n",
       "GAME                 500000000\n",
       "Name: Installs, dtype: int64"
      ]
     },
     "execution_count": 54,
     "metadata": {},
     "output_type": "execute_result"
    }
   ],
   "source": [
    "# top 8 categories with their install\n",
    "df.groupby(['Category'])['Installs'].max().sort_values(ascending=False).head(8)"
   ]
  },
  {
   "cell_type": "markdown",
   "id": "2702ca1e",
   "metadata": {
    "papermill": {
     "duration": 0.037751,
     "end_time": "2024-03-10T02:08:05.311553",
     "exception": false,
     "start_time": "2024-03-10T02:08:05.273802",
     "status": "completed"
    },
    "tags": []
   },
   "source": [
    "<strong style=\"font-family:Comic Sans MS; color:purple; font-weight: bold; font-size: 35px\">5.17: Categories with the highest number of ratings</strong>"
   ]
  },
  {
   "cell_type": "code",
   "execution_count": 55,
   "id": "bf3b5dae",
   "metadata": {
    "execution": {
     "iopub.execute_input": "2024-03-10T02:08:05.390074Z",
     "iopub.status.busy": "2024-03-10T02:08:05.389350Z",
     "iopub.status.idle": "2024-03-10T02:08:05.399840Z",
     "shell.execute_reply": "2024-03-10T02:08:05.398672Z"
    },
    "papermill": {
     "duration": 0.052689,
     "end_time": "2024-03-10T02:08:05.402237",
     "exception": false,
     "start_time": "2024-03-10T02:08:05.349548",
     "status": "completed"
    },
    "tags": []
   },
   "outputs": [
    {
     "data": {
      "text/plain": [
       "Category\n",
       "ART_AND_DESIGN        5.0\n",
       "FOOD_AND_DRINK        5.0\n",
       "SOCIAL                5.0\n",
       "SHOPPING              5.0\n",
       "PRODUCTIVITY          5.0\n",
       "PHOTOGRAPHY           5.0\n",
       "PERSONALIZATION       5.0\n",
       "NEWS_AND_MAGAZINES    5.0\n",
       "Name: Rating, dtype: float64"
      ]
     },
     "execution_count": 55,
     "metadata": {},
     "output_type": "execute_result"
    }
   ],
   "source": [
    "# top 8 categories with their rating\n",
    "df.groupby(['Category'])['Rating'].max().sort_values(ascending=False).head(8)"
   ]
  },
  {
   "cell_type": "markdown",
   "id": "97fa29d0",
   "metadata": {
    "papermill": {
     "duration": 0.038059,
     "end_time": "2024-03-10T02:08:05.480996",
     "exception": false,
     "start_time": "2024-03-10T02:08:05.442937",
     "status": "completed"
    },
    "tags": []
   },
   "source": [
    "<strong style=\"font-family:Comic Sans MS; color:purple; font-weight: bold; font-size: 35px\">5.18: Number of free and paid app in the dataset</strong>"
   ]
  },
  {
   "cell_type": "code",
   "execution_count": 56,
   "id": "dc40871c",
   "metadata": {
    "execution": {
     "iopub.execute_input": "2024-03-10T02:08:05.562370Z",
     "iopub.status.busy": "2024-03-10T02:08:05.561132Z",
     "iopub.status.idle": "2024-03-10T02:08:05.881151Z",
     "shell.execute_reply": "2024-03-10T02:08:05.879841Z"
    },
    "papermill": {
     "duration": 0.363103,
     "end_time": "2024-03-10T02:08:05.883646",
     "exception": false,
     "start_time": "2024-03-10T02:08:05.520543",
     "status": "completed"
    },
    "tags": []
   },
   "outputs": [
    {
     "name": "stdout",
     "output_type": "stream",
     "text": [
      "--------------------------------------------------------------------------------\n",
      "NUMBER OF FREE AND PAID APP IN THE DATASET\n",
      "--------------------------------------------------------------------------------\n",
      "Number of free apps is 3668 and number of paid apps is 302\n",
      "The percentage of paid apps in the dataset is 7.61%\n"
     ]
    },
    {
     "data": {
      "text/plain": [
       "Text(0, 0.5, 'Count')"
      ]
     },
     "execution_count": 56,
     "metadata": {},
     "output_type": "execute_result"
    },
    {
     "data": {
      "image/png": "[encoded data removed]",
      "text/plain": [
       "<Figure size 1800x900 with 1 Axes>"
      ]
     },
     "metadata": {},
     "output_type": "display_data"
    }
   ],
   "source": [
    "heading('Number of free and paid app in the dataset')\n",
    "# number of free and paid apps\n",
    "ty = df['Type'].value_counts()\n",
    "print(f'Number of free apps is {ty[0]} and number of paid apps is {ty[1]}')\n",
    "\n",
    "# percentage of paid apps in the dataset\n",
    "print(f'The percentage of paid apps in the dataset is {round(ty[1]/(ty[0]+ty[1])*100, 2)}%')\n",
    "\n",
    "plt.figure(figsize=(18, 9))\n",
    "sns.barplot(x = ty.index, y=ty.values, color='#19AADE')\n",
    "plt.title('Number of free and paid app in the dataset', fontsize=24)\n",
    "plt.xlabel('Type', fontsize=18)\n",
    "plt.ylabel('Count', fontsize=18)"
   ]
  },
  {
   "cell_type": "markdown",
   "id": "27554fec",
   "metadata": {
    "papermill": {
     "duration": 0.039457,
     "end_time": "2024-03-10T02:08:05.962772",
     "exception": false,
     "start_time": "2024-03-10T02:08:05.923315",
     "status": "completed"
    },
    "tags": []
   },
   "source": [
    "<hr style=\"border: none; border-top: 2px solid #18B4FF;\">\n"
   ]
  },
  {
   "cell_type": "markdown",
   "id": "90a8e423",
   "metadata": {
    "papermill": {
     "duration": 0.039645,
     "end_time": "2024-03-10T02:08:06.041500",
     "exception": false,
     "start_time": "2024-03-10T02:08:06.001855",
     "status": "completed"
    },
    "tags": []
   },
   "source": [
    "<h2 style=\"font-family:Comic Sans MS; color:#18B4FF; font-weight: bold; font-size: 70px\">6.0 Machine Learning:</h2>"
   ]
  },
  {
   "cell_type": "markdown",
   "id": "bb26c2e8",
   "metadata": {
    "papermill": {
     "duration": 0.039435,
     "end_time": "2024-03-10T02:08:06.120482",
     "exception": false,
     "start_time": "2024-03-10T02:08:06.081047",
     "status": "completed"
    },
    "tags": []
   },
   "source": [
    "<strong style=\"font-family:Comic Sans MS; color:purple; font-weight: bold; font-size: 35px\">6.1: Train Test Split</strong>"
   ]
  },
  {
   "cell_type": "code",
   "execution_count": 57,
   "id": "17fc602a",
   "metadata": {
    "execution": {
     "iopub.execute_input": "2024-03-10T02:08:06.201668Z",
     "iopub.status.busy": "2024-03-10T02:08:06.201149Z",
     "iopub.status.idle": "2024-03-10T02:08:06.211884Z",
     "shell.execute_reply": "2024-03-10T02:08:06.210931Z"
    },
    "papermill": {
     "duration": 0.054495,
     "end_time": "2024-03-10T02:08:06.214093",
     "exception": false,
     "start_time": "2024-03-10T02:08:06.159598",
     "status": "completed"
    },
    "tags": []
   },
   "outputs": [],
   "source": [
    "# Split the DataFrame into features (X) and target variable (y)\n",
    "X = df.drop(columns=['Rating'])  # Features (all columns except 'Rating')\n",
    "y = df['Rating']  # Target variable ('Rating')\n",
    "\n",
    "# Split the data into training and testing sets\n",
    "# test_size=0.2 specifies that 20% of the data will be used for testing\n",
    "# random_state=42 sets the random seed for reproducibility\n",
    "X_train, X_test, y_train, y_test = train_test_split(X, y, test_size=0.2, random_state=42)\n"
   ]
  },
  {
   "cell_type": "markdown",
   "id": "2a368494",
   "metadata": {
    "papermill": {
     "duration": 0.038893,
     "end_time": "2024-03-10T02:08:06.293438",
     "exception": false,
     "start_time": "2024-03-10T02:08:06.254545",
     "status": "completed"
    },
    "tags": []
   },
   "source": [
    "<strong style=\"font-family:Comic Sans MS; color:purple; font-weight: bold; font-size: 35px\">6.2: Model Selection</strong>"
   ]
  },
  {
   "cell_type": "code",
   "execution_count": 58,
   "id": "fc7e0331",
   "metadata": {
    "execution": {
     "iopub.execute_input": "2024-03-10T02:08:06.374469Z",
     "iopub.status.busy": "2024-03-10T02:08:06.373860Z",
     "iopub.status.idle": "2024-03-10T02:08:06.380294Z",
     "shell.execute_reply": "2024-03-10T02:08:06.379169Z"
    },
    "papermill": {
     "duration": 0.049875,
     "end_time": "2024-03-10T02:08:06.382677",
     "exception": false,
     "start_time": "2024-03-10T02:08:06.332802",
     "status": "completed"
    },
    "tags": []
   },
   "outputs": [],
   "source": [
    "model = {\n",
    "    'XGBRegressor': {\n",
    "        'model': XGBRegressor(),  # XGBRegressor model instance\n",
    "        'params': {  # Dictionary of hyperparameters for XGBRegressor\n",
    "            'model__n_estimators': [100, 500],  # Number of boosting rounds\n",
    "            'model__max_depth': [3]  # Maximum depth of trees\n",
    "        }\n",
    "    },\n",
    "    'GradientBoostingRegressor': {\n",
    "        'model': GradientBoostingRegressor(),  # GradientBoostingRegressor model instance\n",
    "        'params': {  # Dictionary of hyperparameters for GradientBoostingRegressor\n",
    "            'model__loss': ['ls', 'quantile'],  # Loss function to be optimized\n",
    "            'model__criterion': ['friedman_mse']  # Splitting criterion\n",
    "        }\n",
    "    },\n",
    "}\n"
   ]
  },
  {
   "cell_type": "markdown",
   "id": "b7eee97d",
   "metadata": {
    "papermill": {
     "duration": 0.039649,
     "end_time": "2024-03-10T02:08:06.463661",
     "exception": false,
     "start_time": "2024-03-10T02:08:06.424012",
     "status": "completed"
    },
    "tags": []
   },
   "source": [
    "<strong style=\"font-family:Comic Sans MS; color:purple; font-weight: bold; font-size: 35px\">6.3: Column Transformer for Encoding and Normalizing the data</strong>"
   ]
  },
  {
   "cell_type": "code",
   "execution_count": 59,
   "id": "e670f874",
   "metadata": {
    "execution": {
     "iopub.execute_input": "2024-03-10T02:08:06.546874Z",
     "iopub.status.busy": "2024-03-10T02:08:06.546409Z",
     "iopub.status.idle": "2024-03-10T02:08:06.553050Z",
     "shell.execute_reply": "2024-03-10T02:08:06.551759Z"
    },
    "papermill": {
     "duration": 0.049581,
     "end_time": "2024-03-10T02:08:06.555107",
     "exception": false,
     "start_time": "2024-03-10T02:08:06.505526",
     "status": "completed"
    },
    "tags": []
   },
   "outputs": [],
   "source": [
    "# ColumnTransformer for encoding categorical variables and passing through numerical variables\n",
    "tr1 = ColumnTransformer([\n",
    "    ('ordinal_encoder', OrdinalEncoder(), ['Type']),  # Encode 'Type' column using OrdinalEncoder\n",
    "    ('OneHot_Encoder', OneHotEncoder(sparse_output=False, handle_unknown='ignore'), ['App', 'Category', 'Genres'])  # One-hot encode 'App', 'Category', and 'Genres' columns\n",
    "], remainder='passthrough')  # Pass through remaining columns as they are\n",
    "\n",
    "# ColumnTransformer for applying QuantileTransformer to numerical variables and passing through categorical variables\n",
    "tr2 = ColumnTransformer([\n",
    "    ('Quantile_Transformer', QuantileTransformer(output_distribution='normal'), [2, 3, 4, 5, 7])  # Apply QuantileTransformer to columns 2, 3, 4, 5, and 7\n",
    "], remainder='passthrough')  # Pass through remaining columns as they are\n"
   ]
  },
  {
   "cell_type": "markdown",
   "id": "a0e945fe",
   "metadata": {
    "papermill": {
     "duration": 0.04192,
     "end_time": "2024-03-10T02:08:06.636578",
     "exception": false,
     "start_time": "2024-03-10T02:08:06.594658",
     "status": "completed"
    },
    "tags": []
   },
   "source": [
    "<strong style=\"font-family:Comic Sans MS; color:purple; font-weight: bold; font-size: 35px\">6.4: Model Training and Evaluation</strong>"
   ]
  },
  {
   "cell_type": "code",
   "execution_count": 60,
   "id": "f3e8d950",
   "metadata": {
    "execution": {
     "iopub.execute_input": "2024-03-10T02:08:06.718167Z",
     "iopub.status.busy": "2024-03-10T02:08:06.717321Z",
     "iopub.status.idle": "2024-03-10T02:09:24.969194Z",
     "shell.execute_reply": "2024-03-10T02:09:24.967805Z"
    },
    "papermill": {
     "duration": 78.333453,
     "end_time": "2024-03-10T02:09:25.010395",
     "exception": false,
     "start_time": "2024-03-10T02:08:06.676942",
     "status": "completed"
    },
    "tags": []
   },
   "outputs": [
    {
     "name": "stdout",
     "output_type": "stream",
     "text": [
      "Fitting 5 folds for each of 2 candidates, totalling 10 fits\n",
      "Fitting 5 folds for each of 2 candidates, totalling 10 fits\n",
      "CPU times: user 40.8 s, sys: 593 ms, total: 41.4 s\n",
      "Wall time: 1min 18s\n"
     ]
    }
   ],
   "source": [
    "%%time\n",
    "\n",
    "# Initialize lists to store model names and evaluation metrics\n",
    "model_names = []\n",
    "r2_scores = []\n",
    "mean_absolute_errors = []\n",
    "mean_squared_errors = []\n",
    "\n",
    "# Iterate over each model in the `model` dictionary\n",
    "for model_name, mp in model.items():\n",
    "    # Create a pipeline for the current model\n",
    "    pipe = Pipeline([\n",
    "        ('tr1', tr1),  # Apply the first ColumnTransformer for data preprocessing\n",
    "        ('tr2', tr2),  # Apply the second ColumnTransformer for data preprocessing\n",
    "        ('model', mp['model'])  # Add the model to the pipeline\n",
    "    ])\n",
    "    \n",
    "    # Perform grid search cross-validation to tune hyperparameters\n",
    "    grid = GridSearchCV(pipe, mp['params'], cv=5, verbose=1, n_jobs=-1)\n",
    "    grid.fit(X_train, y_train)\n",
    "    \n",
    "    # Make predictions on the test set\n",
    "    y_pred = grid.predict(X_test)\n",
    "    \n",
    "    # Evaluate the model performance using various metrics\n",
    "    r2 = r2_score(y_test, y_pred)  # Calculate R-squared score\n",
    "    mae = mean_absolute_error(y_test, y_pred)  # Calculate mean absolute error\n",
    "    mse = mean_squared_error(y_test, y_pred)  # Calculate mean squared error\n",
    "    \n",
    "    # Append model name and evaluation metrics to respective lists\n",
    "    model_names.append(model_name)\n",
    "    r2_scores.append(r2)\n",
    "    mean_absolute_errors.append(mae)\n",
    "    mean_squared_errors.append(mse)\n"
   ]
  },
  {
   "cell_type": "markdown",
   "id": "d3b3da3d",
   "metadata": {
    "papermill": {
     "duration": 0.039941,
     "end_time": "2024-03-10T02:09:25.089398",
     "exception": false,
     "start_time": "2024-03-10T02:09:25.049457",
     "status": "completed"
    },
    "tags": []
   },
   "source": [
    "<strong style=\"font-family:Comic Sans MS; color:purple; font-weight: bold; font-size: 35px\">6.5: Create a DataFrame to store evaluation metrics for each model</strong>"
   ]
  },
  {
   "cell_type": "code",
   "execution_count": 61,
   "id": "9038eb1a",
   "metadata": {
    "execution": {
     "iopub.execute_input": "2024-03-10T02:09:25.172124Z",
     "iopub.status.busy": "2024-03-10T02:09:25.171023Z",
     "iopub.status.idle": "2024-03-10T02:09:25.178710Z",
     "shell.execute_reply": "2024-03-10T02:09:25.177868Z"
    },
    "papermill": {
     "duration": 0.0513,
     "end_time": "2024-03-10T02:09:25.180949",
     "exception": false,
     "start_time": "2024-03-10T02:09:25.129649",
     "status": "completed"
    },
    "tags": []
   },
   "outputs": [],
   "source": [
    "# Create a DataFrame to store evaluation metrics for each model\n",
    "evaluation_dff = pd.DataFrame({\n",
    "    'model_name': model_names,  # Column for model names\n",
    "    'r2_score': r2_scores,  # Column for R-squared scores\n",
    "    'mean_absolute_error': mean_absolute_errors,  # Column for mean absolute errors\n",
    "    'mean_squared_error': mean_squared_errors  # Column for mean squared errors\n",
    "})\n",
    "\n",
    "# Sort the DataFrame by R-squared score in descending order\n",
    "evaluation_df = evaluation_dff.sort_values(by='r2_score', ascending=False)\n"
   ]
  },
  {
   "cell_type": "code",
   "execution_count": 62,
   "id": "e8d8e420",
   "metadata": {
    "execution": {
     "iopub.execute_input": "2024-03-10T02:09:25.261490Z",
     "iopub.status.busy": "2024-03-10T02:09:25.260389Z",
     "iopub.status.idle": "2024-03-10T02:09:25.272620Z",
     "shell.execute_reply": "2024-03-10T02:09:25.271772Z"
    },
    "papermill": {
     "duration": 0.054762,
     "end_time": "2024-03-10T02:09:25.274694",
     "exception": false,
     "start_time": "2024-03-10T02:09:25.219932",
     "status": "completed"
    },
    "tags": []
   },
   "outputs": [
    {
     "data": {
      "text/html": [
       "<div>\n",
       "<style scoped>\n",
       "    .dataframe tbody tr th:only-of-type {\n",
       "        vertical-align: middle;\n",
       "    }\n",
       "\n",
       "    .dataframe tbody tr th {\n",
       "        vertical-align: top;\n",
       "    }\n",
       "\n",
       "    .dataframe thead th {\n",
       "        text-align: right;\n",
       "    }\n",
       "</style>\n",
       "<table border=\"1\" class=\"dataframe\">\n",
       "  <thead>\n",
       "    <tr style=\"text-align: right;\">\n",
       "      <th></th>\n",
       "      <th>model_name</th>\n",
       "      <th>r2_score</th>\n",
       "      <th>mean_absolute_error</th>\n",
       "      <th>mean_squared_error</th>\n",
       "    </tr>\n",
       "  </thead>\n",
       "  <tbody>\n",
       "    <tr>\n",
       "      <th>0</th>\n",
       "      <td>XGBRegressor</td>\n",
       "      <td>0.119738</td>\n",
       "      <td>0.298858</td>\n",
       "      <td>0.217660</td>\n",
       "    </tr>\n",
       "    <tr>\n",
       "      <th>1</th>\n",
       "      <td>GradientBoostingRegressor</td>\n",
       "      <td>-0.887564</td>\n",
       "      <td>0.468887</td>\n",
       "      <td>0.466733</td>\n",
       "    </tr>\n",
       "  </tbody>\n",
       "</table>\n",
       "</div>"
      ],
      "text/plain": [
       "                  model_name  r2_score  mean_absolute_error  \\\n",
       "0               XGBRegressor  0.119738             0.298858   \n",
       "1  GradientBoostingRegressor -0.887564             0.468887   \n",
       "\n",
       "   mean_squared_error  \n",
       "0            0.217660  \n",
       "1            0.466733  "
      ]
     },
     "execution_count": 62,
     "metadata": {},
     "output_type": "execute_result"
    }
   ],
   "source": [
    "evaluation_df.head()"
   ]
  },
  {
   "cell_type": "markdown",
   "id": "0de025b7",
   "metadata": {
    "papermill": {
     "duration": 0.040067,
     "end_time": "2024-03-10T02:09:25.354992",
     "exception": false,
     "start_time": "2024-03-10T02:09:25.314925",
     "status": "completed"
    },
    "tags": []
   },
   "source": [
    "<strong style=\"font-family:Comic Sans MS; color:purple; font-weight: bold; font-size: 35px\">6.6: Conclusion</strong>\n",
    "\n",
    "1. `XGB Regressor`\n",
    "   - Achieved an R-squared score of 0.13 and a mean absolute error of 0.29.\n",
    "\n",
    "2. `GradientBoostingRegressor`\n",
    "   - Recorded a negative R-squared score (-0.8) and a mean absolute error of 0.456021.\n",
    "\n",
    "3. These models are not performing well on this dataset. Therefore, we will harness the power of 'Artificial Neural Networks' to enhance predictive accuracy and overcome grammatical mistakes.\n"
   ]
  },
  {
   "cell_type": "markdown",
   "id": "7dc06728",
   "metadata": {
    "papermill": {
     "duration": 0.041213,
     "end_time": "2024-03-10T02:09:25.435937",
     "exception": false,
     "start_time": "2024-03-10T02:09:25.394724",
     "status": "completed"
    },
    "tags": []
   },
   "source": [
    "<hr style=\"border: none; border-top: 2px solid #18B4FF;\">\n"
   ]
  },
  {
   "cell_type": "markdown",
   "id": "8cafc433",
   "metadata": {
    "papermill": {
     "duration": 0.039931,
     "end_time": "2024-03-10T02:09:25.515410",
     "exception": false,
     "start_time": "2024-03-10T02:09:25.475479",
     "status": "completed"
    },
    "tags": []
   },
   "source": [
    "<h2 style=\"font-family:Comic Sans MS; color:#18B4FF; font-weight: bold; font-size: 70px\">7.0 Artificial Neural Networks</h2>"
   ]
  },
  {
   "cell_type": "markdown",
   "id": "393d26f0",
   "metadata": {
    "papermill": {
     "duration": 0.039299,
     "end_time": "2024-03-10T02:09:25.594205",
     "exception": false,
     "start_time": "2024-03-10T02:09:25.554906",
     "status": "completed"
    },
    "tags": []
   },
   "source": [
    "<strong style=\"font-family:Comic Sans MS; color:purple; font-weight: bold; font-size: 35px\">7.1: Data Preprocessing and Scaling</strong>"
   ]
  },
  {
   "cell_type": "code",
   "execution_count": 63,
   "id": "33962ea4",
   "metadata": {
    "execution": {
     "iopub.execute_input": "2024-03-10T02:09:25.678910Z",
     "iopub.status.busy": "2024-03-10T02:09:25.678160Z",
     "iopub.status.idle": "2024-03-10T02:09:25.826516Z",
     "shell.execute_reply": "2024-03-10T02:09:25.825277Z"
    },
    "papermill": {
     "duration": 0.193983,
     "end_time": "2024-03-10T02:09:25.829328",
     "exception": false,
     "start_time": "2024-03-10T02:09:25.635345",
     "status": "completed"
    },
    "tags": []
   },
   "outputs": [],
   "source": [
    "# Define columns to be encoded and scaled\n",
    "categorical_columns = ['App', 'Category', 'Type', 'Genres']  # Categorical columns to be one-hot encoded\n",
    "numerical_columns = ['Reviews', 'Size in Kbs', 'Installs', 'Price']  # Numerical columns to be scaled\n",
    "\n",
    "# Define transformations for categorical and numerical columns\n",
    "preprocessor = ColumnTransformer([\n",
    "    ('onehot_encoder', OneHotEncoder(sparse_output=False, handle_unknown='ignore'), categorical_columns),  # One-hot encode categorical columns\n",
    "    ('standard_scaler', StandardScaler(), numerical_columns)  # Scale numerical columns\n",
    "])\n",
    "\n",
    "# Fit and transform the data\n",
    "X_train_scaled = preprocessor.fit_transform(X_train)  # Fit and transform training data\n",
    "X_test_scaled = preprocessor.transform(X_test)  # Transform test data using the fitted scaler\n"
   ]
  },
  {
   "cell_type": "markdown",
   "id": "2f7a6edf",
   "metadata": {
    "papermill": {
     "duration": 0.041241,
     "end_time": "2024-03-10T02:09:25.910764",
     "exception": false,
     "start_time": "2024-03-10T02:09:25.869523",
     "status": "completed"
    },
    "tags": []
   },
   "source": [
    "<strong style=\"font-family:Comic Sans MS; color:purple; font-weight: bold; font-size: 35px\">7.2: Building the Neural Network Model</strong>"
   ]
  },
  {
   "cell_type": "code",
   "execution_count": 64,
   "id": "627b73cd",
   "metadata": {
    "execution": {
     "iopub.execute_input": "2024-03-10T02:09:25.996327Z",
     "iopub.status.busy": "2024-03-10T02:09:25.995892Z",
     "iopub.status.idle": "2024-03-10T02:10:39.255375Z",
     "shell.execute_reply": "2024-03-10T02:10:39.254101Z"
    },
    "papermill": {
     "duration": 73.303832,
     "end_time": "2024-03-10T02:10:39.258162",
     "exception": false,
     "start_time": "2024-03-10T02:09:25.954330",
     "status": "completed"
    },
    "tags": []
   },
   "outputs": [
    {
     "name": "stdout",
     "output_type": "stream",
     "text": [
      "Epoch 1/200\n",
      "\u001B[1m100/100\u001B[0m \u001B[32m━━━━━━━━━━━━━━━━━━━━\u001B[0m\u001B[37m\u001B[0m \u001B[1m4s\u001B[0m 9ms/step - loss: 9.9610 - mean_absolute_error: 2.6706 - r2_score: -46.8350 - val_loss: 0.3036 - val_mean_absolute_error: 0.4042 - val_r2_score: -0.2227\n",
      "Epoch 2/200\n",
      "\u001B[1m100/100\u001B[0m \u001B[32m━━━━━━━━━━━━━━━━━━━━\u001B[0m\u001B[37m\u001B[0m \u001B[1m1s\u001B[0m 6ms/step - loss: 0.2363 - mean_absolute_error: 0.3388 - r2_score: 0.0874 - val_loss: 0.2625 - val_mean_absolute_error: 0.3595 - val_r2_score: -0.0571\n",
      "Epoch 3/200\n",
      "\u001B[1m100/100\u001B[0m \u001B[32m━━━━━━━━━━━━━━━━━━━━\u001B[0m\u001B[37m\u001B[0m \u001B[1m1s\u001B[0m 6ms/step - loss: 0.1178 - mean_absolute_error: 0.2140 - r2_score: 0.5063 - val_loss: 0.2690 - val_mean_absolute_error: 0.3763 - val_r2_score: -0.0818\n",
      "Epoch 4/200\n",
      "\u001B[1m100/100\u001B[0m \u001B[32m━━━━━━━━━━━━━━━━━━━━\u001B[0m\u001B[37m\u001B[0m \u001B[1m1s\u001B[0m 6ms/step - loss: 0.0691 - mean_absolute_error: 0.1608 - r2_score: 0.7046 - val_loss: 0.2820 - val_mean_absolute_error: 0.3961 - val_r2_score: -0.1340\n",
      "Epoch 5/200\n",
      "\u001B[1m100/100\u001B[0m \u001B[32m━━━━━━━━━━━━━━━━━━━━\u001B[0m\u001B[37m\u001B[0m \u001B[1m1s\u001B[0m 6ms/step - loss: 0.0374 - mean_absolute_error: 0.1222 - r2_score: 0.8226 - val_loss: 0.2729 - val_mean_absolute_error: 0.3742 - val_r2_score: -0.0975\n",
      "Epoch 6/200\n",
      "\u001B[1m100/100\u001B[0m \u001B[32m━━━━━━━━━━━━━━━━━━━━\u001B[0m\u001B[37m\u001B[0m \u001B[1m1s\u001B[0m 7ms/step - loss: 0.0310 - mean_absolute_error: 0.1235 - r2_score: 0.8552 - val_loss: 0.2714 - val_mean_absolute_error: 0.3821 - val_r2_score: -0.0914\n",
      "Epoch 7/200\n",
      "\u001B[1m100/100\u001B[0m \u001B[32m━━━━━━━━━━━━━━━━━━━━\u001B[0m\u001B[37m\u001B[0m \u001B[1m1s\u001B[0m 6ms/step - loss: 0.0366 - mean_absolute_error: 0.1341 - r2_score: 0.8563 - val_loss: 0.2762 - val_mean_absolute_error: 0.3898 - val_r2_score: -0.1105\n",
      "Epoch 8/200\n",
      "\u001B[1m100/100\u001B[0m \u001B[32m━━━━━━━━━━━━━━━━━━━━\u001B[0m\u001B[37m\u001B[0m \u001B[1m1s\u001B[0m 6ms/step - loss: 0.0242 - mean_absolute_error: 0.1113 - r2_score: 0.8969 - val_loss: 0.2786 - val_mean_absolute_error: 0.3867 - val_r2_score: -0.1199\n",
      "Epoch 9/200\n",
      "\u001B[1m100/100\u001B[0m \u001B[32m━━━━━━━━━━━━━━━━━━━━\u001B[0m\u001B[37m\u001B[0m \u001B[1m1s\u001B[0m 6ms/step - loss: 0.0216 - mean_absolute_error: 0.1059 - r2_score: 0.9096 - val_loss: 0.2947 - val_mean_absolute_error: 0.4082 - val_r2_score: -0.1846\n",
      "Epoch 10/200\n",
      "\u001B[1m100/100\u001B[0m \u001B[32m━━━━━━━━━━━━━━━━━━━━\u001B[0m\u001B[37m\u001B[0m \u001B[1m1s\u001B[0m 6ms/step - loss: 0.0206 - mean_absolute_error: 0.1087 - r2_score: 0.9139 - val_loss: 0.3083 - val_mean_absolute_error: 0.4279 - val_r2_score: -0.2396\n",
      "Epoch 11/200\n",
      "\u001B[1m100/100\u001B[0m \u001B[32m━━━━━━━━━━━━━━━━━━━━\u001B[0m\u001B[37m\u001B[0m \u001B[1m1s\u001B[0m 6ms/step - loss: 0.0181 - mean_absolute_error: 0.1017 - r2_score: 0.9229 - val_loss: 0.2884 - val_mean_absolute_error: 0.4045 - val_r2_score: -0.1593\n",
      "Epoch 12/200\n",
      "\u001B[1m100/100\u001B[0m \u001B[32m━━━━━━━━━━━━━━━━━━━━\u001B[0m\u001B[37m\u001B[0m \u001B[1m1s\u001B[0m 5ms/step - loss: 0.0145 - mean_absolute_error: 0.0922 - r2_score: 0.9368 - val_loss: 0.3145 - val_mean_absolute_error: 0.4411 - val_r2_score: -0.2642\n",
      "Epoch 13/200\n",
      "\u001B[1m100/100\u001B[0m \u001B[32m━━━━━━━━━━━━━━━━━━━━\u001B[0m\u001B[37m\u001B[0m \u001B[1m1s\u001B[0m 5ms/step - loss: 0.0137 - mean_absolute_error: 0.0893 - r2_score: 0.9412 - val_loss: 0.3234 - val_mean_absolute_error: 0.4490 - val_r2_score: -0.3006\n",
      "Epoch 14/200\n",
      "\u001B[1m100/100\u001B[0m \u001B[32m━━━━━━━━━━━━━━━━━━━━\u001B[0m\u001B[37m\u001B[0m \u001B[1m1s\u001B[0m 5ms/step - loss: 0.0122 - mean_absolute_error: 0.0833 - r2_score: 0.9503 - val_loss: 0.2884 - val_mean_absolute_error: 0.4067 - val_r2_score: -0.1599\n",
      "Epoch 15/200\n",
      "\u001B[1m100/100\u001B[0m \u001B[32m━━━━━━━━━━━━━━━━━━━━\u001B[0m\u001B[37m\u001B[0m \u001B[1m1s\u001B[0m 5ms/step - loss: 0.0092 - mean_absolute_error: 0.0732 - r2_score: 0.9604 - val_loss: 0.2843 - val_mean_absolute_error: 0.4009 - val_r2_score: -0.1432\n",
      "Epoch 16/200\n",
      "\u001B[1m100/100\u001B[0m \u001B[32m━━━━━━━━━━━━━━━━━━━━\u001B[0m\u001B[37m\u001B[0m \u001B[1m1s\u001B[0m 5ms/step - loss: 0.0077 - mean_absolute_error: 0.0676 - r2_score: 0.9674 - val_loss: 0.2828 - val_mean_absolute_error: 0.3976 - val_r2_score: -0.1369\n",
      "Epoch 17/200\n",
      "\u001B[1m100/100\u001B[0m \u001B[32m━━━━━━━━━━━━━━━━━━━━\u001B[0m\u001B[37m\u001B[0m \u001B[1m1s\u001B[0m 5ms/step - loss: 0.0089 - mean_absolute_error: 0.0744 - r2_score: 0.9596 - val_loss: 0.2756 - val_mean_absolute_error: 0.3916 - val_r2_score: -0.1084\n",
      "Epoch 18/200\n",
      "\u001B[1m100/100\u001B[0m \u001B[32m━━━━━━━━━━━━━━━━━━━━\u001B[0m\u001B[37m\u001B[0m \u001B[1m1s\u001B[0m 5ms/step - loss: 0.0086 - mean_absolute_error: 0.0726 - r2_score: 0.9622 - val_loss: 0.2904 - val_mean_absolute_error: 0.4088 - val_r2_score: -0.1676\n",
      "Epoch 19/200\n",
      "\u001B[1m100/100\u001B[0m \u001B[32m━━━━━━━━━━━━━━━━━━━━\u001B[0m\u001B[37m\u001B[0m \u001B[1m1s\u001B[0m 5ms/step - loss: 0.0074 - mean_absolute_error: 0.0668 - r2_score: 0.9663 - val_loss: 0.2866 - val_mean_absolute_error: 0.4070 - val_r2_score: -0.1529\n",
      "Epoch 20/200\n",
      "\u001B[1m100/100\u001B[0m \u001B[32m━━━━━━━━━━━━━━━━━━━━\u001B[0m\u001B[37m\u001B[0m \u001B[1m1s\u001B[0m 5ms/step - loss: 0.0095 - mean_absolute_error: 0.0688 - r2_score: 0.9598 - val_loss: 0.2618 - val_mean_absolute_error: 0.3664 - val_r2_score: -0.0527\n",
      "Epoch 21/200\n",
      "\u001B[1m100/100\u001B[0m \u001B[32m━━━━━━━━━━━━━━━━━━━━\u001B[0m\u001B[37m\u001B[0m \u001B[1m1s\u001B[0m 5ms/step - loss: 0.0106 - mean_absolute_error: 0.0748 - r2_score: 0.9558 - val_loss: 0.2708 - val_mean_absolute_error: 0.3833 - val_r2_score: -0.0895\n",
      "Epoch 22/200\n",
      "\u001B[1m100/100\u001B[0m \u001B[32m━━━━━━━━━━━━━━━━━━━━\u001B[0m\u001B[37m\u001B[0m \u001B[1m1s\u001B[0m 5ms/step - loss: 0.0089 - mean_absolute_error: 0.0713 - r2_score: 0.9631 - val_loss: 0.2671 - val_mean_absolute_error: 0.3627 - val_r2_score: -0.0741\n",
      "Epoch 23/200\n",
      "\u001B[1m100/100\u001B[0m \u001B[32m━━━━━━━━━━━━━━━━━━━━\u001B[0m\u001B[37m\u001B[0m \u001B[1m1s\u001B[0m 5ms/step - loss: 0.0158 - mean_absolute_error: 0.0925 - r2_score: 0.9343 - val_loss: 0.3078 - val_mean_absolute_error: 0.4320 - val_r2_score: -0.2372\n",
      "Epoch 24/200\n",
      "\u001B[1m100/100\u001B[0m \u001B[32m━━━━━━━━━━━━━━━━━━━━\u001B[0m\u001B[37m\u001B[0m \u001B[1m1s\u001B[0m 5ms/step - loss: 0.0130 - mean_absolute_error: 0.0882 - r2_score: 0.9424 - val_loss: 0.2690 - val_mean_absolute_error: 0.3764 - val_r2_score: -0.0821\n",
      "Epoch 25/200\n",
      "\u001B[1m100/100\u001B[0m \u001B[32m━━━━━━━━━━━━━━━━━━━━\u001B[0m\u001B[37m\u001B[0m \u001B[1m1s\u001B[0m 5ms/step - loss: 0.0078 - mean_absolute_error: 0.0689 - r2_score: 0.9680 - val_loss: 0.2962 - val_mean_absolute_error: 0.4185 - val_r2_score: -0.1910\n",
      "Epoch 26/200\n",
      "\u001B[1m100/100\u001B[0m \u001B[32m━━━━━━━━━━━━━━━━━━━━\u001B[0m\u001B[37m\u001B[0m \u001B[1m1s\u001B[0m 6ms/step - loss: 0.0066 - mean_absolute_error: 0.0636 - r2_score: 0.9713 - val_loss: 0.2851 - val_mean_absolute_error: 0.4081 - val_r2_score: -0.1464\n",
      "Epoch 27/200\n",
      "\u001B[1m100/100\u001B[0m \u001B[32m━━━━━━━━━━━━━━━━━━━━\u001B[0m\u001B[37m\u001B[0m \u001B[1m1s\u001B[0m 6ms/step - loss: 0.0067 - mean_absolute_error: 0.0630 - r2_score: 0.9705 - val_loss: 0.2768 - val_mean_absolute_error: 0.3941 - val_r2_score: -0.1131\n",
      "Epoch 28/200\n",
      "\u001B[1m100/100\u001B[0m \u001B[32m━━━━━━━━━━━━━━━━━━━━\u001B[0m\u001B[37m\u001B[0m \u001B[1m1s\u001B[0m 6ms/step - loss: 0.0070 - mean_absolute_error: 0.0649 - r2_score: 0.9684 - val_loss: 0.2680 - val_mean_absolute_error: 0.3806 - val_r2_score: -0.0784\n",
      "Epoch 29/200\n",
      "\u001B[1m100/100\u001B[0m \u001B[32m━━━━━━━━━━━━━━━━━━━━\u001B[0m\u001B[37m\u001B[0m \u001B[1m1s\u001B[0m 5ms/step - loss: 0.0065 - mean_absolute_error: 0.0634 - r2_score: 0.9734 - val_loss: 0.2585 - val_mean_absolute_error: 0.3612 - val_r2_score: -0.0399\n",
      "Epoch 30/200\n",
      "\u001B[1m100/100\u001B[0m \u001B[32m━━━━━━━━━━━━━━━━━━━━\u001B[0m\u001B[37m\u001B[0m \u001B[1m1s\u001B[0m 5ms/step - loss: 0.0068 - mean_absolute_error: 0.0636 - r2_score: 0.9700 - val_loss: 0.2543 - val_mean_absolute_error: 0.3497 - val_r2_score: -0.0229\n",
      "Epoch 31/200\n",
      "\u001B[1m100/100\u001B[0m \u001B[32m━━━━━━━━━━━━━━━━━━━━\u001B[0m\u001B[37m\u001B[0m \u001B[1m1s\u001B[0m 5ms/step - loss: 0.0085 - mean_absolute_error: 0.0720 - r2_score: 0.9630 - val_loss: 0.2679 - val_mean_absolute_error: 0.3795 - val_r2_score: -0.0772\n",
      "Epoch 32/200\n",
      "\u001B[1m100/100\u001B[0m \u001B[32m━━━━━━━━━━━━━━━━━━━━\u001B[0m\u001B[37m\u001B[0m \u001B[1m1s\u001B[0m 5ms/step - loss: 0.0077 - mean_absolute_error: 0.0700 - r2_score: 0.9647 - val_loss: 0.2854 - val_mean_absolute_error: 0.4079 - val_r2_score: -0.1480\n",
      "Epoch 33/200\n",
      "\u001B[1m100/100\u001B[0m \u001B[32m━━━━━━━━━━━━━━━━━━━━\u001B[0m\u001B[37m\u001B[0m \u001B[1m1s\u001B[0m 5ms/step - loss: 0.0075 - mean_absolute_error: 0.0681 - r2_score: 0.9676 - val_loss: 0.2547 - val_mean_absolute_error: 0.3552 - val_r2_score: -0.0249\n",
      "Epoch 34/200\n",
      "\u001B[1m100/100\u001B[0m \u001B[32m━━━━━━━━━━━━━━━━━━━━\u001B[0m\u001B[37m\u001B[0m \u001B[1m1s\u001B[0m 5ms/step - loss: 0.0087 - mean_absolute_error: 0.0745 - r2_score: 0.9659 - val_loss: 0.2665 - val_mean_absolute_error: 0.3785 - val_r2_score: -0.0718\n",
      "Epoch 35/200\n",
      "\u001B[1m100/100\u001B[0m \u001B[32m━━━━━━━━━━━━━━━━━━━━\u001B[0m\u001B[37m\u001B[0m \u001B[1m1s\u001B[0m 5ms/step - loss: 0.0072 - mean_absolute_error: 0.0651 - r2_score: 0.9679 - val_loss: 0.2673 - val_mean_absolute_error: 0.3789 - val_r2_score: -0.0755\n",
      "Epoch 36/200\n",
      "\u001B[1m100/100\u001B[0m \u001B[32m━━━━━━━━━━━━━━━━━━━━\u001B[0m\u001B[37m\u001B[0m \u001B[1m1s\u001B[0m 5ms/step - loss: 0.0059 - mean_absolute_error: 0.0590 - r2_score: 0.9737 - val_loss: 0.2710 - val_mean_absolute_error: 0.3834 - val_r2_score: -0.0897\n",
      "Epoch 37/200\n",
      "\u001B[1m100/100\u001B[0m \u001B[32m━━━━━━━━━━━━━━━━━━━━\u001B[0m\u001B[37m\u001B[0m \u001B[1m1s\u001B[0m 5ms/step - loss: 0.0072 - mean_absolute_error: 0.0610 - r2_score: 0.9670 - val_loss: 0.2754 - val_mean_absolute_error: 0.3902 - val_r2_score: -0.1077\n",
      "Epoch 38/200\n",
      "\u001B[1m100/100\u001B[0m \u001B[32m━━━━━━━━━━━━━━━━━━━━\u001B[0m\u001B[37m\u001B[0m \u001B[1m1s\u001B[0m 5ms/step - loss: 0.0058 - mean_absolute_error: 0.0586 - r2_score: 0.9735 - val_loss: 0.2486 - val_mean_absolute_error: 0.3387 - val_r2_score: -7.5555e-04\n",
      "Epoch 39/200\n",
      "\u001B[1m100/100\u001B[0m \u001B[32m━━━━━━━━━━━━━━━━━━━━\u001B[0m\u001B[37m\u001B[0m \u001B[1m1s\u001B[0m 5ms/step - loss: 0.0075 - mean_absolute_error: 0.0688 - r2_score: 0.9697 - val_loss: 0.2661 - val_mean_absolute_error: 0.3770 - val_r2_score: -0.0700\n",
      "Epoch 40/200\n",
      "\u001B[1m100/100\u001B[0m \u001B[32m━━━━━━━━━━━━━━━━━━━━\u001B[0m\u001B[37m\u001B[0m \u001B[1m1s\u001B[0m 5ms/step - loss: 0.0074 - mean_absolute_error: 0.0675 - r2_score: 0.9692 - val_loss: 0.2641 - val_mean_absolute_error: 0.3726 - val_r2_score: -0.0624\n",
      "Epoch 41/200\n",
      "\u001B[1m100/100\u001B[0m \u001B[32m━━━━━━━━━━━━━━━━━━━━\u001B[0m\u001B[37m\u001B[0m \u001B[1m1s\u001B[0m 5ms/step - loss: 0.0073 - mean_absolute_error: 0.0671 - r2_score: 0.9662 - val_loss: 0.2619 - val_mean_absolute_error: 0.3705 - val_r2_score: -0.0534\n",
      "Epoch 42/200\n",
      "\u001B[1m100/100\u001B[0m \u001B[32m━━━━━━━━━━━━━━━━━━━━\u001B[0m\u001B[37m\u001B[0m \u001B[1m1s\u001B[0m 5ms/step - loss: 0.0066 - mean_absolute_error: 0.0642 - r2_score: 0.9724 - val_loss: 0.2483 - val_mean_absolute_error: 0.3454 - val_r2_score: 7.6669e-04\n",
      "Epoch 43/200\n",
      "\u001B[1m100/100\u001B[0m \u001B[32m━━━━━━━━━━━━━━━━━━━━\u001B[0m\u001B[37m\u001B[0m \u001B[1m1s\u001B[0m 5ms/step - loss: 0.0052 - mean_absolute_error: 0.0548 - r2_score: 0.9781 - val_loss: 0.2591 - val_mean_absolute_error: 0.3662 - val_r2_score: -0.0423\n",
      "Epoch 44/200\n",
      "\u001B[1m100/100\u001B[0m \u001B[32m━━━━━━━━━━━━━━━━━━━━\u001B[0m\u001B[37m\u001B[0m \u001B[1m1s\u001B[0m 6ms/step - loss: 0.0056 - mean_absolute_error: 0.0577 - r2_score: 0.9747 - val_loss: 0.2517 - val_mean_absolute_error: 0.3532 - val_r2_score: -0.0129\n",
      "Epoch 45/200\n",
      "\u001B[1m100/100\u001B[0m \u001B[32m━━━━━━━━━━━━━━━━━━━━\u001B[0m\u001B[37m\u001B[0m \u001B[1m1s\u001B[0m 5ms/step - loss: 0.0086 - mean_absolute_error: 0.0710 - r2_score: 0.9633 - val_loss: 0.2754 - val_mean_absolute_error: 0.3938 - val_r2_score: -0.1077\n",
      "Epoch 46/200\n",
      "\u001B[1m100/100\u001B[0m \u001B[32m━━━━━━━━━━━━━━━━━━━━\u001B[0m\u001B[37m\u001B[0m \u001B[1m1s\u001B[0m 5ms/step - loss: 0.0062 - mean_absolute_error: 0.0611 - r2_score: 0.9732 - val_loss: 0.2452 - val_mean_absolute_error: 0.3359 - val_r2_score: 0.0127\n",
      "Epoch 47/200\n",
      "\u001B[1m100/100\u001B[0m \u001B[32m━━━━━━━━━━━━━━━━━━━━\u001B[0m\u001B[37m\u001B[0m \u001B[1m1s\u001B[0m 5ms/step - loss: 0.0058 - mean_absolute_error: 0.0603 - r2_score: 0.9767 - val_loss: 0.2472 - val_mean_absolute_error: 0.3391 - val_r2_score: 0.0052\n",
      "Epoch 48/200\n",
      "\u001B[1m100/100\u001B[0m \u001B[32m━━━━━━━━━━━━━━━━━━━━\u001B[0m\u001B[37m\u001B[0m \u001B[1m1s\u001B[0m 6ms/step - loss: 0.0061 - mean_absolute_error: 0.0625 - r2_score: 0.9740 - val_loss: 0.2546 - val_mean_absolute_error: 0.3571 - val_r2_score: -0.0245\n",
      "Epoch 49/200\n",
      "\u001B[1m100/100\u001B[0m \u001B[32m━━━━━━━━━━━━━━━━━━━━\u001B[0m\u001B[37m\u001B[0m \u001B[1m1s\u001B[0m 6ms/step - loss: 0.0048 - mean_absolute_error: 0.0544 - r2_score: 0.9789 - val_loss: 0.2478 - val_mean_absolute_error: 0.3441 - val_r2_score: 0.0025\n",
      "Epoch 50/200\n",
      "\u001B[1m100/100\u001B[0m \u001B[32m━━━━━━━━━━━━━━━━━━━━\u001B[0m\u001B[37m\u001B[0m \u001B[1m1s\u001B[0m 6ms/step - loss: 0.0037 - mean_absolute_error: 0.0472 - r2_score: 0.9833 - val_loss: 0.2583 - val_mean_absolute_error: 0.3650 - val_r2_score: -0.0393\n",
      "Epoch 51/200\n",
      "\u001B[1m100/100\u001B[0m \u001B[32m━━━━━━━━━━━━━━━━━━━━\u001B[0m\u001B[37m\u001B[0m \u001B[1m1s\u001B[0m 6ms/step - loss: 0.0028 - mean_absolute_error: 0.0389 - r2_score: 0.9882 - val_loss: 0.2538 - val_mean_absolute_error: 0.3560 - val_r2_score: -0.0210\n",
      "Epoch 52/200\n",
      "\u001B[1m100/100\u001B[0m \u001B[32m━━━━━━━━━━━━━━━━━━━━\u001B[0m\u001B[37m\u001B[0m \u001B[1m1s\u001B[0m 6ms/step - loss: 0.0026 - mean_absolute_error: 0.0397 - r2_score: 0.9891 - val_loss: 0.2589 - val_mean_absolute_error: 0.3653 - val_r2_score: -0.0417\n",
      "Epoch 53/200\n",
      "\u001B[1m100/100\u001B[0m \u001B[32m━━━━━━━━━━━━━━━━━━━━\u001B[0m\u001B[37m\u001B[0m \u001B[1m1s\u001B[0m 6ms/step - loss: 0.0028 - mean_absolute_error: 0.0409 - r2_score: 0.9880 - val_loss: 0.2522 - val_mean_absolute_error: 0.3518 - val_r2_score: -0.0145\n",
      "Epoch 54/200\n",
      "\u001B[1m100/100\u001B[0m \u001B[32m━━━━━━━━━━━━━━━━━━━━\u001B[0m\u001B[37m\u001B[0m \u001B[1m1s\u001B[0m 5ms/step - loss: 0.0043 - mean_absolute_error: 0.0510 - r2_score: 0.9829 - val_loss: 0.2517 - val_mean_absolute_error: 0.3492 - val_r2_score: -0.0126\n",
      "Epoch 55/200\n",
      "\u001B[1m100/100\u001B[0m \u001B[32m━━━━━━━━━━━━━━━━━━━━\u001B[0m\u001B[37m\u001B[0m \u001B[1m1s\u001B[0m 5ms/step - loss: 0.0063 - mean_absolute_error: 0.0634 - r2_score: 0.9739 - val_loss: 0.2837 - val_mean_absolute_error: 0.4110 - val_r2_score: -0.1412\n",
      "Epoch 56/200\n",
      "\u001B[1m100/100\u001B[0m \u001B[32m━━━━━━━━━━━━━━━━━━━━\u001B[0m\u001B[37m\u001B[0m \u001B[1m1s\u001B[0m 5ms/step - loss: 0.0112 - mean_absolute_error: 0.0847 - r2_score: 0.9498 - val_loss: 0.2516 - val_mean_absolute_error: 0.3466 - val_r2_score: -0.0123\n",
      "Epoch 57/200\n",
      "\u001B[1m100/100\u001B[0m \u001B[32m━━━━━━━━━━━━━━━━━━━━\u001B[0m\u001B[37m\u001B[0m \u001B[1m1s\u001B[0m 6ms/step - loss: 0.0073 - mean_absolute_error: 0.0673 - r2_score: 0.9684 - val_loss: 0.2564 - val_mean_absolute_error: 0.3640 - val_r2_score: -0.0313\n",
      "Epoch 58/200\n",
      "\u001B[1m100/100\u001B[0m \u001B[32m━━━━━━━━━━━━━━━━━━━━\u001B[0m\u001B[37m\u001B[0m \u001B[1m1s\u001B[0m 6ms/step - loss: 0.0062 - mean_absolute_error: 0.0623 - r2_score: 0.9717 - val_loss: 0.2600 - val_mean_absolute_error: 0.3708 - val_r2_score: -0.0465\n",
      "Epoch 59/200\n",
      "\u001B[1m100/100\u001B[0m \u001B[32m━━━━━━━━━━━━━━━━━━━━\u001B[0m\u001B[37m\u001B[0m \u001B[1m1s\u001B[0m 5ms/step - loss: 0.0061 - mean_absolute_error: 0.0608 - r2_score: 0.9713 - val_loss: 0.2474 - val_mean_absolute_error: 0.3431 - val_r2_score: 0.0047\n",
      "Epoch 60/200\n",
      "\u001B[1m100/100\u001B[0m \u001B[32m━━━━━━━━━━━━━━━━━━━━\u001B[0m\u001B[37m\u001B[0m \u001B[1m1s\u001B[0m 6ms/step - loss: 0.0041 - mean_absolute_error: 0.0492 - r2_score: 0.9833 - val_loss: 0.2513 - val_mean_absolute_error: 0.3517 - val_r2_score: -0.0112\n",
      "Epoch 61/200\n",
      "\u001B[1m100/100\u001B[0m \u001B[32m━━━━━━━━━━━━━━━━━━━━\u001B[0m\u001B[37m\u001B[0m \u001B[1m1s\u001B[0m 5ms/step - loss: 0.0030 - mean_absolute_error: 0.0416 - r2_score: 0.9872 - val_loss: 0.2458 - val_mean_absolute_error: 0.3391 - val_r2_score: 0.0109\n",
      "Epoch 62/200\n",
      "\u001B[1m100/100\u001B[0m \u001B[32m━━━━━━━━━━━━━━━━━━━━\u001B[0m\u001B[37m\u001B[0m \u001B[1m1s\u001B[0m 5ms/step - loss: 0.0031 - mean_absolute_error: 0.0397 - r2_score: 0.9870 - val_loss: 0.2559 - val_mean_absolute_error: 0.3605 - val_r2_score: -0.0300\n",
      "Epoch 63/200\n",
      "\u001B[1m100/100\u001B[0m \u001B[32m━━━━━━━━━━━━━━━━━━━━\u001B[0m\u001B[37m\u001B[0m \u001B[1m1s\u001B[0m 5ms/step - loss: 0.0041 - mean_absolute_error: 0.0459 - r2_score: 0.9818 - val_loss: 0.2474 - val_mean_absolute_error: 0.3405 - val_r2_score: 0.0044\n",
      "Epoch 64/200\n",
      "\u001B[1m100/100\u001B[0m \u001B[32m━━━━━━━━━━━━━━━━━━━━\u001B[0m\u001B[37m\u001B[0m \u001B[1m1s\u001B[0m 6ms/step - loss: 0.0048 - mean_absolute_error: 0.0507 - r2_score: 0.9779 - val_loss: 0.2516 - val_mean_absolute_error: 0.3468 - val_r2_score: -0.0125\n",
      "Epoch 65/200\n",
      "\u001B[1m100/100\u001B[0m \u001B[32m━━━━━━━━━━━━━━━━━━━━\u001B[0m\u001B[37m\u001B[0m \u001B[1m1s\u001B[0m 5ms/step - loss: 0.0047 - mean_absolute_error: 0.0483 - r2_score: 0.9794 - val_loss: 0.2509 - val_mean_absolute_error: 0.3472 - val_r2_score: -0.0095\n",
      "Epoch 66/200\n",
      "\u001B[1m100/100\u001B[0m \u001B[32m━━━━━━━━━━━━━━━━━━━━\u001B[0m\u001B[37m\u001B[0m \u001B[1m1s\u001B[0m 5ms/step - loss: 0.0052 - mean_absolute_error: 0.0513 - r2_score: 0.9770 - val_loss: 0.2610 - val_mean_absolute_error: 0.3685 - val_r2_score: -0.0501\n",
      "Epoch 67/200\n",
      "\u001B[1m100/100\u001B[0m \u001B[32m━━━━━━━━━━━━━━━━━━━━\u001B[0m\u001B[37m\u001B[0m \u001B[1m1s\u001B[0m 5ms/step - loss: 0.0043 - mean_absolute_error: 0.0510 - r2_score: 0.9808 - val_loss: 0.2639 - val_mean_absolute_error: 0.3723 - val_r2_score: -0.0612\n",
      "Epoch 68/200\n",
      "\u001B[1m100/100\u001B[0m \u001B[32m━━━━━━━━━━━━━━━━━━━━\u001B[0m\u001B[37m\u001B[0m \u001B[1m1s\u001B[0m 5ms/step - loss: 0.0050 - mean_absolute_error: 0.0551 - r2_score: 0.9763 - val_loss: 0.2483 - val_mean_absolute_error: 0.3437 - val_r2_score: 5.2887e-04\n",
      "Epoch 69/200\n",
      "\u001B[1m100/100\u001B[0m \u001B[32m━━━━━━━━━━━━━━━━━━━━\u001B[0m\u001B[37m\u001B[0m \u001B[1m1s\u001B[0m 5ms/step - loss: 0.0040 - mean_absolute_error: 0.0496 - r2_score: 0.9826 - val_loss: 0.2440 - val_mean_absolute_error: 0.3314 - val_r2_score: 0.0175\n",
      "Epoch 70/200\n",
      "\u001B[1m100/100\u001B[0m \u001B[32m━━━━━━━━━━━━━━━━━━━━\u001B[0m\u001B[37m\u001B[0m \u001B[1m1s\u001B[0m 6ms/step - loss: 0.0039 - mean_absolute_error: 0.0494 - r2_score: 0.9838 - val_loss: 0.2456 - val_mean_absolute_error: 0.3393 - val_r2_score: 0.0116\n",
      "Epoch 71/200\n",
      "\u001B[1m100/100\u001B[0m \u001B[32m━━━━━━━━━━━━━━━━━━━━\u001B[0m\u001B[37m\u001B[0m \u001B[1m1s\u001B[0m 5ms/step - loss: 0.0029 - mean_absolute_error: 0.0406 - r2_score: 0.9883 - val_loss: 0.2507 - val_mean_absolute_error: 0.3393 - val_r2_score: -0.0088\n",
      "Epoch 72/200\n",
      "\u001B[1m100/100\u001B[0m \u001B[32m━━━━━━━━━━━━━━━━━━━━\u001B[0m\u001B[37m\u001B[0m \u001B[1m1s\u001B[0m 5ms/step - loss: 0.0035 - mean_absolute_error: 0.0458 - r2_score: 0.9847 - val_loss: 0.2431 - val_mean_absolute_error: 0.3316 - val_r2_score: 0.0215\n",
      "Epoch 73/200\n",
      "\u001B[1m100/100\u001B[0m \u001B[32m━━━━━━━━━━━━━━━━━━━━\u001B[0m\u001B[37m\u001B[0m \u001B[1m1s\u001B[0m 5ms/step - loss: 0.0036 - mean_absolute_error: 0.0460 - r2_score: 0.9853 - val_loss: 0.2459 - val_mean_absolute_error: 0.3303 - val_r2_score: 0.0101\n",
      "Epoch 74/200\n",
      "\u001B[1m100/100\u001B[0m \u001B[32m━━━━━━━━━━━━━━━━━━━━\u001B[0m\u001B[37m\u001B[0m \u001B[1m1s\u001B[0m 5ms/step - loss: 0.0031 - mean_absolute_error: 0.0430 - r2_score: 0.9862 - val_loss: 0.2505 - val_mean_absolute_error: 0.3448 - val_r2_score: -0.0075\n",
      "Epoch 75/200\n",
      "\u001B[1m100/100\u001B[0m \u001B[32m━━━━━━━━━━━━━━━━━━━━\u001B[0m\u001B[37m\u001B[0m \u001B[1m1s\u001B[0m 5ms/step - loss: 0.0024 - mean_absolute_error: 0.0375 - r2_score: 0.9893 - val_loss: 0.2461 - val_mean_absolute_error: 0.3337 - val_r2_score: 0.0095\n",
      "Epoch 76/200\n",
      "\u001B[1m100/100\u001B[0m \u001B[32m━━━━━━━━━━━━━━━━━━━━\u001B[0m\u001B[37m\u001B[0m \u001B[1m1s\u001B[0m 5ms/step - loss: 0.0023 - mean_absolute_error: 0.0357 - r2_score: 0.9896 - val_loss: 0.2459 - val_mean_absolute_error: 0.3373 - val_r2_score: 0.0104\n",
      "Epoch 77/200\n",
      "\u001B[1m100/100\u001B[0m \u001B[32m━━━━━━━━━━━━━━━━━━━━\u001B[0m\u001B[37m\u001B[0m \u001B[1m1s\u001B[0m 6ms/step - loss: 0.0030 - mean_absolute_error: 0.0406 - r2_score: 0.9878 - val_loss: 0.2523 - val_mean_absolute_error: 0.3541 - val_r2_score: -0.0153\n",
      "Epoch 78/200\n",
      "\u001B[1m100/100\u001B[0m \u001B[32m━━━━━━━━━━━━━━━━━━━━\u001B[0m\u001B[37m\u001B[0m \u001B[1m1s\u001B[0m 5ms/step - loss: 0.0037 - mean_absolute_error: 0.0481 - r2_score: 0.9825 - val_loss: 0.2470 - val_mean_absolute_error: 0.3386 - val_r2_score: 0.0057\n",
      "Epoch 79/200\n",
      "\u001B[1m100/100\u001B[0m \u001B[32m━━━━━━━━━━━━━━━━━━━━\u001B[0m\u001B[37m\u001B[0m \u001B[1m1s\u001B[0m 7ms/step - loss: 0.0029 - mean_absolute_error: 0.0413 - r2_score: 0.9879 - val_loss: 0.2523 - val_mean_absolute_error: 0.3535 - val_r2_score: -0.0150\n",
      "Epoch 80/200\n",
      "\u001B[1m100/100\u001B[0m \u001B[32m━━━━━━━━━━━━━━━━━━━━\u001B[0m\u001B[37m\u001B[0m \u001B[1m1s\u001B[0m 6ms/step - loss: 0.0028 - mean_absolute_error: 0.0410 - r2_score: 0.9874 - val_loss: 0.2472 - val_mean_absolute_error: 0.3429 - val_r2_score: 0.0054\n",
      "Epoch 81/200\n",
      "\u001B[1m100/100\u001B[0m \u001B[32m━━━━━━━━━━━━━━━━━━━━\u001B[0m\u001B[37m\u001B[0m \u001B[1m1s\u001B[0m 5ms/step - loss: 0.0027 - mean_absolute_error: 0.0385 - r2_score: 0.9873 - val_loss: 0.2519 - val_mean_absolute_error: 0.3479 - val_r2_score: -0.0134\n",
      "Epoch 82/200\n",
      "\u001B[1m100/100\u001B[0m \u001B[32m━━━━━━━━━━━━━━━━━━━━\u001B[0m\u001B[37m\u001B[0m \u001B[1m1s\u001B[0m 5ms/step - loss: 0.0026 - mean_absolute_error: 0.0386 - r2_score: 0.9888 - val_loss: 0.2464 - val_mean_absolute_error: 0.3362 - val_r2_score: 0.0085\n",
      "Epoch 83/200\n",
      "\u001B[1m100/100\u001B[0m \u001B[32m━━━━━━━━━━━━━━━━━━━━\u001B[0m\u001B[37m\u001B[0m \u001B[1m1s\u001B[0m 5ms/step - loss: 0.0038 - mean_absolute_error: 0.0486 - r2_score: 0.9823 - val_loss: 0.2499 - val_mean_absolute_error: 0.3404 - val_r2_score: -0.0057\n",
      "Epoch 84/200\n",
      "\u001B[1m100/100\u001B[0m \u001B[32m━━━━━━━━━━━━━━━━━━━━\u001B[0m\u001B[37m\u001B[0m \u001B[1m1s\u001B[0m 5ms/step - loss: 0.0048 - mean_absolute_error: 0.0523 - r2_score: 0.9775 - val_loss: 0.2433 - val_mean_absolute_error: 0.3304 - val_r2_score: 0.0206\n",
      "Epoch 85/200\n",
      "\u001B[1m100/100\u001B[0m \u001B[32m━━━━━━━━━━━━━━━━━━━━\u001B[0m\u001B[37m\u001B[0m \u001B[1m1s\u001B[0m 5ms/step - loss: 0.0045 - mean_absolute_error: 0.0501 - r2_score: 0.9806 - val_loss: 0.2485 - val_mean_absolute_error: 0.3389 - val_r2_score: 9.8228e-05\n",
      "Epoch 86/200\n",
      "\u001B[1m100/100\u001B[0m \u001B[32m━━━━━━━━━━━━━━━━━━━━\u001B[0m\u001B[37m\u001B[0m \u001B[1m1s\u001B[0m 5ms/step - loss: 0.0035 - mean_absolute_error: 0.0450 - r2_score: 0.9851 - val_loss: 0.2445 - val_mean_absolute_error: 0.3371 - val_r2_score: 0.0160\n",
      "Epoch 87/200\n",
      "\u001B[1m100/100\u001B[0m \u001B[32m━━━━━━━━━━━━━━━━━━━━\u001B[0m\u001B[37m\u001B[0m \u001B[1m1s\u001B[0m 5ms/step - loss: 0.0035 - mean_absolute_error: 0.0419 - r2_score: 0.9851 - val_loss: 0.2436 - val_mean_absolute_error: 0.3304 - val_r2_score: 0.0190\n",
      "Epoch 88/200\n",
      "\u001B[1m100/100\u001B[0m \u001B[32m━━━━━━━━━━━━━━━━━━━━\u001B[0m\u001B[37m\u001B[0m \u001B[1m1s\u001B[0m 5ms/step - loss: 0.0027 - mean_absolute_error: 0.0404 - r2_score: 0.9893 - val_loss: 0.2418 - val_mean_absolute_error: 0.3259 - val_r2_score: 0.0262\n",
      "Epoch 89/200\n",
      "\u001B[1m100/100\u001B[0m \u001B[32m━━━━━━━━━━━━━━━━━━━━\u001B[0m\u001B[37m\u001B[0m \u001B[1m1s\u001B[0m 5ms/step - loss: 0.0021 - mean_absolute_error: 0.0346 - r2_score: 0.9914 - val_loss: 0.2493 - val_mean_absolute_error: 0.3489 - val_r2_score: -0.0035\n",
      "Epoch 90/200\n",
      "\u001B[1m100/100\u001B[0m \u001B[32m━━━━━━━━━━━━━━━━━━━━\u001B[0m\u001B[37m\u001B[0m \u001B[1m1s\u001B[0m 5ms/step - loss: 0.0028 - mean_absolute_error: 0.0403 - r2_score: 0.9874 - val_loss: 0.2441 - val_mean_absolute_error: 0.3316 - val_r2_score: 0.0177\n",
      "Epoch 91/200\n",
      "\u001B[1m100/100\u001B[0m \u001B[32m━━━━━━━━━━━━━━━━━━━━\u001B[0m\u001B[37m\u001B[0m \u001B[1m1s\u001B[0m 5ms/step - loss: 0.0023 - mean_absolute_error: 0.0359 - r2_score: 0.9903 - val_loss: 0.2435 - val_mean_absolute_error: 0.3310 - val_r2_score: 0.0196\n",
      "Epoch 92/200\n",
      "\u001B[1m100/100\u001B[0m \u001B[32m━━━━━━━━━━━━━━━━━━━━\u001B[0m\u001B[37m\u001B[0m \u001B[1m1s\u001B[0m 5ms/step - loss: 0.0017 - mean_absolute_error: 0.0309 - r2_score: 0.9928 - val_loss: 0.2440 - val_mean_absolute_error: 0.3305 - val_r2_score: 0.0178\n",
      "Epoch 93/200\n",
      "\u001B[1m100/100\u001B[0m \u001B[32m━━━━━━━━━━━━━━━━━━━━\u001B[0m\u001B[37m\u001B[0m \u001B[1m1s\u001B[0m 5ms/step - loss: 0.0017 - mean_absolute_error: 0.0314 - r2_score: 0.9929 - val_loss: 0.2450 - val_mean_absolute_error: 0.3351 - val_r2_score: 0.0139\n",
      "Epoch 94/200\n",
      "\u001B[1m100/100\u001B[0m \u001B[32m━━━━━━━━━━━━━━━━━━━━\u001B[0m\u001B[37m\u001B[0m \u001B[1m1s\u001B[0m 5ms/step - loss: 0.0018 - mean_absolute_error: 0.0323 - r2_score: 0.9923 - val_loss: 0.2435 - val_mean_absolute_error: 0.3286 - val_r2_score: 0.0197\n",
      "Epoch 95/200\n",
      "\u001B[1m100/100\u001B[0m \u001B[32m━━━━━━━━━━━━━━━━━━━━\u001B[0m\u001B[37m\u001B[0m \u001B[1m1s\u001B[0m 5ms/step - loss: 0.0025 - mean_absolute_error: 0.0390 - r2_score: 0.9888 - val_loss: 0.2445 - val_mean_absolute_error: 0.3354 - val_r2_score: 0.0156\n",
      "Epoch 96/200\n",
      "\u001B[1m100/100\u001B[0m \u001B[32m━━━━━━━━━━━━━━━━━━━━\u001B[0m\u001B[37m\u001B[0m \u001B[1m1s\u001B[0m 5ms/step - loss: 0.0030 - mean_absolute_error: 0.0404 - r2_score: 0.9872 - val_loss: 0.2457 - val_mean_absolute_error: 0.3386 - val_r2_score: 0.0112\n",
      "Epoch 97/200\n",
      "\u001B[1m100/100\u001B[0m \u001B[32m━━━━━━━━━━━━━━━━━━━━\u001B[0m\u001B[37m\u001B[0m \u001B[1m1s\u001B[0m 5ms/step - loss: 0.0032 - mean_absolute_error: 0.0438 - r2_score: 0.9867 - val_loss: 0.2440 - val_mean_absolute_error: 0.3341 - val_r2_score: 0.0175\n",
      "Epoch 98/200\n",
      "\u001B[1m100/100\u001B[0m \u001B[32m━━━━━━━━━━━━━━━━━━━━\u001B[0m\u001B[37m\u001B[0m \u001B[1m1s\u001B[0m 5ms/step - loss: 0.0035 - mean_absolute_error: 0.0460 - r2_score: 0.9845 - val_loss: 0.2445 - val_mean_absolute_error: 0.3337 - val_r2_score: 0.0155\n",
      "Epoch 99/200\n",
      "\u001B[1m100/100\u001B[0m \u001B[32m━━━━━━━━━━━━━━━━━━━━\u001B[0m\u001B[37m\u001B[0m \u001B[1m1s\u001B[0m 5ms/step - loss: 0.0037 - mean_absolute_error: 0.0471 - r2_score: 0.9838 - val_loss: 0.2439 - val_mean_absolute_error: 0.3273 - val_r2_score: 0.0177\n",
      "Epoch 100/200\n",
      "\u001B[1m100/100\u001B[0m \u001B[32m━━━━━━━━━━━━━━━━━━━━\u001B[0m\u001B[37m\u001B[0m \u001B[1m1s\u001B[0m 5ms/step - loss: 0.0032 - mean_absolute_error: 0.0434 - r2_score: 0.9848 - val_loss: 0.2503 - val_mean_absolute_error: 0.3484 - val_r2_score: -0.0070\n",
      "Epoch 101/200\n",
      "\u001B[1m100/100\u001B[0m \u001B[32m━━━━━━━━━━━━━━━━━━━━\u001B[0m\u001B[37m\u001B[0m \u001B[1m1s\u001B[0m 5ms/step - loss: 0.0028 - mean_absolute_error: 0.0390 - r2_score: 0.9879 - val_loss: 0.2445 - val_mean_absolute_error: 0.3338 - val_r2_score: 0.0157\n",
      "Epoch 102/200\n",
      "\u001B[1m100/100\u001B[0m \u001B[32m━━━━━━━━━━━━━━━━━━━━\u001B[0m\u001B[37m\u001B[0m \u001B[1m1s\u001B[0m 5ms/step - loss: 0.0026 - mean_absolute_error: 0.0381 - r2_score: 0.9894 - val_loss: 0.2482 - val_mean_absolute_error: 0.3375 - val_r2_score: 0.0011\n",
      "Epoch 103/200\n",
      "\u001B[1m100/100\u001B[0m \u001B[32m━━━━━━━━━━━━━━━━━━━━\u001B[0m\u001B[37m\u001B[0m \u001B[1m1s\u001B[0m 5ms/step - loss: 0.0028 - mean_absolute_error: 0.0395 - r2_score: 0.9872 - val_loss: 0.2435 - val_mean_absolute_error: 0.3261 - val_r2_score: 0.0197\n",
      "Epoch 104/200\n",
      "\u001B[1m100/100\u001B[0m \u001B[32m━━━━━━━━━━━━━━━━━━━━\u001B[0m\u001B[37m\u001B[0m \u001B[1m1s\u001B[0m 5ms/step - loss: 0.0030 - mean_absolute_error: 0.0415 - r2_score: 0.9865 - val_loss: 0.2439 - val_mean_absolute_error: 0.3279 - val_r2_score: 0.0176\n",
      "Epoch 105/200\n",
      "\u001B[1m100/100\u001B[0m \u001B[32m━━━━━━━━━━━━━━━━━━━━\u001B[0m\u001B[37m\u001B[0m \u001B[1m1s\u001B[0m 5ms/step - loss: 0.0019 - mean_absolute_error: 0.0330 - r2_score: 0.9919 - val_loss: 0.2453 - val_mean_absolute_error: 0.3369 - val_r2_score: 0.0128\n",
      "Epoch 106/200\n",
      "\u001B[1m100/100\u001B[0m \u001B[32m━━━━━━━━━━━━━━━━━━━━\u001B[0m\u001B[37m\u001B[0m \u001B[1m1s\u001B[0m 5ms/step - loss: 0.0015 - mean_absolute_error: 0.0298 - r2_score: 0.9934 - val_loss: 0.2435 - val_mean_absolute_error: 0.3319 - val_r2_score: 0.0197\n",
      "Epoch 107/200\n",
      "\u001B[1m100/100\u001B[0m \u001B[32m━━━━━━━━━━━━━━━━━━━━\u001B[0m\u001B[37m\u001B[0m \u001B[1m1s\u001B[0m 6ms/step - loss: 0.0013 - mean_absolute_error: 0.0278 - r2_score: 0.9946 - val_loss: 0.2435 - val_mean_absolute_error: 0.3276 - val_r2_score: 0.0197\n",
      "Epoch 108/200\n",
      "\u001B[1m100/100\u001B[0m \u001B[32m━━━━━━━━━━━━━━━━━━━━\u001B[0m\u001B[37m\u001B[0m \u001B[1m1s\u001B[0m 6ms/step - loss: 0.0012 - mean_absolute_error: 0.0273 - r2_score: 0.9946 - val_loss: 0.2433 - val_mean_absolute_error: 0.3255 - val_r2_score: 0.0201\n",
      "Epoch 109/200\n",
      "\u001B[1m100/100\u001B[0m \u001B[32m━━━━━━━━━━━━━━━━━━━━\u001B[0m\u001B[37m\u001B[0m \u001B[1m1s\u001B[0m 6ms/step - loss: 0.0013 - mean_absolute_error: 0.0281 - r2_score: 0.9944 - val_loss: 0.2448 - val_mean_absolute_error: 0.3296 - val_r2_score: 0.0149\n",
      "Epoch 110/200\n",
      "\u001B[1m100/100\u001B[0m \u001B[32m━━━━━━━━━━━━━━━━━━━━\u001B[0m\u001B[37m\u001B[0m \u001B[1m1s\u001B[0m 5ms/step - loss: 0.0016 - mean_absolute_error: 0.0304 - r2_score: 0.9928 - val_loss: 0.2441 - val_mean_absolute_error: 0.3287 - val_r2_score: 0.0170\n",
      "Epoch 111/200\n",
      "\u001B[1m100/100\u001B[0m \u001B[32m━━━━━━━━━━━━━━━━━━━━\u001B[0m\u001B[37m\u001B[0m \u001B[1m1s\u001B[0m 6ms/step - loss: 0.0016 - mean_absolute_error: 0.0293 - r2_score: 0.9934 - val_loss: 0.2436 - val_mean_absolute_error: 0.3277 - val_r2_score: 0.0191\n",
      "Epoch 112/200\n",
      "\u001B[1m100/100\u001B[0m \u001B[32m━━━━━━━━━━━━━━━━━━━━\u001B[0m\u001B[37m\u001B[0m \u001B[1m1s\u001B[0m 5ms/step - loss: 0.0018 - mean_absolute_error: 0.0286 - r2_score: 0.9918 - val_loss: 0.2428 - val_mean_absolute_error: 0.3272 - val_r2_score: 0.0223\n",
      "Epoch 113/200\n",
      "\u001B[1m100/100\u001B[0m \u001B[32m━━━━━━━━━━━━━━━━━━━━\u001B[0m\u001B[37m\u001B[0m \u001B[1m1s\u001B[0m 6ms/step - loss: 0.0016 - mean_absolute_error: 0.0314 - r2_score: 0.9930 - val_loss: 0.2441 - val_mean_absolute_error: 0.3323 - val_r2_score: 0.0173\n"
     ]
    }
   ],
   "source": [
    "# Build the neural network model with 5 hidden layers\n",
    "model = tf.keras.models.Sequential([\n",
    "    tf.keras.layers.Dense(64, activation='relu', input_shape=(X_train_scaled.shape[1],)),  # Input layer with 64 neurons and ReLU activation\n",
    "    tf.keras.layers.Dense(128, activation='relu'),  # Hidden layer with 128 neurons and ReLU activation\n",
    "    tf.keras.layers.Dense(128, activation='relu'),  # Hidden layer with 128 neurons and ReLU activation\n",
    "    tf.keras.layers.Dense(128, activation='relu'),  # Hidden layer with 128 neurons and ReLU activation\n",
    "    tf.keras.layers.Dense(64, activation='relu'),  # Hidden layer with 64 neurons and ReLU activation\n",
    "    tf.keras.layers.Dense(32, activation='relu'),  # Hidden layer with 32 neurons and ReLU activation\n",
    "    tf.keras.layers.Dense(16, activation='relu'),  # Hidden layer with 16 neurons and ReLU activation\n",
    "    tf.keras.layers.Dense(8, activation='relu'),   # Hidden layer with 8 neurons and ReLU activation\n",
    "    tf.keras.layers.Dense(1, activation='linear')  # Output layer with 1 neuron (for regression) and linear activation\n",
    "])\n",
    "\n",
    "# Compile the model\n",
    "model.compile(optimizer='adam', \n",
    "    loss='mean_squared_error',\n",
    "    metrics=['r2_score', 'mean_absolute_error']\n",
    ")  # Use Adam optimizer, mean squared error loss, and additional metrics: R-squared score and mean absolute error\n",
    "\n",
    "early_stop = EarlyStopping(\n",
    "    monitor='val_loss', \n",
    "    patience=25\n",
    ")  # Early stopping to prevent overfitting\n",
    "\n",
    "# Train the model\n",
    "history = model.fit(\n",
    "    X_train_scaled, \n",
    "    y_train,\n",
    "    epochs=200,\n",
    "    callbacks=[early_stop],\n",
    "    batch_size=32, \n",
    "    verbose=1, \n",
    "    validation_data=(X_test_scaled, y_test)\n",
    ")  # Fit the model with early stopping, batch size of 32, verbose mode, and validation data\n"
   ]
  },
  {
   "cell_type": "markdown",
   "id": "48ab8995",
   "metadata": {
    "papermill": {
     "duration": 0.128655,
     "end_time": "2024-03-10T02:10:39.518327",
     "exception": false,
     "start_time": "2024-03-10T02:10:39.389672",
     "status": "completed"
    },
    "tags": []
   },
   "source": [
    "<strong style=\"font-family:Comic Sans MS; color:purple; font-weight: bold; font-size: 35px\">7.3: Plotting Loss and R2_Score of training and validation data</strong>"
   ]
  },
  {
   "cell_type": "code",
   "execution_count": 65,
   "id": "c879a62e",
   "metadata": {
    "execution": {
     "iopub.execute_input": "2024-03-10T02:10:39.781065Z",
     "iopub.status.busy": "2024-03-10T02:10:39.780067Z",
     "iopub.status.idle": "2024-03-10T02:10:40.627264Z",
     "shell.execute_reply": "2024-03-10T02:10:40.625946Z"
    },
    "papermill": {
     "duration": 0.980021,
     "end_time": "2024-03-10T02:10:40.629748",
     "exception": false,
     "start_time": "2024-03-10T02:10:39.649727",
     "status": "completed"
    },
    "tags": []
   },
   "outputs": [
    {
     "data": {
      "image/png": "[encoded data removed]",
      "text/plain": [
       "<Figure size 1700x1000 with 1 Axes>"
      ]
     },
     "metadata": {},
     "output_type": "display_data"
    },
    {
     "data": {
      "image/png": "[encoded data removed]",
      "text/plain": [
       "<Figure size 1700x1000 with 1 Axes>"
      ]
     },
     "metadata": {},
     "output_type": "display_data"
    }
   ],
   "source": [
    "# Plot the loss\n",
    "plt.figure(figsize=(17, 10))\n",
    "plt.plot(history.history['loss'])  # Plot training loss\n",
    "plt.plot(history.history['val_loss'])  # Plot validation loss\n",
    "plt.title('Model Loss')\n",
    "plt.ylabel('Loss')\n",
    "plt.xlabel('Epoch')\n",
    "plt.legend(['Train', 'Test'], loc='upper right')\n",
    "plt.show()\n",
    "\n",
    "# Plot the mean absolute error\n",
    "plt.figure(figsize=(17, 10))\n",
    "plt.plot(history.history['r2_score'])  # Plot training mean absolute error\n",
    "plt.plot(history.history['val_r2_score'])  # Plot validation mean absolute error\n",
    "plt.title('Model Mean Absolute Error')\n",
    "plt.ylabel('Mean Absolute Error')\n",
    "plt.xlabel('Epoch')\n",
    "plt.legend(['Train', 'Test'], loc='upper right')\n",
    "plt.show()\n"
   ]
  },
  {
   "cell_type": "markdown",
   "id": "7b9e01f1",
   "metadata": {
    "papermill": {
     "duration": 0.129811,
     "end_time": "2024-03-10T02:10:40.954402",
     "exception": false,
     "start_time": "2024-03-10T02:10:40.824591",
     "status": "completed"
    },
    "tags": []
   },
   "source": [
    "<strong style=\"font-family:Comic Sans MS; color:purple; font-weight: bold; font-size: 35px\">8.0 Conclusion</strong>\n",
    "\n",
    "1. The `ANN` model achieved an `R2_Score` of `0.99`, and a `mean absolute error` of `0.0303` on Training data.\n",
    "2. On `Validation_data`, `R2_Score` is `0.0062` and `mean absolute error`is `0.3267`\n",
    "2. The `Loss` has been reduced from `7.3732` to `0.0019`.\n",
    "2. The `Validation_Loss` has been reduced from `0.2715` to `0.2467`."
   ]
  },
  {
   "cell_type": "markdown",
   "id": "2c192d2c",
   "metadata": {
    "papermill": {
     "duration": 0.129399,
     "end_time": "2024-03-10T02:10:41.212989",
     "exception": false,
     "start_time": "2024-03-10T02:10:41.083590",
     "status": "completed"
    },
    "tags": []
   },
   "source": [
    "<hr style=\"border: none; border-top: 2px solid #18B4FF;\">\n"
   ]
  },
  {
   "cell_type": "markdown",
   "id": "dcf4f417",
   "metadata": {
    "papermill": {
     "duration": 0.129073,
     "end_time": "2024-03-10T02:10:41.472086",
     "exception": false,
     "start_time": "2024-03-10T02:10:41.343013",
     "status": "completed"
    },
    "tags": []
   },
   "source": [
    "<h2 style=\"font-family:Comic Sans MS; color:#18B4FF; font-weight: bold; font-size: 70px\">9.0 Final Remarks</h2>"
   ]
  },
  {
   "cell_type": "markdown",
   "id": "850972ea",
   "metadata": {
    "papermill": {
     "duration": 0.128843,
     "end_time": "2024-03-10T02:10:41.732398",
     "exception": false,
     "start_time": "2024-03-10T02:10:41.603555",
     "status": "completed"
    },
    "tags": []
   },
   "source": [
    "In short, our Google Play Store analysis harnessed cutting-edge `Machine Learning` models such as `XGBRegressor`, `Gradient Boosting`, and `Artificial Neural Networks` (ANN) to predict app `ratings` with precision. 🚀\n",
    "\n",
    "Through meticulous feature engineering and model tuning, we curated a predictive framework that not only identifies rating trends but also provides actionable insights for developers and stakeholders. 💡\n",
    "\n",
    "This fusion of innovative methodologies underscores data science's transformative potential in `enhancing user experience` and guiding strategic decisions in app development. 📈 We eagerly await your `feedback` and suggestions for further improvement.🌟📱\n",
    "\n",
    "Feel free to share your thoughts in the comments! ❤️"
   ]
  }
 ],
 "metadata": {
  "kaggle": {
   "accelerator": "none",
   "dataSources": [
    {
     "datasetId": 49864,
     "sourceId": 274957,
     "sourceType": "datasetVersion"
    }
   ],
   "dockerImageVersionId": 30664,
   "isGpuEnabled": false,
   "isInternetEnabled": true,
   "language": "python",
   "sourceType": "notebook"
  },
  "kernelspec": {
   "display_name": "Python 3",
   "language": "python",
   "name": "python3"
  },
  "language_info": {
   "codemirror_mode": {
    "name": "ipython",
    "version": 3
   },
   "file_extension": ".py",
   "mimetype": "text/x-python",
   "name": "python",
   "nbconvert_exporter": "python",
   "pygments_lexer": "ipython3",
   "version": "3.10.13"
  },
  "papermill": {
   "default_parameters": {},
   "duration": 205.360832,
   "end_time": "2024-03-10T02:10:44.483982",
   "environment_variables": {},
   "exception": null,
   "input_path": "__notebook__.ipynb",
   "output_path": "__notebook__.ipynb",
   "parameters": {},
   "start_time": "2024-03-10T02:07:19.123150",
   "version": "2.5.0"
  }
 },
 "nbformat": 4,
 "nbformat_minor": 5
}
