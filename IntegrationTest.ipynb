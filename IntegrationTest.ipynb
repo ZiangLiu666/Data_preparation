{
 "cells": [
  {
   "cell_type": "code",
   "execution_count": 2,
   "id": "initial_id",
   "metadata": {
    "collapsed": true,
    "ExecuteTime": {
     "end_time": "2024-03-17T15:55:17.643691Z",
     "start_time": "2024-03-17T15:55:16.581481Z"
    }
   },
   "outputs": [
    {
     "name": "stdout",
     "output_type": "stream",
     "text": [
      "Requirement already satisfied: pyarrow in /Users/gaoxiangyu/anaconda3/envs/dp2024/lib/python3.9/site-packages (15.0.1)\r\n",
      "Requirement already satisfied: pandas in /Users/gaoxiangyu/anaconda3/envs/dp2024/lib/python3.9/site-packages (2.2.1)\r\n",
      "Requirement already satisfied: duckdb in /Users/gaoxiangyu/anaconda3/envs/dp2024/lib/python3.9/site-packages (0.10.0)\r\n",
      "Requirement already satisfied: numpy<2,>=1.16.6 in /Users/gaoxiangyu/anaconda3/envs/dp2024/lib/python3.9/site-packages (from pyarrow) (1.26.4)\r\n",
      "Requirement already satisfied: python-dateutil>=2.8.2 in /Users/gaoxiangyu/anaconda3/envs/dp2024/lib/python3.9/site-packages (from pandas) (2.9.0)\r\n",
      "Requirement already satisfied: pytz>=2020.1 in /Users/gaoxiangyu/anaconda3/envs/dp2024/lib/python3.9/site-packages (from pandas) (2024.1)\r\n",
      "Requirement already satisfied: tzdata>=2022.7 in /Users/gaoxiangyu/anaconda3/envs/dp2024/lib/python3.9/site-packages (from pandas) (2024.1)\r\n",
      "Requirement already satisfied: six>=1.5 in /Users/gaoxiangyu/anaconda3/envs/dp2024/lib/python3.9/site-packages (from python-dateutil>=2.8.2->pandas) (1.16.0)\r\n"
     ]
    }
   ],
   "source": [
    "!pip install pyarrow pandas duckdb"
   ]
  },
  {
   "cell_type": "code",
   "execution_count": 3,
   "outputs": [],
   "source": [
    "import pyarrow.parquet as pq\n",
    "import pandas\n",
    "import glob\n",
    "import duckdb\n",
    "import datetime\n",
    "from sklearn.preprocessing import StandardScaler, OneHotEncoder\n",
    "from sklearn.tree import DecisionTreeClassifier\n",
    "from sklearn.compose import ColumnTransformer"
   ],
   "metadata": {
    "collapsed": false,
    "ExecuteTime": {
     "end_time": "2024-03-17T15:55:21.494402Z",
     "start_time": "2024-03-17T15:55:20.722178Z"
    }
   },
   "id": "9e400a9bf5f52746"
  },
  {
   "cell_type": "code",
   "execution_count": 5,
   "outputs": [
    {
     "name": "stdout",
     "output_type": "stream",
     "text": [
      "CPU times: user 1.35 s, sys: 82.2 ms, total: 1.43 s\n",
      "Wall time: 1.46 s\n"
     ]
    },
    {
     "name": "stderr",
     "output_type": "stream",
     "text": [
      "<timed exec>:10: SettingWithCopyWarning: \n",
      "A value is trying to be set on a copy of a slice from a DataFrame.\n",
      "Try using .loc[row_indexer,col_indexer] = value instead\n",
      "\n",
      "See the caveats in the documentation: https://pandas.pydata.org/pandas-docs/stable/user_guide/indexing.html#returning-a-view-versus-a-copy\n"
     ]
    }
   ],
   "source": [
    "%%time\n",
    "reviews = pandas.read_csv(\"reviews/reviews.csv.gz\", compression='gzip', index_col=0)\n",
    "ratings = pandas.read_csv(\"reviews/ratings.csv\", index_col=0)\n",
    "products = pandas.read_csv(\"reviews/products.csv\", index_col=0)\n",
    "categories = pandas.read_csv(\"reviews/categories.csv\", index_col=0)\n",
    "\n",
    "reviews_with_ratings = reviews.merge(ratings, on='review_id')\n",
    "products_with_categories = products.merge(left_on='category_id', right_on='id', right=categories)\n",
    "reviews_with_products_and_ratings = reviews_with_ratings.merge(products_with_categories, on='product_id')\n",
    "train = reviews_with_products_and_ratings[reviews_with_products_and_ratings['review_date'] <= '2015-08-31']\n",
    "train['is_helpful'] = train['helpful_votes'] > 0\n",
    "median_total_votes_per_category = train.groupby('category_id').agg(median_total_votes=('total_votes', 'median'))\n",
    "train_with_median_categories = train.merge(median_total_votes_per_category, on='category_id')\n",
    "train_with_median_categories['above_median_total_votes'] = train_with_median_categories['total_votes'] > train_with_median_categories['median_total_votes']\n",
    "\n",
    "featurization = ColumnTransformer([('scale', StandardScaler(), ['star_rating']),\n",
    "                                   ('onehot', OneHotEncoder(), ['category_id']),\n",
    "                                   ('passthrough', 'passthrough', ['above_median_total_votes'])])"
   ],
   "metadata": {
    "collapsed": false,
    "ExecuteTime": {
     "end_time": "2024-03-17T15:58:47.941645Z",
     "start_time": "2024-03-17T15:58:46.480295Z"
    }
   },
   "id": "9b563c7bc0ae1218"
  },
  {
   "cell_type": "code",
   "execution_count": 6,
   "outputs": [
    {
     "name": "stdout",
     "output_type": "stream",
     "text": [
      "0.889076672300169\n"
     ]
    },
    {
     "data": {
      "text/plain": "array([[-1.08386907,  1.        ,  0.        ,  1.        ],\n       [ 0.8037779 ,  1.        ,  0.        ,  0.        ],\n       [ 0.8037779 ,  1.        ,  0.        ,  0.        ],\n       ...,\n       [-1.08386907,  0.        ,  1.        ,  1.        ],\n       [ 0.17456225,  0.        ,  1.        ,  1.        ],\n       [-1.08386907,  0.        ,  1.        ,  1.        ]])"
     },
     "execution_count": 6,
     "metadata": {},
     "output_type": "execute_result"
    }
   ],
   "source": [
    "train_featurized = featurization.fit_transform(train_with_median_categories)\n",
    "train_labels = train_with_median_categories['is_helpful']\n",
    "\n",
    "# You can ignore this part\n",
    "model = DecisionTreeClassifier().fit(train_featurized, train_labels)\n",
    "print(model.score(train_featurized, train_labels))\n",
    "train_featurized"
   ],
   "metadata": {
    "collapsed": false,
    "ExecuteTime": {
     "end_time": "2024-03-17T15:58:52.653055Z",
     "start_time": "2024-03-17T15:58:52.612646Z"
    }
   },
   "id": "d6c01eb45a865be5"
  },
  {
   "cell_type": "code",
   "execution_count": null,
   "outputs": [],
   "source": [],
   "metadata": {
    "collapsed": false
   },
   "id": "aa956df7b10c3154"
  }
 ],
 "metadata": {
  "kernelspec": {
   "display_name": "Python 3",
   "language": "python",
   "name": "python3"
  },
  "language_info": {
   "codemirror_mode": {
    "name": "ipython",
    "version": 2
   },
   "file_extension": ".py",
   "mimetype": "text/x-python",
   "name": "python",
   "nbconvert_exporter": "python",
   "pygments_lexer": "ipython2",
   "version": "2.7.6"
  }
 },
 "nbformat": 4,
 "nbformat_minor": 5
}
