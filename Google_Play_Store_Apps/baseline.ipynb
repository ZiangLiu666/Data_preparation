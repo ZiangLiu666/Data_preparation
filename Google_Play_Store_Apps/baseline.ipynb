{
 "cells": [
  {
   "cell_type": "markdown",
   "id": "b87cbbcf",
   "metadata": {
    "papermill": {
     "duration": 0.028274,
     "end_time": "2023-10-17T05:32:18.686912",
     "exception": false,
     "start_time": "2023-10-17T05:32:18.658638",
     "status": "completed"
    },
    "tags": []
   },
   "source": [
    "\n",
    "\n",
    "\n",
    "**App :** The name of the app\n",
    "\n",
    "**Category :** The category of the app\n",
    "\n",
    "**Rating :** The rating of the app in the Play Store\n",
    "\n",
    "**Reviews :** The number of reviews of the app\n",
    "\n",
    "**Size :** The size of the app\n",
    "\n",
    "**Install :** The number of installs of the app\n",
    "\n",
    "**Type :** The type of the app (Free/Paid)\n",
    "\n",
    "**Price :** The price of the app (0 if it is Free)\n",
    "\n",
    "**Content Rating :** The appropiate target audience of the app\n",
    "\n",
    "**Genres:** The genre of the app\n",
    "\n",
    "**Last Updated :** The date when the app was last updated\n",
    "\n",
    "**Current Ver :** The current version of the app\n",
    "\n",
    "**Android Ver :** The minimum Android version required to run the app"
   ]
  },
  {
   "cell_type": "code",
   "execution_count": 28,
   "id": "f19c2094",
   "metadata": {
    "execution": {
     "iopub.execute_input": "2023-10-17T05:32:18.974572Z",
     "iopub.status.busy": "2023-10-17T05:32:18.974102Z",
     "iopub.status.idle": "2023-10-17T05:32:21.801640Z",
     "shell.execute_reply": "2023-10-17T05:32:21.800504Z"
    },
    "id": "aZKemPjHj3x7",
    "papermill": {
     "duration": 2.860035,
     "end_time": "2023-10-17T05:32:21.804325",
     "exception": false,
     "start_time": "2023-10-17T05:32:18.944290",
     "status": "completed"
    },
    "tags": [],
    "ExecuteTime": {
     "end_time": "2024-03-20T17:03:55.692862Z",
     "start_time": "2024-03-20T17:03:55.594138Z"
    }
   },
   "outputs": [],
   "source": [
    "# Data\n",
    "import numpy as np\n",
    "import pandas as pd\n",
    "from collections import defaultdict\n",
    "\n",
    "# Visualization\n",
    "import seaborn as sns\n",
    "import matplotlib.pyplot as plt\n",
    "import missingno as msn\n",
    "from wordcloud import WordCloud\n",
    "\n",
    "# Preprocessing\n",
    "from sklearn.model_selection import train_test_split\n",
    "from sklearn.preprocessing import LabelEncoder\n",
    "from sklearn.preprocessing import StandardScaler\n",
    "\n",
    "# Regression\n",
    "from sklearn.linear_model import LinearRegression\n",
    "from sklearn.neighbors import KNeighborsRegressor\n",
    "from sklearn.ensemble import RandomForestRegressor\n",
    "\n",
    "# Classification\n",
    "from sklearn.linear_model import LogisticRegression\n",
    "from sklearn.neighbors import KNeighborsClassifier\n",
    "from sklearn.ensemble import RandomForestClassifier\n",
    "\n",
    "# Metrics\n",
    "from sklearn.metrics import mean_absolute_error\n",
    "from sklearn.metrics import mean_squared_error\n",
    "\n",
    "from sklearn.model_selection import train_test_split\n",
    "\n",
    "# Hide warnings\n",
    "import warnings\n",
    "warnings.filterwarnings('ignore')\n"
   ]
  },
  {
   "cell_type": "code",
   "execution_count": 29,
   "id": "d6c032dd",
   "metadata": {
    "execution": {
     "iopub.execute_input": "2023-10-17T05:32:21.982806Z",
     "iopub.status.busy": "2023-10-17T05:32:21.982210Z",
     "iopub.status.idle": "2023-10-17T05:32:22.081126Z",
     "shell.execute_reply": "2023-10-17T05:32:22.079875Z"
    },
    "id": "VtSKyzICj71u",
    "papermill": {
     "duration": 0.131654,
     "end_time": "2023-10-17T05:32:22.083878",
     "exception": false,
     "start_time": "2023-10-17T05:32:21.952224",
     "status": "completed"
    },
    "tags": [],
    "ExecuteTime": {
     "end_time": "2024-03-20T17:03:55.858425Z",
     "start_time": "2024-03-20T17:03:55.694946Z"
    }
   },
   "outputs": [],
   "source": [
    "df = pd.read_csv(\"/Users/jackdaw/code/Data_preparation/cleaning/googleplaystore.csv\")\n",
    "df=df.drop(df.index[10472])"
   ]
  },
  {
   "cell_type": "code",
   "outputs": [],
   "source": [
    "df['Installs'] = df['Installs'].str.replace('+', '').str.replace(',', '').astype(int)"
   ],
   "metadata": {
    "collapsed": false,
    "ExecuteTime": {
     "end_time": "2024-03-20T17:03:55.896932Z",
     "start_time": "2024-03-20T17:03:55.877985Z"
    }
   },
   "id": "4d81273ea0f11884",
   "execution_count": 30
  },
  {
   "cell_type": "code",
   "outputs": [],
   "source": [
    "df['Price'] = df['Price'].str.replace('$', '').astype(float)"
   ],
   "metadata": {
    "collapsed": false,
    "ExecuteTime": {
     "end_time": "2024-03-20T17:03:55.907872Z",
     "start_time": "2024-03-20T17:03:55.899647Z"
    }
   },
   "id": "c2c63a05d575077",
   "execution_count": 31
  },
  {
   "cell_type": "code",
   "outputs": [],
   "source": [
    "def convert_size(size):\n",
    "    if 'M' in size:\n",
    "        return float(size.replace('M', '')) * 1024  # 将M转换为千字节\n",
    "    elif 'k' in size:\n",
    "        return float(size.replace('k', ''))  \n",
    "    elif 'Varies with device' in size:\n",
    "        return None  \n",
    "    else:\n",
    "        return None  \n",
    "\n",
    "df['Size'] = df['Size'].apply(convert_size)"
   ],
   "metadata": {
    "collapsed": false,
    "ExecuteTime": {
     "end_time": "2024-03-20T17:03:55.917906Z",
     "start_time": "2024-03-20T17:03:55.909933Z"
    }
   },
   "id": "4f8f5852af5c4e20",
   "execution_count": 32
  },
  {
   "cell_type": "code",
   "outputs": [
    {
     "data": {
      "text/plain": "                                                 App  Rating  Reviews  \\\n0     Photo Editor & Candy Camera & Grid & ScrapBook     4.1      159   \n1                                Coloring book moana     3.9      967   \n2  U Launcher Lite – FREE Live Cool Themes, Hide ...     4.7    87510   \n3                              Sketch - Draw & Paint     4.5   215644   \n4              Pixel Draw - Number Art Coloring Book     4.3      967   \n\n      Size  Installs  Type  Price Content Rating                     Genres  \\\n0  19456.0     10000  Free    0.0       Everyone               Art & Design   \n1  14336.0    500000  Free    0.0       Everyone  Art & Design;Pretend Play   \n2   8908.8   5000000  Free    0.0       Everyone               Art & Design   \n3  25600.0  50000000  Free    0.0           Teen               Art & Design   \n4   2867.2    100000  Free    0.0       Everyone    Art & Design;Creativity   \n\n       Last Updated  ... Category_PERSONALIZATION Category_PHOTOGRAPHY  \\\n0   January 7, 2018  ...                    False                False   \n1  January 15, 2018  ...                    False                False   \n2    August 1, 2018  ...                    False                False   \n3      June 8, 2018  ...                    False                False   \n4     June 20, 2018  ...                    False                False   \n\n   Category_PRODUCTIVITY  Category_SHOPPING  Category_SOCIAL  Category_SPORTS  \\\n0                  False              False            False            False   \n1                  False              False            False            False   \n2                  False              False            False            False   \n3                  False              False            False            False   \n4                  False              False            False            False   \n\n   Category_TOOLS  Category_TRAVEL_AND_LOCAL  Category_VIDEO_PLAYERS  \\\n0           False                      False                   False   \n1           False                      False                   False   \n2           False                      False                   False   \n3           False                      False                   False   \n4           False                      False                   False   \n\n   Category_WEATHER  \n0             False  \n1             False  \n2             False  \n3             False  \n4             False  \n\n[5 rows x 45 columns]",
      "text/html": "<div>\n<style scoped>\n    .dataframe tbody tr th:only-of-type {\n        vertical-align: middle;\n    }\n\n    .dataframe tbody tr th {\n        vertical-align: top;\n    }\n\n    .dataframe thead th {\n        text-align: right;\n    }\n</style>\n<table border=\"1\" class=\"dataframe\">\n  <thead>\n    <tr style=\"text-align: right;\">\n      <th></th>\n      <th>App</th>\n      <th>Rating</th>\n      <th>Reviews</th>\n      <th>Size</th>\n      <th>Installs</th>\n      <th>Type</th>\n      <th>Price</th>\n      <th>Content Rating</th>\n      <th>Genres</th>\n      <th>Last Updated</th>\n      <th>...</th>\n      <th>Category_PERSONALIZATION</th>\n      <th>Category_PHOTOGRAPHY</th>\n      <th>Category_PRODUCTIVITY</th>\n      <th>Category_SHOPPING</th>\n      <th>Category_SOCIAL</th>\n      <th>Category_SPORTS</th>\n      <th>Category_TOOLS</th>\n      <th>Category_TRAVEL_AND_LOCAL</th>\n      <th>Category_VIDEO_PLAYERS</th>\n      <th>Category_WEATHER</th>\n    </tr>\n  </thead>\n  <tbody>\n    <tr>\n      <th>0</th>\n      <td>Photo Editor &amp; Candy Camera &amp; Grid &amp; ScrapBook</td>\n      <td>4.1</td>\n      <td>159</td>\n      <td>19456.0</td>\n      <td>10000</td>\n      <td>Free</td>\n      <td>0.0</td>\n      <td>Everyone</td>\n      <td>Art &amp; Design</td>\n      <td>January 7, 2018</td>\n      <td>...</td>\n      <td>False</td>\n      <td>False</td>\n      <td>False</td>\n      <td>False</td>\n      <td>False</td>\n      <td>False</td>\n      <td>False</td>\n      <td>False</td>\n      <td>False</td>\n      <td>False</td>\n    </tr>\n    <tr>\n      <th>1</th>\n      <td>Coloring book moana</td>\n      <td>3.9</td>\n      <td>967</td>\n      <td>14336.0</td>\n      <td>500000</td>\n      <td>Free</td>\n      <td>0.0</td>\n      <td>Everyone</td>\n      <td>Art &amp; Design;Pretend Play</td>\n      <td>January 15, 2018</td>\n      <td>...</td>\n      <td>False</td>\n      <td>False</td>\n      <td>False</td>\n      <td>False</td>\n      <td>False</td>\n      <td>False</td>\n      <td>False</td>\n      <td>False</td>\n      <td>False</td>\n      <td>False</td>\n    </tr>\n    <tr>\n      <th>2</th>\n      <td>U Launcher Lite – FREE Live Cool Themes, Hide ...</td>\n      <td>4.7</td>\n      <td>87510</td>\n      <td>8908.8</td>\n      <td>5000000</td>\n      <td>Free</td>\n      <td>0.0</td>\n      <td>Everyone</td>\n      <td>Art &amp; Design</td>\n      <td>August 1, 2018</td>\n      <td>...</td>\n      <td>False</td>\n      <td>False</td>\n      <td>False</td>\n      <td>False</td>\n      <td>False</td>\n      <td>False</td>\n      <td>False</td>\n      <td>False</td>\n      <td>False</td>\n      <td>False</td>\n    </tr>\n    <tr>\n      <th>3</th>\n      <td>Sketch - Draw &amp; Paint</td>\n      <td>4.5</td>\n      <td>215644</td>\n      <td>25600.0</td>\n      <td>50000000</td>\n      <td>Free</td>\n      <td>0.0</td>\n      <td>Teen</td>\n      <td>Art &amp; Design</td>\n      <td>June 8, 2018</td>\n      <td>...</td>\n      <td>False</td>\n      <td>False</td>\n      <td>False</td>\n      <td>False</td>\n      <td>False</td>\n      <td>False</td>\n      <td>False</td>\n      <td>False</td>\n      <td>False</td>\n      <td>False</td>\n    </tr>\n    <tr>\n      <th>4</th>\n      <td>Pixel Draw - Number Art Coloring Book</td>\n      <td>4.3</td>\n      <td>967</td>\n      <td>2867.2</td>\n      <td>100000</td>\n      <td>Free</td>\n      <td>0.0</td>\n      <td>Everyone</td>\n      <td>Art &amp; Design;Creativity</td>\n      <td>June 20, 2018</td>\n      <td>...</td>\n      <td>False</td>\n      <td>False</td>\n      <td>False</td>\n      <td>False</td>\n      <td>False</td>\n      <td>False</td>\n      <td>False</td>\n      <td>False</td>\n      <td>False</td>\n      <td>False</td>\n    </tr>\n  </tbody>\n</table>\n<p>5 rows × 45 columns</p>\n</div>"
     },
     "execution_count": 33,
     "metadata": {},
     "output_type": "execute_result"
    }
   ],
   "source": [
    "df['Reviews'] = pd.to_numeric(df['Reviews'], errors='coerce')\n",
    "\n",
    "# 对于数值型特征\n",
    "df['Size'].fillna(df['Size'].median(), inplace=True)\n",
    "\n",
    "# 对于类别型特征\n",
    "# 假设 'Type' 是一个类别型特征，我们用最频繁的类别填充它的缺失值\n",
    "df['Type'].fillna(df['Type'].mode()[0], inplace=True)\n",
    "\n",
    "# 对 'Category' 进行独热编码\n",
    "df = pd.get_dummies(df, columns=['Category'])\n",
    "\n",
    "df.head()"
   ],
   "metadata": {
    "collapsed": false,
    "ExecuteTime": {
     "end_time": "2024-03-20T17:03:55.958658Z",
     "start_time": "2024-03-20T17:03:55.918998Z"
    }
   },
   "id": "b8a945d8e7ee3bc5",
   "execution_count": 33
  },
  {
   "cell_type": "code",
   "outputs": [
    {
     "data": {
      "text/plain": "Rating                          float64\nReviews                           int64\nSize                            float64\nInstalls                          int64\nPrice                           float64\nCategory_ART_AND_DESIGN            bool\nCategory_AUTO_AND_VEHICLES         bool\nCategory_BEAUTY                    bool\nCategory_BOOKS_AND_REFERENCE       bool\nCategory_BUSINESS                  bool\nCategory_COMICS                    bool\nCategory_COMMUNICATION             bool\nCategory_DATING                    bool\nCategory_EDUCATION                 bool\nCategory_ENTERTAINMENT             bool\nCategory_EVENTS                    bool\nCategory_FAMILY                    bool\nCategory_FINANCE                   bool\nCategory_FOOD_AND_DRINK            bool\nCategory_GAME                      bool\nCategory_HEALTH_AND_FITNESS        bool\nCategory_HOUSE_AND_HOME            bool\nCategory_LIBRARIES_AND_DEMO        bool\nCategory_LIFESTYLE                 bool\nCategory_MAPS_AND_NAVIGATION       bool\nCategory_MEDICAL                   bool\nCategory_NEWS_AND_MAGAZINES        bool\nCategory_PARENTING                 bool\nCategory_PERSONALIZATION           bool\nCategory_PHOTOGRAPHY               bool\nCategory_PRODUCTIVITY              bool\nCategory_SHOPPING                  bool\nCategory_SOCIAL                    bool\nCategory_SPORTS                    bool\nCategory_TOOLS                     bool\nCategory_TRAVEL_AND_LOCAL          bool\nCategory_VIDEO_PLAYERS             bool\nCategory_WEATHER                   bool\ndtype: object"
     },
     "execution_count": 34,
     "metadata": {},
     "output_type": "execute_result"
    }
   ],
   "source": [
    "df.dropna(subset=['Rating'], inplace=True)\n",
    "\n",
    "df.drop(['App', 'Type', 'Genres', 'Content Rating','Last Updated','Current Ver','Android Ver'], axis=1, inplace=True)\n",
    "df.dtypes"
   ],
   "metadata": {
    "collapsed": false,
    "ExecuteTime": {
     "end_time": "2024-03-20T17:03:55.970232Z",
     "start_time": "2024-03-20T17:03:55.960808Z"
    }
   },
   "id": "6716acd953ffc41c",
   "execution_count": 34
  },
  {
   "cell_type": "code",
   "outputs": [
    {
     "data": {
      "text/plain": "Rating                          float64\nReviews                           int64\nSize                            float64\nInstalls                          int64\nPrice                           float64\nCategory_ART_AND_DESIGN            bool\nCategory_AUTO_AND_VEHICLES         bool\nCategory_BEAUTY                    bool\nCategory_BOOKS_AND_REFERENCE       bool\nCategory_BUSINESS                  bool\nCategory_COMICS                    bool\nCategory_COMMUNICATION             bool\nCategory_DATING                    bool\nCategory_EDUCATION                 bool\nCategory_ENTERTAINMENT             bool\nCategory_EVENTS                    bool\nCategory_FAMILY                    bool\nCategory_FINANCE                   bool\nCategory_FOOD_AND_DRINK            bool\nCategory_GAME                      bool\nCategory_HEALTH_AND_FITNESS        bool\nCategory_HOUSE_AND_HOME            bool\nCategory_LIBRARIES_AND_DEMO        bool\nCategory_LIFESTYLE                 bool\nCategory_MAPS_AND_NAVIGATION       bool\nCategory_MEDICAL                   bool\nCategory_NEWS_AND_MAGAZINES        bool\nCategory_PARENTING                 bool\nCategory_PERSONALIZATION           bool\nCategory_PHOTOGRAPHY               bool\nCategory_PRODUCTIVITY              bool\nCategory_SHOPPING                  bool\nCategory_SOCIAL                    bool\nCategory_SPORTS                    bool\nCategory_TOOLS                     bool\nCategory_TRAVEL_AND_LOCAL          bool\nCategory_VIDEO_PLAYERS             bool\nCategory_WEATHER                   bool\ndtype: object"
     },
     "execution_count": 35,
     "metadata": {},
     "output_type": "execute_result"
    }
   ],
   "source": [
    "df.dtypes"
   ],
   "metadata": {
    "collapsed": false,
    "ExecuteTime": {
     "end_time": "2024-03-20T17:03:55.973883Z",
     "start_time": "2024-03-20T17:03:55.971185Z"
    }
   },
   "id": "23601573f168b88f",
   "execution_count": 35
  },
  {
   "cell_type": "code",
   "outputs": [],
   "source": [
    "from src.corruptions.generic import InjectMissingValues\n",
    "from src.corruptions.SwapValues import SwapColumnValues\n",
    "from src.corruptions.gaussian_noise import GaussianNoise, Scaling\n",
    "\n",
    "def inject_errors_to_multiple_columns(df):\n",
    "    # Apply Gaussian noise to multiple numerical columns\n",
    "    for column in ['Rating','Size','Price']:\n",
    "        gaussian_noise = GaussianNoise(column=column, fraction=0.3)  # Increased fraction for a more pronounced effect\n",
    "        df = gaussian_noise.transform(df)\n",
    "\n",
    "    # Scale 'english_score' and 'geography_score'\n",
    "    for column in ['Reviews', 'Installs','Price']:\n",
    "        scaling = Scaling(column=column, fraction=0.3)\n",
    "        df = scaling.transform(df)\n",
    "\n",
    "    # Inject missing values into 'weekly_self_study_hours' and a categorical column\n",
    "   # for column in ['Installs','Price']:\n",
    "      #  inject_missing_values = InjectMissingValues(column=column, fraction=0.1)\n",
    "      #  df = inject_missing_values.transform(df)\n",
    "\n",
    "    return df\n",
    "df = inject_errors_to_multiple_columns(df).copy()\n"
   ],
   "metadata": {
    "collapsed": false,
    "ExecuteTime": {
     "end_time": "2024-03-20T17:03:55.995116Z",
     "start_time": "2024-03-20T17:03:55.974713Z"
    }
   },
   "id": "80cbda71ca97c511",
   "execution_count": 36
  },
  {
   "cell_type": "code",
   "outputs": [],
   "source": [
    "X = df.drop('Rating', axis=1)  \n",
    "y = df['Rating']            \n",
    "\n",
    "# 划分数据集为训练集和测试集，这里使用20%的数据作为测试集\n",
    "X_train, X_test, y_train, y_test = train_test_split(X, y, test_size=0.2, random_state=42)"
   ],
   "metadata": {
    "collapsed": false,
    "ExecuteTime": {
     "end_time": "2024-03-20T17:03:56.012023Z",
     "start_time": "2024-03-20T17:03:55.998739Z"
    }
   },
   "id": "871f2e697013780e",
   "execution_count": 37
  },
  {
   "cell_type": "code",
   "outputs": [],
   "source": [
    "models = ['Linear', 'KNN', 'Random Forest']\n",
    "datasets = ['train', 'test']\n",
    "metrics = ['RMSE', 'MAE', 'R2']\n",
    "\n",
    "multi_index = pd.MultiIndex.from_product([models, datasets, metrics],\n",
    "                                         names=['model', 'dataset', 'metric'])\n",
    "\n",
    "df_metrics_reg = pd.DataFrame(index=multi_index,\n",
    "                          columns=['value'])"
   ],
   "metadata": {
    "collapsed": false,
    "ExecuteTime": {
     "end_time": "2024-03-20T17:03:56.018762Z",
     "start_time": "2024-03-20T17:03:56.012591Z"
    }
   },
   "id": "9b439a189fa8d90e",
   "execution_count": 38
  },
  {
   "cell_type": "code",
   "outputs": [],
   "source": [
    "# Linear Regression\n",
    "lr = LinearRegression()\n",
    "lr.fit(X_train, y_train)\n",
    "\n",
    "df_metrics_reg.loc['Linear', 'train', 'R2'] = lr.score(X_train, y_train)\n",
    "df_metrics_reg.loc['Linear', 'test', 'R2'] = lr.score(X_test, y_test)\n",
    "\n",
    "y_train_pred = lr.predict(X_train)\n",
    "y_test_pred = lr.predict(X_test)\n",
    "\n",
    "df_metrics_reg.loc['Linear', 'train', 'MAE'] = mean_absolute_error(y_train, y_train_pred)\n",
    "df_metrics_reg.loc['Linear', 'test', 'MAE'] = mean_absolute_error(y_test, y_test_pred)\n",
    "\n",
    "df_metrics_reg.loc['Linear', 'train', 'RMSE'] = mean_squared_error(y_train, y_train_pred, squared=False)\n",
    "df_metrics_reg.loc['Linear', 'test', 'RMSE'] = mean_squared_error(y_test, y_test_pred, squared=False)"
   ],
   "metadata": {
    "collapsed": false,
    "ExecuteTime": {
     "end_time": "2024-03-20T17:03:56.103881Z",
     "start_time": "2024-03-20T17:03:56.019468Z"
    }
   },
   "id": "88caa8a163f5a53c",
   "execution_count": 39
  },
  {
   "cell_type": "code",
   "outputs": [],
   "source": [
    "# KNN\n",
    "knn = KNeighborsRegressor()\n",
    "knn.fit(X_train, y_train)\n",
    "\n",
    "y_train_pred = knn.predict(X_train)\n",
    "y_test_pred = knn.predict(X_test)\n",
    "\n",
    "df_metrics_reg.loc['KNN', 'train', 'MAE'] = mean_absolute_error(y_train, y_train_pred)\n",
    "df_metrics_reg.loc['KNN', 'test', 'MAE'] = mean_absolute_error(y_test, y_test_pred)\n",
    "\n",
    "df_metrics_reg.loc['KNN', 'train', 'RMSE'] = mean_squared_error(y_train, y_train_pred, squared=False)\n",
    "df_metrics_reg.loc['KNN', 'test', 'RMSE'] = mean_squared_error(y_test, y_test_pred, squared=False)"
   ],
   "metadata": {
    "collapsed": false,
    "ExecuteTime": {
     "end_time": "2024-03-20T17:03:56.397815Z",
     "start_time": "2024-03-20T17:03:56.106951Z"
    }
   },
   "id": "2999ea166ec64c70",
   "execution_count": 40
  },
  {
   "cell_type": "code",
   "outputs": [],
   "source": [
    "# Random Forest\n",
    "rf = RandomForestRegressor(max_depth=2, random_state=0)\n",
    "rf.fit(X_train, y_train)\n",
    "\n",
    "df_metrics_reg.loc['Random Forest', 'train', 'R2'] = rf.score(X_train, y_train)\n",
    "df_metrics_reg.loc['Random Forest', 'test', 'R2'] = rf.score(X_test, y_test)\n",
    "\n",
    "y_train_pred = rf.predict(X_train)\n",
    "y_test_pred = rf.predict(X_test)\n",
    "\n",
    "df_metrics_reg.loc['Random Forest', 'train', 'MAE'] = mean_absolute_error(y_train, y_train_pred)\n",
    "df_metrics_reg.loc['Random Forest', 'test', 'MAE'] = mean_absolute_error(y_test, y_test_pred)\n",
    "\n",
    "df_metrics_reg.loc['Random Forest', 'train', 'RMSE'] = mean_squared_error(y_train, y_train_pred, squared=False)\n",
    "df_metrics_reg.loc['Random Forest', 'test', 'RMSE'] = mean_squared_error(y_test, y_test_pred, squared=False)"
   ],
   "metadata": {
    "collapsed": false,
    "ExecuteTime": {
     "end_time": "2024-03-20T17:03:56.835998Z",
     "start_time": "2024-03-20T17:03:56.398688Z"
    }
   },
   "id": "e2a9538860dbbadc",
   "execution_count": 41
  },
  {
   "cell_type": "code",
   "outputs": [
    {
     "data": {
      "text/plain": "<Figure size 1090.12x500 with 2 Axes>",
      "image/png": "[encoded data removed]"
     },
     "metadata": {},
     "output_type": "display_data"
    }
   ],
   "source": [
    "# Evaluation\n",
    "df_metrics_reg['value'] = df_metrics_reg['value'].apply(lambda v: round(v, ndigits=3))\n",
    "df_metrics_reg\n",
    "\n",
    "data = df_metrics_reg.reset_index()\n",
    "\n",
    "g = sns.catplot(col='dataset', data=data, kind='bar', x='model', y='value', hue='metric')\n",
    "\n",
    "# Adding annotations to bars\n",
    "# iterate through axes\n",
    "for ax in g.axes.ravel():\n",
    "    # add annotations\n",
    "    for c in ax.containers:\n",
    "        ax.bar_label(c, label_type='edge')\n",
    "\n",
    "    ax.margins(y=0.2)\n",
    "\n",
    "plt.show()"
   ],
   "metadata": {
    "collapsed": false,
    "ExecuteTime": {
     "end_time": "2024-03-20T17:03:57.306599Z",
     "start_time": "2024-03-20T17:03:56.841551Z"
    }
   },
   "id": "ad76a09e14f91823",
   "execution_count": 42
  },
  {
   "cell_type": "code",
   "outputs": [],
   "source": [],
   "metadata": {
    "collapsed": false,
    "ExecuteTime": {
     "end_time": "2024-03-20T17:03:57.318602Z",
     "start_time": "2024-03-20T17:03:57.316784Z"
    }
   },
   "id": "5f0b7c764928486",
   "execution_count": 42
  }
 ],
 "metadata": {
  "kernelspec": {
   "display_name": "Python 3",
   "language": "python",
   "name": "python3"
  },
  "language_info": {
   "codemirror_mode": {
    "name": "ipython",
    "version": 3
   },
   "file_extension": ".py",
   "mimetype": "text/x-python",
   "name": "python",
   "nbconvert_exporter": "python",
   "pygments_lexer": "ipython3",
   "version": "3.10.12"
  },
  "papermill": {
   "default_parameters": {},
   "duration": 53.900063,
   "end_time": "2023-10-17T05:33:09.007415",
   "environment_variables": {},
   "exception": null,
   "input_path": "__notebook__.ipynb",
   "output_path": "__notebook__.ipynb",
   "parameters": {},
   "start_time": "2023-10-17T05:32:15.107352",
   "version": "2.4.0"
  }
 },
 "nbformat": 4,
 "nbformat_minor": 5
}
