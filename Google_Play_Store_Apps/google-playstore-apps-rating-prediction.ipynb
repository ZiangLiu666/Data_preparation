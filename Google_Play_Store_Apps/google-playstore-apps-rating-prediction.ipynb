{
 "cells": [
  {
   "cell_type": "markdown",
   "id": "b87cbbcf",
   "metadata": {
    "papermill": {
     "duration": 0.028274,
     "end_time": "2023-10-17T05:32:18.686912",
     "exception": false,
     "start_time": "2023-10-17T05:32:18.658638",
     "status": "completed"
    },
    "tags": []
   },
   "source": [
    "\n",
    "\n",
    "\n",
    "**App :** The name of the app\n",
    "\n",
    "**Category :** The category of the app\n",
    "\n",
    "**Rating :** The rating of the app in the Play Store\n",
    "\n",
    "**Reviews :** The number of reviews of the app\n",
    "\n",
    "**Size :** The size of the app\n",
    "\n",
    "**Install :** The number of installs of the app\n",
    "\n",
    "**Type :** The type of the app (Free/Paid)\n",
    "\n",
    "**Price :** The price of the app (0 if it is Free)\n",
    "\n",
    "**Content Rating :** The appropiate target audience of the app\n",
    "\n",
    "**Genres:** The genre of the app\n",
    "\n",
    "**Last Updated :** The date when the app was last updated\n",
    "\n",
    "**Current Ver :** The current version of the app\n",
    "\n",
    "**Android Ver :** The minimum Android version required to run the app"
   ]
  },
  {
   "cell_type": "markdown",
   "id": "58cefc31",
   "metadata": {
    "papermill": {
     "duration": 0.029268,
     "end_time": "2023-10-17T05:32:18.800380",
     "exception": false,
     "start_time": "2023-10-17T05:32:18.771112",
     "status": "completed"
    },
    "tags": []
   },
   "source": [
    "\n",
    "# Step 1 | Setup and Initialization"
   ]
  },
  {
   "cell_type": "markdown",
   "id": "99960ebb",
   "metadata": {
    "id": "qnjAf2QLtzuf",
    "papermill": {
     "duration": 0.030862,
     "end_time": "2023-10-17T05:32:18.859593",
     "exception": false,
     "start_time": "2023-10-17T05:32:18.828731",
     "status": "completed"
    },
    "tags": []
   },
   "source": [
    "# Importing Necessary Libraries"
   ]
  },
  {
   "cell_type": "code",
   "execution_count": 34,
   "id": "f19c2094",
   "metadata": {
    "execution": {
     "iopub.execute_input": "2023-10-17T05:32:18.974572Z",
     "iopub.status.busy": "2023-10-17T05:32:18.974102Z",
     "iopub.status.idle": "2023-10-17T05:32:21.801640Z",
     "shell.execute_reply": "2023-10-17T05:32:21.800504Z"
    },
    "id": "aZKemPjHj3x7",
    "papermill": {
     "duration": 2.860035,
     "end_time": "2023-10-17T05:32:21.804325",
     "exception": false,
     "start_time": "2023-10-17T05:32:18.944290",
     "status": "completed"
    },
    "tags": [],
    "ExecuteTime": {
     "end_time": "2024-03-21T09:55:51.676744Z",
     "start_time": "2024-03-21T09:55:51.666298Z"
    }
   },
   "outputs": [],
   "source": [
    "# Data\n",
    "import numpy as np\n",
    "import pandas as pd\n",
    "from collections import defaultdict\n",
    "from category_encoders import BinaryEncoder\n",
    "\n",
    "# Visualization\n",
    "import seaborn as sns\n",
    "import matplotlib.pyplot as plt\n",
    "import missingno as msn\n",
    "from wordcloud import WordCloud\n",
    "\n",
    "# Preprocessing\n",
    "from sklearn.model_selection import train_test_split\n",
    "from sklearn.preprocessing import LabelEncoder\n",
    "from sklearn.preprocessing import StandardScaler\n",
    "\n",
    "# Regression\n",
    "from sklearn.linear_model import LinearRegression\n",
    "from sklearn.neighbors import KNeighborsRegressor\n",
    "from sklearn.ensemble import RandomForestRegressor\n",
    "\n",
    "# Classification\n",
    "from sklearn.linear_model import LogisticRegression\n",
    "from sklearn.neighbors import KNeighborsClassifier\n",
    "from sklearn.ensemble import RandomForestClassifier\n",
    "\n",
    "# Metrics\n",
    "from sklearn.metrics import mean_absolute_error\n",
    "from sklearn.metrics import mean_squared_error\n",
    "\n",
    "\n",
    "# Hide warnings\n",
    "import warnings\n",
    "warnings.filterwarnings('ignore')\n"
   ]
  },
  {
   "cell_type": "markdown",
   "id": "daa33223",
   "metadata": {
    "papermill": {
     "duration": 0.030948,
     "end_time": "2023-10-17T05:32:21.864160",
     "exception": false,
     "start_time": "2023-10-17T05:32:21.833212",
     "status": "completed"
    },
    "tags": []
   },
   "source": [
    "<a id=\"load_dataset\"></a>\n",
    "# <b><span style='color:#fcc36d'>Step 1.2 |</span><span style='color:#ff6200'> Loading the Dataset</span></b>"
   ]
  },
  {
   "cell_type": "code",
   "execution_count": 98,
   "id": "d6c032dd",
   "metadata": {
    "execution": {
     "iopub.execute_input": "2023-10-17T05:32:21.982806Z",
     "iopub.status.busy": "2023-10-17T05:32:21.982210Z",
     "iopub.status.idle": "2023-10-17T05:32:22.081126Z",
     "shell.execute_reply": "2023-10-17T05:32:22.079875Z"
    },
    "id": "VtSKyzICj71u",
    "papermill": {
     "duration": 0.131654,
     "end_time": "2023-10-17T05:32:22.083878",
     "exception": false,
     "start_time": "2023-10-17T05:32:21.952224",
     "status": "completed"
    },
    "tags": [],
    "ExecuteTime": {
     "end_time": "2024-03-21T10:06:08.647729Z",
     "start_time": "2024-03-21T10:06:08.429827Z"
    }
   },
   "outputs": [],
   "source": [
    "df = pd.read_csv(\"/Users/jackdaw/code/Data_preparation/cleaning/googleplaystore.csv\")"
   ]
  },
  {
   "cell_type": "markdown",
   "id": "bf275645",
   "metadata": {
    "papermill": {
     "duration": 0.029624,
     "end_time": "2023-10-17T05:32:22.142966",
     "exception": false,
     "start_time": "2023-10-17T05:32:22.113342",
     "status": "completed"
    },
    "tags": []
   },
   "source": [
    "\n",
    "# Initial Data Analysis"
   ]
  },
  {
   "cell_type": "markdown",
   "id": "1870c88c",
   "metadata": {
    "papermill": {
     "duration": 0.030055,
     "end_time": "2023-10-17T05:32:22.260697",
     "exception": false,
     "start_time": "2023-10-17T05:32:22.230642",
     "status": "completed"
    },
    "tags": []
   },
   "source": [
    "\n",
    "# Dataset Overview"
   ]
  },
  {
   "cell_type": "code",
   "outputs": [
    {
     "data": {
      "text/plain": "                                                     App       Category  \\\n9700                                  EP McGuffey Primer         FAMILY   \n6386                                    King Burger Dash         FAMILY   \n9669   Masha and the Bear- House Cleaning Games for G...         FAMILY   \n1114                                        Credit Karma        FINANCE   \n7189                                       Diligan CD VR        MEDICAL   \n8973                                         BlueDV AMBE  COMMUNICATION   \n10514                            Motocross Fun Simulator         FAMILY   \n10610                                         FL Drone 2    PHOTOGRAPHY   \n2339                                           MoodSpace        MEDICAL   \n6389                                Bk Bee Sales Manager       BUSINESS   \n\n       Rating Reviews                Size     Installs  Type  Price  \\\n9700      NaN       0  Varies with device          50+  Paid  $1.99   \n6386      3.6     445                 12M      50,000+  Free      0   \n9669      NaN       0                 74M         100+  Paid  $1.99   \n1114      4.7  706302  Varies with device  10,000,000+  Free      0   \n7189      NaN       1                 46M          50+  Free      0   \n8973      NaN       0  Varies with device       1,000+  Free      0   \n10514     3.8   22570                 35M   1,000,000+  Free      0   \n10610     3.3      41                7.8M       5,000+  Free      0   \n2339      4.5     503                 22M      50,000+  Free      0   \n6389      NaN       0                2.1M           5+  Paid  $0.99   \n\n      Content Rating                    Genres       Last Updated  \\\n9700        Everyone                 Education      July 16, 2018   \n6386        Everyone                    Casual     March 22, 2015   \n9669        Everyone  Educational;Pretend Play   January 25, 2018   \n1114        Everyone                   Finance      July 31, 2018   \n7189        Everyone                   Medical       May 21, 2018   \n8973        Everyone             Communication       May 23, 2018   \n10514       Everyone                Simulation    January 9, 2017   \n10610       Everyone               Photography    August 17, 2017   \n2339        Everyone                   Medical      June 10, 2018   \n6389        Everyone                  Business  December 16, 2017   \n\n              Current Ver         Android Ver  \n9700   Varies with device  Varies with device  \n6386                  1.3          2.2 and up  \n9669                0.0.1          4.1 and up  \n1114   Varies with device  Varies with device  \n7189                  1.0          4.4 and up  \n8973   Varies with device  Varies with device  \n10514                 1.2        2.3.3 and up  \n10610               1.0.7          2.2 and up  \n2339                3.2.4          5.0 and up  \n6389                  1.0          4.1 and up  ",
      "text/html": "<div>\n<style scoped>\n    .dataframe tbody tr th:only-of-type {\n        vertical-align: middle;\n    }\n\n    .dataframe tbody tr th {\n        vertical-align: top;\n    }\n\n    .dataframe thead th {\n        text-align: right;\n    }\n</style>\n<table border=\"1\" class=\"dataframe\">\n  <thead>\n    <tr style=\"text-align: right;\">\n      <th></th>\n      <th>App</th>\n      <th>Category</th>\n      <th>Rating</th>\n      <th>Reviews</th>\n      <th>Size</th>\n      <th>Installs</th>\n      <th>Type</th>\n      <th>Price</th>\n      <th>Content Rating</th>\n      <th>Genres</th>\n      <th>Last Updated</th>\n      <th>Current Ver</th>\n      <th>Android Ver</th>\n    </tr>\n  </thead>\n  <tbody>\n    <tr>\n      <th>9700</th>\n      <td>EP McGuffey Primer</td>\n      <td>FAMILY</td>\n      <td>NaN</td>\n      <td>0</td>\n      <td>Varies with device</td>\n      <td>50+</td>\n      <td>Paid</td>\n      <td>$1.99</td>\n      <td>Everyone</td>\n      <td>Education</td>\n      <td>July 16, 2018</td>\n      <td>Varies with device</td>\n      <td>Varies with device</td>\n    </tr>\n    <tr>\n      <th>6386</th>\n      <td>King Burger Dash</td>\n      <td>FAMILY</td>\n      <td>3.6</td>\n      <td>445</td>\n      <td>12M</td>\n      <td>50,000+</td>\n      <td>Free</td>\n      <td>0</td>\n      <td>Everyone</td>\n      <td>Casual</td>\n      <td>March 22, 2015</td>\n      <td>1.3</td>\n      <td>2.2 and up</td>\n    </tr>\n    <tr>\n      <th>9669</th>\n      <td>Masha and the Bear- House Cleaning Games for G...</td>\n      <td>FAMILY</td>\n      <td>NaN</td>\n      <td>0</td>\n      <td>74M</td>\n      <td>100+</td>\n      <td>Paid</td>\n      <td>$1.99</td>\n      <td>Everyone</td>\n      <td>Educational;Pretend Play</td>\n      <td>January 25, 2018</td>\n      <td>0.0.1</td>\n      <td>4.1 and up</td>\n    </tr>\n    <tr>\n      <th>1114</th>\n      <td>Credit Karma</td>\n      <td>FINANCE</td>\n      <td>4.7</td>\n      <td>706302</td>\n      <td>Varies with device</td>\n      <td>10,000,000+</td>\n      <td>Free</td>\n      <td>0</td>\n      <td>Everyone</td>\n      <td>Finance</td>\n      <td>July 31, 2018</td>\n      <td>Varies with device</td>\n      <td>Varies with device</td>\n    </tr>\n    <tr>\n      <th>7189</th>\n      <td>Diligan CD VR</td>\n      <td>MEDICAL</td>\n      <td>NaN</td>\n      <td>1</td>\n      <td>46M</td>\n      <td>50+</td>\n      <td>Free</td>\n      <td>0</td>\n      <td>Everyone</td>\n      <td>Medical</td>\n      <td>May 21, 2018</td>\n      <td>1.0</td>\n      <td>4.4 and up</td>\n    </tr>\n    <tr>\n      <th>8973</th>\n      <td>BlueDV AMBE</td>\n      <td>COMMUNICATION</td>\n      <td>NaN</td>\n      <td>0</td>\n      <td>Varies with device</td>\n      <td>1,000+</td>\n      <td>Free</td>\n      <td>0</td>\n      <td>Everyone</td>\n      <td>Communication</td>\n      <td>May 23, 2018</td>\n      <td>Varies with device</td>\n      <td>Varies with device</td>\n    </tr>\n    <tr>\n      <th>10514</th>\n      <td>Motocross Fun Simulator</td>\n      <td>FAMILY</td>\n      <td>3.8</td>\n      <td>22570</td>\n      <td>35M</td>\n      <td>1,000,000+</td>\n      <td>Free</td>\n      <td>0</td>\n      <td>Everyone</td>\n      <td>Simulation</td>\n      <td>January 9, 2017</td>\n      <td>1.2</td>\n      <td>2.3.3 and up</td>\n    </tr>\n    <tr>\n      <th>10610</th>\n      <td>FL Drone 2</td>\n      <td>PHOTOGRAPHY</td>\n      <td>3.3</td>\n      <td>41</td>\n      <td>7.8M</td>\n      <td>5,000+</td>\n      <td>Free</td>\n      <td>0</td>\n      <td>Everyone</td>\n      <td>Photography</td>\n      <td>August 17, 2017</td>\n      <td>1.0.7</td>\n      <td>2.2 and up</td>\n    </tr>\n    <tr>\n      <th>2339</th>\n      <td>MoodSpace</td>\n      <td>MEDICAL</td>\n      <td>4.5</td>\n      <td>503</td>\n      <td>22M</td>\n      <td>50,000+</td>\n      <td>Free</td>\n      <td>0</td>\n      <td>Everyone</td>\n      <td>Medical</td>\n      <td>June 10, 2018</td>\n      <td>3.2.4</td>\n      <td>5.0 and up</td>\n    </tr>\n    <tr>\n      <th>6389</th>\n      <td>Bk Bee Sales Manager</td>\n      <td>BUSINESS</td>\n      <td>NaN</td>\n      <td>0</td>\n      <td>2.1M</td>\n      <td>5+</td>\n      <td>Paid</td>\n      <td>$0.99</td>\n      <td>Everyone</td>\n      <td>Business</td>\n      <td>December 16, 2017</td>\n      <td>1.0</td>\n      <td>4.1 and up</td>\n    </tr>\n  </tbody>\n</table>\n</div>"
     },
     "execution_count": 70,
     "metadata": {},
     "output_type": "execute_result"
    }
   ],
   "source": [
    "df.sample(10)"
   ],
   "metadata": {
    "collapsed": false,
    "ExecuteTime": {
     "end_time": "2024-03-21T10:00:36.997384Z",
     "start_time": "2024-03-21T10:00:36.933041Z"
    }
   },
   "id": "3d4133ad7a6734a0",
   "execution_count": 70
  },
  {
   "cell_type": "code",
   "execution_count": 71,
   "id": "d0b1ed14",
   "metadata": {
    "execution": {
     "iopub.execute_input": "2023-10-17T05:32:22.473824Z",
     "iopub.status.busy": "2023-10-17T05:32:22.473071Z",
     "iopub.status.idle": "2023-10-17T05:32:22.480664Z",
     "shell.execute_reply": "2023-10-17T05:32:22.479315Z"
    },
    "id": "0guAveslsKlo",
    "outputId": "deae20da-e914-4888-c0ed-d51e2767859a",
    "papermill": {
     "duration": 0.041055,
     "end_time": "2023-10-17T05:32:22.483307",
     "exception": false,
     "start_time": "2023-10-17T05:32:22.442252",
     "status": "completed"
    },
    "tags": [],
    "ExecuteTime": {
     "end_time": "2024-03-21T10:00:40.641209Z",
     "start_time": "2024-03-21T10:00:40.622189Z"
    }
   },
   "outputs": [
    {
     "data": {
      "text/plain": "(10841, 13)"
     },
     "execution_count": 71,
     "metadata": {},
     "output_type": "execute_result"
    }
   ],
   "source": [
    "df.shape"
   ]
  },
  {
   "cell_type": "code",
   "execution_count": 72,
   "id": "1c14f1f1",
   "metadata": {
    "execution": {
     "iopub.execute_input": "2023-10-17T05:32:22.605726Z",
     "iopub.status.busy": "2023-10-17T05:32:22.604861Z",
     "iopub.status.idle": "2023-10-17T05:32:22.612614Z",
     "shell.execute_reply": "2023-10-17T05:32:22.611404Z"
    },
    "id": "_2nVtAodsMyW",
    "outputId": "e698286a-e1f7-49e4-e335-0d061adeb684",
    "papermill": {
     "duration": 0.042203,
     "end_time": "2023-10-17T05:32:22.615132",
     "exception": false,
     "start_time": "2023-10-17T05:32:22.572929",
     "status": "completed"
    },
    "tags": [],
    "ExecuteTime": {
     "end_time": "2024-03-21T10:00:41.974274Z",
     "start_time": "2024-03-21T10:00:41.962377Z"
    }
   },
   "outputs": [
    {
     "data": {
      "text/plain": "Index(['App', 'Category', 'Rating', 'Reviews', 'Size', 'Installs', 'Type',\n       'Price', 'Content Rating', 'Genres', 'Last Updated', 'Current Ver',\n       'Android Ver'],\n      dtype='object')"
     },
     "execution_count": 72,
     "metadata": {},
     "output_type": "execute_result"
    }
   ],
   "source": [
    "df.columns"
   ]
  },
  {
   "cell_type": "code",
   "execution_count": 73,
   "id": "32a75d1b",
   "metadata": {
    "execution": {
     "iopub.execute_input": "2023-10-17T05:32:22.675706Z",
     "iopub.status.busy": "2023-10-17T05:32:22.674982Z",
     "iopub.status.idle": "2023-10-17T05:32:22.692307Z",
     "shell.execute_reply": "2023-10-17T05:32:22.690910Z"
    },
    "id": "TdJRlnUmsO0b",
    "outputId": "dcdb95f4-8530-4fe9-e122-622d895637bf",
    "papermill": {
     "duration": 0.050022,
     "end_time": "2023-10-17T05:32:22.694587",
     "exception": false,
     "start_time": "2023-10-17T05:32:22.644565",
     "status": "completed"
    },
    "tags": [],
    "ExecuteTime": {
     "end_time": "2024-03-21T10:00:43.542040Z",
     "start_time": "2024-03-21T10:00:43.518203Z"
    }
   },
   "outputs": [
    {
     "data": {
      "text/plain": "            Rating\ncount  9367.000000\nmean      4.193338\nstd       0.537431\nmin       1.000000\n25%       4.000000\n50%       4.300000\n75%       4.500000\nmax      19.000000",
      "text/html": "<div>\n<style scoped>\n    .dataframe tbody tr th:only-of-type {\n        vertical-align: middle;\n    }\n\n    .dataframe tbody tr th {\n        vertical-align: top;\n    }\n\n    .dataframe thead th {\n        text-align: right;\n    }\n</style>\n<table border=\"1\" class=\"dataframe\">\n  <thead>\n    <tr style=\"text-align: right;\">\n      <th></th>\n      <th>Rating</th>\n    </tr>\n  </thead>\n  <tbody>\n    <tr>\n      <th>count</th>\n      <td>9367.000000</td>\n    </tr>\n    <tr>\n      <th>mean</th>\n      <td>4.193338</td>\n    </tr>\n    <tr>\n      <th>std</th>\n      <td>0.537431</td>\n    </tr>\n    <tr>\n      <th>min</th>\n      <td>1.000000</td>\n    </tr>\n    <tr>\n      <th>25%</th>\n      <td>4.000000</td>\n    </tr>\n    <tr>\n      <th>50%</th>\n      <td>4.300000</td>\n    </tr>\n    <tr>\n      <th>75%</th>\n      <td>4.500000</td>\n    </tr>\n    <tr>\n      <th>max</th>\n      <td>19.000000</td>\n    </tr>\n  </tbody>\n</table>\n</div>"
     },
     "execution_count": 73,
     "metadata": {},
     "output_type": "execute_result"
    }
   ],
   "source": [
    "df.describe()"
   ]
  },
  {
   "cell_type": "markdown",
   "id": "3fe2ff9e",
   "metadata": {
    "id": "BORVznMgvt80",
    "papermill": {
     "duration": 0.028458,
     "end_time": "2023-10-17T05:32:22.752344",
     "exception": false,
     "start_time": "2023-10-17T05:32:22.723886",
     "status": "completed"
    },
    "tags": []
   },
   "source": [
    "\n",
    "    \n",
    "**Here we can see that only Rating column is only in float, so we need to convert numerical columns into int and float.**  "
   ]
  },
  {
   "cell_type": "code",
   "execution_count": 74,
   "id": "834de494",
   "metadata": {
    "execution": {
     "iopub.execute_input": "2023-10-17T05:32:22.812726Z",
     "iopub.status.busy": "2023-10-17T05:32:22.812068Z",
     "iopub.status.idle": "2023-10-17T05:32:22.843953Z",
     "shell.execute_reply": "2023-10-17T05:32:22.843087Z"
    },
    "id": "p_07fI4jsYc6",
    "outputId": "fb02defb-f8d1-4932-e3cd-92c6754f785b",
    "papermill": {
     "duration": 0.064946,
     "end_time": "2023-10-17T05:32:22.846420",
     "exception": false,
     "start_time": "2023-10-17T05:32:22.781474",
     "status": "completed"
    },
    "tags": [],
    "ExecuteTime": {
     "end_time": "2024-03-21T10:00:44.979462Z",
     "start_time": "2024-03-21T10:00:44.938505Z"
    }
   },
   "outputs": [
    {
     "name": "stdout",
     "output_type": "stream",
     "text": [
      "<class 'pandas.core.frame.DataFrame'>\n",
      "RangeIndex: 10841 entries, 0 to 10840\n",
      "Data columns (total 13 columns):\n",
      " #   Column          Non-Null Count  Dtype  \n",
      "---  ------          --------------  -----  \n",
      " 0   App             10841 non-null  object \n",
      " 1   Category        10841 non-null  object \n",
      " 2   Rating          9367 non-null   float64\n",
      " 3   Reviews         10841 non-null  object \n",
      " 4   Size            10841 non-null  object \n",
      " 5   Installs        10841 non-null  object \n",
      " 6   Type            10840 non-null  object \n",
      " 7   Price           10841 non-null  object \n",
      " 8   Content Rating  10840 non-null  object \n",
      " 9   Genres          10841 non-null  object \n",
      " 10  Last Updated    10841 non-null  object \n",
      " 11  Current Ver     10833 non-null  object \n",
      " 12  Android Ver     10838 non-null  object \n",
      "dtypes: float64(1), object(12)\n",
      "memory usage: 1.1+ MB\n"
     ]
    }
   ],
   "source": [
    "df.info()"
   ]
  },
  {
   "cell_type": "markdown",
   "id": "a8794780",
   "metadata": {
    "id": "Vj9bn6kCzsDU",
    "papermill": {
     "duration": 0.030995,
     "end_time": "2023-10-17T05:32:22.910346",
     "exception": false,
     "start_time": "2023-10-17T05:32:22.879351",
     "status": "completed"
    },
    "tags": []
   },
   "source": [
    "\n",
    "# Step 3 | Preprocessing"
   ]
  },
  {
   "cell_type": "markdown",
   "source": [
    "\n",
    "    \n",
    "**As most of the features are set to data type object and have suffixes, each feature's data type must be converted into a suitable format for analysis.**"
   ],
   "metadata": {
    "collapsed": false
   },
   "id": "d9c0c086428a608d"
  },
  {
   "cell_type": "markdown",
   "id": "80996c58",
   "metadata": {
    "id": "AEt4I4S8tALS",
    "papermill": {
     "duration": 0.032954,
     "end_time": "2023-10-17T05:32:23.034052",
     "exception": false,
     "start_time": "2023-10-17T05:32:23.001098",
     "status": "completed"
    },
    "tags": []
   },
   "source": [
    "### Checking if all values in number of Reviews numeric\n",
    "    \n",
    "\n",
    "## Step 3.1 Reviews"
   ]
  },
  {
   "cell_type": "code",
   "execution_count": 75,
   "id": "3e6ec287",
   "metadata": {
    "execution": {
     "iopub.execute_input": "2023-10-17T05:32:23.096673Z",
     "iopub.status.busy": "2023-10-17T05:32:23.096013Z",
     "iopub.status.idle": "2023-10-17T05:32:23.112767Z",
     "shell.execute_reply": "2023-10-17T05:32:23.111608Z"
    },
    "id": "mJNJAafKsiNv",
    "outputId": "ef7d323c-5802-43b2-d781-99aed7bec3d1",
    "papermill": {
     "duration": 0.050806,
     "end_time": "2023-10-17T05:32:23.115132",
     "exception": false,
     "start_time": "2023-10-17T05:32:23.064326",
     "status": "completed"
    },
    "tags": [],
    "ExecuteTime": {
     "end_time": "2024-03-21T10:00:47.388467Z",
     "start_time": "2024-03-21T10:00:47.323763Z"
    }
   },
   "outputs": [
    {
     "data": {
      "text/plain": "                                           App Category  Rating Reviews  \\\n10472  Life Made WI-Fi Touchscreen Photo Frame      1.9    19.0    3.0M   \n\n         Size Installs Type     Price Content Rating             Genres  \\\n10472  1,000+     Free    0  Everyone            NaN  February 11, 2018   \n\n      Last Updated Current Ver Android Ver  \n10472       1.0.19  4.0 and up         NaN  ",
      "text/html": "<div>\n<style scoped>\n    .dataframe tbody tr th:only-of-type {\n        vertical-align: middle;\n    }\n\n    .dataframe tbody tr th {\n        vertical-align: top;\n    }\n\n    .dataframe thead th {\n        text-align: right;\n    }\n</style>\n<table border=\"1\" class=\"dataframe\">\n  <thead>\n    <tr style=\"text-align: right;\">\n      <th></th>\n      <th>App</th>\n      <th>Category</th>\n      <th>Rating</th>\n      <th>Reviews</th>\n      <th>Size</th>\n      <th>Installs</th>\n      <th>Type</th>\n      <th>Price</th>\n      <th>Content Rating</th>\n      <th>Genres</th>\n      <th>Last Updated</th>\n      <th>Current Ver</th>\n      <th>Android Ver</th>\n    </tr>\n  </thead>\n  <tbody>\n    <tr>\n      <th>10472</th>\n      <td>Life Made WI-Fi Touchscreen Photo Frame</td>\n      <td>1.9</td>\n      <td>19.0</td>\n      <td>3.0M</td>\n      <td>1,000+</td>\n      <td>Free</td>\n      <td>0</td>\n      <td>Everyone</td>\n      <td>NaN</td>\n      <td>February 11, 2018</td>\n      <td>1.0.19</td>\n      <td>4.0 and up</td>\n      <td>NaN</td>\n    </tr>\n  </tbody>\n</table>\n</div>"
     },
     "execution_count": 75,
     "metadata": {},
     "output_type": "execute_result"
    }
   ],
   "source": [
    "df[~df.Reviews.str.isnumeric()]"
   ]
  },
  {
   "cell_type": "markdown",
   "id": "8fd0e7a4",
   "metadata": {
    "id": "YEWGViJ1slR8",
    "papermill": {
     "duration": 0.030214,
     "end_time": "2023-10-17T05:32:23.176265",
     "exception": false,
     "start_time": "2023-10-17T05:32:23.146051",
     "status": "completed"
    },
    "tags": []
   },
   "source": [
    "\n",
    "    \n",
    "We could have converted it into integer like we did for Size but the data for this App looks different. It can be noticed that the entries are entered wrong We could fix it by setting Category as nan and shifting all the values, but deleting the sample for now."
   ]
  },
  {
   "cell_type": "code",
   "execution_count": 76,
   "id": "552352f8",
   "metadata": {
    "execution": {
     "iopub.execute_input": "2023-10-17T05:32:23.239084Z",
     "iopub.status.busy": "2023-10-17T05:32:23.238720Z",
     "iopub.status.idle": "2023-10-17T05:32:23.248915Z",
     "shell.execute_reply": "2023-10-17T05:32:23.247687Z"
    },
    "id": "ijP4ER5mteHp",
    "papermill": {
     "duration": 0.044441,
     "end_time": "2023-10-17T05:32:23.251274",
     "exception": false,
     "start_time": "2023-10-17T05:32:23.206833",
     "status": "completed"
    },
    "tags": [],
    "ExecuteTime": {
     "end_time": "2024-03-21T10:00:48.572497Z",
     "start_time": "2024-03-21T10:00:48.543575Z"
    }
   },
   "outputs": [],
   "source": [
    "df=df.drop(df.index[10472])"
   ]
  },
  {
   "cell_type": "markdown",
   "id": "0f0f0777",
   "metadata": {
    "id": "m63WuN4Uz8Zi",
    "papermill": {
     "duration": 0.030124,
     "end_time": "2023-10-17T05:32:23.312675",
     "exception": false,
     "start_time": "2023-10-17T05:32:23.282551",
     "status": "completed"
    },
    "tags": []
   },
   "source": [
    "\n",
    "    \n",
    "**The feature Reviews must be of integer type.**"
   ]
  },
  {
   "cell_type": "code",
   "execution_count": 77,
   "id": "80ca4699",
   "metadata": {
    "execution": {
     "iopub.execute_input": "2023-10-17T05:32:23.376392Z",
     "iopub.status.busy": "2023-10-17T05:32:23.375753Z",
     "iopub.status.idle": "2023-10-17T05:32:23.383983Z",
     "shell.execute_reply": "2023-10-17T05:32:23.383230Z"
    },
    "id": "4QngCjCp-H05",
    "papermill": {
     "duration": 0.04252,
     "end_time": "2023-10-17T05:32:23.386223",
     "exception": false,
     "start_time": "2023-10-17T05:32:23.343703",
     "status": "completed"
    },
    "tags": [],
    "ExecuteTime": {
     "end_time": "2024-03-21T10:00:50.173632Z",
     "start_time": "2024-03-21T10:00:50.158072Z"
    }
   },
   "outputs": [],
   "source": [
    "df[\"Reviews\"] = df[\"Reviews\"].astype(int)\n"
   ]
  },
  {
   "cell_type": "code",
   "execution_count": 78,
   "id": "5bb0f290",
   "metadata": {
    "execution": {
     "iopub.execute_input": "2023-10-17T05:32:23.450426Z",
     "iopub.status.busy": "2023-10-17T05:32:23.449774Z",
     "iopub.status.idle": "2023-10-17T05:32:23.466964Z",
     "shell.execute_reply": "2023-10-17T05:32:23.465879Z"
    },
    "id": "DCS8UT2ItpMB",
    "outputId": "16c424d1-fc0d-4266-fd82-c8a9627ff865",
    "papermill": {
     "duration": 0.052248,
     "end_time": "2023-10-17T05:32:23.470030",
     "exception": false,
     "start_time": "2023-10-17T05:32:23.417782",
     "status": "completed"
    },
    "tags": [],
    "ExecuteTime": {
     "end_time": "2024-03-21T10:00:51.049654Z",
     "start_time": "2024-03-21T10:00:51.017178Z"
    }
   },
   "outputs": [
    {
     "name": "stdout",
     "output_type": "stream",
     "text": [
      "<class 'pandas.core.frame.DataFrame'>\n",
      "Index: 10840 entries, 0 to 10840\n",
      "Data columns (total 13 columns):\n",
      " #   Column          Non-Null Count  Dtype  \n",
      "---  ------          --------------  -----  \n",
      " 0   App             10840 non-null  object \n",
      " 1   Category        10840 non-null  object \n",
      " 2   Rating          9366 non-null   float64\n",
      " 3   Reviews         10840 non-null  int64  \n",
      " 4   Size            10840 non-null  object \n",
      " 5   Installs        10840 non-null  object \n",
      " 6   Type            10839 non-null  object \n",
      " 7   Price           10840 non-null  object \n",
      " 8   Content Rating  10840 non-null  object \n",
      " 9   Genres          10840 non-null  object \n",
      " 10  Last Updated    10840 non-null  object \n",
      " 11  Current Ver     10832 non-null  object \n",
      " 12  Android Ver     10838 non-null  object \n",
      "dtypes: float64(1), int64(1), object(11)\n",
      "memory usage: 1.2+ MB\n"
     ]
    }
   ],
   "source": [
    "df.info()"
   ]
  },
  {
   "cell_type": "markdown",
   "id": "72c67e57",
   "metadata": {
    "id": "n7QjGyhbt0ty",
    "papermill": {
     "duration": 0.034683,
     "end_time": "2023-10-17T05:32:23.536321",
     "exception": false,
     "start_time": "2023-10-17T05:32:23.501638",
     "status": "completed"
    },
    "tags": []
   },
   "source": [
    "\n",
    "## Step 3.2 Size"
   ]
  },
  {
   "cell_type": "markdown",
   "id": "e865c8af",
   "metadata": {
    "papermill": {
     "duration": 0.03021,
     "end_time": "2023-10-17T05:32:23.603745",
     "exception": false,
     "start_time": "2023-10-17T05:32:23.573535",
     "status": "completed"
    },
    "tags": []
   },
   "source": [
    "\n",
    "* It can be seen that data has metric prefixes(kilo and Mega) along with another string.Replacing k and M with their values to convert values to numeric.\n",
    "\n",
    "* The feature Size must be of floating type.\n",
    "* The suffix, which is a size unit, must be removed. \\ Example: '19.2M' to 19.2\n",
    "\n",
    "* If size is given as 'Varies with device' we replace it with 0\n",
    "\n",
    "* The converted floating values of Size is represented in megabytes units.\n"
   ]
  },
  {
   "cell_type": "code",
   "execution_count": 79,
   "id": "47223e87",
   "metadata": {
    "execution": {
     "iopub.execute_input": "2023-10-17T05:32:23.668642Z",
     "iopub.status.busy": "2023-10-17T05:32:23.667485Z",
     "iopub.status.idle": "2023-10-17T05:32:23.676588Z",
     "shell.execute_reply": "2023-10-17T05:32:23.675561Z"
    },
    "id": "NWbQ9HVmtuEx",
    "outputId": "3782dc64-eadf-4a88-c5de-f02574de7f5a",
    "papermill": {
     "duration": 0.044084,
     "end_time": "2023-10-17T05:32:23.678716",
     "exception": false,
     "start_time": "2023-10-17T05:32:23.634632",
     "status": "completed"
    },
    "tags": [],
    "ExecuteTime": {
     "end_time": "2024-03-21T10:00:53.068585Z",
     "start_time": "2024-03-21T10:00:53.060412Z"
    }
   },
   "outputs": [
    {
     "data": {
      "text/plain": "array(['19M', '14M', '8.7M', '25M', '2.8M', '5.6M', '29M', '33M', '3.1M',\n       '28M', '12M', '20M', '21M', '37M', '2.7M', '5.5M', '17M', '39M',\n       '31M', '4.2M', '7.0M', '23M', '6.0M', '6.1M', '4.6M', '9.2M',\n       '5.2M', '11M', '24M', 'Varies with device', '9.4M', '15M', '10M',\n       '1.2M', '26M', '8.0M', '7.9M', '56M', '57M', '35M', '54M', '201k',\n       '3.6M', '5.7M', '8.6M', '2.4M', '27M', '2.5M', '16M', '3.4M',\n       '8.9M', '3.9M', '2.9M', '38M', '32M', '5.4M', '18M', '1.1M',\n       '2.2M', '4.5M', '9.8M', '52M', '9.0M', '6.7M', '30M', '2.6M',\n       '7.1M', '3.7M', '22M', '7.4M', '6.4M', '3.2M', '8.2M', '9.9M',\n       '4.9M', '9.5M', '5.0M', '5.9M', '13M', '73M', '6.8M', '3.5M',\n       '4.0M', '2.3M', '7.2M', '2.1M', '42M', '7.3M', '9.1M', '55M',\n       '23k', '6.5M', '1.5M', '7.5M', '51M', '41M', '48M', '8.5M', '46M',\n       '8.3M', '4.3M', '4.7M', '3.3M', '40M', '7.8M', '8.8M', '6.6M',\n       '5.1M', '61M', '66M', '79k', '8.4M', '118k', '44M', '695k', '1.6M',\n       '6.2M', '18k', '53M', '1.4M', '3.0M', '5.8M', '3.8M', '9.6M',\n       '45M', '63M', '49M', '77M', '4.4M', '4.8M', '70M', '6.9M', '9.3M',\n       '10.0M', '8.1M', '36M', '84M', '97M', '2.0M', '1.9M', '1.8M',\n       '5.3M', '47M', '556k', '526k', '76M', '7.6M', '59M', '9.7M', '78M',\n       '72M', '43M', '7.7M', '6.3M', '334k', '34M', '93M', '65M', '79M',\n       '100M', '58M', '50M', '68M', '64M', '67M', '60M', '94M', '232k',\n       '99M', '624k', '95M', '8.5k', '41k', '292k', '11k', '80M', '1.7M',\n       '74M', '62M', '69M', '75M', '98M', '85M', '82M', '96M', '87M',\n       '71M', '86M', '91M', '81M', '92M', '83M', '88M', '704k', '862k',\n       '899k', '378k', '266k', '375k', '1.3M', '975k', '980k', '4.1M',\n       '89M', '696k', '544k', '525k', '920k', '779k', '853k', '720k',\n       '713k', '772k', '318k', '58k', '241k', '196k', '857k', '51k',\n       '953k', '865k', '251k', '930k', '540k', '313k', '746k', '203k',\n       '26k', '314k', '239k', '371k', '220k', '730k', '756k', '91k',\n       '293k', '17k', '74k', '14k', '317k', '78k', '924k', '902k', '818k',\n       '81k', '939k', '169k', '45k', '475k', '965k', '90M', '545k', '61k',\n       '283k', '655k', '714k', '93k', '872k', '121k', '322k', '1.0M',\n       '976k', '172k', '238k', '549k', '206k', '954k', '444k', '717k',\n       '210k', '609k', '308k', '705k', '306k', '904k', '473k', '175k',\n       '350k', '383k', '454k', '421k', '70k', '812k', '442k', '842k',\n       '417k', '412k', '459k', '478k', '335k', '782k', '721k', '430k',\n       '429k', '192k', '200k', '460k', '728k', '496k', '816k', '414k',\n       '506k', '887k', '613k', '243k', '569k', '778k', '683k', '592k',\n       '319k', '186k', '840k', '647k', '191k', '373k', '437k', '598k',\n       '716k', '585k', '982k', '222k', '219k', '55k', '948k', '323k',\n       '691k', '511k', '951k', '963k', '25k', '554k', '351k', '27k',\n       '82k', '208k', '913k', '514k', '551k', '29k', '103k', '898k',\n       '743k', '116k', '153k', '209k', '353k', '499k', '173k', '597k',\n       '809k', '122k', '411k', '400k', '801k', '787k', '237k', '50k',\n       '643k', '986k', '97k', '516k', '837k', '780k', '961k', '269k',\n       '20k', '498k', '600k', '749k', '642k', '881k', '72k', '656k',\n       '601k', '221k', '228k', '108k', '940k', '176k', '33k', '663k',\n       '34k', '942k', '259k', '164k', '458k', '245k', '629k', '28k',\n       '288k', '775k', '785k', '636k', '916k', '994k', '309k', '485k',\n       '914k', '903k', '608k', '500k', '54k', '562k', '847k', '957k',\n       '688k', '811k', '270k', '48k', '329k', '523k', '921k', '874k',\n       '981k', '784k', '280k', '24k', '518k', '754k', '892k', '154k',\n       '860k', '364k', '387k', '626k', '161k', '879k', '39k', '970k',\n       '170k', '141k', '160k', '144k', '143k', '190k', '376k', '193k',\n       '246k', '73k', '658k', '992k', '253k', '420k', '404k', '470k',\n       '226k', '240k', '89k', '234k', '257k', '861k', '467k', '157k',\n       '44k', '676k', '67k', '552k', '885k', '1020k', '582k', '619k'],\n      dtype=object)"
     },
     "execution_count": 79,
     "metadata": {},
     "output_type": "execute_result"
    }
   ],
   "source": [
    "df['Size'].unique()"
   ]
  },
  {
   "cell_type": "markdown",
   "id": "59bb6811",
   "metadata": {
    "id": "QUA6RMSJuXNS",
    "papermill": {
     "duration": 0.030449,
     "end_time": "2023-10-17T05:32:23.740317",
     "exception": false,
     "start_time": "2023-10-17T05:32:23.709868",
     "status": "completed"
    },
    "tags": []
   },
   "source": [
    "\n",
    "* Remove all characters from size and convert it to float.\n",
    "\n"
   ]
  },
  {
   "cell_type": "code",
   "execution_count": 80,
   "id": "046b4dd1",
   "metadata": {
    "execution": {
     "iopub.execute_input": "2023-10-17T05:32:23.803664Z",
     "iopub.status.busy": "2023-10-17T05:32:23.803278Z",
     "iopub.status.idle": "2023-10-17T05:32:23.826397Z",
     "shell.execute_reply": "2023-10-17T05:32:23.825689Z"
    },
    "id": "INaO-EqPuRWe",
    "outputId": "9bd875e2-82c6-47b4-839a-1efd3bd133ce",
    "papermill": {
     "duration": 0.05849,
     "end_time": "2023-10-17T05:32:23.829901",
     "exception": false,
     "start_time": "2023-10-17T05:32:23.771411",
     "status": "completed"
    },
    "tags": [],
    "ExecuteTime": {
     "end_time": "2024-03-21T10:00:54.179403Z",
     "start_time": "2024-03-21T10:00:54.154229Z"
    }
   },
   "outputs": [],
   "source": [
    "df['Size']=df['Size'].str.replace('M','000')\n",
    "df['Size']=df['Size'].str.replace('k','')\n",
    "df['Size']=df['Size'].replace(\"Varies with device\",np.nan)\n",
    "df['Size']=df['Size'].astype('float')\n"
   ]
  },
  {
   "cell_type": "markdown",
   "id": "188f1a0c",
   "metadata": {
    "id": "Mrg6JoEmuwPK",
    "papermill": {
     "duration": 0.039347,
     "end_time": "2023-10-17T05:32:23.911215",
     "exception": false,
     "start_time": "2023-10-17T05:32:23.871868",
     "status": "completed"
    },
    "tags": []
   },
   "source": [
    "\n",
    "    \n",
    "* There is a problem! There are some applications size in megabyte and some in kilobyte."
   ]
  },
  {
   "cell_type": "code",
   "execution_count": 81,
   "id": "71b787d9",
   "metadata": {
    "execution": {
     "iopub.execute_input": "2023-10-17T05:32:23.975180Z",
     "iopub.status.busy": "2023-10-17T05:32:23.973885Z",
     "iopub.status.idle": "2023-10-17T05:32:24.823617Z",
     "shell.execute_reply": "2023-10-17T05:32:24.822388Z"
    },
    "id": "Ce8q-GmDutIC",
    "outputId": "368e2069-5faa-4451-d1fd-0203e15ad771",
    "papermill": {
     "duration": 0.883749,
     "end_time": "2023-10-17T05:32:24.825895",
     "exception": false,
     "start_time": "2023-10-17T05:32:23.942146",
     "status": "completed"
    },
    "tags": [],
    "ExecuteTime": {
     "end_time": "2024-03-21T10:00:56.142955Z",
     "start_time": "2024-03-21T10:00:55.692136Z"
    }
   },
   "outputs": [
    {
     "data": {
      "text/plain": "0        19.0\n1        14.0\n2         8.7\n3        25.0\n4         2.8\n         ... \n10836    53.0\n10837     3.6\n10838     9.5\n10839     NaN\n10840    19.0\nName: Size, Length: 10840, dtype: float64"
     },
     "execution_count": 81,
     "metadata": {},
     "output_type": "execute_result"
    }
   ],
   "source": [
    "# Any size should >= 10k, otherwise it should be wrong data\n",
    "for i in df['Size']:\n",
    "    if i < 10:\n",
    "        df['Size']=df['Size'].replace(i,i*1000)\n",
    "df['Size']=df['Size']/1000\n",
    "df['Size']"
   ]
  },
  {
   "cell_type": "markdown",
   "id": "dd6ffdcc",
   "metadata": {
    "id": "0bVaAhsrvaPW",
    "papermill": {
     "duration": 0.029531,
     "end_time": "2023-10-17T05:32:24.972630",
     "exception": false,
     "start_time": "2023-10-17T05:32:24.943099",
     "status": "completed"
    },
    "tags": []
   },
   "source": [
    "## Step 3.3 Installs and Price"
   ]
  },
  {
   "cell_type": "markdown",
   "id": "beedc241",
   "metadata": {
    "id": "qnStR5lC0i37",
    "papermill": {
     "duration": 0.035343,
     "end_time": "2023-10-17T05:32:25.038729",
     "exception": false,
     "start_time": "2023-10-17T05:32:25.003386",
     "status": "completed"
    },
    "tags": []
   },
   "source": [
    "\n",
    "* The feature Installs must be of integer type.\n",
    "\n",
    "* The characters ',' and '+' must be removed. \\ Example: '10,000+' to 10000\n",
    "\n",
    "* The feature Price must be of floating type.\n",
    "\n",
    "* The suffix '\\$' must be removed if Price is non-zero. \\ Example: '$4.99' to 4.99"
   ]
  },
  {
   "cell_type": "code",
   "execution_count": 82,
   "id": "4f83de72",
   "metadata": {
    "execution": {
     "iopub.execute_input": "2023-10-17T05:32:25.101151Z",
     "iopub.status.busy": "2023-10-17T05:32:25.100711Z",
     "iopub.status.idle": "2023-10-17T05:32:25.108977Z",
     "shell.execute_reply": "2023-10-17T05:32:25.107688Z"
    },
    "id": "UPXbylGtvQYw",
    "outputId": "cbbe28f1-b231-4bde-b5b8-4024d10284d3",
    "papermill": {
     "duration": 0.042562,
     "end_time": "2023-10-17T05:32:25.111222",
     "exception": false,
     "start_time": "2023-10-17T05:32:25.068660",
     "status": "completed"
    },
    "tags": [],
    "ExecuteTime": {
     "end_time": "2024-03-21T10:00:58.615978Z",
     "start_time": "2024-03-21T10:00:58.606153Z"
    }
   },
   "outputs": [
    {
     "data": {
      "text/plain": "array(['10,000+', '500,000+', '5,000,000+', '50,000,000+', '100,000+',\n       '50,000+', '1,000,000+', '10,000,000+', '5,000+', '100,000,000+',\n       '1,000,000,000+', '1,000+', '500,000,000+', '50+', '100+', '500+',\n       '10+', '1+', '5+', '0+', '0'], dtype=object)"
     },
     "execution_count": 82,
     "metadata": {},
     "output_type": "execute_result"
    }
   ],
   "source": [
    "df['Installs'].unique()"
   ]
  },
  {
   "cell_type": "code",
   "execution_count": 83,
   "id": "ac2e79d8",
   "metadata": {
    "execution": {
     "iopub.execute_input": "2023-10-17T05:32:25.174209Z",
     "iopub.status.busy": "2023-10-17T05:32:25.173600Z",
     "iopub.status.idle": "2023-10-17T05:32:25.184665Z",
     "shell.execute_reply": "2023-10-17T05:32:25.183764Z"
    },
    "id": "5SATmEaIvXqc",
    "outputId": "6d1e2f1c-7b06-4f6f-d5f7-4a72d0d4696a",
    "papermill": {
     "duration": 0.045458,
     "end_time": "2023-10-17T05:32:25.186909",
     "exception": false,
     "start_time": "2023-10-17T05:32:25.141451",
     "status": "completed"
    },
    "tags": [],
    "ExecuteTime": {
     "end_time": "2024-03-21T10:00:59.708412Z",
     "start_time": "2024-03-21T10:00:59.692341Z"
    }
   },
   "outputs": [
    {
     "data": {
      "text/plain": "array(['0', '$4.99', '$3.99', '$6.99', '$1.49', '$2.99', '$7.99', '$5.99',\n       '$3.49', '$1.99', '$9.99', '$7.49', '$0.99', '$9.00', '$5.49',\n       '$10.00', '$24.99', '$11.99', '$79.99', '$16.99', '$14.99',\n       '$1.00', '$29.99', '$12.99', '$2.49', '$10.99', '$1.50', '$19.99',\n       '$15.99', '$33.99', '$74.99', '$39.99', '$3.95', '$4.49', '$1.70',\n       '$8.99', '$2.00', '$3.88', '$25.99', '$399.99', '$17.99',\n       '$400.00', '$3.02', '$1.76', '$4.84', '$4.77', '$1.61', '$2.50',\n       '$1.59', '$6.49', '$1.29', '$5.00', '$13.99', '$299.99', '$379.99',\n       '$37.99', '$18.99', '$389.99', '$19.90', '$8.49', '$1.75',\n       '$14.00', '$4.85', '$46.99', '$109.99', '$154.99', '$3.08',\n       '$2.59', '$4.80', '$1.96', '$19.40', '$3.90', '$4.59', '$15.46',\n       '$3.04', '$4.29', '$2.60', '$3.28', '$4.60', '$28.99', '$2.95',\n       '$2.90', '$1.97', '$200.00', '$89.99', '$2.56', '$30.99', '$3.61',\n       '$394.99', '$1.26', '$1.20', '$1.04'], dtype=object)"
     },
     "execution_count": 83,
     "metadata": {},
     "output_type": "execute_result"
    }
   ],
   "source": [
    "df['Price'].unique()"
   ]
  },
  {
   "cell_type": "code",
   "execution_count": 84,
   "id": "d79d2456",
   "metadata": {
    "execution": {
     "iopub.execute_input": "2023-10-17T05:32:25.252723Z",
     "iopub.status.busy": "2023-10-17T05:32:25.252351Z",
     "iopub.status.idle": "2023-10-17T05:32:25.296471Z",
     "shell.execute_reply": "2023-10-17T05:32:25.295340Z"
    },
    "id": "RTgx4tSDvg15",
    "outputId": "ca6e8374-5c1b-4df0-d5fd-17b475c22df2",
    "papermill": {
     "duration": 0.079892,
     "end_time": "2023-10-17T05:32:25.298742",
     "exception": false,
     "start_time": "2023-10-17T05:32:25.218850",
     "status": "completed"
    },
    "tags": [],
    "ExecuteTime": {
     "end_time": "2024-03-21T10:01:00.734897Z",
     "start_time": "2024-03-21T10:01:00.702055Z"
    }
   },
   "outputs": [],
   "source": [
    "items_to_remove=['+',',','$']\n",
    "cols_to_clean=['Installs','Price']\n",
    "for item in items_to_remove:\n",
    "    for col in cols_to_clean:\n",
    "        df[col]=df[col].str.replace(item,'')"
   ]
  },
  {
   "cell_type": "code",
   "execution_count": 85,
   "id": "5d44fb1b",
   "metadata": {
    "execution": {
     "iopub.execute_input": "2023-10-17T05:32:25.362906Z",
     "iopub.status.busy": "2023-10-17T05:32:25.362430Z",
     "iopub.status.idle": "2023-10-17T05:32:25.371007Z",
     "shell.execute_reply": "2023-10-17T05:32:25.369851Z"
    },
    "id": "3RMHMGUYvpb-",
    "outputId": "ba1a95fd-93e3-46f7-9124-1cac3bc57869",
    "papermill": {
     "duration": 0.043003,
     "end_time": "2023-10-17T05:32:25.373051",
     "exception": false,
     "start_time": "2023-10-17T05:32:25.330048",
     "status": "completed"
    },
    "tags": [],
    "ExecuteTime": {
     "end_time": "2024-03-21T10:01:01.492560Z",
     "start_time": "2024-03-21T10:01:01.455944Z"
    }
   },
   "outputs": [
    {
     "data": {
      "text/plain": "array(['10000', '500000', '5000000', '50000000', '100000', '50000',\n       '1000000', '10000000', '5000', '100000000', '1000000000', '1000',\n       '500000000', '50', '100', '500', '10', '1', '5', '0'], dtype=object)"
     },
     "execution_count": 85,
     "metadata": {},
     "output_type": "execute_result"
    }
   ],
   "source": [
    "df.Installs.unique()"
   ]
  },
  {
   "cell_type": "code",
   "execution_count": 86,
   "id": "299b27cb",
   "metadata": {
    "execution": {
     "iopub.execute_input": "2023-10-17T05:32:25.440634Z",
     "iopub.status.busy": "2023-10-17T05:32:25.439524Z",
     "iopub.status.idle": "2023-10-17T05:32:25.448698Z",
     "shell.execute_reply": "2023-10-17T05:32:25.447469Z"
    },
    "id": "6rXWsNqZvxVu",
    "outputId": "f5252e07-49d0-4d8c-8d6d-35d2d442dd35",
    "papermill": {
     "duration": 0.045103,
     "end_time": "2023-10-17T05:32:25.450678",
     "exception": false,
     "start_time": "2023-10-17T05:32:25.405575",
     "status": "completed"
    },
    "tags": [],
    "ExecuteTime": {
     "end_time": "2024-03-21T10:01:02.330092Z",
     "start_time": "2024-03-21T10:01:02.309122Z"
    }
   },
   "outputs": [
    {
     "data": {
      "text/plain": "array(['0', '4.99', '3.99', '6.99', '1.49', '2.99', '7.99', '5.99',\n       '3.49', '1.99', '9.99', '7.49', '0.99', '9.00', '5.49', '10.00',\n       '24.99', '11.99', '79.99', '16.99', '14.99', '1.00', '29.99',\n       '12.99', '2.49', '10.99', '1.50', '19.99', '15.99', '33.99',\n       '74.99', '39.99', '3.95', '4.49', '1.70', '8.99', '2.00', '3.88',\n       '25.99', '399.99', '17.99', '400.00', '3.02', '1.76', '4.84',\n       '4.77', '1.61', '2.50', '1.59', '6.49', '1.29', '5.00', '13.99',\n       '299.99', '379.99', '37.99', '18.99', '389.99', '19.90', '8.49',\n       '1.75', '14.00', '4.85', '46.99', '109.99', '154.99', '3.08',\n       '2.59', '4.80', '1.96', '19.40', '3.90', '4.59', '15.46', '3.04',\n       '4.29', '2.60', '3.28', '4.60', '28.99', '2.95', '2.90', '1.97',\n       '200.00', '89.99', '2.56', '30.99', '3.61', '394.99', '1.26',\n       '1.20', '1.04'], dtype=object)"
     },
     "execution_count": 86,
     "metadata": {},
     "output_type": "execute_result"
    }
   ],
   "source": [
    "df['Price'].unique()"
   ]
  },
  {
   "cell_type": "code",
   "execution_count": 87,
   "id": "32613469",
   "metadata": {
    "execution": {
     "iopub.execute_input": "2023-10-17T05:32:25.603394Z",
     "iopub.status.busy": "2023-10-17T05:32:25.603001Z",
     "iopub.status.idle": "2023-10-17T05:32:25.626430Z",
     "shell.execute_reply": "2023-10-17T05:32:25.625604Z"
    },
    "id": "80vEczLWv7li",
    "outputId": "41a24538-dc6e-4adf-bb07-0e40402b0c86",
    "papermill": {
     "duration": 0.061686,
     "end_time": "2023-10-17T05:32:25.628824",
     "exception": false,
     "start_time": "2023-10-17T05:32:25.567138",
     "status": "completed"
    },
    "tags": [],
    "ExecuteTime": {
     "end_time": "2024-03-21T10:01:02.811451Z",
     "start_time": "2024-03-21T10:01:02.807362Z"
    }
   },
   "outputs": [],
   "source": [
    "df['Installs']=df['Installs'].astype('float')\n",
    "df['Price']=df['Price'].astype('float')"
   ]
  },
  {
   "cell_type": "markdown",
   "id": "2f072f49",
   "metadata": {
    "id": "v_z93qzDwPvy",
    "papermill": {
     "duration": 0.032724,
     "end_time": "2023-10-17T05:32:25.694159",
     "exception": false,
     "start_time": "2023-10-17T05:32:25.661435",
     "status": "completed"
    },
    "tags": []
   },
   "source": [
    "## Step 3.3 last updated"
   ]
  },
  {
   "cell_type": "markdown",
   "id": "0daa5184",
   "metadata": {
    "id": "MyczOzEt1k_2",
    "papermill": {
     "duration": 0.032272,
     "end_time": "2023-10-17T05:32:25.759688",
     "exception": false,
     "start_time": "2023-10-17T05:32:25.727416",
     "status": "completed"
    },
    "tags": []
   },
   "source": [
    "\n",
    "    \n",
    "* Updating the Last Updated column's datatype from string to pandas datetime.\n",
    "\n",
    "* Extracting new columns Updated Year, Updated Month and updated day."
   ]
  },
  {
   "cell_type": "code",
   "execution_count": 88,
   "id": "13b0cb84",
   "metadata": {
    "execution": {
     "iopub.execute_input": "2023-10-17T05:32:25.826895Z",
     "iopub.status.busy": "2023-10-17T05:32:25.826454Z",
     "iopub.status.idle": "2023-10-17T05:32:25.848975Z",
     "shell.execute_reply": "2023-10-17T05:32:25.847761Z"
    },
    "id": "f5R_L1lpwHXz",
    "outputId": "a5cc026c-2f06-4a88-f33e-62014b5b28c3",
    "papermill": {
     "duration": 0.058863,
     "end_time": "2023-10-17T05:32:25.851215",
     "exception": false,
     "start_time": "2023-10-17T05:32:25.792352",
     "status": "completed"
    },
    "tags": [],
    "ExecuteTime": {
     "end_time": "2024-03-21T10:01:05.320465Z",
     "start_time": "2024-03-21T10:01:05.284082Z"
    }
   },
   "outputs": [
    {
     "data": {
      "text/plain": "0       2018-01-07\n1       2018-01-15\n2       2018-08-01\n3       2018-06-08\n4       2018-06-20\n           ...    \n10836   2017-07-25\n10837   2018-07-06\n10838   2017-01-20\n10839   2015-01-19\n10840   2018-07-25\nName: Last Updated, Length: 10840, dtype: datetime64[ns]"
     },
     "execution_count": 88,
     "metadata": {},
     "output_type": "execute_result"
    }
   ],
   "source": [
    "# Change Last update into a datetime column\n",
    "df['Last Updated'] = pd.to_datetime(df['Last Updated'])\n",
    "df['Last Updated']"
   ]
  },
  {
   "cell_type": "code",
   "execution_count": 89,
   "id": "8fce3532",
   "metadata": {
    "execution": {
     "iopub.execute_input": "2023-10-17T05:32:25.921629Z",
     "iopub.status.busy": "2023-10-17T05:32:25.921171Z",
     "iopub.status.idle": "2023-10-17T05:32:25.931075Z",
     "shell.execute_reply": "2023-10-17T05:32:25.930093Z"
    },
    "id": "ZFb0gkMkwb1E",
    "papermill": {
     "duration": 0.046919,
     "end_time": "2023-10-17T05:32:25.933242",
     "exception": false,
     "start_time": "2023-10-17T05:32:25.886323",
     "status": "completed"
    },
    "tags": [],
    "ExecuteTime": {
     "end_time": "2024-03-21T10:01:06.497583Z",
     "start_time": "2024-03-21T10:01:06.482441Z"
    }
   },
   "outputs": [],
   "source": [
    "df['Updated_Month']=df['Last Updated'].dt.month\n",
    "df['Updated_Year']=df['Last Updated'].dt.year"
   ]
  },
  {
   "cell_type": "code",
   "execution_count": 90,
   "id": "8a1e0fc7",
   "metadata": {
    "execution": {
     "iopub.execute_input": "2023-10-17T05:32:26.003290Z",
     "iopub.status.busy": "2023-10-17T05:32:26.002795Z",
     "iopub.status.idle": "2023-10-17T05:32:26.015912Z",
     "shell.execute_reply": "2023-10-17T05:32:26.014882Z"
    },
    "id": "BemqVcYGwmn9",
    "papermill": {
     "duration": 0.050617,
     "end_time": "2023-10-17T05:32:26.017897",
     "exception": false,
     "start_time": "2023-10-17T05:32:25.967280",
     "status": "completed"
    },
    "tags": [],
    "ExecuteTime": {
     "end_time": "2024-03-21T10:01:07.527101Z",
     "start_time": "2024-03-21T10:01:07.501425Z"
    }
   },
   "outputs": [],
   "source": [
    "df.drop('Last Updated', axis=1, inplace=True)"
   ]
  },
  {
   "cell_type": "code",
   "execution_count": 91,
   "id": "75a60287",
   "metadata": {
    "execution": {
     "iopub.execute_input": "2023-10-17T05:32:26.082326Z",
     "iopub.status.busy": "2023-10-17T05:32:26.081900Z",
     "iopub.status.idle": "2023-10-17T05:32:26.099971Z",
     "shell.execute_reply": "2023-10-17T05:32:26.098606Z"
    },
    "id": "yu2DtYu_wr3A",
    "outputId": "40048c75-4a84-4a94-ce92-afe375f20614",
    "papermill": {
     "duration": 0.053019,
     "end_time": "2023-10-17T05:32:26.102313",
     "exception": false,
     "start_time": "2023-10-17T05:32:26.049294",
     "status": "completed"
    },
    "tags": [],
    "ExecuteTime": {
     "end_time": "2024-03-21T10:01:08.258232Z",
     "start_time": "2024-03-21T10:01:08.250468Z"
    }
   },
   "outputs": [
    {
     "data": {
      "text/plain": "                                                 App        Category  Rating  \\\n0     Photo Editor & Candy Camera & Grid & ScrapBook  ART_AND_DESIGN     4.1   \n1                                Coloring book moana  ART_AND_DESIGN     3.9   \n2  U Launcher Lite – FREE Live Cool Themes, Hide ...  ART_AND_DESIGN     4.7   \n3                              Sketch - Draw & Paint  ART_AND_DESIGN     4.5   \n4              Pixel Draw - Number Art Coloring Book  ART_AND_DESIGN     4.3   \n\n   Reviews  Size    Installs  Type  Price Content Rating  \\\n0      159  19.0     10000.0  Free    0.0       Everyone   \n1      967  14.0    500000.0  Free    0.0       Everyone   \n2    87510   8.7   5000000.0  Free    0.0       Everyone   \n3   215644  25.0  50000000.0  Free    0.0           Teen   \n4      967   2.8    100000.0  Free    0.0       Everyone   \n\n                      Genres         Current Ver   Android Ver  Updated_Month  \\\n0               Art & Design               1.0.0  4.0.3 and up              1   \n1  Art & Design;Pretend Play               2.0.0  4.0.3 and up              1   \n2               Art & Design               1.2.4  4.0.3 and up              8   \n3               Art & Design  Varies with device    4.2 and up              6   \n4    Art & Design;Creativity                 1.1    4.4 and up              6   \n\n   Updated_Year  \n0          2018  \n1          2018  \n2          2018  \n3          2018  \n4          2018  ",
      "text/html": "<div>\n<style scoped>\n    .dataframe tbody tr th:only-of-type {\n        vertical-align: middle;\n    }\n\n    .dataframe tbody tr th {\n        vertical-align: top;\n    }\n\n    .dataframe thead th {\n        text-align: right;\n    }\n</style>\n<table border=\"1\" class=\"dataframe\">\n  <thead>\n    <tr style=\"text-align: right;\">\n      <th></th>\n      <th>App</th>\n      <th>Category</th>\n      <th>Rating</th>\n      <th>Reviews</th>\n      <th>Size</th>\n      <th>Installs</th>\n      <th>Type</th>\n      <th>Price</th>\n      <th>Content Rating</th>\n      <th>Genres</th>\n      <th>Current Ver</th>\n      <th>Android Ver</th>\n      <th>Updated_Month</th>\n      <th>Updated_Year</th>\n    </tr>\n  </thead>\n  <tbody>\n    <tr>\n      <th>0</th>\n      <td>Photo Editor &amp; Candy Camera &amp; Grid &amp; ScrapBook</td>\n      <td>ART_AND_DESIGN</td>\n      <td>4.1</td>\n      <td>159</td>\n      <td>19.0</td>\n      <td>10000.0</td>\n      <td>Free</td>\n      <td>0.0</td>\n      <td>Everyone</td>\n      <td>Art &amp; Design</td>\n      <td>1.0.0</td>\n      <td>4.0.3 and up</td>\n      <td>1</td>\n      <td>2018</td>\n    </tr>\n    <tr>\n      <th>1</th>\n      <td>Coloring book moana</td>\n      <td>ART_AND_DESIGN</td>\n      <td>3.9</td>\n      <td>967</td>\n      <td>14.0</td>\n      <td>500000.0</td>\n      <td>Free</td>\n      <td>0.0</td>\n      <td>Everyone</td>\n      <td>Art &amp; Design;Pretend Play</td>\n      <td>2.0.0</td>\n      <td>4.0.3 and up</td>\n      <td>1</td>\n      <td>2018</td>\n    </tr>\n    <tr>\n      <th>2</th>\n      <td>U Launcher Lite – FREE Live Cool Themes, Hide ...</td>\n      <td>ART_AND_DESIGN</td>\n      <td>4.7</td>\n      <td>87510</td>\n      <td>8.7</td>\n      <td>5000000.0</td>\n      <td>Free</td>\n      <td>0.0</td>\n      <td>Everyone</td>\n      <td>Art &amp; Design</td>\n      <td>1.2.4</td>\n      <td>4.0.3 and up</td>\n      <td>8</td>\n      <td>2018</td>\n    </tr>\n    <tr>\n      <th>3</th>\n      <td>Sketch - Draw &amp; Paint</td>\n      <td>ART_AND_DESIGN</td>\n      <td>4.5</td>\n      <td>215644</td>\n      <td>25.0</td>\n      <td>50000000.0</td>\n      <td>Free</td>\n      <td>0.0</td>\n      <td>Teen</td>\n      <td>Art &amp; Design</td>\n      <td>Varies with device</td>\n      <td>4.2 and up</td>\n      <td>6</td>\n      <td>2018</td>\n    </tr>\n    <tr>\n      <th>4</th>\n      <td>Pixel Draw - Number Art Coloring Book</td>\n      <td>ART_AND_DESIGN</td>\n      <td>4.3</td>\n      <td>967</td>\n      <td>2.8</td>\n      <td>100000.0</td>\n      <td>Free</td>\n      <td>0.0</td>\n      <td>Everyone</td>\n      <td>Art &amp; Design;Creativity</td>\n      <td>1.1</td>\n      <td>4.4 and up</td>\n      <td>6</td>\n      <td>2018</td>\n    </tr>\n  </tbody>\n</table>\n</div>"
     },
     "execution_count": 91,
     "metadata": {},
     "output_type": "execute_result"
    }
   ],
   "source": [
    "df.head()"
   ]
  },
  {
   "cell_type": "code",
   "execution_count": 92,
   "id": "ab8cd013",
   "metadata": {
    "execution": {
     "iopub.execute_input": "2023-10-17T05:32:26.168525Z",
     "iopub.status.busy": "2023-10-17T05:32:26.168107Z",
     "iopub.status.idle": "2023-10-17T05:32:26.187728Z",
     "shell.execute_reply": "2023-10-17T05:32:26.186523Z"
    },
    "id": "zAyDKBBHwvPb",
    "outputId": "ca2571c3-f25b-42ed-ad98-29493d495977",
    "papermill": {
     "duration": 0.055852,
     "end_time": "2023-10-17T05:32:26.190260",
     "exception": false,
     "start_time": "2023-10-17T05:32:26.134408",
     "status": "completed"
    },
    "tags": [],
    "ExecuteTime": {
     "end_time": "2024-03-21T10:01:09.367055Z",
     "start_time": "2024-03-21T10:01:09.338577Z"
    }
   },
   "outputs": [
    {
     "name": "stdout",
     "output_type": "stream",
     "text": [
      "<class 'pandas.core.frame.DataFrame'>\n",
      "Index: 10840 entries, 0 to 10840\n",
      "Data columns (total 14 columns):\n",
      " #   Column          Non-Null Count  Dtype  \n",
      "---  ------          --------------  -----  \n",
      " 0   App             10840 non-null  object \n",
      " 1   Category        10840 non-null  object \n",
      " 2   Rating          9366 non-null   float64\n",
      " 3   Reviews         10840 non-null  int64  \n",
      " 4   Size            9145 non-null   float64\n",
      " 5   Installs        10840 non-null  float64\n",
      " 6   Type            10839 non-null  object \n",
      " 7   Price           10840 non-null  float64\n",
      " 8   Content Rating  10840 non-null  object \n",
      " 9   Genres          10840 non-null  object \n",
      " 10  Current Ver     10832 non-null  object \n",
      " 11  Android Ver     10838 non-null  object \n",
      " 12  Updated_Month   10840 non-null  int32  \n",
      " 13  Updated_Year    10840 non-null  int32  \n",
      "dtypes: float64(4), int32(2), int64(1), object(7)\n",
      "memory usage: 1.2+ MB\n"
     ]
    }
   ],
   "source": [
    "df.info()"
   ]
  },
  {
   "cell_type": "code",
   "execution_count": 93,
   "outputs": [],
   "source": [
    "df_original = df.copy()"
   ],
   "metadata": {
    "collapsed": false,
    "ExecuteTime": {
     "end_time": "2024-03-21T10:01:10.781064Z",
     "start_time": "2024-03-21T10:01:10.771608Z"
    }
   },
   "id": "79f6f2be3a74d1db"
  },
  {
   "cell_type": "markdown",
   "source": [
    "## Step 3.4 Category"
   ],
   "metadata": {
    "collapsed": false
   },
   "id": "6f1ff6a8cba3367b"
  },
  {
   "cell_type": "code",
   "outputs": [
    {
     "ename": "KeyError",
     "evalue": "'Category'",
     "output_type": "error",
     "traceback": [
      "\u001B[0;31m---------------------------------------------------------------------------\u001B[0m",
      "\u001B[0;31mKeyError\u001B[0m                                  Traceback (most recent call last)",
      "File \u001B[0;32m~/anaconda3/lib/python3.11/site-packages/pandas/core/indexes/base.py:3653\u001B[0m, in \u001B[0;36mIndex.get_loc\u001B[0;34m(self, key)\u001B[0m\n\u001B[1;32m   3652\u001B[0m \u001B[38;5;28;01mtry\u001B[39;00m:\n\u001B[0;32m-> 3653\u001B[0m     \u001B[38;5;28;01mreturn\u001B[39;00m \u001B[38;5;28mself\u001B[39m\u001B[38;5;241m.\u001B[39m_engine\u001B[38;5;241m.\u001B[39mget_loc(casted_key)\n\u001B[1;32m   3654\u001B[0m \u001B[38;5;28;01mexcept\u001B[39;00m \u001B[38;5;167;01mKeyError\u001B[39;00m \u001B[38;5;28;01mas\u001B[39;00m err:\n",
      "File \u001B[0;32m~/anaconda3/lib/python3.11/site-packages/pandas/_libs/index.pyx:147\u001B[0m, in \u001B[0;36mpandas._libs.index.IndexEngine.get_loc\u001B[0;34m()\u001B[0m\n",
      "File \u001B[0;32m~/anaconda3/lib/python3.11/site-packages/pandas/_libs/index.pyx:176\u001B[0m, in \u001B[0;36mpandas._libs.index.IndexEngine.get_loc\u001B[0;34m()\u001B[0m\n",
      "File \u001B[0;32mpandas/_libs/hashtable_class_helper.pxi:7080\u001B[0m, in \u001B[0;36mpandas._libs.hashtable.PyObjectHashTable.get_item\u001B[0;34m()\u001B[0m\n",
      "File \u001B[0;32mpandas/_libs/hashtable_class_helper.pxi:7088\u001B[0m, in \u001B[0;36mpandas._libs.hashtable.PyObjectHashTable.get_item\u001B[0;34m()\u001B[0m\n",
      "\u001B[0;31mKeyError\u001B[0m: 'Category'",
      "\nThe above exception was the direct cause of the following exception:\n",
      "\u001B[0;31mKeyError\u001B[0m                                  Traceback (most recent call last)",
      "Cell \u001B[0;32mIn[96], line 1\u001B[0m\n\u001B[0;32m----> 1\u001B[0m df[\u001B[38;5;124m'\u001B[39m\u001B[38;5;124mCategory\u001B[39m\u001B[38;5;124m'\u001B[39m]\u001B[38;5;241m.\u001B[39munique()\n",
      "File \u001B[0;32m~/anaconda3/lib/python3.11/site-packages/pandas/core/frame.py:3761\u001B[0m, in \u001B[0;36mDataFrame.__getitem__\u001B[0;34m(self, key)\u001B[0m\n\u001B[1;32m   3759\u001B[0m \u001B[38;5;28;01mif\u001B[39;00m \u001B[38;5;28mself\u001B[39m\u001B[38;5;241m.\u001B[39mcolumns\u001B[38;5;241m.\u001B[39mnlevels \u001B[38;5;241m>\u001B[39m \u001B[38;5;241m1\u001B[39m:\n\u001B[1;32m   3760\u001B[0m     \u001B[38;5;28;01mreturn\u001B[39;00m \u001B[38;5;28mself\u001B[39m\u001B[38;5;241m.\u001B[39m_getitem_multilevel(key)\n\u001B[0;32m-> 3761\u001B[0m indexer \u001B[38;5;241m=\u001B[39m \u001B[38;5;28mself\u001B[39m\u001B[38;5;241m.\u001B[39mcolumns\u001B[38;5;241m.\u001B[39mget_loc(key)\n\u001B[1;32m   3762\u001B[0m \u001B[38;5;28;01mif\u001B[39;00m is_integer(indexer):\n\u001B[1;32m   3763\u001B[0m     indexer \u001B[38;5;241m=\u001B[39m [indexer]\n",
      "File \u001B[0;32m~/anaconda3/lib/python3.11/site-packages/pandas/core/indexes/base.py:3655\u001B[0m, in \u001B[0;36mIndex.get_loc\u001B[0;34m(self, key)\u001B[0m\n\u001B[1;32m   3653\u001B[0m     \u001B[38;5;28;01mreturn\u001B[39;00m \u001B[38;5;28mself\u001B[39m\u001B[38;5;241m.\u001B[39m_engine\u001B[38;5;241m.\u001B[39mget_loc(casted_key)\n\u001B[1;32m   3654\u001B[0m \u001B[38;5;28;01mexcept\u001B[39;00m \u001B[38;5;167;01mKeyError\u001B[39;00m \u001B[38;5;28;01mas\u001B[39;00m err:\n\u001B[0;32m-> 3655\u001B[0m     \u001B[38;5;28;01mraise\u001B[39;00m \u001B[38;5;167;01mKeyError\u001B[39;00m(key) \u001B[38;5;28;01mfrom\u001B[39;00m \u001B[38;5;21;01merr\u001B[39;00m\n\u001B[1;32m   3656\u001B[0m \u001B[38;5;28;01mexcept\u001B[39;00m \u001B[38;5;167;01mTypeError\u001B[39;00m:\n\u001B[1;32m   3657\u001B[0m     \u001B[38;5;66;03m# If we have a listlike key, _check_indexing_error will raise\u001B[39;00m\n\u001B[1;32m   3658\u001B[0m     \u001B[38;5;66;03m#  InvalidIndexError. Otherwise we fall through and re-raise\u001B[39;00m\n\u001B[1;32m   3659\u001B[0m     \u001B[38;5;66;03m#  the TypeError.\u001B[39;00m\n\u001B[1;32m   3660\u001B[0m     \u001B[38;5;28mself\u001B[39m\u001B[38;5;241m.\u001B[39m_check_indexing_error(key)\n",
      "\u001B[0;31mKeyError\u001B[0m: 'Category'"
     ]
    }
   ],
   "source": [
    "df['Category'].unique()"
   ],
   "metadata": {
    "collapsed": false,
    "ExecuteTime": {
     "end_time": "2024-03-21T10:01:33.739742Z",
     "start_time": "2024-03-21T10:01:33.667422Z"
    }
   },
   "id": "95582dc7cb007fa0",
   "execution_count": 96
  },
  {
   "cell_type": "code",
   "outputs": [
    {
     "ename": "ValueError",
     "evalue": "X does not contain the columns listed in cols",
     "output_type": "error",
     "traceback": [
      "\u001B[0;31m---------------------------------------------------------------------------\u001B[0m",
      "\u001B[0;31mValueError\u001B[0m                                Traceback (most recent call last)",
      "Cell \u001B[0;32mIn[97], line 5\u001B[0m\n\u001B[1;32m      2\u001B[0m encoder \u001B[38;5;241m=\u001B[39m BinaryEncoder(cols\u001B[38;5;241m=\u001B[39m[\u001B[38;5;124m'\u001B[39m\u001B[38;5;124mCategory\u001B[39m\u001B[38;5;124m'\u001B[39m], return_df\u001B[38;5;241m=\u001B[39m\u001B[38;5;28;01mTrue\u001B[39;00m)\n\u001B[1;32m      4\u001B[0m \u001B[38;5;66;03m# 对Category列进行二进制编码\u001B[39;00m\n\u001B[0;32m----> 5\u001B[0m df \u001B[38;5;241m=\u001B[39m encoder\u001B[38;5;241m.\u001B[39mfit_transform(df)\n\u001B[1;32m      7\u001B[0m df\u001B[38;5;241m.\u001B[39mhead(\u001B[38;5;241m10\u001B[39m)\n",
      "File \u001B[0;32m~/anaconda3/lib/python3.11/site-packages/sklearn/base.py:867\u001B[0m, in \u001B[0;36mTransformerMixin.fit_transform\u001B[0;34m(self, X, y, **fit_params)\u001B[0m\n\u001B[1;32m    863\u001B[0m \u001B[38;5;66;03m# non-optimized default implementation; override when a better\u001B[39;00m\n\u001B[1;32m    864\u001B[0m \u001B[38;5;66;03m# method is possible for a given clustering algorithm\u001B[39;00m\n\u001B[1;32m    865\u001B[0m \u001B[38;5;28;01mif\u001B[39;00m y \u001B[38;5;129;01mis\u001B[39;00m \u001B[38;5;28;01mNone\u001B[39;00m:\n\u001B[1;32m    866\u001B[0m     \u001B[38;5;66;03m# fit method of arity 1 (unsupervised transformation)\u001B[39;00m\n\u001B[0;32m--> 867\u001B[0m     \u001B[38;5;28;01mreturn\u001B[39;00m \u001B[38;5;28mself\u001B[39m\u001B[38;5;241m.\u001B[39mfit(X, \u001B[38;5;241m*\u001B[39m\u001B[38;5;241m*\u001B[39mfit_params)\u001B[38;5;241m.\u001B[39mtransform(X)\n\u001B[1;32m    868\u001B[0m \u001B[38;5;28;01melse\u001B[39;00m:\n\u001B[1;32m    869\u001B[0m     \u001B[38;5;66;03m# fit method of arity 2 (supervised transformation)\u001B[39;00m\n\u001B[1;32m    870\u001B[0m     \u001B[38;5;28;01mreturn\u001B[39;00m \u001B[38;5;28mself\u001B[39m\u001B[38;5;241m.\u001B[39mfit(X, y, \u001B[38;5;241m*\u001B[39m\u001B[38;5;241m*\u001B[39mfit_params)\u001B[38;5;241m.\u001B[39mtransform(X)\n",
      "File \u001B[0;32m~/anaconda3/lib/python3.11/site-packages/category_encoders/utils.py:306\u001B[0m, in \u001B[0;36mBaseEncoder.fit\u001B[0;34m(self, X, y, **kwargs)\u001B[0m\n\u001B[1;32m    303\u001B[0m \u001B[38;5;28mself\u001B[39m\u001B[38;5;241m.\u001B[39m_determine_fit_columns(X)\n\u001B[1;32m    305\u001B[0m \u001B[38;5;28;01mif\u001B[39;00m \u001B[38;5;129;01mnot\u001B[39;00m \u001B[38;5;28mset\u001B[39m(\u001B[38;5;28mself\u001B[39m\u001B[38;5;241m.\u001B[39mcols)\u001B[38;5;241m.\u001B[39missubset(X\u001B[38;5;241m.\u001B[39mcolumns):\n\u001B[0;32m--> 306\u001B[0m     \u001B[38;5;28;01mraise\u001B[39;00m \u001B[38;5;167;01mValueError\u001B[39;00m(\u001B[38;5;124m'\u001B[39m\u001B[38;5;124mX does not contain the columns listed in cols\u001B[39m\u001B[38;5;124m'\u001B[39m)\n\u001B[1;32m    308\u001B[0m \u001B[38;5;28;01mif\u001B[39;00m \u001B[38;5;28mself\u001B[39m\u001B[38;5;241m.\u001B[39mhandle_missing \u001B[38;5;241m==\u001B[39m \u001B[38;5;124m'\u001B[39m\u001B[38;5;124merror\u001B[39m\u001B[38;5;124m'\u001B[39m:\n\u001B[1;32m    309\u001B[0m     \u001B[38;5;28;01mif\u001B[39;00m X[\u001B[38;5;28mself\u001B[39m\u001B[38;5;241m.\u001B[39mcols]\u001B[38;5;241m.\u001B[39misna()\u001B[38;5;241m.\u001B[39many()\u001B[38;5;241m.\u001B[39many():\n",
      "\u001B[0;31mValueError\u001B[0m: X does not contain the columns listed in cols"
     ]
    }
   ],
   "source": [
    "# 初始化二进制编码器\n",
    "encoder = BinaryEncoder(cols=['Category'], return_df=True)\n",
    "\n",
    "# 对Category列进行二进制编码\n",
    "df = encoder.fit_transform(df)\n",
    "\n",
    "df.head(10)"
   ],
   "metadata": {
    "collapsed": false,
    "ExecuteTime": {
     "end_time": "2024-03-21T10:01:40.598498Z",
     "start_time": "2024-03-21T10:01:40.505402Z"
    }
   },
   "id": "578b7c85f580fcd1",
   "execution_count": 97
  },
  {
   "cell_type": "markdown",
   "source": [
    "## Step 3.5 Content Rating"
   ],
   "metadata": {
    "collapsed": false
   },
   "id": "1bedd28c74a8acba"
  },
  {
   "cell_type": "code",
   "outputs": [
    {
     "data": {
      "text/plain": "array(['Everyone', 'Teen', 'Everyone 10+', 'Mature 17+',\n       'Adults only 18+', 'Unrated'], dtype=object)"
     },
     "execution_count": 30,
     "metadata": {},
     "output_type": "execute_result"
    }
   ],
   "source": [
    "df['Content Rating'].unique()"
   ],
   "metadata": {
    "collapsed": false,
    "ExecuteTime": {
     "end_time": "2024-03-21T09:50:03.176215Z",
     "start_time": "2024-03-21T09:50:03.172309Z"
    }
   },
   "id": "d3c9e42510265784",
   "execution_count": 30
  },
  {
   "cell_type": "code",
   "outputs": [],
   "source": [
    "content_rating_mapping = {\n",
    "    'Unrated': 0,            # 无评级\n",
    "    'Everyone': 1,           # 所有人\n",
    "    'Everyone 10+': 2,       # 适合10岁及以上\n",
    "    'Teen': 3,               # 青少年\n",
    "    'Mature 17+': 4,         # 成人\n",
    "    'Adults only 18+': 5     # 仅限成人\n",
    "}\n",
    "\n",
    "df['Content Rating'] = df['Content Rating'].map(content_rating_mapping)"
   ],
   "metadata": {
    "collapsed": false,
    "ExecuteTime": {
     "end_time": "2024-03-21T09:50:03.251291Z",
     "start_time": "2024-03-21T09:50:03.247352Z"
    }
   },
   "id": "716c857489402e09",
   "execution_count": 31
  },
  {
   "cell_type": "code",
   "outputs": [
    {
     "data": {
      "text/plain": "         Category_0    Category_1    Category_2    Category_3    Category_4  \\\ncount  10840.000000  10840.000000  10840.000000  10840.000000  10840.000000   \nmean       0.038745      0.696863      0.382196      0.383210      0.593173   \nstd        0.192996      0.459635      0.485946      0.486191      0.491265   \nmin        0.000000      0.000000      0.000000      0.000000      0.000000   \n25%        0.000000      0.000000      0.000000      0.000000      0.000000   \n50%        0.000000      1.000000      0.000000      0.000000      1.000000   \n75%        0.000000      1.000000      1.000000      1.000000      1.000000   \nmax        1.000000      1.000000      1.000000      1.000000      1.000000   \n\n         Category_5       Rating       Reviews         Size      Installs  \\\ncount  10840.000000  9366.000000  1.084000e+04  9145.000000  1.084000e+04   \nmean       0.498708     4.191757  4.441529e+05    21.506534  1.546434e+07   \nstd        0.500021     0.515219  2.927761e+06    22.596021  8.502936e+07   \nmin        0.000000     1.000000  0.000000e+00     0.010000  0.000000e+00   \n25%        0.000000     4.000000  3.800000e+01     4.900000  1.000000e+03   \n50%        0.000000     4.300000  2.094000e+03    13.000000  1.000000e+05   \n75%        1.000000     4.500000  5.477550e+04    30.000000  5.000000e+06   \nmax        1.000000     5.000000  7.815831e+07   100.000000  1.000000e+09   \n\n              Price  Content Rating  Updated_Month  Updated_Year  \ncount  10840.000000    10840.000000   10840.000000  10840.000000  \nmean       1.027368        1.400092       6.422325   2017.399723  \nstd       15.949703        0.861890       2.578388      1.100914  \nmin        0.000000        0.000000       1.000000   2010.000000  \n25%        0.000000        1.000000       5.000000   2017.000000  \n50%        0.000000        1.000000       7.000000   2018.000000  \n75%        0.000000        1.000000       8.000000   2018.000000  \nmax      400.000000        5.000000      12.000000   2018.000000  ",
      "text/html": "<div>\n<style scoped>\n    .dataframe tbody tr th:only-of-type {\n        vertical-align: middle;\n    }\n\n    .dataframe tbody tr th {\n        vertical-align: top;\n    }\n\n    .dataframe thead th {\n        text-align: right;\n    }\n</style>\n<table border=\"1\" class=\"dataframe\">\n  <thead>\n    <tr style=\"text-align: right;\">\n      <th></th>\n      <th>Category_0</th>\n      <th>Category_1</th>\n      <th>Category_2</th>\n      <th>Category_3</th>\n      <th>Category_4</th>\n      <th>Category_5</th>\n      <th>Rating</th>\n      <th>Reviews</th>\n      <th>Size</th>\n      <th>Installs</th>\n      <th>Price</th>\n      <th>Content Rating</th>\n      <th>Updated_Month</th>\n      <th>Updated_Year</th>\n    </tr>\n  </thead>\n  <tbody>\n    <tr>\n      <th>count</th>\n      <td>10840.000000</td>\n      <td>10840.000000</td>\n      <td>10840.000000</td>\n      <td>10840.000000</td>\n      <td>10840.000000</td>\n      <td>10840.000000</td>\n      <td>9366.000000</td>\n      <td>1.084000e+04</td>\n      <td>9145.000000</td>\n      <td>1.084000e+04</td>\n      <td>10840.000000</td>\n      <td>10840.000000</td>\n      <td>10840.000000</td>\n      <td>10840.000000</td>\n    </tr>\n    <tr>\n      <th>mean</th>\n      <td>0.038745</td>\n      <td>0.696863</td>\n      <td>0.382196</td>\n      <td>0.383210</td>\n      <td>0.593173</td>\n      <td>0.498708</td>\n      <td>4.191757</td>\n      <td>4.441529e+05</td>\n      <td>21.506534</td>\n      <td>1.546434e+07</td>\n      <td>1.027368</td>\n      <td>1.400092</td>\n      <td>6.422325</td>\n      <td>2017.399723</td>\n    </tr>\n    <tr>\n      <th>std</th>\n      <td>0.192996</td>\n      <td>0.459635</td>\n      <td>0.485946</td>\n      <td>0.486191</td>\n      <td>0.491265</td>\n      <td>0.500021</td>\n      <td>0.515219</td>\n      <td>2.927761e+06</td>\n      <td>22.596021</td>\n      <td>8.502936e+07</td>\n      <td>15.949703</td>\n      <td>0.861890</td>\n      <td>2.578388</td>\n      <td>1.100914</td>\n    </tr>\n    <tr>\n      <th>min</th>\n      <td>0.000000</td>\n      <td>0.000000</td>\n      <td>0.000000</td>\n      <td>0.000000</td>\n      <td>0.000000</td>\n      <td>0.000000</td>\n      <td>1.000000</td>\n      <td>0.000000e+00</td>\n      <td>0.010000</td>\n      <td>0.000000e+00</td>\n      <td>0.000000</td>\n      <td>0.000000</td>\n      <td>1.000000</td>\n      <td>2010.000000</td>\n    </tr>\n    <tr>\n      <th>25%</th>\n      <td>0.000000</td>\n      <td>0.000000</td>\n      <td>0.000000</td>\n      <td>0.000000</td>\n      <td>0.000000</td>\n      <td>0.000000</td>\n      <td>4.000000</td>\n      <td>3.800000e+01</td>\n      <td>4.900000</td>\n      <td>1.000000e+03</td>\n      <td>0.000000</td>\n      <td>1.000000</td>\n      <td>5.000000</td>\n      <td>2017.000000</td>\n    </tr>\n    <tr>\n      <th>50%</th>\n      <td>0.000000</td>\n      <td>1.000000</td>\n      <td>0.000000</td>\n      <td>0.000000</td>\n      <td>1.000000</td>\n      <td>0.000000</td>\n      <td>4.300000</td>\n      <td>2.094000e+03</td>\n      <td>13.000000</td>\n      <td>1.000000e+05</td>\n      <td>0.000000</td>\n      <td>1.000000</td>\n      <td>7.000000</td>\n      <td>2018.000000</td>\n    </tr>\n    <tr>\n      <th>75%</th>\n      <td>0.000000</td>\n      <td>1.000000</td>\n      <td>1.000000</td>\n      <td>1.000000</td>\n      <td>1.000000</td>\n      <td>1.000000</td>\n      <td>4.500000</td>\n      <td>5.477550e+04</td>\n      <td>30.000000</td>\n      <td>5.000000e+06</td>\n      <td>0.000000</td>\n      <td>1.000000</td>\n      <td>8.000000</td>\n      <td>2018.000000</td>\n    </tr>\n    <tr>\n      <th>max</th>\n      <td>1.000000</td>\n      <td>1.000000</td>\n      <td>1.000000</td>\n      <td>1.000000</td>\n      <td>1.000000</td>\n      <td>1.000000</td>\n      <td>5.000000</td>\n      <td>7.815831e+07</td>\n      <td>100.000000</td>\n      <td>1.000000e+09</td>\n      <td>400.000000</td>\n      <td>5.000000</td>\n      <td>12.000000</td>\n      <td>2018.000000</td>\n    </tr>\n  </tbody>\n</table>\n</div>"
     },
     "execution_count": 32,
     "metadata": {},
     "output_type": "execute_result"
    }
   ],
   "source": [
    "df.describe()"
   ],
   "metadata": {
    "collapsed": false,
    "ExecuteTime": {
     "end_time": "2024-03-21T09:50:07.925990Z",
     "start_time": "2024-03-21T09:50:07.890096Z"
    }
   },
   "id": "b2e5a406e4db8b05",
   "execution_count": 32
  },
  {
   "cell_type": "markdown",
   "source": [
    "## Step 3.6 Make Corruption"
   ],
   "metadata": {
    "collapsed": false
   },
   "id": "13cbd985498792b6"
  },
  {
   "cell_type": "code",
   "execution_count": 220,
   "outputs": [],
   "source": [
    "from src.corruptions.generic import InjectMissingValues\n",
    "from src.corruptions.SwapValues import SwapColumnValues\n",
    "from src.corruptions.gaussian_noise import GaussianNoise, Scaling\n",
    "\n",
    "def inject_errors_to_multiple_columns(df):\n",
    "    # Apply Gaussian noise to multiple numerical columns\n",
    "    for column in ['Rating','Size','Price']:\n",
    "        gaussian_noise = GaussianNoise(column=column, fraction=0.1)  # Increased fraction for a more pronounced effect\n",
    "        df = gaussian_noise.transform(df)\n",
    "\n",
    "    # Scale 'english_score' and 'geography_score'\n",
    "    for column in ['Reviews', 'Installs','Price']:\n",
    "        scaling = Scaling(column=column, fraction=0.1)\n",
    "        df = scaling.transform(df)\n",
    "\n",
    "    # Inject missing values into 'weekly_self_study_hours' and a categorical column\n",
    "    for column in ['Installs','Price']:\n",
    "        inject_missing_values = InjectMissingValues(column=column, fraction=0.1)\n",
    "        df = inject_missing_values.transform(df)\n",
    "\n",
    "    return df\n",
    "df = inject_errors_to_multiple_columns(df).copy()\n"
   ],
   "metadata": {
    "collapsed": false,
    "ExecuteTime": {
     "end_time": "2024-03-21T07:18:57.066521Z",
     "start_time": "2024-03-21T07:18:57.030541Z"
    }
   },
   "id": "e494750299b464f6"
  },
  {
   "cell_type": "markdown",
   "id": "8a9b1d10",
   "metadata": {
    "id": "oOiF6Oi1w7Xd",
    "papermill": {
     "duration": 0.033722,
     "end_time": "2023-10-17T05:32:26.256631",
     "exception": false,
     "start_time": "2023-10-17T05:32:26.222909",
     "status": "completed"
    },
    "tags": []
   },
   "source": [
    "\n",
    "# Step 4 Data cleaning"
   ]
  },
  {
   "cell_type": "code",
   "execution_count": 221,
   "id": "fe4f9256",
   "metadata": {
    "execution": {
     "iopub.execute_input": "2023-10-17T05:32:26.322563Z",
     "iopub.status.busy": "2023-10-17T05:32:26.322121Z",
     "iopub.status.idle": "2023-10-17T05:32:26.343766Z",
     "shell.execute_reply": "2023-10-17T05:32:26.343012Z"
    },
    "id": "PQ6o59ydw5jk",
    "outputId": "96de71aa-ec6d-451b-a1fa-65c9e3f615e2",
    "papermill": {
     "duration": 0.057133,
     "end_time": "2023-10-17T05:32:26.345591",
     "exception": false,
     "start_time": "2023-10-17T05:32:26.288458",
     "status": "completed"
    },
    "tags": [],
    "ExecuteTime": {
     "end_time": "2024-03-21T07:18:57.135549Z",
     "start_time": "2024-03-21T07:18:57.126970Z"
    }
   },
   "outputs": [
    {
     "data": {
      "text/plain": "                Null Values  Percentage Null Values\nSize                   1695               15.636531\nRating                 1474               13.597786\nPrice                  1084               10.000000\nInstalls               1084               10.000000\nCurrent Ver               8                0.073801\nAndroid Ver               2                0.018450\nType                      1                0.009225\nCategory_5                0                0.000000\nCategory_4                0                0.000000\nReviews                   0                0.000000\nCategory_0                0                0.000000\nCategory_3                0                0.000000\nCategory_2                0                0.000000\nContent Rating            0                0.000000\nGenres                    0                0.000000\nLast Updated              0                0.000000\nCategory_1                0                0.000000\nApp                       0                0.000000",
      "text/html": "<div>\n<style scoped>\n    .dataframe tbody tr th:only-of-type {\n        vertical-align: middle;\n    }\n\n    .dataframe tbody tr th {\n        vertical-align: top;\n    }\n\n    .dataframe thead th {\n        text-align: right;\n    }\n</style>\n<table border=\"1\" class=\"dataframe\">\n  <thead>\n    <tr style=\"text-align: right;\">\n      <th></th>\n      <th>Null Values</th>\n      <th>Percentage Null Values</th>\n    </tr>\n  </thead>\n  <tbody>\n    <tr>\n      <th>Size</th>\n      <td>1695</td>\n      <td>15.636531</td>\n    </tr>\n    <tr>\n      <th>Rating</th>\n      <td>1474</td>\n      <td>13.597786</td>\n    </tr>\n    <tr>\n      <th>Price</th>\n      <td>1084</td>\n      <td>10.000000</td>\n    </tr>\n    <tr>\n      <th>Installs</th>\n      <td>1084</td>\n      <td>10.000000</td>\n    </tr>\n    <tr>\n      <th>Current Ver</th>\n      <td>8</td>\n      <td>0.073801</td>\n    </tr>\n    <tr>\n      <th>Android Ver</th>\n      <td>2</td>\n      <td>0.018450</td>\n    </tr>\n    <tr>\n      <th>Type</th>\n      <td>1</td>\n      <td>0.009225</td>\n    </tr>\n    <tr>\n      <th>Category_5</th>\n      <td>0</td>\n      <td>0.000000</td>\n    </tr>\n    <tr>\n      <th>Category_4</th>\n      <td>0</td>\n      <td>0.000000</td>\n    </tr>\n    <tr>\n      <th>Reviews</th>\n      <td>0</td>\n      <td>0.000000</td>\n    </tr>\n    <tr>\n      <th>Category_0</th>\n      <td>0</td>\n      <td>0.000000</td>\n    </tr>\n    <tr>\n      <th>Category_3</th>\n      <td>0</td>\n      <td>0.000000</td>\n    </tr>\n    <tr>\n      <th>Category_2</th>\n      <td>0</td>\n      <td>0.000000</td>\n    </tr>\n    <tr>\n      <th>Content Rating</th>\n      <td>0</td>\n      <td>0.000000</td>\n    </tr>\n    <tr>\n      <th>Genres</th>\n      <td>0</td>\n      <td>0.000000</td>\n    </tr>\n    <tr>\n      <th>Last Updated</th>\n      <td>0</td>\n      <td>0.000000</td>\n    </tr>\n    <tr>\n      <th>Category_1</th>\n      <td>0</td>\n      <td>0.000000</td>\n    </tr>\n    <tr>\n      <th>App</th>\n      <td>0</td>\n      <td>0.000000</td>\n    </tr>\n  </tbody>\n</table>\n</div>"
     },
     "execution_count": 221,
     "metadata": {},
     "output_type": "execute_result"
    }
   ],
   "source": [
    "null = pd.DataFrame({'Null Values' : df.isna().sum().sort_values(ascending=False), 'Percentage Null Values' : (df.isna().sum().sort_values(ascending=False)) / (df.shape[0]) * (100)})\n",
    "null"
   ]
  },
  {
   "cell_type": "code",
   "execution_count": 222,
   "id": "1b4799d6",
   "metadata": {
    "execution": {
     "iopub.execute_input": "2023-10-17T05:32:26.412218Z",
     "iopub.status.busy": "2023-10-17T05:32:26.410840Z",
     "iopub.status.idle": "2023-10-17T05:32:26.833921Z",
     "shell.execute_reply": "2023-10-17T05:32:26.832401Z"
    },
    "id": "imFW2BPHxJgC",
    "outputId": "d2050109-0cc9-4dc5-95d9-55d552b80942",
    "papermill": {
     "duration": 0.45902,
     "end_time": "2023-10-17T05:32:26.836374",
     "exception": false,
     "start_time": "2023-10-17T05:32:26.377354",
     "status": "completed"
    },
    "tags": [],
    "ExecuteTime": {
     "end_time": "2024-03-21T07:18:57.524363Z",
     "start_time": "2024-03-21T07:18:57.261650Z"
    }
   },
   "outputs": [
    {
     "data": {
      "text/plain": "<BarContainer object of 18 artists>"
     },
     "execution_count": 222,
     "metadata": {},
     "output_type": "execute_result"
    },
    {
     "data": {
      "text/plain": "<Figure size 1600x800 with 1 Axes>",
      "image/png": "[encoded data removed]"
     },
     "metadata": {},
     "output_type": "display_data"
    }
   ],
   "source": [
    "null_counts = df.isna().sum().sort_values(ascending=False)/len(df)\n",
    "plt.figure(figsize=(16,8))\n",
    "plt.xticks(np.arange(len(null_counts))+0.5,null_counts.index,rotation='vertical')\n",
    "plt.ylabel('fraction of rows with missing data')\n",
    "plt.bar(np.arange(len(null_counts)),null_counts)"
   ]
  },
  {
   "cell_type": "markdown",
   "id": "29321f36",
   "metadata": {
    "id": "Wk-oCHzvxH0t",
    "papermill": {
     "duration": 0.033434,
     "end_time": "2023-10-17T05:32:26.905166",
     "exception": false,
     "start_time": "2023-10-17T05:32:26.871732",
     "status": "completed"
    },
    "tags": []
   },
   "source": [
    "\n",
    "**Its clear that we have missing values in Rating, Type, Content Rating, Current Ver and Android Ver.**"
   ]
  },
  {
   "cell_type": "markdown",
   "id": "4ca3e205",
   "metadata": {
    "id": "iWNd-_QUxRvB",
    "papermill": {
     "duration": 0.032974,
     "end_time": "2023-10-17T05:32:26.970995",
     "exception": false,
     "start_time": "2023-10-17T05:32:26.938021",
     "status": "completed"
    },
    "tags": []
   },
   "source": [
    "\n",
    "## Step 4.1 Handling missing values"
   ]
  },
  {
   "cell_type": "markdown",
   "id": "5c5920ed",
   "metadata": {
    "id": "t9AOxMOrxm8J",
    "papermill": {
     "duration": 0.034489,
     "end_time": "2023-10-17T05:32:27.040327",
     "exception": false,
     "start_time": "2023-10-17T05:32:27.005838",
     "status": "completed"
    },
    "tags": []
   },
   "source": [
    "\n",
    "\n",
    "**I Clean missing values using Random Value Imputation Because This the best way to To maintain distrbuation For each feature.**"
   ]
  },
  {
   "cell_type": "code",
   "execution_count": 223,
   "outputs": [],
   "source": [
    "def impute_median(series):\n",
    "    return series.fillna(series.median())\n",
    "\n",
    "df['Installs'] = df['Installs'].transform(impute_median)"
   ],
   "metadata": {
    "collapsed": false,
    "ExecuteTime": {
     "end_time": "2024-03-21T07:18:57.532939Z",
     "start_time": "2024-03-21T07:18:57.526264Z"
    }
   },
   "id": "b39c1b5630af7ed6"
  },
  {
   "cell_type": "code",
   "execution_count": 224,
   "outputs": [
    {
     "name": "stdout",
     "output_type": "stream",
     "text": [
      "<class 'pandas.core.frame.DataFrame'>\n",
      "Index: 10840 entries, 0 to 10840\n",
      "Data columns (total 18 columns):\n",
      " #   Column          Non-Null Count  Dtype  \n",
      "---  ------          --------------  -----  \n",
      " 0   App             10840 non-null  object \n",
      " 1   Category_0      10840 non-null  int64  \n",
      " 2   Category_1      10840 non-null  int64  \n",
      " 3   Category_2      10840 non-null  int64  \n",
      " 4   Category_3      10840 non-null  int64  \n",
      " 5   Category_4      10840 non-null  int64  \n",
      " 6   Category_5      10840 non-null  int64  \n",
      " 7   Rating          9366 non-null   float64\n",
      " 8   Reviews         10840 non-null  float64\n",
      " 9   Size            9145 non-null   float64\n",
      " 10  Installs        10840 non-null  float64\n",
      " 11  Type            10839 non-null  object \n",
      " 12  Price           9756 non-null   float64\n",
      " 13  Content Rating  10840 non-null  int64  \n",
      " 14  Genres          10840 non-null  object \n",
      " 15  Last Updated    10840 non-null  object \n",
      " 16  Current Ver     10832 non-null  object \n",
      " 17  Android Ver     10838 non-null  object \n",
      "dtypes: float64(5), int64(7), object(6)\n",
      "memory usage: 1.8+ MB\n"
     ]
    }
   ],
   "source": [
    "df.info()"
   ],
   "metadata": {
    "collapsed": false,
    "ExecuteTime": {
     "end_time": "2024-03-21T07:18:57.543586Z",
     "start_time": "2024-03-21T07:18:57.534977Z"
    }
   },
   "id": "25cb5e2ab3fd87fc"
  },
  {
   "cell_type": "code",
   "execution_count": 225,
   "outputs": [],
   "source": [
    "def impute_median(series):\n",
    "    return series.fillna(series.median())\n",
    "\n",
    "df['Price'] = df['Price'].transform(impute_median)"
   ],
   "metadata": {
    "collapsed": false,
    "ExecuteTime": {
     "end_time": "2024-03-21T07:18:57.764489Z",
     "start_time": "2024-03-21T07:18:57.759797Z"
    }
   },
   "id": "c97177fe08f6cc83"
  },
  {
   "cell_type": "code",
   "execution_count": 226,
   "outputs": [
    {
     "name": "stdout",
     "output_type": "stream",
     "text": [
      "<class 'pandas.core.frame.DataFrame'>\n",
      "Index: 10840 entries, 0 to 10840\n",
      "Data columns (total 18 columns):\n",
      " #   Column          Non-Null Count  Dtype  \n",
      "---  ------          --------------  -----  \n",
      " 0   App             10840 non-null  object \n",
      " 1   Category_0      10840 non-null  int64  \n",
      " 2   Category_1      10840 non-null  int64  \n",
      " 3   Category_2      10840 non-null  int64  \n",
      " 4   Category_3      10840 non-null  int64  \n",
      " 5   Category_4      10840 non-null  int64  \n",
      " 6   Category_5      10840 non-null  int64  \n",
      " 7   Rating          9366 non-null   float64\n",
      " 8   Reviews         10840 non-null  float64\n",
      " 9   Size            9145 non-null   float64\n",
      " 10  Installs        10840 non-null  float64\n",
      " 11  Type            10839 non-null  object \n",
      " 12  Price           10840 non-null  float64\n",
      " 13  Content Rating  10840 non-null  int64  \n",
      " 14  Genres          10840 non-null  object \n",
      " 15  Last Updated    10840 non-null  object \n",
      " 16  Current Ver     10832 non-null  object \n",
      " 17  Android Ver     10838 non-null  object \n",
      "dtypes: float64(5), int64(7), object(6)\n",
      "memory usage: 1.8+ MB\n"
     ]
    }
   ],
   "source": [
    "df.info()"
   ],
   "metadata": {
    "collapsed": false,
    "ExecuteTime": {
     "end_time": "2024-03-21T07:18:58.309089Z",
     "start_time": "2024-03-21T07:18:58.259424Z"
    }
   },
   "id": "f13a72d37ceccc70"
  },
  {
   "cell_type": "code",
   "execution_count": 227,
   "id": "f3fd3eea",
   "metadata": {
    "execution": {
     "iopub.execute_input": "2023-10-17T05:32:27.107474Z",
     "iopub.status.busy": "2023-10-17T05:32:27.106866Z",
     "iopub.status.idle": "2023-10-17T05:32:27.114259Z",
     "shell.execute_reply": "2023-10-17T05:32:27.113574Z"
    },
    "id": "_KNMaGPhxXDU",
    "papermill": {
     "duration": 0.043865,
     "end_time": "2023-10-17T05:32:27.116622",
     "exception": false,
     "start_time": "2023-10-17T05:32:27.072757",
     "status": "completed"
    },
    "tags": [],
    "ExecuteTime": {
     "end_time": "2024-03-21T07:18:58.477048Z",
     "start_time": "2024-03-21T07:18:58.469294Z"
    }
   },
   "outputs": [],
   "source": [
    "def impute_median(series):\n",
    "    return series.fillna(series.median())\n",
    "\n",
    "df['Rating'] = df['Rating'].transform(impute_median)"
   ]
  },
  {
   "cell_type": "code",
   "execution_count": 228,
   "id": "9ce0a036",
   "metadata": {
    "execution": {
     "iopub.execute_input": "2023-10-17T05:32:27.187315Z",
     "iopub.status.busy": "2023-10-17T05:32:27.186956Z",
     "iopub.status.idle": "2023-10-17T05:32:27.203604Z",
     "shell.execute_reply": "2023-10-17T05:32:27.202526Z"
    },
    "id": "K7YMH-wo8bCC",
    "outputId": "0bf836db-4aa8-4e83-a310-238660a71a09",
    "papermill": {
     "duration": 0.054503,
     "end_time": "2023-10-17T05:32:27.206033",
     "exception": false,
     "start_time": "2023-10-17T05:32:27.151530",
     "status": "completed"
    },
    "tags": [],
    "ExecuteTime": {
     "end_time": "2024-03-21T07:18:58.898081Z",
     "start_time": "2024-03-21T07:18:58.820586Z"
    }
   },
   "outputs": [
    {
     "name": "stdout",
     "output_type": "stream",
     "text": [
      "<class 'pandas.core.frame.DataFrame'>\n",
      "Index: 10840 entries, 0 to 10840\n",
      "Data columns (total 18 columns):\n",
      " #   Column          Non-Null Count  Dtype  \n",
      "---  ------          --------------  -----  \n",
      " 0   App             10840 non-null  object \n",
      " 1   Category_0      10840 non-null  int64  \n",
      " 2   Category_1      10840 non-null  int64  \n",
      " 3   Category_2      10840 non-null  int64  \n",
      " 4   Category_3      10840 non-null  int64  \n",
      " 5   Category_4      10840 non-null  int64  \n",
      " 6   Category_5      10840 non-null  int64  \n",
      " 7   Rating          10840 non-null  float64\n",
      " 8   Reviews         10840 non-null  float64\n",
      " 9   Size            9145 non-null   float64\n",
      " 10  Installs        10840 non-null  float64\n",
      " 11  Type            10839 non-null  object \n",
      " 12  Price           10840 non-null  float64\n",
      " 13  Content Rating  10840 non-null  int64  \n",
      " 14  Genres          10840 non-null  object \n",
      " 15  Last Updated    10840 non-null  object \n",
      " 16  Current Ver     10832 non-null  object \n",
      " 17  Android Ver     10838 non-null  object \n",
      "dtypes: float64(5), int64(7), object(6)\n",
      "memory usage: 1.8+ MB\n"
     ]
    }
   ],
   "source": [
    "df.info()"
   ]
  },
  {
   "cell_type": "code",
   "execution_count": 229,
   "id": "81c12385",
   "metadata": {
    "execution": {
     "iopub.execute_input": "2023-10-17T05:32:27.274429Z",
     "iopub.status.busy": "2023-10-17T05:32:27.273717Z",
     "iopub.status.idle": "2023-10-17T05:32:27.281293Z",
     "shell.execute_reply": "2023-10-17T05:32:27.280300Z"
    },
    "id": "kTEpHSvzdMIz",
    "papermill": {
     "duration": 0.044659,
     "end_time": "2023-10-17T05:32:27.283614",
     "exception": false,
     "start_time": "2023-10-17T05:32:27.238955",
     "status": "completed"
    },
    "tags": [],
    "ExecuteTime": {
     "end_time": "2024-03-21T07:18:59.331677Z",
     "start_time": "2024-03-21T07:18:59.303562Z"
    }
   },
   "outputs": [],
   "source": [
    "def impute_median(series):\n",
    "    return series.fillna(series.median())\n",
    "\n",
    "df['Size'] = df['Size'].transform(impute_median)"
   ]
  },
  {
   "cell_type": "code",
   "execution_count": 230,
   "id": "2315bdaf",
   "metadata": {
    "execution": {
     "iopub.execute_input": "2023-10-17T05:32:27.352532Z",
     "iopub.status.busy": "2023-10-17T05:32:27.351949Z",
     "iopub.status.idle": "2023-10-17T05:32:27.367429Z",
     "shell.execute_reply": "2023-10-17T05:32:27.366364Z"
    },
    "id": "YiMu_jpbdZ7Q",
    "outputId": "6c0b0956-7727-4af1-bb5c-f7904cab17a4",
    "papermill": {
     "duration": 0.052697,
     "end_time": "2023-10-17T05:32:27.370112",
     "exception": false,
     "start_time": "2023-10-17T05:32:27.317415",
     "status": "completed"
    },
    "tags": [],
    "ExecuteTime": {
     "end_time": "2024-03-21T07:18:59.484606Z",
     "start_time": "2024-03-21T07:18:59.447547Z"
    }
   },
   "outputs": [
    {
     "name": "stdout",
     "output_type": "stream",
     "text": [
      "<class 'pandas.core.frame.DataFrame'>\n",
      "Index: 10840 entries, 0 to 10840\n",
      "Data columns (total 18 columns):\n",
      " #   Column          Non-Null Count  Dtype  \n",
      "---  ------          --------------  -----  \n",
      " 0   App             10840 non-null  object \n",
      " 1   Category_0      10840 non-null  int64  \n",
      " 2   Category_1      10840 non-null  int64  \n",
      " 3   Category_2      10840 non-null  int64  \n",
      " 4   Category_3      10840 non-null  int64  \n",
      " 5   Category_4      10840 non-null  int64  \n",
      " 6   Category_5      10840 non-null  int64  \n",
      " 7   Rating          10840 non-null  float64\n",
      " 8   Reviews         10840 non-null  float64\n",
      " 9   Size            10840 non-null  float64\n",
      " 10  Installs        10840 non-null  float64\n",
      " 11  Type            10839 non-null  object \n",
      " 12  Price           10840 non-null  float64\n",
      " 13  Content Rating  10840 non-null  int64  \n",
      " 14  Genres          10840 non-null  object \n",
      " 15  Last Updated    10840 non-null  object \n",
      " 16  Current Ver     10832 non-null  object \n",
      " 17  Android Ver     10838 non-null  object \n",
      "dtypes: float64(5), int64(7), object(6)\n",
      "memory usage: 1.8+ MB\n"
     ]
    }
   ],
   "source": [
    "df.info()"
   ]
  },
  {
   "cell_type": "code",
   "execution_count": 231,
   "id": "81afeffb",
   "metadata": {
    "execution": {
     "iopub.execute_input": "2023-10-17T05:32:27.442025Z",
     "iopub.status.busy": "2023-10-17T05:32:27.440911Z",
     "iopub.status.idle": "2023-10-17T05:32:27.454271Z",
     "shell.execute_reply": "2023-10-17T05:32:27.452892Z"
    },
    "id": "Bn2VeaVh8HDT",
    "outputId": "68d8c8cc-2605-48c2-e4a4-b20637c5b326",
    "papermill": {
     "duration": 0.051741,
     "end_time": "2023-10-17T05:32:27.456700",
     "exception": false,
     "start_time": "2023-10-17T05:32:27.404959",
     "status": "completed"
    },
    "tags": [],
    "ExecuteTime": {
     "end_time": "2024-03-21T07:18:59.842981Z",
     "start_time": "2024-03-21T07:18:59.819134Z"
    }
   },
   "outputs": [
    {
     "data": {
      "text/plain": "App               0\nCategory_0        0\nCategory_1        0\nCategory_2        0\nCategory_3        0\nCategory_4        0\nCategory_5        0\nRating            0\nReviews           0\nSize              0\nInstalls          0\nType              1\nPrice             0\nContent Rating    0\nGenres            0\nLast Updated      0\nCurrent Ver       8\nAndroid Ver       2\ndtype: int64"
     },
     "execution_count": 231,
     "metadata": {},
     "output_type": "execute_result"
    }
   ],
   "source": [
    "df.isnull().sum()"
   ]
  },
  {
   "cell_type": "code",
   "execution_count": 232,
   "id": "b9c02337",
   "metadata": {
    "execution": {
     "iopub.execute_input": "2023-10-17T05:32:27.528751Z",
     "iopub.status.busy": "2023-10-17T05:32:27.528331Z",
     "iopub.status.idle": "2023-10-17T05:32:27.535671Z",
     "shell.execute_reply": "2023-10-17T05:32:27.534555Z"
    },
    "id": "3RvGpOdm8DbS",
    "papermill": {
     "duration": 0.045873,
     "end_time": "2023-10-17T05:32:27.537717",
     "exception": false,
     "start_time": "2023-10-17T05:32:27.491844",
     "status": "completed"
    },
    "tags": [],
    "ExecuteTime": {
     "end_time": "2024-03-21T07:19:00.010729Z",
     "start_time": "2024-03-21T07:19:00.004411Z"
    }
   },
   "outputs": [],
   "source": [
    "df['Type'].fillna(str(df['Type'].mode().values[0]),inplace=True)"
   ]
  },
  {
   "cell_type": "code",
   "execution_count": 233,
   "id": "5970563f",
   "metadata": {
    "execution": {
     "iopub.execute_input": "2023-10-17T05:32:27.610532Z",
     "iopub.status.busy": "2023-10-17T05:32:27.609878Z",
     "iopub.status.idle": "2023-10-17T05:32:27.622085Z",
     "shell.execute_reply": "2023-10-17T05:32:27.620995Z"
    },
    "id": "R-3bmpsF74Em",
    "outputId": "8b87d36d-0f8f-44cd-c423-16198d216c1b",
    "papermill": {
     "duration": 0.052277,
     "end_time": "2023-10-17T05:32:27.624694",
     "exception": false,
     "start_time": "2023-10-17T05:32:27.572417",
     "status": "completed"
    },
    "tags": [],
    "ExecuteTime": {
     "end_time": "2024-03-21T07:19:00.216396Z",
     "start_time": "2024-03-21T07:19:00.197518Z"
    }
   },
   "outputs": [
    {
     "data": {
      "text/plain": "App               0\nCategory_0        0\nCategory_1        0\nCategory_2        0\nCategory_3        0\nCategory_4        0\nCategory_5        0\nRating            0\nReviews           0\nSize              0\nInstalls          0\nType              0\nPrice             0\nContent Rating    0\nGenres            0\nLast Updated      0\nCurrent Ver       8\nAndroid Ver       2\ndtype: int64"
     },
     "execution_count": 233,
     "metadata": {},
     "output_type": "execute_result"
    }
   ],
   "source": [
    "df.isnull().sum()"
   ]
  },
  {
   "cell_type": "markdown",
   "id": "14b1c797",
   "metadata": {
    "id": "P4TZj4PN83MI",
    "papermill": {
     "duration": 0.034219,
     "end_time": "2023-10-17T05:32:27.781072",
     "exception": false,
     "start_time": "2023-10-17T05:32:27.746853",
     "status": "completed"
    },
    "tags": []
   },
   "source": [
    "\n",
    "## Step 4.2 Delete duplicated data"
   ]
  },
  {
   "cell_type": "code",
   "execution_count": 234,
   "id": "a222aa40",
   "metadata": {
    "execution": {
     "iopub.execute_input": "2023-10-17T05:32:27.852792Z",
     "iopub.status.busy": "2023-10-17T05:32:27.852116Z",
     "iopub.status.idle": "2023-10-17T05:32:27.871303Z",
     "shell.execute_reply": "2023-10-17T05:32:27.869979Z"
    },
    "id": "5zagcfsy8klC",
    "outputId": "bdae1776-0726-4e18-a6e7-c7ea7ddae1cb",
    "papermill": {
     "duration": 0.057601,
     "end_time": "2023-10-17T05:32:27.873551",
     "exception": false,
     "start_time": "2023-10-17T05:32:27.815950",
     "status": "completed"
    },
    "tags": [],
    "ExecuteTime": {
     "end_time": "2024-03-21T07:19:00.390490Z",
     "start_time": "2024-03-21T07:19:00.378915Z"
    }
   },
   "outputs": [
    {
     "name": "stdout",
     "output_type": "stream",
     "text": [
      "170\n"
     ]
    }
   ],
   "source": [
    "duplicate = df.duplicated()\n",
    "print(duplicate.sum())"
   ]
  },
  {
   "cell_type": "code",
   "execution_count": 235,
   "id": "7bd3d6ce",
   "metadata": {
    "execution": {
     "iopub.execute_input": "2023-10-17T05:32:27.944683Z",
     "iopub.status.busy": "2023-10-17T05:32:27.943841Z",
     "iopub.status.idle": "2023-10-17T05:32:27.962155Z",
     "shell.execute_reply": "2023-10-17T05:32:27.960907Z"
    },
    "id": "8WfG1r0tO8Wp",
    "papermill": {
     "duration": 0.056101,
     "end_time": "2023-10-17T05:32:27.964703",
     "exception": false,
     "start_time": "2023-10-17T05:32:27.908602",
     "status": "completed"
    },
    "tags": [],
    "ExecuteTime": {
     "end_time": "2024-03-21T07:19:00.515106Z",
     "start_time": "2024-03-21T07:19:00.504176Z"
    }
   },
   "outputs": [],
   "source": [
    "df.drop_duplicates(inplace=True)"
   ]
  },
  {
   "cell_type": "code",
   "execution_count": 236,
   "id": "398cd231",
   "metadata": {
    "execution": {
     "iopub.execute_input": "2023-10-17T05:32:28.038243Z",
     "iopub.status.busy": "2023-10-17T05:32:28.037794Z",
     "iopub.status.idle": "2023-10-17T05:32:28.055145Z",
     "shell.execute_reply": "2023-10-17T05:32:28.053877Z"
    },
    "id": "j4G_0_TaNXle",
    "outputId": "b687e240-a521-4b6b-a32a-6bb19a460fd3",
    "papermill": {
     "duration": 0.058382,
     "end_time": "2023-10-17T05:32:28.057589",
     "exception": false,
     "start_time": "2023-10-17T05:32:27.999207",
     "status": "completed"
    },
    "tags": [],
    "ExecuteTime": {
     "end_time": "2024-03-21T07:19:00.568632Z",
     "start_time": "2024-03-21T07:19:00.559861Z"
    }
   },
   "outputs": [
    {
     "name": "stdout",
     "output_type": "stream",
     "text": [
      "0\n"
     ]
    }
   ],
   "source": [
    "duplicate = df.duplicated()\n",
    "print(duplicate.sum())"
   ]
  },
  {
   "cell_type": "markdown",
   "id": "2e2d2269",
   "metadata": {
    "id": "RWUmaSKp9dCV",
    "papermill": {
     "duration": 0.032595,
     "end_time": "2023-10-17T05:32:28.123546",
     "exception": false,
     "start_time": "2023-10-17T05:32:28.090951",
     "status": "completed"
    },
    "tags": []
   },
   "source": [
    "\n",
    "Extract Numerical and categorical features"
   ]
  },
  {
   "cell_type": "code",
   "execution_count": 237,
   "id": "37f6de97",
   "metadata": {
    "execution": {
     "iopub.execute_input": "2023-10-17T05:32:28.191621Z",
     "iopub.status.busy": "2023-10-17T05:32:28.191209Z",
     "iopub.status.idle": "2023-10-17T05:32:28.198855Z",
     "shell.execute_reply": "2023-10-17T05:32:28.197790Z"
    },
    "id": "TNN3GDepPBJl",
    "outputId": "2e3e0226-4cb1-4ce9-dbef-93d6631317ab",
    "papermill": {
     "duration": 0.04471,
     "end_time": "2023-10-17T05:32:28.200950",
     "exception": false,
     "start_time": "2023-10-17T05:32:28.156240",
     "status": "completed"
    },
    "tags": [],
    "ExecuteTime": {
     "end_time": "2024-03-21T07:19:00.700329Z",
     "start_time": "2024-03-21T07:19:00.696228Z"
    }
   },
   "outputs": [
    {
     "data": {
      "text/plain": "['Category_0',\n 'Category_1',\n 'Category_2',\n 'Category_3',\n 'Category_4',\n 'Category_5',\n 'Rating',\n 'Reviews',\n 'Size',\n 'Installs',\n 'Price',\n 'Content Rating']"
     },
     "execution_count": 237,
     "metadata": {},
     "output_type": "execute_result"
    }
   ],
   "source": [
    "num_features=[col for col in df.columns if df[col].dtype!='O']\n",
    "num_features"
   ]
  },
  {
   "cell_type": "code",
   "execution_count": 238,
   "id": "6ccef6bb",
   "metadata": {
    "execution": {
     "iopub.execute_input": "2023-10-17T05:32:28.270180Z",
     "iopub.status.busy": "2023-10-17T05:32:28.268924Z",
     "iopub.status.idle": "2023-10-17T05:32:28.276690Z",
     "shell.execute_reply": "2023-10-17T05:32:28.275782Z"
    },
    "id": "yc_QvvIz-e-V",
    "outputId": "bbb3f189-2556-47a7-fd0e-c492378fe605",
    "papermill": {
     "duration": 0.044293,
     "end_time": "2023-10-17T05:32:28.278558",
     "exception": false,
     "start_time": "2023-10-17T05:32:28.234265",
     "status": "completed"
    },
    "tags": [],
    "ExecuteTime": {
     "end_time": "2024-03-21T07:19:00.745622Z",
     "start_time": "2024-03-21T07:19:00.742658Z"
    }
   },
   "outputs": [
    {
     "data": {
      "text/plain": "['App', 'Type', 'Genres', 'Last Updated', 'Current Ver', 'Android Ver']"
     },
     "execution_count": 238,
     "metadata": {},
     "output_type": "execute_result"
    }
   ],
   "source": [
    "cat_features=[col for col in df.columns if df[col].dtype=='O']\n",
    "cat_features"
   ]
  },
  {
   "cell_type": "markdown",
   "id": "9f95031c",
   "metadata": {
    "id": "awYe0CXV-tjH",
    "papermill": {
     "duration": 0.033245,
     "end_time": "2023-10-17T05:32:28.346476",
     "exception": false,
     "start_time": "2023-10-17T05:32:28.313231",
     "status": "completed"
    },
    "tags": []
   },
   "source": [
    "## Step 4.3 Check outliers"
   ]
  },
  {
   "cell_type": "code",
   "execution_count": 239,
   "id": "793d1c6e",
   "metadata": {
    "execution": {
     "iopub.execute_input": "2023-10-17T05:32:28.415370Z",
     "iopub.status.busy": "2023-10-17T05:32:28.414615Z",
     "iopub.status.idle": "2023-10-17T05:32:28.639556Z",
     "shell.execute_reply": "2023-10-17T05:32:28.638436Z"
    },
    "id": "krRnnYxvVMWq",
    "outputId": "9b7dfb96-d839-45ed-a865-7059f74a81ba",
    "papermill": {
     "duration": 0.262269,
     "end_time": "2023-10-17T05:32:28.642145",
     "exception": false,
     "start_time": "2023-10-17T05:32:28.379876",
     "status": "completed"
    },
    "tags": [],
    "ExecuteTime": {
     "end_time": "2024-03-21T07:19:00.969632Z",
     "start_time": "2024-03-21T07:19:00.867289Z"
    }
   },
   "outputs": [
    {
     "data": {
      "text/plain": "<Axes: >"
     },
     "execution_count": 239,
     "metadata": {},
     "output_type": "execute_result"
    },
    {
     "data": {
      "text/plain": "<Figure size 800x500 with 1 Axes>",
      "image/png": "[encoded data removed]"
     },
     "metadata": {},
     "output_type": "display_data"
    }
   ],
   "source": [
    "sns.boxplot(df[\"Rating\"])"
   ]
  },
  {
   "cell_type": "code",
   "execution_count": 240,
   "id": "59e91f0d",
   "metadata": {
    "execution": {
     "iopub.execute_input": "2023-10-17T05:32:28.722940Z",
     "iopub.status.busy": "2023-10-17T05:32:28.722523Z",
     "iopub.status.idle": "2023-10-17T05:32:28.949230Z",
     "shell.execute_reply": "2023-10-17T05:32:28.948045Z"
    },
    "id": "q72NNvIFVZKz",
    "outputId": "8bd84784-e9ee-44d0-ed01-eb19d5f2161f",
    "papermill": {
     "duration": 0.273469,
     "end_time": "2023-10-17T05:32:28.951627",
     "exception": false,
     "start_time": "2023-10-17T05:32:28.678158",
     "status": "completed"
    },
    "tags": [],
    "ExecuteTime": {
     "end_time": "2024-03-21T07:19:01.119088Z",
     "start_time": "2024-03-21T07:19:01.028157Z"
    }
   },
   "outputs": [
    {
     "data": {
      "text/plain": "<Axes: >"
     },
     "execution_count": 240,
     "metadata": {},
     "output_type": "execute_result"
    },
    {
     "data": {
      "text/plain": "<Figure size 800x500 with 1 Axes>",
      "image/png": "[encoded data removed]"
     },
     "metadata": {},
     "output_type": "display_data"
    }
   ],
   "source": [
    "sns.boxplot(df[\"Rating\"])"
   ]
  },
  {
   "cell_type": "code",
   "execution_count": 241,
   "id": "4d45cbd9",
   "metadata": {
    "execution": {
     "iopub.execute_input": "2023-10-17T05:32:29.027295Z",
     "iopub.status.busy": "2023-10-17T05:32:29.026345Z",
     "iopub.status.idle": "2023-10-17T05:32:29.237080Z",
     "shell.execute_reply": "2023-10-17T05:32:29.235701Z"
    },
    "id": "cK-aJh_xWP3w",
    "outputId": "7f46c08f-bdfd-4142-ea2a-7a19ad0d6908",
    "papermill": {
     "duration": 0.252847,
     "end_time": "2023-10-17T05:32:29.239704",
     "exception": false,
     "start_time": "2023-10-17T05:32:28.986857",
     "status": "completed"
    },
    "tags": [],
    "ExecuteTime": {
     "end_time": "2024-03-21T07:19:01.271089Z",
     "start_time": "2024-03-21T07:19:01.195906Z"
    }
   },
   "outputs": [
    {
     "data": {
      "text/plain": "<Axes: >"
     },
     "execution_count": 241,
     "metadata": {},
     "output_type": "execute_result"
    },
    {
     "data": {
      "text/plain": "<Figure size 800x500 with 1 Axes>",
      "image/png": "[encoded data removed]"
     },
     "metadata": {},
     "output_type": "display_data"
    }
   ],
   "source": [
    "sns.boxplot(df[\"Size\"])"
   ]
  },
  {
   "cell_type": "code",
   "execution_count": 242,
   "id": "ee521e80",
   "metadata": {
    "execution": {
     "iopub.execute_input": "2023-10-17T05:32:29.313940Z",
     "iopub.status.busy": "2023-10-17T05:32:29.312572Z",
     "iopub.status.idle": "2023-10-17T05:32:29.528475Z",
     "shell.execute_reply": "2023-10-17T05:32:29.527650Z"
    },
    "id": "yG1CE4AHWSAU",
    "outputId": "d5f37c7e-581d-4897-bb3e-3f3c8032921a",
    "papermill": {
     "duration": 0.25578,
     "end_time": "2023-10-17T05:32:29.530327",
     "exception": false,
     "start_time": "2023-10-17T05:32:29.274547",
     "status": "completed"
    },
    "tags": [],
    "ExecuteTime": {
     "end_time": "2024-03-21T07:19:01.564725Z",
     "start_time": "2024-03-21T07:19:01.492638Z"
    }
   },
   "outputs": [
    {
     "data": {
      "text/plain": "<Axes: >"
     },
     "execution_count": 242,
     "metadata": {},
     "output_type": "execute_result"
    },
    {
     "data": {
      "text/plain": "<Figure size 800x500 with 1 Axes>",
      "image/png": "[encoded data removed]"
     },
     "metadata": {},
     "output_type": "display_data"
    }
   ],
   "source": [
    "sns.boxplot(df[\"Installs\"])"
   ]
  },
  {
   "cell_type": "code",
   "execution_count": 243,
   "id": "ed09a20d",
   "metadata": {
    "execution": {
     "iopub.execute_input": "2023-10-17T05:32:29.603520Z",
     "iopub.status.busy": "2023-10-17T05:32:29.602803Z",
     "iopub.status.idle": "2023-10-17T05:32:29.758010Z",
     "shell.execute_reply": "2023-10-17T05:32:29.756744Z"
    },
    "id": "DS4Ix7H3WazV",
    "outputId": "12428ae0-ac8c-4cca-a7e7-ec5125367fae",
    "papermill": {
     "duration": 0.195918,
     "end_time": "2023-10-17T05:32:29.761732",
     "exception": false,
     "start_time": "2023-10-17T05:32:29.565814",
     "status": "completed"
    },
    "tags": [],
    "ExecuteTime": {
     "end_time": "2024-03-21T07:19:01.687580Z",
     "start_time": "2024-03-21T07:19:01.606621Z"
    }
   },
   "outputs": [
    {
     "data": {
      "text/plain": "<Axes: >"
     },
     "execution_count": 243,
     "metadata": {},
     "output_type": "execute_result"
    },
    {
     "data": {
      "text/plain": "<Figure size 800x500 with 1 Axes>",
      "image/png": "[encoded data removed]"
     },
     "metadata": {},
     "output_type": "display_data"
    }
   ],
   "source": [
    "sns.boxplot(df[\"Rating\"])"
   ]
  },
  {
   "cell_type": "code",
   "execution_count": 244,
   "id": "ce1cc417",
   "metadata": {
    "execution": {
     "iopub.execute_input": "2023-10-17T05:32:29.838157Z",
     "iopub.status.busy": "2023-10-17T05:32:29.836838Z",
     "iopub.status.idle": "2023-10-17T05:32:30.053972Z",
     "shell.execute_reply": "2023-10-17T05:32:30.052834Z"
    },
    "id": "UqkOxxbYWhjI",
    "outputId": "dcf4437d-aa75-4614-f560-8aaaae428e57",
    "papermill": {
     "duration": 0.257953,
     "end_time": "2023-10-17T05:32:30.056263",
     "exception": false,
     "start_time": "2023-10-17T05:32:29.798310",
     "status": "completed"
    },
    "tags": [],
    "ExecuteTime": {
     "end_time": "2024-03-21T07:19:01.857314Z",
     "start_time": "2024-03-21T07:19:01.788182Z"
    }
   },
   "outputs": [
    {
     "data": {
      "text/plain": "<Axes: >"
     },
     "execution_count": 244,
     "metadata": {},
     "output_type": "execute_result"
    },
    {
     "data": {
      "text/plain": "<Figure size 800x500 with 1 Axes>",
      "image/png": "[encoded data removed]"
     },
     "metadata": {},
     "output_type": "display_data"
    }
   ],
   "source": [
    "sns.boxplot(df[\"Price\"])"
   ]
  },
  {
   "cell_type": "markdown",
   "id": "02b60a49",
   "metadata": {
    "id": "etApdL62FJg6",
    "papermill": {
     "duration": 0.037429,
     "end_time": "2023-10-17T05:32:30.130336",
     "exception": false,
     "start_time": "2023-10-17T05:32:30.092907",
     "status": "completed"
    },
    "tags": []
   },
   "source": [
    "\n",
    "# Step 5 Exploratory Data Analysis (EDA)"
   ]
  },
  {
   "cell_type": "markdown",
   "id": "dc46b287",
   "metadata": {
    "id": "aG-YnC6QFZoc",
    "papermill": {
     "duration": 0.037742,
     "end_time": "2023-10-17T05:32:30.204948",
     "exception": false,
     "start_time": "2023-10-17T05:32:30.167206",
     "status": "completed"
    },
    "tags": []
   },
   "source": [
    "\n",
    "\n",
    "## Category Column"
   ]
  },
  {
   "cell_type": "code",
   "execution_count": 245,
   "id": "b865ee63",
   "metadata": {
    "execution": {
     "iopub.execute_input": "2023-10-17T05:32:30.282651Z",
     "iopub.status.busy": "2023-10-17T05:32:30.281138Z",
     "iopub.status.idle": "2023-10-17T05:32:30.290529Z",
     "shell.execute_reply": "2023-10-17T05:32:30.289736Z"
    },
    "id": "jOo3cfz-iXq-",
    "outputId": "def7d16e-f3bf-407c-b2f6-7a2146bd7c04",
    "papermill": {
     "duration": 0.050214,
     "end_time": "2023-10-17T05:32:30.292472",
     "exception": false,
     "start_time": "2023-10-17T05:32:30.242258",
     "status": "completed"
    },
    "tags": [],
    "ExecuteTime": {
     "end_time": "2024-03-21T07:19:02.224170Z",
     "start_time": "2024-03-21T07:19:02.075304Z"
    }
   },
   "outputs": [
    {
     "ename": "KeyError",
     "evalue": "'Category'",
     "output_type": "error",
     "traceback": [
      "\u001B[0;31m---------------------------------------------------------------------------\u001B[0m",
      "\u001B[0;31mKeyError\u001B[0m                                  Traceback (most recent call last)",
      "File \u001B[0;32m~/anaconda3/lib/python3.11/site-packages/pandas/core/indexes/base.py:3653\u001B[0m, in \u001B[0;36mIndex.get_loc\u001B[0;34m(self, key)\u001B[0m\n\u001B[1;32m   3652\u001B[0m \u001B[38;5;28;01mtry\u001B[39;00m:\n\u001B[0;32m-> 3653\u001B[0m     \u001B[38;5;28;01mreturn\u001B[39;00m \u001B[38;5;28mself\u001B[39m\u001B[38;5;241m.\u001B[39m_engine\u001B[38;5;241m.\u001B[39mget_loc(casted_key)\n\u001B[1;32m   3654\u001B[0m \u001B[38;5;28;01mexcept\u001B[39;00m \u001B[38;5;167;01mKeyError\u001B[39;00m \u001B[38;5;28;01mas\u001B[39;00m err:\n",
      "File \u001B[0;32m~/anaconda3/lib/python3.11/site-packages/pandas/_libs/index.pyx:147\u001B[0m, in \u001B[0;36mpandas._libs.index.IndexEngine.get_loc\u001B[0;34m()\u001B[0m\n",
      "File \u001B[0;32m~/anaconda3/lib/python3.11/site-packages/pandas/_libs/index.pyx:176\u001B[0m, in \u001B[0;36mpandas._libs.index.IndexEngine.get_loc\u001B[0;34m()\u001B[0m\n",
      "File \u001B[0;32mpandas/_libs/hashtable_class_helper.pxi:7080\u001B[0m, in \u001B[0;36mpandas._libs.hashtable.PyObjectHashTable.get_item\u001B[0;34m()\u001B[0m\n",
      "File \u001B[0;32mpandas/_libs/hashtable_class_helper.pxi:7088\u001B[0m, in \u001B[0;36mpandas._libs.hashtable.PyObjectHashTable.get_item\u001B[0;34m()\u001B[0m\n",
      "\u001B[0;31mKeyError\u001B[0m: 'Category'",
      "\nThe above exception was the direct cause of the following exception:\n",
      "\u001B[0;31mKeyError\u001B[0m                                  Traceback (most recent call last)",
      "Cell \u001B[0;32mIn[245], line 1\u001B[0m\n\u001B[0;32m----> 1\u001B[0m df[\u001B[38;5;124m'\u001B[39m\u001B[38;5;124mCategory\u001B[39m\u001B[38;5;124m'\u001B[39m]\u001B[38;5;241m.\u001B[39mvalue_counts()\n",
      "File \u001B[0;32m~/anaconda3/lib/python3.11/site-packages/pandas/core/frame.py:3761\u001B[0m, in \u001B[0;36mDataFrame.__getitem__\u001B[0;34m(self, key)\u001B[0m\n\u001B[1;32m   3759\u001B[0m \u001B[38;5;28;01mif\u001B[39;00m \u001B[38;5;28mself\u001B[39m\u001B[38;5;241m.\u001B[39mcolumns\u001B[38;5;241m.\u001B[39mnlevels \u001B[38;5;241m>\u001B[39m \u001B[38;5;241m1\u001B[39m:\n\u001B[1;32m   3760\u001B[0m     \u001B[38;5;28;01mreturn\u001B[39;00m \u001B[38;5;28mself\u001B[39m\u001B[38;5;241m.\u001B[39m_getitem_multilevel(key)\n\u001B[0;32m-> 3761\u001B[0m indexer \u001B[38;5;241m=\u001B[39m \u001B[38;5;28mself\u001B[39m\u001B[38;5;241m.\u001B[39mcolumns\u001B[38;5;241m.\u001B[39mget_loc(key)\n\u001B[1;32m   3762\u001B[0m \u001B[38;5;28;01mif\u001B[39;00m is_integer(indexer):\n\u001B[1;32m   3763\u001B[0m     indexer \u001B[38;5;241m=\u001B[39m [indexer]\n",
      "File \u001B[0;32m~/anaconda3/lib/python3.11/site-packages/pandas/core/indexes/base.py:3655\u001B[0m, in \u001B[0;36mIndex.get_loc\u001B[0;34m(self, key)\u001B[0m\n\u001B[1;32m   3653\u001B[0m     \u001B[38;5;28;01mreturn\u001B[39;00m \u001B[38;5;28mself\u001B[39m\u001B[38;5;241m.\u001B[39m_engine\u001B[38;5;241m.\u001B[39mget_loc(casted_key)\n\u001B[1;32m   3654\u001B[0m \u001B[38;5;28;01mexcept\u001B[39;00m \u001B[38;5;167;01mKeyError\u001B[39;00m \u001B[38;5;28;01mas\u001B[39;00m err:\n\u001B[0;32m-> 3655\u001B[0m     \u001B[38;5;28;01mraise\u001B[39;00m \u001B[38;5;167;01mKeyError\u001B[39;00m(key) \u001B[38;5;28;01mfrom\u001B[39;00m \u001B[38;5;21;01merr\u001B[39;00m\n\u001B[1;32m   3656\u001B[0m \u001B[38;5;28;01mexcept\u001B[39;00m \u001B[38;5;167;01mTypeError\u001B[39;00m:\n\u001B[1;32m   3657\u001B[0m     \u001B[38;5;66;03m# If we have a listlike key, _check_indexing_error will raise\u001B[39;00m\n\u001B[1;32m   3658\u001B[0m     \u001B[38;5;66;03m#  InvalidIndexError. Otherwise we fall through and re-raise\u001B[39;00m\n\u001B[1;32m   3659\u001B[0m     \u001B[38;5;66;03m#  the TypeError.\u001B[39;00m\n\u001B[1;32m   3660\u001B[0m     \u001B[38;5;28mself\u001B[39m\u001B[38;5;241m.\u001B[39m_check_indexing_error(key)\n",
      "\u001B[0;31mKeyError\u001B[0m: 'Category'"
     ]
    }
   ],
   "source": [
    "df['Category'].value_counts()"
   ]
  },
  {
   "cell_type": "code",
   "execution_count": 246,
   "id": "30a99f40",
   "metadata": {
    "execution": {
     "iopub.execute_input": "2023-10-17T05:32:30.369679Z",
     "iopub.status.busy": "2023-10-17T05:32:30.368960Z",
     "iopub.status.idle": "2023-10-17T05:32:31.121869Z",
     "shell.execute_reply": "2023-10-17T05:32:31.120607Z"
    },
    "id": "pOKZgFazFgK_",
    "outputId": "b1ce1d6f-7f6a-439d-a034-83cae3d4f787",
    "papermill": {
     "duration": 0.794385,
     "end_time": "2023-10-17T05:32:31.124204",
     "exception": false,
     "start_time": "2023-10-17T05:32:30.329819",
     "status": "completed"
    },
    "tags": [],
    "ExecuteTime": {
     "end_time": "2024-03-21T07:19:02.362241Z",
     "start_time": "2024-03-21T07:19:02.298206Z"
    }
   },
   "outputs": [
    {
     "ename": "ValueError",
     "evalue": "Could not interpret input 'Category'",
     "output_type": "error",
     "traceback": [
      "\u001B[0;31m---------------------------------------------------------------------------\u001B[0m",
      "\u001B[0;31mValueError\u001B[0m                                Traceback (most recent call last)",
      "Cell \u001B[0;32mIn[246], line 2\u001B[0m\n\u001B[1;32m      1\u001B[0m plt\u001B[38;5;241m.\u001B[39mrcParams[\u001B[38;5;124m'\u001B[39m\u001B[38;5;124mfigure.figsize\u001B[39m\u001B[38;5;124m'\u001B[39m] \u001B[38;5;241m=\u001B[39m (\u001B[38;5;241m20\u001B[39m, \u001B[38;5;241m10\u001B[39m)\n\u001B[0;32m----> 2\u001B[0m sns\u001B[38;5;241m.\u001B[39mcountplot(x\u001B[38;5;241m=\u001B[39m\u001B[38;5;124m'\u001B[39m\u001B[38;5;124mCategory\u001B[39m\u001B[38;5;124m'\u001B[39m,data\u001B[38;5;241m=\u001B[39mdf)\n\u001B[1;32m      3\u001B[0m plt\u001B[38;5;241m.\u001B[39mxticks(rotation\u001B[38;5;241m=\u001B[39m\u001B[38;5;241m70\u001B[39m)\n",
      "File \u001B[0;32m~/anaconda3/lib/python3.11/site-packages/seaborn/categorical.py:2943\u001B[0m, in \u001B[0;36mcountplot\u001B[0;34m(data, x, y, hue, order, hue_order, orient, color, palette, saturation, width, dodge, ax, **kwargs)\u001B[0m\n\u001B[1;32m   2940\u001B[0m \u001B[38;5;28;01melif\u001B[39;00m x \u001B[38;5;129;01mis\u001B[39;00m \u001B[38;5;129;01mnot\u001B[39;00m \u001B[38;5;28;01mNone\u001B[39;00m \u001B[38;5;129;01mand\u001B[39;00m y \u001B[38;5;129;01mis\u001B[39;00m \u001B[38;5;129;01mnot\u001B[39;00m \u001B[38;5;28;01mNone\u001B[39;00m:\n\u001B[1;32m   2941\u001B[0m     \u001B[38;5;28;01mraise\u001B[39;00m \u001B[38;5;167;01mValueError\u001B[39;00m(\u001B[38;5;124m\"\u001B[39m\u001B[38;5;124mCannot pass values for both `x` and `y`\u001B[39m\u001B[38;5;124m\"\u001B[39m)\n\u001B[0;32m-> 2943\u001B[0m plotter \u001B[38;5;241m=\u001B[39m _CountPlotter(\n\u001B[1;32m   2944\u001B[0m     x, y, hue, data, order, hue_order,\n\u001B[1;32m   2945\u001B[0m     estimator, errorbar, n_boot, units, seed,\n\u001B[1;32m   2946\u001B[0m     orient, color, palette, saturation,\n\u001B[1;32m   2947\u001B[0m     width, errcolor, errwidth, capsize, dodge\n\u001B[1;32m   2948\u001B[0m )\n\u001B[1;32m   2950\u001B[0m plotter\u001B[38;5;241m.\u001B[39mvalue_label \u001B[38;5;241m=\u001B[39m \u001B[38;5;124m\"\u001B[39m\u001B[38;5;124mcount\u001B[39m\u001B[38;5;124m\"\u001B[39m\n\u001B[1;32m   2952\u001B[0m \u001B[38;5;28;01mif\u001B[39;00m ax \u001B[38;5;129;01mis\u001B[39;00m \u001B[38;5;28;01mNone\u001B[39;00m:\n",
      "File \u001B[0;32m~/anaconda3/lib/python3.11/site-packages/seaborn/categorical.py:1530\u001B[0m, in \u001B[0;36m_BarPlotter.__init__\u001B[0;34m(self, x, y, hue, data, order, hue_order, estimator, errorbar, n_boot, units, seed, orient, color, palette, saturation, width, errcolor, errwidth, capsize, dodge)\u001B[0m\n\u001B[1;32m   1525\u001B[0m \u001B[38;5;28;01mdef\u001B[39;00m \u001B[38;5;21m__init__\u001B[39m(\u001B[38;5;28mself\u001B[39m, x, y, hue, data, order, hue_order,\n\u001B[1;32m   1526\u001B[0m              estimator, errorbar, n_boot, units, seed,\n\u001B[1;32m   1527\u001B[0m              orient, color, palette, saturation, width,\n\u001B[1;32m   1528\u001B[0m              errcolor, errwidth, capsize, dodge):\n\u001B[1;32m   1529\u001B[0m \u001B[38;5;250m    \u001B[39m\u001B[38;5;124;03m\"\"\"Initialize the plotter.\"\"\"\u001B[39;00m\n\u001B[0;32m-> 1530\u001B[0m     \u001B[38;5;28mself\u001B[39m\u001B[38;5;241m.\u001B[39mestablish_variables(x, y, hue, data, orient,\n\u001B[1;32m   1531\u001B[0m                              order, hue_order, units)\n\u001B[1;32m   1532\u001B[0m     \u001B[38;5;28mself\u001B[39m\u001B[38;5;241m.\u001B[39mestablish_colors(color, palette, saturation)\n\u001B[1;32m   1533\u001B[0m     \u001B[38;5;28mself\u001B[39m\u001B[38;5;241m.\u001B[39mestimate_statistic(estimator, errorbar, n_boot, seed)\n",
      "File \u001B[0;32m~/anaconda3/lib/python3.11/site-packages/seaborn/categorical.py:541\u001B[0m, in \u001B[0;36m_CategoricalPlotter.establish_variables\u001B[0;34m(self, x, y, hue, data, orient, order, hue_order, units)\u001B[0m\n\u001B[1;32m    539\u001B[0m     \u001B[38;5;28;01mif\u001B[39;00m \u001B[38;5;28misinstance\u001B[39m(var, \u001B[38;5;28mstr\u001B[39m):\n\u001B[1;32m    540\u001B[0m         err \u001B[38;5;241m=\u001B[39m \u001B[38;5;124mf\u001B[39m\u001B[38;5;124m\"\u001B[39m\u001B[38;5;124mCould not interpret input \u001B[39m\u001B[38;5;124m'\u001B[39m\u001B[38;5;132;01m{\u001B[39;00mvar\u001B[38;5;132;01m}\u001B[39;00m\u001B[38;5;124m'\u001B[39m\u001B[38;5;124m\"\u001B[39m\n\u001B[0;32m--> 541\u001B[0m         \u001B[38;5;28;01mraise\u001B[39;00m \u001B[38;5;167;01mValueError\u001B[39;00m(err)\n\u001B[1;32m    543\u001B[0m \u001B[38;5;66;03m# Figure out the plotting orientation\u001B[39;00m\n\u001B[1;32m    544\u001B[0m orient \u001B[38;5;241m=\u001B[39m infer_orient(\n\u001B[1;32m    545\u001B[0m     x, y, orient, require_numeric\u001B[38;5;241m=\u001B[39m\u001B[38;5;28mself\u001B[39m\u001B[38;5;241m.\u001B[39mrequire_numeric\n\u001B[1;32m    546\u001B[0m )\n",
      "\u001B[0;31mValueError\u001B[0m: Could not interpret input 'Category'"
     ]
    }
   ],
   "source": [
    "plt.rcParams['figure.figsize'] = (20, 10)\n",
    "sns.countplot(x='Category',data=df)\n",
    "plt.xticks(rotation=70)"
   ]
  },
  {
   "cell_type": "code",
   "execution_count": 247,
   "id": "b7a0b050",
   "metadata": {
    "execution": {
     "iopub.execute_input": "2023-10-17T05:32:31.206992Z",
     "iopub.status.busy": "2023-10-17T05:32:31.206516Z",
     "iopub.status.idle": "2023-10-17T05:32:33.772696Z",
     "shell.execute_reply": "2023-10-17T05:32:33.771631Z"
    },
    "id": "DlaqBUwBFztR",
    "outputId": "0312f193-398d-41bc-98d2-b39c1dc17c2b",
    "papermill": {
     "duration": 2.61801,
     "end_time": "2023-10-17T05:32:33.782428",
     "exception": false,
     "start_time": "2023-10-17T05:32:31.164418",
     "status": "completed"
    },
    "tags": [],
    "ExecuteTime": {
     "end_time": "2024-03-21T07:19:02.948998Z",
     "start_time": "2024-03-21T07:19:02.633318Z"
    }
   },
   "outputs": [
    {
     "ename": "AttributeError",
     "evalue": "'DataFrame' object has no attribute 'Category'",
     "output_type": "error",
     "traceback": [
      "\u001B[0;31m---------------------------------------------------------------------------\u001B[0m",
      "\u001B[0;31mAttributeError\u001B[0m                            Traceback (most recent call last)",
      "\u001B[0;32m/var/folders/yh/lf5rty9x2b730gz2hmgsby480000gq/T/ipykernel_66144/3911588697.py\u001B[0m in \u001B[0;36m?\u001B[0;34m()\u001B[0m\n\u001B[1;32m      2\u001B[0m wordcloud = WordCloud(\n\u001B[1;32m      3\u001B[0m                           \u001B[0mbackground_color\u001B[0m\u001B[0;34m=\u001B[0m\u001B[0;34m'black'\u001B[0m\u001B[0;34m,\u001B[0m\u001B[0;34m\u001B[0m\u001B[0;34m\u001B[0m\u001B[0m\n\u001B[1;32m      4\u001B[0m                           \u001B[0mwidth\u001B[0m\u001B[0;34m=\u001B[0m\u001B[0;36m1920\u001B[0m\u001B[0;34m,\u001B[0m\u001B[0;34m\u001B[0m\u001B[0;34m\u001B[0m\u001B[0m\n\u001B[1;32m      5\u001B[0m                           \u001B[0mheight\u001B[0m\u001B[0;34m=\u001B[0m\u001B[0;36m1080\u001B[0m\u001B[0;34m\u001B[0m\u001B[0;34m\u001B[0m\u001B[0m\n\u001B[0;32m----> 6\u001B[0;31m                          ).generate(\" \".join(df.Category))\n\u001B[0m\u001B[1;32m      7\u001B[0m \u001B[0mplt\u001B[0m\u001B[0;34m.\u001B[0m\u001B[0mimshow\u001B[0m\u001B[0;34m(\u001B[0m\u001B[0mwordcloud\u001B[0m\u001B[0;34m)\u001B[0m\u001B[0;34m\u001B[0m\u001B[0;34m\u001B[0m\u001B[0m\n\u001B[1;32m      8\u001B[0m \u001B[0mplt\u001B[0m\u001B[0;34m.\u001B[0m\u001B[0maxis\u001B[0m\u001B[0;34m(\u001B[0m\u001B[0;34m'off'\u001B[0m\u001B[0;34m)\u001B[0m\u001B[0;34m\u001B[0m\u001B[0;34m\u001B[0m\u001B[0m\n\u001B[1;32m      9\u001B[0m \u001B[0mplt\u001B[0m\u001B[0;34m.\u001B[0m\u001B[0mshow\u001B[0m\u001B[0;34m(\u001B[0m\u001B[0;34m)\u001B[0m\u001B[0;34m\u001B[0m\u001B[0;34m\u001B[0m\u001B[0m\n",
      "\u001B[0;32m~/anaconda3/lib/python3.11/site-packages/pandas/core/generic.py\u001B[0m in \u001B[0;36m?\u001B[0;34m(self, name)\u001B[0m\n\u001B[1;32m   5985\u001B[0m             \u001B[0;32mand\u001B[0m \u001B[0mname\u001B[0m \u001B[0;32mnot\u001B[0m \u001B[0;32min\u001B[0m \u001B[0mself\u001B[0m\u001B[0;34m.\u001B[0m\u001B[0m_accessors\u001B[0m\u001B[0;34m\u001B[0m\u001B[0;34m\u001B[0m\u001B[0m\n\u001B[1;32m   5986\u001B[0m             \u001B[0;32mand\u001B[0m \u001B[0mself\u001B[0m\u001B[0;34m.\u001B[0m\u001B[0m_info_axis\u001B[0m\u001B[0;34m.\u001B[0m\u001B[0m_can_hold_identifiers_and_holds_name\u001B[0m\u001B[0;34m(\u001B[0m\u001B[0mname\u001B[0m\u001B[0;34m)\u001B[0m\u001B[0;34m\u001B[0m\u001B[0;34m\u001B[0m\u001B[0m\n\u001B[1;32m   5987\u001B[0m         ):\n\u001B[1;32m   5988\u001B[0m             \u001B[0;32mreturn\u001B[0m \u001B[0mself\u001B[0m\u001B[0;34m[\u001B[0m\u001B[0mname\u001B[0m\u001B[0;34m]\u001B[0m\u001B[0;34m\u001B[0m\u001B[0;34m\u001B[0m\u001B[0m\n\u001B[0;32m-> 5989\u001B[0;31m         \u001B[0;32mreturn\u001B[0m \u001B[0mobject\u001B[0m\u001B[0;34m.\u001B[0m\u001B[0m__getattribute__\u001B[0m\u001B[0;34m(\u001B[0m\u001B[0mself\u001B[0m\u001B[0;34m,\u001B[0m \u001B[0mname\u001B[0m\u001B[0;34m)\u001B[0m\u001B[0;34m\u001B[0m\u001B[0;34m\u001B[0m\u001B[0m\n\u001B[0m",
      "\u001B[0;31mAttributeError\u001B[0m: 'DataFrame' object has no attribute 'Category'"
     ]
    },
    {
     "data": {
      "text/plain": "<Figure size 2500x1500 with 1 Axes>",
      "image/png": "[encoded data removed]"
     },
     "metadata": {},
     "output_type": "display_data"
    }
   ],
   "source": [
    "plt.subplots(figsize=(25,15))\n",
    "wordcloud = WordCloud(\n",
    "                          background_color='black',\n",
    "                          width=1920,\n",
    "                          height=1080\n",
    "                         ).generate(\" \".join(df.Category))\n",
    "plt.imshow(wordcloud)\n",
    "plt.axis('off')\n",
    "plt.show()"
   ]
  },
  {
   "cell_type": "markdown",
   "id": "c62b693b",
   "metadata": {
    "id": "cG4EB9ehH_UC",
    "papermill": {
     "duration": 0.055575,
     "end_time": "2023-10-17T05:32:33.895641",
     "exception": false,
     "start_time": "2023-10-17T05:32:33.840066",
     "status": "completed"
    },
    "tags": []
   },
   "source": [
    "\n",
    "\n",
    "## Category vs Rating Analysis"
   ]
  },
  {
   "cell_type": "code",
   "execution_count": null,
   "id": "b814de37",
   "metadata": {
    "execution": {
     "iopub.execute_input": "2023-10-17T05:32:34.004864Z",
     "iopub.status.busy": "2023-10-17T05:32:34.003957Z",
     "iopub.status.idle": "2023-10-17T05:32:34.890076Z",
     "shell.execute_reply": "2023-10-17T05:32:34.888821Z"
    },
    "id": "JQ18e7kgF3_O",
    "outputId": "ef6cc711-e5ef-4911-d3e8-79562f61c4ba",
    "papermill": {
     "duration": 0.945566,
     "end_time": "2023-10-17T05:32:34.894481",
     "exception": false,
     "start_time": "2023-10-17T05:32:33.948915",
     "status": "completed"
    },
    "tags": [],
    "ExecuteTime": {
     "end_time": "2024-03-21T07:19:02.961034Z",
     "start_time": "2024-03-21T07:19:02.960275Z"
    }
   },
   "outputs": [],
   "source": [
    "plt.figure(figsize=(20,15))\n",
    "sns.boxplot(y='Rating',x='Category',data = df.sort_values('Rating',ascending=False))\n",
    "plt.xticks(rotation=80)"
   ]
  },
  {
   "cell_type": "markdown",
   "id": "e4d9be77",
   "metadata": {
    "id": "Z_rjSp2kIOq0",
    "papermill": {
     "duration": 0.067034,
     "end_time": "2023-10-17T05:32:35.025170",
     "exception": false,
     "start_time": "2023-10-17T05:32:34.958136",
     "status": "completed"
    },
    "tags": []
   },
   "source": [
    "\n",
    "## Type Column"
   ]
  },
  {
   "cell_type": "code",
   "execution_count": 248,
   "id": "d82a35b2",
   "metadata": {
    "execution": {
     "iopub.execute_input": "2023-10-17T05:32:35.138532Z",
     "iopub.status.busy": "2023-10-17T05:32:35.137016Z",
     "iopub.status.idle": "2023-10-17T05:32:35.146862Z",
     "shell.execute_reply": "2023-10-17T05:32:35.145825Z"
    },
    "id": "5ZHiA6sEG7Av",
    "outputId": "289508d7-b375-4a12-e098-b6443165b936",
    "papermill": {
     "duration": 0.067672,
     "end_time": "2023-10-17T05:32:35.148928",
     "exception": false,
     "start_time": "2023-10-17T05:32:35.081256",
     "status": "completed"
    },
    "tags": [],
    "ExecuteTime": {
     "end_time": "2024-03-21T07:19:03.309185Z",
     "start_time": "2024-03-21T07:19:03.287978Z"
    }
   },
   "outputs": [
    {
     "data": {
      "text/plain": "Type\nFree    9873\nPaid     797\nName: count, dtype: int64"
     },
     "execution_count": 248,
     "metadata": {},
     "output_type": "execute_result"
    }
   ],
   "source": [
    "df['Type'].value_counts()"
   ]
  },
  {
   "cell_type": "code",
   "execution_count": 249,
   "id": "ecbc8d48",
   "metadata": {
    "execution": {
     "iopub.execute_input": "2023-10-17T05:32:35.265883Z",
     "iopub.status.busy": "2023-10-17T05:32:35.265409Z",
     "iopub.status.idle": "2023-10-17T05:32:35.493096Z",
     "shell.execute_reply": "2023-10-17T05:32:35.491856Z"
    },
    "id": "UDGCOU7NIViC",
    "outputId": "fceaeb51-dbf2-417f-f518-efe543506dd1",
    "papermill": {
     "duration": 0.289353,
     "end_time": "2023-10-17T05:32:35.495681",
     "exception": false,
     "start_time": "2023-10-17T05:32:35.206328",
     "status": "completed"
    },
    "tags": [],
    "ExecuteTime": {
     "end_time": "2024-03-21T07:19:03.964578Z",
     "start_time": "2024-03-21T07:19:03.874618Z"
    }
   },
   "outputs": [
    {
     "data": {
      "text/plain": "(array([0, 1]), [Text(0, 0, 'Free'), Text(1, 0, 'Paid')])"
     },
     "execution_count": 249,
     "metadata": {},
     "output_type": "execute_result"
    },
    {
     "data": {
      "text/plain": "<Figure size 800x500 with 1 Axes>",
      "image/png": "[encoded data removed]"
     },
     "metadata": {},
     "output_type": "display_data"
    }
   ],
   "source": [
    "plt.rcParams['figure.figsize'] = (8,5)\n",
    "sns.countplot(x='Type',data=df)\n",
    "plt.xticks(rotation=70)"
   ]
  },
  {
   "cell_type": "code",
   "execution_count": 250,
   "id": "64614c87",
   "metadata": {
    "execution": {
     "iopub.execute_input": "2023-10-17T05:32:35.613830Z",
     "iopub.status.busy": "2023-10-17T05:32:35.612727Z",
     "iopub.status.idle": "2023-10-17T05:32:35.781136Z",
     "shell.execute_reply": "2023-10-17T05:32:35.779462Z"
    },
    "id": "VJmqIvYbIdZw",
    "outputId": "a5c4e05d-d3b8-42e5-bee9-02b73c9163b8",
    "papermill": {
     "duration": 0.233049,
     "end_time": "2023-10-17T05:32:35.785266",
     "exception": false,
     "start_time": "2023-10-17T05:32:35.552217",
     "status": "completed"
    },
    "tags": [],
    "ExecuteTime": {
     "end_time": "2024-03-21T07:19:04.278460Z",
     "start_time": "2024-03-21T07:19:04.159908Z"
    }
   },
   "outputs": [
    {
     "data": {
      "text/plain": "<Axes: ylabel='count'>"
     },
     "execution_count": 250,
     "metadata": {},
     "output_type": "execute_result"
    },
    {
     "data": {
      "text/plain": "<Figure size 800x500 with 1 Axes>",
      "image/png": "[encoded data removed]"
     },
     "metadata": {},
     "output_type": "display_data"
    }
   ],
   "source": [
    "df[\"Type\"].value_counts().plot.pie(autopct = \"%1.1f%%\")"
   ]
  },
  {
   "cell_type": "markdown",
   "id": "c851d2ee",
   "metadata": {
    "id": "HUgJeGblINyF",
    "papermill": {
     "duration": 0.060295,
     "end_time": "2023-10-17T05:32:35.949310",
     "exception": false,
     "start_time": "2023-10-17T05:32:35.889015",
     "status": "completed"
    },
    "tags": []
   },
   "source": [
    "\n",
    "\n",
    "## Type vs Rating Analysis"
   ]
  },
  {
   "cell_type": "code",
   "execution_count": 251,
   "id": "6a264949",
   "metadata": {
    "execution": {
     "iopub.execute_input": "2023-10-17T05:32:36.070339Z",
     "iopub.status.busy": "2023-10-17T05:32:36.069562Z",
     "iopub.status.idle": "2023-10-17T05:32:36.461508Z",
     "shell.execute_reply": "2023-10-17T05:32:36.460299Z"
    },
    "id": "cEDhS1pNKP_W",
    "outputId": "25701c21-0ffb-4976-8a0b-616876790c40",
    "papermill": {
     "duration": 0.456042,
     "end_time": "2023-10-17T05:32:36.464089",
     "exception": false,
     "start_time": "2023-10-17T05:32:36.008047",
     "status": "completed"
    },
    "tags": [],
    "ExecuteTime": {
     "end_time": "2024-03-21T07:19:04.472765Z",
     "start_time": "2024-03-21T07:19:04.289274Z"
    }
   },
   "outputs": [
    {
     "data": {
      "text/plain": "<seaborn.axisgrid.FacetGrid at 0x17f968690>"
     },
     "execution_count": 251,
     "metadata": {},
     "output_type": "execute_result"
    },
    {
     "data": {
      "text/plain": "<Figure size 1500x800 with 0 Axes>"
     },
     "metadata": {},
     "output_type": "display_data"
    },
    {
     "data": {
      "text/plain": "<Figure size 500x500 with 1 Axes>",
      "image/png": "[encoded data removed]"
     },
     "metadata": {},
     "output_type": "display_data"
    }
   ],
   "source": [
    "plt.figure(figsize=(15,8))\n",
    "sns.catplot(y='Rating',x='Type',data = df.sort_values('Rating',ascending=False),kind='boxen')"
   ]
  },
  {
   "cell_type": "markdown",
   "id": "acc21a9d",
   "metadata": {
    "id": "oURRhe4XKYEt",
    "papermill": {
     "duration": 0.057654,
     "end_time": "2023-10-17T05:32:36.579343",
     "exception": false,
     "start_time": "2023-10-17T05:32:36.521689",
     "status": "completed"
    },
    "tags": []
   },
   "source": [
    "\n",
    "\n",
    "## Content Rating Column"
   ]
  },
  {
   "cell_type": "code",
   "execution_count": 252,
   "id": "6ae1b4f7",
   "metadata": {
    "execution": {
     "iopub.execute_input": "2023-10-17T05:32:36.713586Z",
     "iopub.status.busy": "2023-10-17T05:32:36.712784Z",
     "iopub.status.idle": "2023-10-17T05:32:36.724114Z",
     "shell.execute_reply": "2023-10-17T05:32:36.723129Z"
    },
    "id": "YBA7bUkkKU_g",
    "outputId": "23f745e2-7fce-4e71-b27d-75d87a0aa80d",
    "papermill": {
     "duration": 0.076953,
     "end_time": "2023-10-17T05:32:36.726672",
     "exception": false,
     "start_time": "2023-10-17T05:32:36.649719",
     "status": "completed"
    },
    "tags": [],
    "ExecuteTime": {
     "end_time": "2024-03-21T07:19:04.562267Z",
     "start_time": "2024-03-21T07:19:04.556310Z"
    }
   },
   "outputs": [
    {
     "data": {
      "text/plain": "Content Rating\n1    8606\n3    1180\n4     475\n2     404\n5       3\n0       2\nName: count, dtype: int64"
     },
     "execution_count": 252,
     "metadata": {},
     "output_type": "execute_result"
    }
   ],
   "source": [
    "df['Content Rating'].value_counts()"
   ]
  },
  {
   "cell_type": "markdown",
   "id": "ffea3cd2",
   "metadata": {
    "id": "NZ10B12TKrBa",
    "papermill": {
     "duration": 0.058295,
     "end_time": "2023-10-17T05:32:36.855101",
     "exception": false,
     "start_time": "2023-10-17T05:32:36.796806",
     "status": "completed"
    },
    "tags": []
   },
   "source": [
    "\n",
    "## Content Rating vs Rating Analysis"
   ]
  },
  {
   "cell_type": "markdown",
   "id": "940b3031",
   "metadata": {
    "id": "MP_YVJF7Kq6d",
    "papermill": {
     "duration": 0.070134,
     "end_time": "2023-10-17T05:32:36.989112",
     "exception": false,
     "start_time": "2023-10-17T05:32:36.918978",
     "status": "completed"
    },
    "tags": []
   },
   "source": []
  },
  {
   "cell_type": "code",
   "execution_count": 253,
   "id": "e056ece0",
   "metadata": {
    "execution": {
     "iopub.execute_input": "2023-10-17T05:32:37.126540Z",
     "iopub.status.busy": "2023-10-17T05:32:37.125471Z",
     "iopub.status.idle": "2023-10-17T05:32:37.478295Z",
     "shell.execute_reply": "2023-10-17T05:32:37.477170Z"
    },
    "id": "eok6ZscJKppQ",
    "outputId": "4d4bf37a-f916-40ac-80cc-7c48e9a2ee2d",
    "papermill": {
     "duration": 0.418871,
     "end_time": "2023-10-17T05:32:37.481350",
     "exception": false,
     "start_time": "2023-10-17T05:32:37.062479",
     "status": "completed"
    },
    "tags": [],
    "ExecuteTime": {
     "end_time": "2024-03-21T07:19:05.160274Z",
     "start_time": "2024-03-21T07:19:04.939794Z"
    }
   },
   "outputs": [
    {
     "data": {
      "text/plain": "(array([0, 1, 2, 3, 4, 5]),\n [Text(0, 0, '0'),\n  Text(1, 0, '1'),\n  Text(2, 0, '2'),\n  Text(3, 0, '3'),\n  Text(4, 0, '4'),\n  Text(5, 0, '5')])"
     },
     "execution_count": 253,
     "metadata": {},
     "output_type": "execute_result"
    },
    {
     "data": {
      "text/plain": "<Figure size 1200x800 with 1 Axes>",
      "image/png": "[encoded data removed]"
     },
     "metadata": {},
     "output_type": "display_data"
    }
   ],
   "source": [
    "plt.figure(figsize=(12,8))\n",
    "sns.boxplot(y='Rating',x='Content Rating',data = df.sort_values('Rating',ascending=False))\n",
    "plt.xticks(rotation=90)"
   ]
  },
  {
   "cell_type": "code",
   "execution_count": 254,
   "id": "6232c2e2",
   "metadata": {
    "execution": {
     "iopub.execute_input": "2023-10-17T05:32:37.612440Z",
     "iopub.status.busy": "2023-10-17T05:32:37.611336Z",
     "iopub.status.idle": "2023-10-17T05:32:38.311714Z",
     "shell.execute_reply": "2023-10-17T05:32:38.310364Z"
    },
    "id": "MBHmw1o0Ki5R",
    "outputId": "1e5a869c-164e-4941-e9a6-2955d21eb8d9",
    "papermill": {
     "duration": 0.76465,
     "end_time": "2023-10-17T05:32:38.314260",
     "exception": false,
     "start_time": "2023-10-17T05:32:37.549610",
     "status": "completed"
    },
    "tags": [],
    "ExecuteTime": {
     "end_time": "2024-03-21T07:19:05.499604Z",
     "start_time": "2024-03-21T07:19:05.170739Z"
    }
   },
   "outputs": [
    {
     "data": {
      "text/plain": "<Axes: xlabel='Content Rating', ylabel='Installs'>"
     },
     "execution_count": 254,
     "metadata": {},
     "output_type": "execute_result"
    },
    {
     "data": {
      "text/plain": "<Figure size 1200x800 with 1 Axes>",
      "image/png": "[encoded data removed]"
     },
     "metadata": {},
     "output_type": "display_data"
    }
   ],
   "source": [
    "plt.figure(figsize=(12,8))\n",
    "sns.barplot(x=\"Content Rating\", y=\"Installs\", hue=\"Type\", data=df)"
   ]
  },
  {
   "cell_type": "markdown",
   "id": "1d8c68ae",
   "metadata": {
    "id": "U3THYogfK-wK",
    "papermill": {
     "duration": 0.058205,
     "end_time": "2023-10-17T05:32:38.431932",
     "exception": false,
     "start_time": "2023-10-17T05:32:38.373727",
     "status": "completed"
    },
    "tags": []
   },
   "source": [
    "\n",
    "## Genres Column"
   ]
  },
  {
   "cell_type": "code",
   "execution_count": 255,
   "id": "27e08b65",
   "metadata": {
    "execution": {
     "iopub.execute_input": "2023-10-17T05:32:38.557725Z",
     "iopub.status.busy": "2023-10-17T05:32:38.557000Z",
     "iopub.status.idle": "2023-10-17T05:32:38.566325Z",
     "shell.execute_reply": "2023-10-17T05:32:38.565233Z"
    },
    "id": "KW61eUhlK78y",
    "outputId": "a1d0890b-5bc8-415c-e96b-8b67f2a50165",
    "papermill": {
     "duration": 0.07503,
     "end_time": "2023-10-17T05:32:38.568689",
     "exception": false,
     "start_time": "2023-10-17T05:32:38.493659",
     "status": "completed"
    },
    "tags": [],
    "ExecuteTime": {
     "end_time": "2024-03-21T07:19:05.508664Z",
     "start_time": "2024-03-21T07:19:05.501322Z"
    }
   },
   "outputs": [
    {
     "data": {
      "text/plain": "Genres\nTools                                842\nEntertainment                        610\nEducation                            542\nMedical                              452\nBusiness                             449\n                                    ... \nParenting;Brain Games                  1\nTravel & Local;Action & Adventure      1\nLifestyle;Pretend Play                 1\nTools;Education                        1\nStrategy;Creativity                    1\nName: count, Length: 119, dtype: int64"
     },
     "execution_count": 255,
     "metadata": {},
     "output_type": "execute_result"
    }
   ],
   "source": [
    "df['Genres'].value_counts()"
   ]
  },
  {
   "cell_type": "markdown",
   "id": "b15ca9e5",
   "metadata": {
    "id": "er86WmpTLNR2",
    "papermill": {
     "duration": 0.061674,
     "end_time": "2023-10-17T05:32:38.691249",
     "exception": false,
     "start_time": "2023-10-17T05:32:38.629575",
     "status": "completed"
    },
    "tags": []
   },
   "source": [
    "\n",
    "## Current ver Column"
   ]
  },
  {
   "cell_type": "code",
   "execution_count": 256,
   "id": "7fc3111c",
   "metadata": {
    "execution": {
     "iopub.execute_input": "2023-10-17T05:32:38.818920Z",
     "iopub.status.busy": "2023-10-17T05:32:38.818530Z",
     "iopub.status.idle": "2023-10-17T05:32:38.829882Z",
     "shell.execute_reply": "2023-10-17T05:32:38.828597Z"
    },
    "id": "i-o_pAtrLHzI",
    "outputId": "8807dc86-0030-4906-d5aa-5551e2b04de2",
    "papermill": {
     "duration": 0.076067,
     "end_time": "2023-10-17T05:32:38.832110",
     "exception": false,
     "start_time": "2023-10-17T05:32:38.756043",
     "status": "completed"
    },
    "tags": [],
    "ExecuteTime": {
     "end_time": "2024-03-21T07:19:05.641752Z",
     "start_time": "2024-03-21T07:19:05.630548Z"
    }
   },
   "outputs": [
    {
     "data": {
      "text/plain": "Current Ver\nVaries with device    1391\n1.0                    807\n1.1                    264\n1.2                    178\n2.0                    151\n                      ... \n6.5.1725                 1\n2.42.1.9                 1\n3.000.1                  1\n3.53.2                   1\n2.0.148.0                1\nName: count, Length: 2831, dtype: int64"
     },
     "execution_count": 256,
     "metadata": {},
     "output_type": "execute_result"
    }
   ],
   "source": [
    "df['Current Ver'].value_counts()"
   ]
  },
  {
   "cell_type": "markdown",
   "id": "a618d107",
   "metadata": {
    "id": "Bj92tf6oLTMq",
    "papermill": {
     "duration": 0.066058,
     "end_time": "2023-10-17T05:32:38.958859",
     "exception": false,
     "start_time": "2023-10-17T05:32:38.892801",
     "status": "completed"
    },
    "tags": []
   },
   "source": [
    "\n",
    "\n",
    "## Android Ver Column"
   ]
  },
  {
   "cell_type": "code",
   "execution_count": 257,
   "id": "c442311a",
   "metadata": {
    "execution": {
     "iopub.execute_input": "2023-10-17T05:32:39.087686Z",
     "iopub.status.busy": "2023-10-17T05:32:39.087275Z",
     "iopub.status.idle": "2023-10-17T05:32:39.096578Z",
     "shell.execute_reply": "2023-10-17T05:32:39.095550Z"
    },
    "id": "aa07fy33LRbL",
    "outputId": "4d73e788-0d74-4b2f-cccb-0efdb96fff56",
    "papermill": {
     "duration": 0.074686,
     "end_time": "2023-10-17T05:32:39.098671",
     "exception": false,
     "start_time": "2023-10-17T05:32:39.023985",
     "status": "completed"
    },
    "tags": [],
    "ExecuteTime": {
     "end_time": "2024-03-21T07:19:06.165033Z",
     "start_time": "2024-03-21T07:19:06.160478Z"
    }
   },
   "outputs": [
    {
     "data": {
      "text/plain": "Android Ver\n4.1 and up            2433\n4.0.3 and up          1486\n4.0 and up            1367\nVaries with device    1300\n4.4 and up             947\n2.3 and up             648\n5.0 and up             579\n4.2 and up             389\n2.3.3 and up           281\n2.2 and up             244\n4.3 and up             242\n3.0 and up             241\n2.1 and up             134\n1.6 and up             116\n6.0 and up              58\n7.0 and up              42\n3.2 and up              36\n2.0 and up              32\n5.1 and up              24\n1.5 and up              20\n4.4W and up             12\n3.1 and up              10\n2.0.1 and up             7\n8.0 and up               6\n7.1 and up               3\n4.0.3 - 7.1.1            2\n5.0 - 8.0                2\n1.0 and up               2\n7.0 - 7.1.1              1\n4.1 - 7.1.1              1\n5.0 - 6.0                1\n2.2 - 7.1.1              1\n5.0 - 7.1.1              1\nName: count, dtype: int64"
     },
     "execution_count": 257,
     "metadata": {},
     "output_type": "execute_result"
    }
   ],
   "source": [
    "df['Android Ver'].value_counts()\n"
   ]
  },
  {
   "cell_type": "code",
   "execution_count": 258,
   "id": "e4b48379",
   "metadata": {
    "execution": {
     "iopub.execute_input": "2023-10-17T05:32:39.217540Z",
     "iopub.status.busy": "2023-10-17T05:32:39.216797Z",
     "iopub.status.idle": "2023-10-17T05:32:39.223278Z",
     "shell.execute_reply": "2023-10-17T05:32:39.222555Z"
    },
    "id": "izpxcm7wLas8",
    "papermill": {
     "duration": 0.069569,
     "end_time": "2023-10-17T05:32:39.225196",
     "exception": false,
     "start_time": "2023-10-17T05:32:39.155627",
     "status": "completed"
    },
    "tags": [],
    "ExecuteTime": {
     "end_time": "2024-03-21T07:19:06.482499Z",
     "start_time": "2024-03-21T07:19:06.478704Z"
    }
   },
   "outputs": [],
   "source": [
    "# Function to create a scatter plot\n",
    "def scatters(col1, col2):\n",
    "    # Create a scatter plot using Seaborn\n",
    "    plt.figure(figsize=(10, 6))  # Adjust the figure size as needed\n",
    "    sns.scatterplot(data=df, x=col1, y=col2, hue=\"Type\")\n",
    "    plt.title(f'Scatter Plot of {col1} vs {col2}')\n",
    "    plt.xlabel(col1)\n",
    "    plt.ylabel(col2)\n",
    "    plt.show()\n",
    "\n",
    "# Function to create a KDE plot\n",
    "def kde_plot(feature):\n",
    "    # Create a FacetGrid for KDE plots using Seaborn\n",
    "    grid = sns.FacetGrid(df, hue=\"Type\", aspect=2)\n",
    "\n",
    "    # Map KDE plots for the specified feature\n",
    "    grid.map(sns.kdeplot, feature)\n",
    "\n",
    "    # Add a legend to distinguish between categories\n",
    "    grid.add_legend()"
   ]
  },
  {
   "cell_type": "markdown",
   "id": "a0961e7d",
   "metadata": {
    "id": "Z8JxlIRWS7_b",
    "papermill": {
     "duration": 0.058327,
     "end_time": "2023-10-17T05:32:39.341159",
     "exception": false,
     "start_time": "2023-10-17T05:32:39.282832",
     "status": "completed"
    },
    "tags": []
   },
   "source": [
    "<div style=\"border-radius:10px; padding: 15px; background-color: #ffeacc; font-size:120%; text-align:left\">\n",
    "\n",
    "## kde-Plot Analysis"
   ]
  },
  {
   "cell_type": "code",
   "execution_count": 259,
   "id": "3ac3092d",
   "metadata": {
    "execution": {
     "iopub.execute_input": "2023-10-17T05:32:39.461542Z",
     "iopub.status.busy": "2023-10-17T05:32:39.460394Z",
     "iopub.status.idle": "2023-10-17T05:32:40.100267Z",
     "shell.execute_reply": "2023-10-17T05:32:40.099473Z"
    },
    "id": "7604r3SYSj0A",
    "outputId": "ca4b2529-1401-4c85-c7e6-0594b9fe79d3",
    "papermill": {
     "duration": 0.702442,
     "end_time": "2023-10-17T05:32:40.102158",
     "exception": false,
     "start_time": "2023-10-17T05:32:39.399716",
     "status": "completed"
    },
    "tags": [],
    "ExecuteTime": {
     "end_time": "2024-03-21T07:19:07.093424Z",
     "start_time": "2024-03-21T07:19:06.610148Z"
    }
   },
   "outputs": [
    {
     "data": {
      "text/plain": "<Figure size 686.375x300 with 1 Axes>",
      "image/png": "[encoded data removed]"
     },
     "metadata": {},
     "output_type": "display_data"
    }
   ],
   "source": [
    "kde_plot('Rating')"
   ]
  },
  {
   "cell_type": "code",
   "execution_count": 260,
   "id": "f796f433",
   "metadata": {
    "execution": {
     "iopub.execute_input": "2023-10-17T05:32:40.220410Z",
     "iopub.status.busy": "2023-10-17T05:32:40.219583Z",
     "iopub.status.idle": "2023-10-17T05:32:40.794805Z",
     "shell.execute_reply": "2023-10-17T05:32:40.793518Z"
    },
    "id": "1OsTleC8TMMh",
    "outputId": "6e6cecdc-304b-401b-ff58-633a38af9120",
    "papermill": {
     "duration": 0.638102,
     "end_time": "2023-10-17T05:32:40.797254",
     "exception": false,
     "start_time": "2023-10-17T05:32:40.159152",
     "status": "completed"
    },
    "tags": [],
    "ExecuteTime": {
     "end_time": "2024-03-21T07:19:07.537237Z",
     "start_time": "2024-03-21T07:19:07.096255Z"
    }
   },
   "outputs": [
    {
     "data": {
      "text/plain": "<Figure size 686.375x300 with 1 Axes>",
      "image/png": "[encoded data removed]"
     },
     "metadata": {},
     "output_type": "display_data"
    }
   ],
   "source": [
    "kde_plot('Size')"
   ]
  },
  {
   "cell_type": "code",
   "execution_count": 261,
   "id": "b327e0c2",
   "metadata": {
    "execution": {
     "iopub.execute_input": "2023-10-17T05:32:40.926820Z",
     "iopub.status.busy": "2023-10-17T05:32:40.925762Z",
     "iopub.status.idle": "2023-10-17T05:32:41.496185Z",
     "shell.execute_reply": "2023-10-17T05:32:41.494590Z"
    },
    "id": "h_9aPLnRTO-5",
    "outputId": "ca3f8965-2d42-4e72-f9a6-ef6d7e71ee16",
    "papermill": {
     "duration": 0.636179,
     "end_time": "2023-10-17T05:32:41.498795",
     "exception": false,
     "start_time": "2023-10-17T05:32:40.862616",
     "status": "completed"
    },
    "tags": [],
    "ExecuteTime": {
     "end_time": "2024-03-21T07:19:11.045240Z",
     "start_time": "2024-03-21T07:19:07.538764Z"
    }
   },
   "outputs": [
    {
     "ename": "KeyError",
     "evalue": "\"None of [Index(['Updated_Month'], dtype='object')] are in the [columns]\"",
     "output_type": "error",
     "traceback": [
      "\u001B[0;31m---------------------------------------------------------------------------\u001B[0m",
      "\u001B[0;31mKeyError\u001B[0m                                  Traceback (most recent call last)",
      "Cell \u001B[0;32mIn[261], line 1\u001B[0m\n\u001B[0;32m----> 1\u001B[0m kde_plot(\u001B[38;5;124m'\u001B[39m\u001B[38;5;124mUpdated_Month\u001B[39m\u001B[38;5;124m'\u001B[39m)\n",
      "Cell \u001B[0;32mIn[258], line 17\u001B[0m, in \u001B[0;36mkde_plot\u001B[0;34m(feature)\u001B[0m\n\u001B[1;32m     14\u001B[0m grid \u001B[38;5;241m=\u001B[39m sns\u001B[38;5;241m.\u001B[39mFacetGrid(df, hue\u001B[38;5;241m=\u001B[39m\u001B[38;5;124m\"\u001B[39m\u001B[38;5;124mType\u001B[39m\u001B[38;5;124m\"\u001B[39m, aspect\u001B[38;5;241m=\u001B[39m\u001B[38;5;241m2\u001B[39m)\n\u001B[1;32m     16\u001B[0m \u001B[38;5;66;03m# Map KDE plots for the specified feature\u001B[39;00m\n\u001B[0;32m---> 17\u001B[0m grid\u001B[38;5;241m.\u001B[39mmap(sns\u001B[38;5;241m.\u001B[39mkdeplot, feature)\n\u001B[1;32m     19\u001B[0m \u001B[38;5;66;03m# Add a legend to distinguish between categories\u001B[39;00m\n\u001B[1;32m     20\u001B[0m grid\u001B[38;5;241m.\u001B[39madd_legend()\n",
      "File \u001B[0;32m~/anaconda3/lib/python3.11/site-packages/seaborn/axisgrid.py:742\u001B[0m, in \u001B[0;36mFacetGrid.map\u001B[0;34m(self, func, *args, **kwargs)\u001B[0m\n\u001B[1;32m    739\u001B[0m     kwargs[\u001B[38;5;124m\"\u001B[39m\u001B[38;5;124mlabel\u001B[39m\u001B[38;5;124m\"\u001B[39m] \u001B[38;5;241m=\u001B[39m utils\u001B[38;5;241m.\u001B[39mto_utf8(\u001B[38;5;28mself\u001B[39m\u001B[38;5;241m.\u001B[39mhue_names[hue_k])\n\u001B[1;32m    741\u001B[0m \u001B[38;5;66;03m# Get the actual data we are going to plot with\u001B[39;00m\n\u001B[0;32m--> 742\u001B[0m plot_data \u001B[38;5;241m=\u001B[39m data_ijk[\u001B[38;5;28mlist\u001B[39m(args)]\n\u001B[1;32m    743\u001B[0m \u001B[38;5;28;01mif\u001B[39;00m \u001B[38;5;28mself\u001B[39m\u001B[38;5;241m.\u001B[39m_dropna:\n\u001B[1;32m    744\u001B[0m     plot_data \u001B[38;5;241m=\u001B[39m plot_data\u001B[38;5;241m.\u001B[39mdropna()\n",
      "File \u001B[0;32m~/anaconda3/lib/python3.11/site-packages/pandas/core/frame.py:3767\u001B[0m, in \u001B[0;36mDataFrame.__getitem__\u001B[0;34m(self, key)\u001B[0m\n\u001B[1;32m   3765\u001B[0m     \u001B[38;5;28;01mif\u001B[39;00m is_iterator(key):\n\u001B[1;32m   3766\u001B[0m         key \u001B[38;5;241m=\u001B[39m \u001B[38;5;28mlist\u001B[39m(key)\n\u001B[0;32m-> 3767\u001B[0m     indexer \u001B[38;5;241m=\u001B[39m \u001B[38;5;28mself\u001B[39m\u001B[38;5;241m.\u001B[39mcolumns\u001B[38;5;241m.\u001B[39m_get_indexer_strict(key, \u001B[38;5;124m\"\u001B[39m\u001B[38;5;124mcolumns\u001B[39m\u001B[38;5;124m\"\u001B[39m)[\u001B[38;5;241m1\u001B[39m]\n\u001B[1;32m   3769\u001B[0m \u001B[38;5;66;03m# take() does not accept boolean indexers\u001B[39;00m\n\u001B[1;32m   3770\u001B[0m \u001B[38;5;28;01mif\u001B[39;00m \u001B[38;5;28mgetattr\u001B[39m(indexer, \u001B[38;5;124m\"\u001B[39m\u001B[38;5;124mdtype\u001B[39m\u001B[38;5;124m\"\u001B[39m, \u001B[38;5;28;01mNone\u001B[39;00m) \u001B[38;5;241m==\u001B[39m \u001B[38;5;28mbool\u001B[39m:\n",
      "File \u001B[0;32m~/anaconda3/lib/python3.11/site-packages/pandas/core/indexes/base.py:5877\u001B[0m, in \u001B[0;36mIndex._get_indexer_strict\u001B[0;34m(self, key, axis_name)\u001B[0m\n\u001B[1;32m   5874\u001B[0m \u001B[38;5;28;01melse\u001B[39;00m:\n\u001B[1;32m   5875\u001B[0m     keyarr, indexer, new_indexer \u001B[38;5;241m=\u001B[39m \u001B[38;5;28mself\u001B[39m\u001B[38;5;241m.\u001B[39m_reindex_non_unique(keyarr)\n\u001B[0;32m-> 5877\u001B[0m \u001B[38;5;28mself\u001B[39m\u001B[38;5;241m.\u001B[39m_raise_if_missing(keyarr, indexer, axis_name)\n\u001B[1;32m   5879\u001B[0m keyarr \u001B[38;5;241m=\u001B[39m \u001B[38;5;28mself\u001B[39m\u001B[38;5;241m.\u001B[39mtake(indexer)\n\u001B[1;32m   5880\u001B[0m \u001B[38;5;28;01mif\u001B[39;00m \u001B[38;5;28misinstance\u001B[39m(key, Index):\n\u001B[1;32m   5881\u001B[0m     \u001B[38;5;66;03m# GH 42790 - Preserve name from an Index\u001B[39;00m\n",
      "File \u001B[0;32m~/anaconda3/lib/python3.11/site-packages/pandas/core/indexes/base.py:5938\u001B[0m, in \u001B[0;36mIndex._raise_if_missing\u001B[0;34m(self, key, indexer, axis_name)\u001B[0m\n\u001B[1;32m   5936\u001B[0m     \u001B[38;5;28;01mif\u001B[39;00m use_interval_msg:\n\u001B[1;32m   5937\u001B[0m         key \u001B[38;5;241m=\u001B[39m \u001B[38;5;28mlist\u001B[39m(key)\n\u001B[0;32m-> 5938\u001B[0m     \u001B[38;5;28;01mraise\u001B[39;00m \u001B[38;5;167;01mKeyError\u001B[39;00m(\u001B[38;5;124mf\u001B[39m\u001B[38;5;124m\"\u001B[39m\u001B[38;5;124mNone of [\u001B[39m\u001B[38;5;132;01m{\u001B[39;00mkey\u001B[38;5;132;01m}\u001B[39;00m\u001B[38;5;124m] are in the [\u001B[39m\u001B[38;5;132;01m{\u001B[39;00maxis_name\u001B[38;5;132;01m}\u001B[39;00m\u001B[38;5;124m]\u001B[39m\u001B[38;5;124m\"\u001B[39m)\n\u001B[1;32m   5940\u001B[0m not_found \u001B[38;5;241m=\u001B[39m \u001B[38;5;28mlist\u001B[39m(ensure_index(key)[missing_mask\u001B[38;5;241m.\u001B[39mnonzero()[\u001B[38;5;241m0\u001B[39m]]\u001B[38;5;241m.\u001B[39munique())\n\u001B[1;32m   5941\u001B[0m \u001B[38;5;28;01mraise\u001B[39;00m \u001B[38;5;167;01mKeyError\u001B[39;00m(\u001B[38;5;124mf\u001B[39m\u001B[38;5;124m\"\u001B[39m\u001B[38;5;132;01m{\u001B[39;00mnot_found\u001B[38;5;132;01m}\u001B[39;00m\u001B[38;5;124m not in index\u001B[39m\u001B[38;5;124m\"\u001B[39m)\n",
      "\u001B[0;31mKeyError\u001B[0m: \"None of [Index(['Updated_Month'], dtype='object')] are in the [columns]\""
     ]
    },
    {
     "data": {
      "text/plain": "<Figure size 600x300 with 1 Axes>",
      "image/png": "[encoded data removed]"
     },
     "metadata": {},
     "output_type": "display_data"
    }
   ],
   "source": [
    "kde_plot('Updated_Month')"
   ]
  },
  {
   "cell_type": "code",
   "execution_count": null,
   "id": "be7c2648",
   "metadata": {
    "execution": {
     "iopub.execute_input": "2023-10-17T05:32:41.624351Z",
     "iopub.status.busy": "2023-10-17T05:32:41.623945Z",
     "iopub.status.idle": "2023-10-17T05:32:42.264647Z",
     "shell.execute_reply": "2023-10-17T05:32:42.263411Z"
    },
    "id": "im_-COsvTSeI",
    "outputId": "1ef2fe7d-5bb4-4d8a-98e3-307ff5b2adfe",
    "papermill": {
     "duration": 0.706962,
     "end_time": "2023-10-17T05:32:42.267039",
     "exception": false,
     "start_time": "2023-10-17T05:32:41.560077",
     "status": "completed"
    },
    "tags": [],
    "ExecuteTime": {
     "end_time": "2024-03-21T07:19:11.053312Z",
     "start_time": "2024-03-21T07:19:11.053180Z"
    }
   },
   "outputs": [],
   "source": [
    "kde_plot('Price')"
   ]
  },
  {
   "cell_type": "code",
   "execution_count": null,
   "id": "98678298",
   "metadata": {
    "execution": {
     "iopub.execute_input": "2023-10-17T05:32:42.393106Z",
     "iopub.status.busy": "2023-10-17T05:32:42.392697Z",
     "iopub.status.idle": "2023-10-17T05:32:42.956049Z",
     "shell.execute_reply": "2023-10-17T05:32:42.954895Z"
    },
    "id": "6b3MRJIITVeF",
    "outputId": "f6279fe9-7d06-48d6-856d-ea807fb68c76",
    "papermill": {
     "duration": 0.628855,
     "end_time": "2023-10-17T05:32:42.958306",
     "exception": false,
     "start_time": "2023-10-17T05:32:42.329451",
     "status": "completed"
    },
    "tags": []
   },
   "outputs": [],
   "source": [
    "kde_plot('Updated_Year')"
   ]
  },
  {
   "cell_type": "markdown",
   "id": "95a24503",
   "metadata": {
    "id": "g631o2FaTdHO",
    "papermill": {
     "duration": 0.063238,
     "end_time": "2023-10-17T05:32:43.089876",
     "exception": false,
     "start_time": "2023-10-17T05:32:43.026638",
     "status": "completed"
    },
    "tags": []
   },
   "source": [
    "\n",
    "\n",
    "## Scatter plot Analysis"
   ]
  },
  {
   "cell_type": "code",
   "execution_count": null,
   "id": "f6f5c68c",
   "metadata": {
    "execution": {
     "iopub.execute_input": "2023-10-17T05:32:43.217313Z",
     "iopub.status.busy": "2023-10-17T05:32:43.216873Z",
     "iopub.status.idle": "2023-10-17T05:32:43.855071Z",
     "shell.execute_reply": "2023-10-17T05:32:43.853558Z"
    },
    "id": "kcmsDAlRTY71",
    "outputId": "95212a64-ae13-438d-9381-f099bcedcab1",
    "papermill": {
     "duration": 0.705143,
     "end_time": "2023-10-17T05:32:43.857822",
     "exception": false,
     "start_time": "2023-10-17T05:32:43.152679",
     "status": "completed"
    },
    "tags": []
   },
   "outputs": [],
   "source": [
    "scatters('Price', 'Updated_Year')"
   ]
  },
  {
   "cell_type": "code",
   "execution_count": null,
   "id": "fe9ed66a",
   "metadata": {
    "execution": {
     "iopub.execute_input": "2023-10-17T05:32:43.997934Z",
     "iopub.status.busy": "2023-10-17T05:32:43.997099Z",
     "iopub.status.idle": "2023-10-17T05:32:44.708988Z",
     "shell.execute_reply": "2023-10-17T05:32:44.707900Z"
    },
    "id": "J8EO34fFTipI",
    "outputId": "cc7d07a2-42d0-490e-851e-eda63907beaf",
    "papermill": {
     "duration": 0.791765,
     "end_time": "2023-10-17T05:32:44.713415",
     "exception": false,
     "start_time": "2023-10-17T05:32:43.921650",
     "status": "completed"
    },
    "tags": []
   },
   "outputs": [],
   "source": [
    "scatters('Size', 'Rating')"
   ]
  },
  {
   "cell_type": "code",
   "execution_count": null,
   "id": "19389d5d",
   "metadata": {
    "execution": {
     "iopub.execute_input": "2023-10-17T05:32:44.849749Z",
     "iopub.status.busy": "2023-10-17T05:32:44.848984Z",
     "iopub.status.idle": "2023-10-17T05:32:45.453933Z",
     "shell.execute_reply": "2023-10-17T05:32:45.452541Z"
    },
    "id": "veDbcvpbWhaj",
    "outputId": "d17bd077-8fd2-41c0-a0c8-7818994cae1f",
    "papermill": {
     "duration": 0.674474,
     "end_time": "2023-10-17T05:32:45.456729",
     "exception": false,
     "start_time": "2023-10-17T05:32:44.782255",
     "status": "completed"
    },
    "tags": []
   },
   "outputs": [],
   "source": [
    "scatters('Size', 'Installs')"
   ]
  },
  {
   "cell_type": "code",
   "execution_count": null,
   "id": "ca9f1f31",
   "metadata": {
    "execution": {
     "iopub.execute_input": "2023-10-17T05:32:45.602051Z",
     "iopub.status.busy": "2023-10-17T05:32:45.601641Z",
     "iopub.status.idle": "2023-10-17T05:32:46.195161Z",
     "shell.execute_reply": "2023-10-17T05:32:46.193788Z"
    },
    "id": "wTEIQEBdZhR3",
    "outputId": "c77b1b0b-4917-41d7-f9e6-2f1c3f835c1d",
    "papermill": {
     "duration": 0.668142,
     "end_time": "2023-10-17T05:32:46.197961",
     "exception": false,
     "start_time": "2023-10-17T05:32:45.529819",
     "status": "completed"
    },
    "tags": []
   },
   "outputs": [],
   "source": [
    "scatters('Updated_Month', 'Installs')"
   ]
  },
  {
   "cell_type": "code",
   "execution_count": null,
   "id": "b6a45560",
   "metadata": {
    "execution": {
     "iopub.execute_input": "2023-10-17T05:32:46.337599Z",
     "iopub.status.busy": "2023-10-17T05:32:46.336788Z",
     "iopub.status.idle": "2023-10-17T05:32:46.954422Z",
     "shell.execute_reply": "2023-10-17T05:32:46.953053Z"
    },
    "id": "wGpT-RtyZji3",
    "outputId": "e387dbb2-d177-4b9c-cf26-2bcb79d2b1f8",
    "papermill": {
     "duration": 0.690612,
     "end_time": "2023-10-17T05:32:46.956692",
     "exception": false,
     "start_time": "2023-10-17T05:32:46.266080",
     "status": "completed"
    },
    "tags": []
   },
   "outputs": [],
   "source": [
    "scatters('Reviews', 'Rating')"
   ]
  },
  {
   "cell_type": "code",
   "execution_count": null,
   "id": "64e919cf",
   "metadata": {
    "execution": {
     "iopub.execute_input": "2023-10-17T05:32:47.099094Z",
     "iopub.status.busy": "2023-10-17T05:32:47.098742Z",
     "iopub.status.idle": "2023-10-17T05:32:47.723458Z",
     "shell.execute_reply": "2023-10-17T05:32:47.722189Z"
    },
    "id": "NaDkUZl3Zm4K",
    "outputId": "d092f6bb-9ebb-4dd9-fafe-898c4afdf915",
    "papermill": {
     "duration": 0.695588,
     "end_time": "2023-10-17T05:32:47.726147",
     "exception": false,
     "start_time": "2023-10-17T05:32:47.030559",
     "status": "completed"
    },
    "tags": []
   },
   "outputs": [],
   "source": [
    "scatters('Rating', 'Price')"
   ]
  },
  {
   "cell_type": "markdown",
   "id": "f0d88a26",
   "metadata": {
    "id": "MZDKgrpT4RNd",
    "papermill": {
     "duration": 0.071885,
     "end_time": "2023-10-17T05:32:47.869007",
     "exception": false,
     "start_time": "2023-10-17T05:32:47.797122",
     "status": "completed"
    },
    "tags": []
   },
   "source": [
    "\n",
    "\n",
    "## Further Analysis"
   ]
  },
  {
   "cell_type": "markdown",
   "id": "de2c1d42",
   "metadata": {
    "id": "Qq9NjTV729mx",
    "papermill": {
     "duration": 0.076974,
     "end_time": "2023-10-17T05:32:48.017443",
     "exception": false,
     "start_time": "2023-10-17T05:32:47.940469",
     "status": "completed"
    },
    "tags": []
   },
   "source": [
    "\n",
    "\n",
    "### Apps with a 5.0 Rating"
   ]
  },
  {
   "cell_type": "code",
   "execution_count": null,
   "id": "5c8bdc1d",
   "metadata": {
    "execution": {
     "iopub.execute_input": "2023-10-17T05:32:48.164196Z",
     "iopub.status.busy": "2023-10-17T05:32:48.163825Z",
     "iopub.status.idle": "2023-10-17T05:32:48.171357Z",
     "shell.execute_reply": "2023-10-17T05:32:48.170129Z"
    },
    "id": "aAhs9JCv3GpH",
    "outputId": "daaf7b37-ca8c-42e9-8806-3c35294af119",
    "papermill": {
     "duration": 0.083448,
     "end_time": "2023-10-17T05:32:48.173632",
     "exception": false,
     "start_time": "2023-10-17T05:32:48.090184",
     "status": "completed"
    },
    "tags": []
   },
   "outputs": [],
   "source": [
    "df_rating_5 = df[df.Rating == 5.]\n",
    "print(f'There are {df_rating_5.shape[0]} apps having rating of 5.0')"
   ]
  },
  {
   "cell_type": "markdown",
   "id": "e9f848db",
   "metadata": {
    "id": "4vMGZsX04DcD",
    "papermill": {
     "duration": 0.068964,
     "end_time": "2023-10-17T05:32:48.310809",
     "exception": false,
     "start_time": "2023-10-17T05:32:48.241845",
     "status": "completed"
    },
    "tags": []
   },
   "source": [
    "\n",
    "\n",
    "### Installs"
   ]
  },
  {
   "cell_type": "code",
   "execution_count": null,
   "id": "11379e1e",
   "metadata": {
    "execution": {
     "iopub.execute_input": "2023-10-17T05:32:48.447801Z",
     "iopub.status.busy": "2023-10-17T05:32:48.447408Z",
     "iopub.status.idle": "2023-10-17T05:32:48.874058Z",
     "shell.execute_reply": "2023-10-17T05:32:48.872572Z"
    },
    "id": "mR9nxbf13Gck",
    "outputId": "6a0f75d9-6769-4022-d0db-32dc6ab96d06",
    "papermill": {
     "duration": 0.497653,
     "end_time": "2023-10-17T05:32:48.876817",
     "exception": false,
     "start_time": "2023-10-17T05:32:48.379164",
     "status": "completed"
    },
    "tags": []
   },
   "outputs": [],
   "source": [
    "sns.histplot(data=df_rating_5, x='Installs', kde=True, bins=50)\n",
    "\n",
    "plt.title('Distribution of Installs with 5.0 Rating Apps')\n",
    "plt.show()"
   ]
  },
  {
   "cell_type": "markdown",
   "id": "e143f0c7",
   "metadata": {
    "id": "cmv0bDRi4ZOg",
    "papermill": {
     "duration": 0.074191,
     "end_time": "2023-10-17T05:32:49.031202",
     "exception": false,
     "start_time": "2023-10-17T05:32:48.957011",
     "status": "completed"
    },
    "tags": []
   },
   "source": [
    "\n",
    "\n",
    "**Despite the full ratings, the number of installations for the majority of the apps is low. Hence, those apps cannot be considered the best products.**"
   ]
  },
  {
   "cell_type": "markdown",
   "id": "0c7a35cf",
   "metadata": {
    "id": "IC9Sx27u4nLd",
    "papermill": {
     "duration": 0.071137,
     "end_time": "2023-10-17T05:32:49.174202",
     "exception": false,
     "start_time": "2023-10-17T05:32:49.103065",
     "status": "completed"
    },
    "tags": []
   },
   "source": [
    "\n",
    "\n",
    "### Reviews"
   ]
  },
  {
   "cell_type": "code",
   "execution_count": null,
   "id": "09904f4f",
   "metadata": {
    "execution": {
     "iopub.execute_input": "2023-10-17T05:32:49.321111Z",
     "iopub.status.busy": "2023-10-17T05:32:49.320722Z",
     "iopub.status.idle": "2023-10-17T05:32:49.747313Z",
     "shell.execute_reply": "2023-10-17T05:32:49.746251Z"
    },
    "id": "04Vaa-Gc4mFb",
    "outputId": "cfa41b35-c136-48ce-b0d6-88991dd65cf4",
    "papermill": {
     "duration": 0.502602,
     "end_time": "2023-10-17T05:32:49.749323",
     "exception": false,
     "start_time": "2023-10-17T05:32:49.246721",
     "status": "completed"
    },
    "tags": []
   },
   "outputs": [],
   "source": [
    "sns.histplot(data=df_rating_5, x='Reviews', kde=True)\n",
    "plt.title('Distribution of Reviews with 5.0 Rating Apps')\n",
    "plt.show()"
   ]
  },
  {
   "cell_type": "markdown",
   "id": "bb68b01e",
   "metadata": {
    "id": "PNWxqxpQ4zrp",
    "papermill": {
     "duration": 0.070302,
     "end_time": "2023-10-17T05:32:49.888827",
     "exception": false,
     "start_time": "2023-10-17T05:32:49.818525",
     "status": "completed"
    },
    "tags": []
   },
   "source": [
    "\n",
    "\n",
    "**The distribution is right-skewed which shows applications with few reviews having 5.0 ratings, which is misleading.**"
   ]
  },
  {
   "cell_type": "markdown",
   "id": "d30e2079",
   "metadata": {
    "id": "P_tOQls94-iO",
    "papermill": {
     "duration": 0.073003,
     "end_time": "2023-10-17T05:32:50.036022",
     "exception": false,
     "start_time": "2023-10-17T05:32:49.963019",
     "status": "completed"
    },
    "tags": []
   },
   "source": [
    "\n",
    "\n",
    "### Category"
   ]
  },
  {
   "cell_type": "code",
   "execution_count": null,
   "id": "7977b6fa",
   "metadata": {
    "execution": {
     "iopub.execute_input": "2023-10-17T05:32:50.183943Z",
     "iopub.status.busy": "2023-10-17T05:32:50.183488Z",
     "iopub.status.idle": "2023-10-17T05:32:50.191195Z",
     "shell.execute_reply": "2023-10-17T05:32:50.189879Z"
    },
    "id": "F5i3qGnM4_g_",
    "papermill": {
     "duration": 0.086022,
     "end_time": "2023-10-17T05:32:50.193648",
     "exception": false,
     "start_time": "2023-10-17T05:32:50.107626",
     "status": "completed"
    },
    "tags": []
   },
   "outputs": [],
   "source": [
    "df_rating_5_cat =  df_rating_5['Category'].value_counts().reset_index()"
   ]
  },
  {
   "cell_type": "code",
   "execution_count": null,
   "id": "8c6a3eee",
   "metadata": {
    "execution": {
     "iopub.execute_input": "2023-10-17T05:32:50.341956Z",
     "iopub.status.busy": "2023-10-17T05:32:50.341586Z",
     "iopub.status.idle": "2023-10-17T05:32:50.732976Z",
     "shell.execute_reply": "2023-10-17T05:32:50.731703Z"
    },
    "id": "pArax5HE5AFq",
    "outputId": "e6c8e468-068c-44c4-b735-8eabe55341cb",
    "papermill": {
     "duration": 0.470011,
     "end_time": "2023-10-17T05:32:50.736127",
     "exception": false,
     "start_time": "2023-10-17T05:32:50.266116",
     "status": "completed"
    },
    "tags": []
   },
   "outputs": [],
   "source": [
    "# Create a pie chart\n",
    "plt.figure(figsize=(8, 6))\n",
    "sns.set(style=\"whitegrid\")\n",
    "plt.pie(df_rating_5_cat.iloc[:, 1], labels=df_rating_5_cat.iloc[:, 0], autopct='%1.1f%%')\n",
    "plt.title('Pie chart of App Categories with 5.0 Rating')\n",
    "plt.axis('equal')  # Equal aspect ratio ensures that pie is drawn as a circle.\n",
    "\n",
    "# Show the pie chart\n",
    "plt.show()"
   ]
  },
  {
   "cell_type": "markdown",
   "id": "2f21c9a2",
   "metadata": {
    "id": "HT_YJ_a35hoB",
    "papermill": {
     "duration": 0.072127,
     "end_time": "2023-10-17T05:32:50.884897",
     "exception": false,
     "start_time": "2023-10-17T05:32:50.812770",
     "status": "completed"
    },
    "tags": []
   },
   "source": [
    "\n",
    "\n",
    "**Family, LifeStyle and Medical apps receive the most 5.0 ratings on Google Play Store with Family representing about quater of whole.**"
   ]
  },
  {
   "cell_type": "markdown",
   "id": "1b565a39",
   "metadata": {
    "id": "uIMjMfkF5ruQ",
    "papermill": {
     "duration": 0.079591,
     "end_time": "2023-10-17T05:32:51.036582",
     "exception": false,
     "start_time": "2023-10-17T05:32:50.956991",
     "status": "completed"
    },
    "tags": []
   },
   "source": [
    "\n",
    "\n",
    "### Type"
   ]
  },
  {
   "cell_type": "code",
   "execution_count": null,
   "id": "c817da09",
   "metadata": {
    "execution": {
     "iopub.execute_input": "2023-10-17T05:32:51.181958Z",
     "iopub.status.busy": "2023-10-17T05:32:51.181582Z",
     "iopub.status.idle": "2023-10-17T05:32:51.188049Z",
     "shell.execute_reply": "2023-10-17T05:32:51.187315Z"
    },
    "id": "hDZQiSoq5ACI",
    "papermill": {
     "duration": 0.081717,
     "end_time": "2023-10-17T05:32:51.189986",
     "exception": false,
     "start_time": "2023-10-17T05:32:51.108269",
     "status": "completed"
    },
    "tags": []
   },
   "outputs": [],
   "source": [
    "df_rating_5_type =  df_rating_5['Type'].value_counts().reset_index()"
   ]
  },
  {
   "cell_type": "code",
   "execution_count": null,
   "id": "497c8cdb",
   "metadata": {
    "execution": {
     "iopub.execute_input": "2023-10-17T05:32:51.344457Z",
     "iopub.status.busy": "2023-10-17T05:32:51.343641Z",
     "iopub.status.idle": "2023-10-17T05:32:51.507128Z",
     "shell.execute_reply": "2023-10-17T05:32:51.505959Z"
    },
    "id": "LgQp_wdz4_06",
    "outputId": "b142d77f-ae07-4e42-9f28-6639b510c73e",
    "papermill": {
     "duration": 0.244816,
     "end_time": "2023-10-17T05:32:51.510725",
     "exception": false,
     "start_time": "2023-10-17T05:32:51.265909",
     "status": "completed"
    },
    "tags": []
   },
   "outputs": [],
   "source": [
    "# Create a pie chart\n",
    "plt.figure(figsize=(8, 6))\n",
    "sns.set(style=\"whitegrid\")\n",
    "\n",
    "# Data for the pie chart\n",
    "sizes = df_rating_5_type.iloc[:, 1]\n",
    "labels = df_rating_5_type.iloc[:, 0]\n",
    "\n",
    "# Pull a slice out by exploding it\n",
    "explode = (0, 0.1)  # Adjust the second value to control the pull-out distance\n",
    "\n",
    "# Create the pie chart with default colors\n",
    "plt.pie(sizes, labels=labels, autopct='%1.1f%%', startangle=140, pctdistance=0.85, explode=explode)\n",
    "\n",
    "# Draw a circle in the center to make it look like a donut chart\n",
    "centre_circle = plt.Circle((0,0),0.70,fc='white')\n",
    "fig = plt.gcf()\n",
    "fig.gca().add_artist(centre_circle)\n",
    "\n",
    "# Equal aspect ratio ensures that pie is drawn as a circle.\n",
    "plt.axis('equal')\n",
    "\n",
    "# Title\n",
    "plt.title('Pie chart of App Types with 5.0 Rating')\n",
    "\n",
    "# Show the pie chart\n",
    "plt.show()\n"
   ]
  },
  {
   "cell_type": "markdown",
   "id": "3ca855a3",
   "metadata": {
    "id": "Mgitr_j66U9d",
    "papermill": {
     "duration": 0.07601,
     "end_time": "2023-10-17T05:32:51.684721",
     "exception": false,
     "start_time": "2023-10-17T05:32:51.608711",
     "status": "completed"
    },
    "tags": []
   },
   "source": [
    "**Almost 90% of the 5.0 rating apps are free on Goolge Play Store.**"
   ]
  },
  {
   "cell_type": "code",
   "execution_count": null,
   "id": "911c7790",
   "metadata": {
    "execution": {
     "iopub.execute_input": "2023-10-17T05:32:51.837599Z",
     "iopub.status.busy": "2023-10-17T05:32:51.837172Z",
     "iopub.status.idle": "2023-10-17T05:32:52.267704Z",
     "shell.execute_reply": "2023-10-17T05:32:52.266515Z"
    },
    "id": "iKvSmL5TaaR2",
    "outputId": "48b3835d-6238-42ea-81a9-74f9170830c1",
    "papermill": {
     "duration": 0.509668,
     "end_time": "2023-10-17T05:32:52.269949",
     "exception": false,
     "start_time": "2023-10-17T05:32:51.760281",
     "status": "completed"
    },
    "tags": []
   },
   "outputs": [],
   "source": [
    "freq= pd.Series()\n",
    "freq=df['Updated_Year'].value_counts()\n",
    "freq.plot()\n",
    "plt.xlabel(\"Dates\")\n",
    "plt.ylabel(\"Number of updates\")\n",
    "plt.title(\"Time series plot of Last Updates\")"
   ]
  },
  {
   "cell_type": "markdown",
   "id": "c4c02784",
   "metadata": {
    "id": "lqAr5FNB9W9p",
    "papermill": {
     "duration": 0.072682,
     "end_time": "2023-10-17T05:32:52.420692",
     "exception": false,
     "start_time": "2023-10-17T05:32:52.348010",
     "status": "completed"
    },
    "tags": []
   },
   "source": [
    "\n",
    "# Feature Pruning\n",
    "\n",
    "We decide to prune the following features:\n",
    "\n",
    "* App : App names are of no value for the model\n",
    "* Genres : The informations it stores is same as the feature Category\n",
    "* Current Ver : Current Version of an app doesn't hold significant value.\n",
    "* Android Ver: Android Version of an app doesn't hold significant value."
   ]
  },
  {
   "cell_type": "code",
   "execution_count": 289,
   "id": "5f4706ce",
   "metadata": {
    "execution": {
     "iopub.execute_input": "2023-10-17T05:32:52.571114Z",
     "iopub.status.busy": "2023-10-17T05:32:52.569759Z",
     "iopub.status.idle": "2023-10-17T05:32:52.575719Z",
     "shell.execute_reply": "2023-10-17T05:32:52.574794Z"
    },
    "id": "CuBiugcg9KwU",
    "papermill": {
     "duration": 0.083777,
     "end_time": "2023-10-17T05:32:52.578073",
     "exception": false,
     "start_time": "2023-10-17T05:32:52.494296",
     "status": "completed"
    },
    "tags": [],
    "ExecuteTime": {
     "end_time": "2024-03-21T07:20:09.251327Z",
     "start_time": "2024-03-21T07:20:09.111835Z"
    }
   },
   "outputs": [],
   "source": [
    "pruned_features = ['App', 'Genres', 'Current Ver', 'Android Ver']"
   ]
  },
  {
   "cell_type": "markdown",
   "id": "05cc47d6",
   "metadata": {
    "id": "4fiJjZjf-dDl",
    "papermill": {
     "duration": 0.075348,
     "end_time": "2023-10-17T05:32:52.726822",
     "exception": false,
     "start_time": "2023-10-17T05:32:52.651474",
     "status": "completed"
    },
    "tags": []
   },
   "source": [
    "\n",
    "# Step 6 Data Splitting for Modeling\n",
    "    \n",
    "### We split the dataset into 80% train and 20% test."
   ]
  },
  {
   "cell_type": "code",
   "execution_count": 290,
   "id": "7c7bd0c0",
   "metadata": {
    "execution": {
     "iopub.execute_input": "2023-10-17T05:32:52.878509Z",
     "iopub.status.busy": "2023-10-17T05:32:52.878112Z",
     "iopub.status.idle": "2023-10-17T05:32:52.882230Z",
     "shell.execute_reply": "2023-10-17T05:32:52.881416Z"
    },
    "id": "BCrKfZge-TAO",
    "papermill": {
     "duration": 0.082364,
     "end_time": "2023-10-17T05:32:52.884434",
     "exception": false,
     "start_time": "2023-10-17T05:32:52.802070",
     "status": "completed"
    },
    "tags": [],
    "ExecuteTime": {
     "end_time": "2024-03-21T07:20:27.882883Z",
     "start_time": "2024-03-21T07:20:27.853833Z"
    }
   },
   "outputs": [],
   "source": [
    "target = 'Rating'"
   ]
  },
  {
   "cell_type": "code",
   "execution_count": 291,
   "id": "c7caa2ce",
   "metadata": {
    "execution": {
     "iopub.execute_input": "2023-10-17T05:32:53.045796Z",
     "iopub.status.busy": "2023-10-17T05:32:53.045199Z",
     "iopub.status.idle": "2023-10-17T05:32:53.055417Z",
     "shell.execute_reply": "2023-10-17T05:32:53.054556Z"
    },
    "id": "TfTCm0RJ-bhj",
    "papermill": {
     "duration": 0.0949,
     "end_time": "2023-10-17T05:32:53.057562",
     "exception": false,
     "start_time": "2023-10-17T05:32:52.962662",
     "status": "completed"
    },
    "tags": [],
    "ExecuteTime": {
     "end_time": "2024-03-21T07:20:29.492808Z",
     "start_time": "2024-03-21T07:20:29.443119Z"
    }
   },
   "outputs": [],
   "source": [
    "X = df.copy().drop(pruned_features+[target], axis=1)\n",
    "y = df.copy()[target]"
   ]
  },
  {
   "cell_type": "code",
   "execution_count": 292,
   "id": "c92ccfe2",
   "metadata": {
    "execution": {
     "iopub.execute_input": "2023-10-17T05:32:53.216369Z",
     "iopub.status.busy": "2023-10-17T05:32:53.215691Z",
     "iopub.status.idle": "2023-10-17T05:32:53.222665Z",
     "shell.execute_reply": "2023-10-17T05:32:53.221850Z"
    },
    "id": "XgNkyyOF-szz",
    "papermill": {
     "duration": 0.091398,
     "end_time": "2023-10-17T05:32:53.224771",
     "exception": false,
     "start_time": "2023-10-17T05:32:53.133373",
     "status": "completed"
    },
    "tags": [],
    "ExecuteTime": {
     "end_time": "2024-03-21T07:20:30.920822Z",
     "start_time": "2024-03-21T07:20:30.882456Z"
    }
   },
   "outputs": [],
   "source": [
    "X_train, X_test, y_train, y_test = train_test_split(X, y, test_size=.2, random_state=42)"
   ]
  },
  {
   "cell_type": "markdown",
   "id": "fe667145",
   "metadata": {
    "id": "M719Ml-__XJg",
    "papermill": {
     "duration": 0.081647,
     "end_time": "2023-10-17T05:32:53.383804",
     "exception": false,
     "start_time": "2023-10-17T05:32:53.302157",
     "status": "completed"
    },
    "tags": []
   },
   "source": [
    "## Label Encoding"
   ]
  },
  {
   "cell_type": "code",
   "execution_count": 293,
   "id": "dff10329",
   "metadata": {
    "execution": {
     "iopub.execute_input": "2023-10-17T05:32:53.547656Z",
     "iopub.status.busy": "2023-10-17T05:32:53.546597Z",
     "iopub.status.idle": "2023-10-17T05:32:53.550842Z",
     "shell.execute_reply": "2023-10-17T05:32:53.550093Z"
    },
    "id": "Kw7YG5hg-vTL",
    "papermill": {
     "duration": 0.08808,
     "end_time": "2023-10-17T05:32:53.552765",
     "exception": false,
     "start_time": "2023-10-17T05:32:53.464685",
     "status": "completed"
    },
    "tags": [],
    "ExecuteTime": {
     "end_time": "2024-03-21T07:20:32.830122Z",
     "start_time": "2024-03-21T07:20:32.807468Z"
    }
   },
   "outputs": [],
   "source": [
    "le_dict = defaultdict()\n"
   ]
  },
  {
   "cell_type": "code",
   "execution_count": 294,
   "id": "a301ce7c",
   "metadata": {
    "execution": {
     "iopub.execute_input": "2023-10-17T05:32:53.712772Z",
     "iopub.status.busy": "2023-10-17T05:32:53.712257Z",
     "iopub.status.idle": "2023-10-17T05:32:53.731277Z",
     "shell.execute_reply": "2023-10-17T05:32:53.730199Z"
    },
    "id": "1E68kkuK_bp-",
    "papermill": {
     "duration": 0.10303,
     "end_time": "2023-10-17T05:32:53.734070",
     "exception": false,
     "start_time": "2023-10-17T05:32:53.631040",
     "status": "completed"
    },
    "tags": [],
    "ExecuteTime": {
     "end_time": "2024-03-21T07:20:33.583776Z",
     "start_time": "2024-03-21T07:20:33.394409Z"
    }
   },
   "outputs": [
    {
     "ename": "ValueError",
     "evalue": "y contains previously unseen labels: 'April 20, 2016'",
     "output_type": "error",
     "traceback": [
      "\u001B[0;31m---------------------------------------------------------------------------\u001B[0m",
      "\u001B[0;31mKeyError\u001B[0m                                  Traceback (most recent call last)",
      "File \u001B[0;32m~/anaconda3/lib/python3.11/site-packages/sklearn/utils/_encode.py:224\u001B[0m, in \u001B[0;36m_encode\u001B[0;34m(values, uniques, check_unknown)\u001B[0m\n\u001B[1;32m    223\u001B[0m \u001B[38;5;28;01mtry\u001B[39;00m:\n\u001B[0;32m--> 224\u001B[0m     \u001B[38;5;28;01mreturn\u001B[39;00m _map_to_integer(values, uniques)\n\u001B[1;32m    225\u001B[0m \u001B[38;5;28;01mexcept\u001B[39;00m \u001B[38;5;167;01mKeyError\u001B[39;00m \u001B[38;5;28;01mas\u001B[39;00m e:\n",
      "File \u001B[0;32m~/anaconda3/lib/python3.11/site-packages/sklearn/utils/_encode.py:164\u001B[0m, in \u001B[0;36m_map_to_integer\u001B[0;34m(values, uniques)\u001B[0m\n\u001B[1;32m    163\u001B[0m table \u001B[38;5;241m=\u001B[39m _nandict({val: i \u001B[38;5;28;01mfor\u001B[39;00m i, val \u001B[38;5;129;01min\u001B[39;00m \u001B[38;5;28menumerate\u001B[39m(uniques)})\n\u001B[0;32m--> 164\u001B[0m \u001B[38;5;28;01mreturn\u001B[39;00m np\u001B[38;5;241m.\u001B[39marray([table[v] \u001B[38;5;28;01mfor\u001B[39;00m v \u001B[38;5;129;01min\u001B[39;00m values])\n",
      "File \u001B[0;32m~/anaconda3/lib/python3.11/site-packages/sklearn/utils/_encode.py:164\u001B[0m, in \u001B[0;36m<listcomp>\u001B[0;34m(.0)\u001B[0m\n\u001B[1;32m    163\u001B[0m table \u001B[38;5;241m=\u001B[39m _nandict({val: i \u001B[38;5;28;01mfor\u001B[39;00m i, val \u001B[38;5;129;01min\u001B[39;00m \u001B[38;5;28menumerate\u001B[39m(uniques)})\n\u001B[0;32m--> 164\u001B[0m \u001B[38;5;28;01mreturn\u001B[39;00m np\u001B[38;5;241m.\u001B[39marray([table[v] \u001B[38;5;28;01mfor\u001B[39;00m v \u001B[38;5;129;01min\u001B[39;00m values])\n",
      "File \u001B[0;32m~/anaconda3/lib/python3.11/site-packages/sklearn/utils/_encode.py:158\u001B[0m, in \u001B[0;36m_nandict.__missing__\u001B[0;34m(self, key)\u001B[0m\n\u001B[1;32m    157\u001B[0m     \u001B[38;5;28;01mreturn\u001B[39;00m \u001B[38;5;28mself\u001B[39m\u001B[38;5;241m.\u001B[39mnan_value\n\u001B[0;32m--> 158\u001B[0m \u001B[38;5;28;01mraise\u001B[39;00m \u001B[38;5;167;01mKeyError\u001B[39;00m(key)\n",
      "\u001B[0;31mKeyError\u001B[0m: 'April 20, 2016'",
      "\nDuring handling of the above exception, another exception occurred:\n",
      "\u001B[0;31mValueError\u001B[0m                                Traceback (most recent call last)",
      "Cell \u001B[0;32mIn[294], line 9\u001B[0m\n\u001B[1;32m      6\u001B[0m X_train[col] \u001B[38;5;241m=\u001B[39m le\u001B[38;5;241m.\u001B[39mfit_transform(X_train[col]) \u001B[38;5;66;03m# Fitting and tranforming the Train data\u001B[39;00m\n\u001B[1;32m      7\u001B[0m X_train[col] \u001B[38;5;241m=\u001B[39m X_train[col]\u001B[38;5;241m.\u001B[39mastype(\u001B[38;5;124m'\u001B[39m\u001B[38;5;124mcategory\u001B[39m\u001B[38;5;124m'\u001B[39m) \u001B[38;5;66;03m# Converting the label encoded features from numerical back to categorical dtype in pandas\u001B[39;00m\n\u001B[0;32m----> 9\u001B[0m X_test[col] \u001B[38;5;241m=\u001B[39m le\u001B[38;5;241m.\u001B[39mtransform(X_test[col]) \u001B[38;5;66;03m# Only transforming the test data\u001B[39;00m\n\u001B[1;32m     10\u001B[0m X_test[col] \u001B[38;5;241m=\u001B[39m X_test[col]\u001B[38;5;241m.\u001B[39mastype(\u001B[38;5;124m'\u001B[39m\u001B[38;5;124mcategory\u001B[39m\u001B[38;5;124m'\u001B[39m) \u001B[38;5;66;03m# Converting the label encoded features from numerical back to categorical dtype in pandas\u001B[39;00m\n\u001B[1;32m     12\u001B[0m le_dict[col] \u001B[38;5;241m=\u001B[39m le\n",
      "File \u001B[0;32m~/anaconda3/lib/python3.11/site-packages/sklearn/preprocessing/_label.py:138\u001B[0m, in \u001B[0;36mLabelEncoder.transform\u001B[0;34m(self, y)\u001B[0m\n\u001B[1;32m    135\u001B[0m \u001B[38;5;28;01mif\u001B[39;00m _num_samples(y) \u001B[38;5;241m==\u001B[39m \u001B[38;5;241m0\u001B[39m:\n\u001B[1;32m    136\u001B[0m     \u001B[38;5;28;01mreturn\u001B[39;00m np\u001B[38;5;241m.\u001B[39marray([])\n\u001B[0;32m--> 138\u001B[0m \u001B[38;5;28;01mreturn\u001B[39;00m _encode(y, uniques\u001B[38;5;241m=\u001B[39m\u001B[38;5;28mself\u001B[39m\u001B[38;5;241m.\u001B[39mclasses_)\n",
      "File \u001B[0;32m~/anaconda3/lib/python3.11/site-packages/sklearn/utils/_encode.py:226\u001B[0m, in \u001B[0;36m_encode\u001B[0;34m(values, uniques, check_unknown)\u001B[0m\n\u001B[1;32m    224\u001B[0m         \u001B[38;5;28;01mreturn\u001B[39;00m _map_to_integer(values, uniques)\n\u001B[1;32m    225\u001B[0m     \u001B[38;5;28;01mexcept\u001B[39;00m \u001B[38;5;167;01mKeyError\u001B[39;00m \u001B[38;5;28;01mas\u001B[39;00m e:\n\u001B[0;32m--> 226\u001B[0m         \u001B[38;5;28;01mraise\u001B[39;00m \u001B[38;5;167;01mValueError\u001B[39;00m(\u001B[38;5;124mf\u001B[39m\u001B[38;5;124m\"\u001B[39m\u001B[38;5;124my contains previously unseen labels: \u001B[39m\u001B[38;5;132;01m{\u001B[39;00m\u001B[38;5;28mstr\u001B[39m(e)\u001B[38;5;132;01m}\u001B[39;00m\u001B[38;5;124m\"\u001B[39m)\n\u001B[1;32m    227\u001B[0m \u001B[38;5;28;01melse\u001B[39;00m:\n\u001B[1;32m    228\u001B[0m     \u001B[38;5;28;01mif\u001B[39;00m check_unknown:\n",
      "\u001B[0;31mValueError\u001B[0m: y contains previously unseen labels: 'April 20, 2016'"
     ]
    }
   ],
   "source": [
    "features_to_encode = X_train.select_dtypes(include=['category', 'object']).columns\n",
    "\n",
    "for col in features_to_encode:\n",
    "    le = LabelEncoder()\n",
    "\n",
    "    X_train[col] = le.fit_transform(X_train[col]) # Fitting and tranforming the Train data\n",
    "    X_train[col] = X_train[col].astype('category') # Converting the label encoded features from numerical back to categorical dtype in pandas\n",
    "\n",
    "    X_test[col] = le.transform(X_test[col]) # Only transforming the test data\n",
    "    X_test[col] = X_test[col].astype('category') # Converting the label encoded features from numerical back to categorical dtype in pandas\n",
    "\n",
    "    le_dict[col] = le # Saving the label encoder for individual features"
   ]
  },
  {
   "cell_type": "markdown",
   "id": "12a8b8d9",
   "metadata": {
    "id": "utV6t6LpCdOm",
    "papermill": {
     "duration": 0.0805,
     "end_time": "2023-10-17T05:32:53.892556",
     "exception": false,
     "start_time": "2023-10-17T05:32:53.812056",
     "status": "completed"
    },
    "tags": []
   },
   "source": [
    "## Standardization"
   ]
  },
  {
   "cell_type": "code",
   "execution_count": 262,
   "id": "43a3e23a",
   "metadata": {
    "execution": {
     "iopub.execute_input": "2023-10-17T05:32:54.086230Z",
     "iopub.status.busy": "2023-10-17T05:32:54.084653Z",
     "iopub.status.idle": "2023-10-17T05:32:54.095951Z",
     "shell.execute_reply": "2023-10-17T05:32:54.095070Z"
    },
    "id": "stEVFfQ1Cfwn",
    "papermill": {
     "duration": 0.126415,
     "end_time": "2023-10-17T05:32:54.098552",
     "exception": false,
     "start_time": "2023-10-17T05:32:53.972137",
     "status": "completed"
    },
    "tags": [],
    "ExecuteTime": {
     "end_time": "2024-03-21T07:19:11.130128Z",
     "start_time": "2024-03-21T07:19:11.099584Z"
    }
   },
   "outputs": [],
   "source": [
    "# Converting and adding \"Last Updated Month\" to categorical features\n",
    "categorical_features = features_to_encode + ['Updated_Month']\n",
    "X_train['Updated_Month'] = X_train['Updated_Month'].astype('category')\n",
    "X_test['Updated_Month'] = X_test['Updated_Month'].astype('category')\n",
    "\n",
    "# Listing numeric features to scale\n",
    "numeric_features = X_train.select_dtypes(exclude=['category', 'object']).columns"
   ]
  },
  {
   "cell_type": "code",
   "execution_count": 263,
   "id": "969919af",
   "metadata": {
    "execution": {
     "iopub.execute_input": "2023-10-17T05:32:54.281882Z",
     "iopub.status.busy": "2023-10-17T05:32:54.280637Z",
     "iopub.status.idle": "2023-10-17T05:32:54.288859Z",
     "shell.execute_reply": "2023-10-17T05:32:54.287521Z"
    },
    "id": "ih9wfwTuCxC6",
    "outputId": "615f2a15-6799-467b-f139-3db2e5f9212c",
    "papermill": {
     "duration": 0.098661,
     "end_time": "2023-10-17T05:32:54.290933",
     "exception": false,
     "start_time": "2023-10-17T05:32:54.192272",
     "status": "completed"
    },
    "tags": [],
    "ExecuteTime": {
     "end_time": "2024-03-21T07:19:11.304213Z",
     "start_time": "2024-03-21T07:19:11.300438Z"
    }
   },
   "outputs": [
    {
     "data": {
      "text/plain": "Index(['Category_0', 'Category_1', 'Category_2', 'Category_3', 'Category_4',\n       'Category_5', 'Reviews', 'Size', 'Installs', 'Price', 'Content Rating',\n       'Updated_Year'],\n      dtype='object')"
     },
     "execution_count": 263,
     "metadata": {},
     "output_type": "execute_result"
    }
   ],
   "source": [
    "numeric_features"
   ]
  },
  {
   "cell_type": "code",
   "execution_count": 264,
   "id": "cfe84a0b",
   "metadata": {
    "execution": {
     "iopub.execute_input": "2023-10-17T05:32:54.456723Z",
     "iopub.status.busy": "2023-10-17T05:32:54.455985Z",
     "iopub.status.idle": "2023-10-17T05:32:54.469330Z",
     "shell.execute_reply": "2023-10-17T05:32:54.468537Z"
    },
    "id": "bfxsJbA6C0T_",
    "papermill": {
     "duration": 0.097403,
     "end_time": "2023-10-17T05:32:54.471807",
     "exception": false,
     "start_time": "2023-10-17T05:32:54.374404",
     "status": "completed"
    },
    "tags": [],
    "ExecuteTime": {
     "end_time": "2024-03-21T07:19:11.465497Z",
     "start_time": "2024-03-21T07:19:11.457409Z"
    }
   },
   "outputs": [],
   "source": [
    "scaler = StandardScaler()\n",
    "\n",
    "# Fitting and transforming the Training data\n",
    "X_train[numeric_features] = scaler.fit_transform(X_train[numeric_features])\n",
    "# X_train = scaler.fit_transform(X_train)\n",
    "\n",
    "# Only transforming the Test data\n",
    "X_test[numeric_features] = scaler.transform(X_test[numeric_features])\n",
    "# X_test = scaler.transform(X_test)"
   ]
  },
  {
   "cell_type": "markdown",
   "id": "76da3291",
   "metadata": {
    "id": "6UHB5dX6DQRb",
    "papermill": {
     "duration": 0.079347,
     "end_time": "2023-10-17T05:32:54.627751",
     "exception": false,
     "start_time": "2023-10-17T05:32:54.548404",
     "status": "completed"
    },
    "tags": []
   },
   "source": [
    "\n",
    "# Step 7 Modeling\n",
    "\n",
    "## Step 7.1  Regression"
   ]
  },
  {
   "cell_type": "markdown",
   "id": "c55e3c17",
   "metadata": {
    "id": "2ICkHonNDfXu",
    "papermill": {
     "duration": 0.167063,
     "end_time": "2023-10-17T05:32:54.872696",
     "exception": false,
     "start_time": "2023-10-17T05:32:54.705633",
     "status": "completed"
    },
    "tags": []
   },
   "source": [
    "\n",
    "### Creating dataframe for metrics"
   ]
  },
  {
   "cell_type": "code",
   "execution_count": 265,
   "id": "215cc544",
   "metadata": {
    "execution": {
     "iopub.execute_input": "2023-10-17T05:32:55.032700Z",
     "iopub.status.busy": "2023-10-17T05:32:55.030964Z",
     "iopub.status.idle": "2023-10-17T05:32:55.042228Z",
     "shell.execute_reply": "2023-10-17T05:32:55.041093Z"
    },
    "id": "nuNZrRvGDK7f",
    "papermill": {
     "duration": 0.096029,
     "end_time": "2023-10-17T05:32:55.044874",
     "exception": false,
     "start_time": "2023-10-17T05:32:54.948845",
     "status": "completed"
    },
    "tags": [],
    "ExecuteTime": {
     "end_time": "2024-03-21T07:19:11.546615Z",
     "start_time": "2024-03-21T07:19:11.538215Z"
    }
   },
   "outputs": [],
   "source": [
    "models = ['Linear', 'KNN', 'Random Forest']\n",
    "datasets = ['train', 'test']\n",
    "metrics = ['RMSE', 'MAE', 'R2']\n",
    "\n",
    "multi_index = pd.MultiIndex.from_product([models, datasets, metrics],\n",
    "                                         names=['model', 'dataset', 'metric'])\n",
    "\n",
    "df_metrics_reg = pd.DataFrame(index=multi_index,\n",
    "                          columns=['value'])"
   ]
  },
  {
   "cell_type": "code",
   "execution_count": 266,
   "id": "e3fcc22d",
   "metadata": {
    "execution": {
     "iopub.execute_input": "2023-10-17T05:32:55.200368Z",
     "iopub.status.busy": "2023-10-17T05:32:55.199944Z",
     "iopub.status.idle": "2023-10-17T05:32:55.212598Z",
     "shell.execute_reply": "2023-10-17T05:32:55.211203Z"
    },
    "id": "JV4GiMgpDnIQ",
    "outputId": "085be502-c89f-464d-edea-32e8df31337a",
    "papermill": {
     "duration": 0.092969,
     "end_time": "2023-10-17T05:32:55.214818",
     "exception": false,
     "start_time": "2023-10-17T05:32:55.121849",
     "status": "completed"
    },
    "tags": [],
    "ExecuteTime": {
     "end_time": "2024-03-21T07:19:11.738471Z",
     "start_time": "2024-03-21T07:19:11.733971Z"
    }
   },
   "outputs": [
    {
     "data": {
      "text/plain": "                             value\nmodel         dataset metric      \nLinear        train   RMSE     NaN\n                      MAE      NaN\n                      R2       NaN\n              test    RMSE     NaN\n                      MAE      NaN\n                      R2       NaN\nKNN           train   RMSE     NaN\n                      MAE      NaN\n                      R2       NaN\n              test    RMSE     NaN\n                      MAE      NaN\n                      R2       NaN\nRandom Forest train   RMSE     NaN\n                      MAE      NaN\n                      R2       NaN\n              test    RMSE     NaN\n                      MAE      NaN\n                      R2       NaN",
      "text/html": "<div>\n<style scoped>\n    .dataframe tbody tr th:only-of-type {\n        vertical-align: middle;\n    }\n\n    .dataframe tbody tr th {\n        vertical-align: top;\n    }\n\n    .dataframe thead th {\n        text-align: right;\n    }\n</style>\n<table border=\"1\" class=\"dataframe\">\n  <thead>\n    <tr style=\"text-align: right;\">\n      <th></th>\n      <th></th>\n      <th></th>\n      <th>value</th>\n    </tr>\n    <tr>\n      <th>model</th>\n      <th>dataset</th>\n      <th>metric</th>\n      <th></th>\n    </tr>\n  </thead>\n  <tbody>\n    <tr>\n      <th rowspan=\"6\" valign=\"top\">Linear</th>\n      <th rowspan=\"3\" valign=\"top\">train</th>\n      <th>RMSE</th>\n      <td>NaN</td>\n    </tr>\n    <tr>\n      <th>MAE</th>\n      <td>NaN</td>\n    </tr>\n    <tr>\n      <th>R2</th>\n      <td>NaN</td>\n    </tr>\n    <tr>\n      <th rowspan=\"3\" valign=\"top\">test</th>\n      <th>RMSE</th>\n      <td>NaN</td>\n    </tr>\n    <tr>\n      <th>MAE</th>\n      <td>NaN</td>\n    </tr>\n    <tr>\n      <th>R2</th>\n      <td>NaN</td>\n    </tr>\n    <tr>\n      <th rowspan=\"6\" valign=\"top\">KNN</th>\n      <th rowspan=\"3\" valign=\"top\">train</th>\n      <th>RMSE</th>\n      <td>NaN</td>\n    </tr>\n    <tr>\n      <th>MAE</th>\n      <td>NaN</td>\n    </tr>\n    <tr>\n      <th>R2</th>\n      <td>NaN</td>\n    </tr>\n    <tr>\n      <th rowspan=\"3\" valign=\"top\">test</th>\n      <th>RMSE</th>\n      <td>NaN</td>\n    </tr>\n    <tr>\n      <th>MAE</th>\n      <td>NaN</td>\n    </tr>\n    <tr>\n      <th>R2</th>\n      <td>NaN</td>\n    </tr>\n    <tr>\n      <th rowspan=\"6\" valign=\"top\">Random Forest</th>\n      <th rowspan=\"3\" valign=\"top\">train</th>\n      <th>RMSE</th>\n      <td>NaN</td>\n    </tr>\n    <tr>\n      <th>MAE</th>\n      <td>NaN</td>\n    </tr>\n    <tr>\n      <th>R2</th>\n      <td>NaN</td>\n    </tr>\n    <tr>\n      <th rowspan=\"3\" valign=\"top\">test</th>\n      <th>RMSE</th>\n      <td>NaN</td>\n    </tr>\n    <tr>\n      <th>MAE</th>\n      <td>NaN</td>\n    </tr>\n    <tr>\n      <th>R2</th>\n      <td>NaN</td>\n    </tr>\n  </tbody>\n</table>\n</div>"
     },
     "execution_count": 266,
     "metadata": {},
     "output_type": "execute_result"
    }
   ],
   "source": [
    "df_metrics_reg"
   ]
  },
  {
   "cell_type": "markdown",
   "id": "5e93a447",
   "metadata": {
    "id": "XXTZtrkEDxRB",
    "papermill": {
     "duration": 0.075014,
     "end_time": "2023-10-17T05:32:55.367125",
     "exception": false,
     "start_time": "2023-10-17T05:32:55.292111",
     "status": "completed"
    },
    "tags": []
   },
   "source": [
    "\n",
    "## Linear Regressor"
   ]
  },
  {
   "cell_type": "code",
   "execution_count": 267,
   "id": "6b8a1d26",
   "metadata": {
    "execution": {
     "iopub.execute_input": "2023-10-17T05:32:55.516401Z",
     "iopub.status.busy": "2023-10-17T05:32:55.515616Z",
     "iopub.status.idle": "2023-10-17T05:32:55.555939Z",
     "shell.execute_reply": "2023-10-17T05:32:55.555027Z"
    },
    "id": "uE_b77CHDpeu",
    "outputId": "fa4d7361-e4d8-4ee6-d432-4e61e612f64c",
    "papermill": {
     "duration": 0.119456,
     "end_time": "2023-10-17T05:32:55.559938",
     "exception": false,
     "start_time": "2023-10-17T05:32:55.440482",
     "status": "completed"
    },
    "tags": [],
    "ExecuteTime": {
     "end_time": "2024-03-21T07:19:11.839542Z",
     "start_time": "2024-03-21T07:19:11.798660Z"
    }
   },
   "outputs": [
    {
     "data": {
      "text/plain": "LinearRegression()",
      "text/html": "<style>#sk-container-id-7 {color: black;background-color: white;}#sk-container-id-7 pre{padding: 0;}#sk-container-id-7 div.sk-toggleable {background-color: white;}#sk-container-id-7 label.sk-toggleable__label {cursor: pointer;display: block;width: 100%;margin-bottom: 0;padding: 0.3em;box-sizing: border-box;text-align: center;}#sk-container-id-7 label.sk-toggleable__label-arrow:before {content: \"▸\";float: left;margin-right: 0.25em;color: #696969;}#sk-container-id-7 label.sk-toggleable__label-arrow:hover:before {color: black;}#sk-container-id-7 div.sk-estimator:hover label.sk-toggleable__label-arrow:before {color: black;}#sk-container-id-7 div.sk-toggleable__content {max-height: 0;max-width: 0;overflow: hidden;text-align: left;background-color: #f0f8ff;}#sk-container-id-7 div.sk-toggleable__content pre {margin: 0.2em;color: black;border-radius: 0.25em;background-color: #f0f8ff;}#sk-container-id-7 input.sk-toggleable__control:checked~div.sk-toggleable__content {max-height: 200px;max-width: 100%;overflow: auto;}#sk-container-id-7 input.sk-toggleable__control:checked~label.sk-toggleable__label-arrow:before {content: \"▾\";}#sk-container-id-7 div.sk-estimator input.sk-toggleable__control:checked~label.sk-toggleable__label {background-color: #d4ebff;}#sk-container-id-7 div.sk-label input.sk-toggleable__control:checked~label.sk-toggleable__label {background-color: #d4ebff;}#sk-container-id-7 input.sk-hidden--visually {border: 0;clip: rect(1px 1px 1px 1px);clip: rect(1px, 1px, 1px, 1px);height: 1px;margin: -1px;overflow: hidden;padding: 0;position: absolute;width: 1px;}#sk-container-id-7 div.sk-estimator {font-family: monospace;background-color: #f0f8ff;border: 1px dotted black;border-radius: 0.25em;box-sizing: border-box;margin-bottom: 0.5em;}#sk-container-id-7 div.sk-estimator:hover {background-color: #d4ebff;}#sk-container-id-7 div.sk-parallel-item::after {content: \"\";width: 100%;border-bottom: 1px solid gray;flex-grow: 1;}#sk-container-id-7 div.sk-label:hover label.sk-toggleable__label {background-color: #d4ebff;}#sk-container-id-7 div.sk-serial::before {content: \"\";position: absolute;border-left: 1px solid gray;box-sizing: border-box;top: 0;bottom: 0;left: 50%;z-index: 0;}#sk-container-id-7 div.sk-serial {display: flex;flex-direction: column;align-items: center;background-color: white;padding-right: 0.2em;padding-left: 0.2em;position: relative;}#sk-container-id-7 div.sk-item {position: relative;z-index: 1;}#sk-container-id-7 div.sk-parallel {display: flex;align-items: stretch;justify-content: center;background-color: white;position: relative;}#sk-container-id-7 div.sk-item::before, #sk-container-id-7 div.sk-parallel-item::before {content: \"\";position: absolute;border-left: 1px solid gray;box-sizing: border-box;top: 0;bottom: 0;left: 50%;z-index: -1;}#sk-container-id-7 div.sk-parallel-item {display: flex;flex-direction: column;z-index: 1;position: relative;background-color: white;}#sk-container-id-7 div.sk-parallel-item:first-child::after {align-self: flex-end;width: 50%;}#sk-container-id-7 div.sk-parallel-item:last-child::after {align-self: flex-start;width: 50%;}#sk-container-id-7 div.sk-parallel-item:only-child::after {width: 0;}#sk-container-id-7 div.sk-dashed-wrapped {border: 1px dashed gray;margin: 0 0.4em 0.5em 0.4em;box-sizing: border-box;padding-bottom: 0.4em;background-color: white;}#sk-container-id-7 div.sk-label label {font-family: monospace;font-weight: bold;display: inline-block;line-height: 1.2em;}#sk-container-id-7 div.sk-label-container {text-align: center;}#sk-container-id-7 div.sk-container {/* jupyter's `normalize.less` sets `[hidden] { display: none; }` but bootstrap.min.css set `[hidden] { display: none !important; }` so we also need the `!important` here to be able to override the default hidden behavior on the sphinx rendered scikit-learn.org. See: https://github.com/scikit-learn/scikit-learn/issues/21755 */display: inline-block !important;position: relative;}#sk-container-id-7 div.sk-text-repr-fallback {display: none;}</style><div id=\"sk-container-id-7\" class=\"sk-top-container\"><div class=\"sk-text-repr-fallback\"><pre>LinearRegression()</pre><b>In a Jupyter environment, please rerun this cell to show the HTML representation or trust the notebook. <br />On GitHub, the HTML representation is unable to render, please try loading this page with nbviewer.org.</b></div><div class=\"sk-container\" hidden><div class=\"sk-item\"><div class=\"sk-estimator sk-toggleable\"><input class=\"sk-toggleable__control sk-hidden--visually\" id=\"sk-estimator-id-7\" type=\"checkbox\" checked><label for=\"sk-estimator-id-7\" class=\"sk-toggleable__label sk-toggleable__label-arrow\">LinearRegression</label><div class=\"sk-toggleable__content\"><pre>LinearRegression()</pre></div></div></div></div></div>"
     },
     "execution_count": 267,
     "metadata": {},
     "output_type": "execute_result"
    }
   ],
   "source": [
    "lr = LinearRegression()\n",
    "lr.fit(X_train, y_train)"
   ]
  },
  {
   "cell_type": "code",
   "execution_count": 268,
   "id": "77288728",
   "metadata": {
    "execution": {
     "iopub.execute_input": "2023-10-17T05:32:55.727175Z",
     "iopub.status.busy": "2023-10-17T05:32:55.726813Z",
     "iopub.status.idle": "2023-10-17T05:32:55.745392Z",
     "shell.execute_reply": "2023-10-17T05:32:55.743907Z"
    },
    "id": "aJOMXB-vD1J1",
    "papermill": {
     "duration": 0.105397,
     "end_time": "2023-10-17T05:32:55.749647",
     "exception": false,
     "start_time": "2023-10-17T05:32:55.644250",
     "status": "completed"
    },
    "tags": [],
    "ExecuteTime": {
     "end_time": "2024-03-21T07:19:12.140350Z",
     "start_time": "2024-03-21T07:19:12.063853Z"
    }
   },
   "outputs": [],
   "source": [
    "df_metrics_reg.loc['Linear', 'train', 'R2'] = lr.score(X_train, y_train)\n",
    "df_metrics_reg.loc['Linear', 'test', 'R2'] = lr.score(X_test, y_test)"
   ]
  },
  {
   "cell_type": "code",
   "execution_count": 269,
   "id": "742b740b",
   "metadata": {
    "execution": {
     "iopub.execute_input": "2023-10-17T05:32:55.983990Z",
     "iopub.status.busy": "2023-10-17T05:32:55.983326Z",
     "iopub.status.idle": "2023-10-17T05:32:56.010252Z",
     "shell.execute_reply": "2023-10-17T05:32:56.008010Z"
    },
    "id": "P6aDG7d4D4RH",
    "papermill": {
     "duration": 0.113752,
     "end_time": "2023-10-17T05:32:56.016435",
     "exception": false,
     "start_time": "2023-10-17T05:32:55.902683",
     "status": "completed"
    },
    "tags": [],
    "ExecuteTime": {
     "end_time": "2024-03-21T07:19:12.367098Z",
     "start_time": "2024-03-21T07:19:12.321036Z"
    }
   },
   "outputs": [],
   "source": [
    "y_train_pred = lr.predict(X_train)\n",
    "y_test_pred = lr.predict(X_test)\n",
    "\n",
    "df_metrics_reg.loc['Linear', 'train', 'MAE'] = mean_absolute_error(y_train, y_train_pred)\n",
    "df_metrics_reg.loc['Linear', 'test', 'MAE'] = mean_absolute_error(y_test, y_test_pred)\n",
    "\n",
    "df_metrics_reg.loc['Linear', 'train', 'RMSE'] = mean_squared_error(y_train, y_train_pred, squared=False)\n",
    "df_metrics_reg.loc['Linear', 'test', 'RMSE'] = mean_squared_error(y_test, y_test_pred, squared=False)"
   ]
  },
  {
   "cell_type": "markdown",
   "id": "22c65cfd",
   "metadata": {
    "id": "_p5M5MXZMW7g",
    "papermill": {
     "duration": 0.073148,
     "end_time": "2023-10-17T05:32:56.234403",
     "exception": false,
     "start_time": "2023-10-17T05:32:56.161255",
     "status": "completed"
    },
    "tags": []
   },
   "source": [
    "### KNeighbors Regressor"
   ]
  },
  {
   "cell_type": "code",
   "execution_count": 270,
   "id": "034ce94f",
   "metadata": {
    "execution": {
     "iopub.execute_input": "2023-10-17T05:32:56.388695Z",
     "iopub.status.busy": "2023-10-17T05:32:56.388021Z",
     "iopub.status.idle": "2023-10-17T05:32:56.407970Z",
     "shell.execute_reply": "2023-10-17T05:32:56.407239Z"
    },
    "id": "HW5YAwtcManJ",
    "outputId": "abbd57ba-11b5-42b7-b244-58916d1c737e",
    "papermill": {
     "duration": 0.100515,
     "end_time": "2023-10-17T05:32:56.409803",
     "exception": false,
     "start_time": "2023-10-17T05:32:56.309288",
     "status": "completed"
    },
    "tags": [],
    "ExecuteTime": {
     "end_time": "2024-03-21T07:19:12.867198Z",
     "start_time": "2024-03-21T07:19:12.828578Z"
    }
   },
   "outputs": [
    {
     "data": {
      "text/plain": "KNeighborsRegressor()",
      "text/html": "<style>#sk-container-id-8 {color: black;background-color: white;}#sk-container-id-8 pre{padding: 0;}#sk-container-id-8 div.sk-toggleable {background-color: white;}#sk-container-id-8 label.sk-toggleable__label {cursor: pointer;display: block;width: 100%;margin-bottom: 0;padding: 0.3em;box-sizing: border-box;text-align: center;}#sk-container-id-8 label.sk-toggleable__label-arrow:before {content: \"▸\";float: left;margin-right: 0.25em;color: #696969;}#sk-container-id-8 label.sk-toggleable__label-arrow:hover:before {color: black;}#sk-container-id-8 div.sk-estimator:hover label.sk-toggleable__label-arrow:before {color: black;}#sk-container-id-8 div.sk-toggleable__content {max-height: 0;max-width: 0;overflow: hidden;text-align: left;background-color: #f0f8ff;}#sk-container-id-8 div.sk-toggleable__content pre {margin: 0.2em;color: black;border-radius: 0.25em;background-color: #f0f8ff;}#sk-container-id-8 input.sk-toggleable__control:checked~div.sk-toggleable__content {max-height: 200px;max-width: 100%;overflow: auto;}#sk-container-id-8 input.sk-toggleable__control:checked~label.sk-toggleable__label-arrow:before {content: \"▾\";}#sk-container-id-8 div.sk-estimator input.sk-toggleable__control:checked~label.sk-toggleable__label {background-color: #d4ebff;}#sk-container-id-8 div.sk-label input.sk-toggleable__control:checked~label.sk-toggleable__label {background-color: #d4ebff;}#sk-container-id-8 input.sk-hidden--visually {border: 0;clip: rect(1px 1px 1px 1px);clip: rect(1px, 1px, 1px, 1px);height: 1px;margin: -1px;overflow: hidden;padding: 0;position: absolute;width: 1px;}#sk-container-id-8 div.sk-estimator {font-family: monospace;background-color: #f0f8ff;border: 1px dotted black;border-radius: 0.25em;box-sizing: border-box;margin-bottom: 0.5em;}#sk-container-id-8 div.sk-estimator:hover {background-color: #d4ebff;}#sk-container-id-8 div.sk-parallel-item::after {content: \"\";width: 100%;border-bottom: 1px solid gray;flex-grow: 1;}#sk-container-id-8 div.sk-label:hover label.sk-toggleable__label {background-color: #d4ebff;}#sk-container-id-8 div.sk-serial::before {content: \"\";position: absolute;border-left: 1px solid gray;box-sizing: border-box;top: 0;bottom: 0;left: 50%;z-index: 0;}#sk-container-id-8 div.sk-serial {display: flex;flex-direction: column;align-items: center;background-color: white;padding-right: 0.2em;padding-left: 0.2em;position: relative;}#sk-container-id-8 div.sk-item {position: relative;z-index: 1;}#sk-container-id-8 div.sk-parallel {display: flex;align-items: stretch;justify-content: center;background-color: white;position: relative;}#sk-container-id-8 div.sk-item::before, #sk-container-id-8 div.sk-parallel-item::before {content: \"\";position: absolute;border-left: 1px solid gray;box-sizing: border-box;top: 0;bottom: 0;left: 50%;z-index: -1;}#sk-container-id-8 div.sk-parallel-item {display: flex;flex-direction: column;z-index: 1;position: relative;background-color: white;}#sk-container-id-8 div.sk-parallel-item:first-child::after {align-self: flex-end;width: 50%;}#sk-container-id-8 div.sk-parallel-item:last-child::after {align-self: flex-start;width: 50%;}#sk-container-id-8 div.sk-parallel-item:only-child::after {width: 0;}#sk-container-id-8 div.sk-dashed-wrapped {border: 1px dashed gray;margin: 0 0.4em 0.5em 0.4em;box-sizing: border-box;padding-bottom: 0.4em;background-color: white;}#sk-container-id-8 div.sk-label label {font-family: monospace;font-weight: bold;display: inline-block;line-height: 1.2em;}#sk-container-id-8 div.sk-label-container {text-align: center;}#sk-container-id-8 div.sk-container {/* jupyter's `normalize.less` sets `[hidden] { display: none; }` but bootstrap.min.css set `[hidden] { display: none !important; }` so we also need the `!important` here to be able to override the default hidden behavior on the sphinx rendered scikit-learn.org. See: https://github.com/scikit-learn/scikit-learn/issues/21755 */display: inline-block !important;position: relative;}#sk-container-id-8 div.sk-text-repr-fallback {display: none;}</style><div id=\"sk-container-id-8\" class=\"sk-top-container\"><div class=\"sk-text-repr-fallback\"><pre>KNeighborsRegressor()</pre><b>In a Jupyter environment, please rerun this cell to show the HTML representation or trust the notebook. <br />On GitHub, the HTML representation is unable to render, please try loading this page with nbviewer.org.</b></div><div class=\"sk-container\" hidden><div class=\"sk-item\"><div class=\"sk-estimator sk-toggleable\"><input class=\"sk-toggleable__control sk-hidden--visually\" id=\"sk-estimator-id-8\" type=\"checkbox\" checked><label for=\"sk-estimator-id-8\" class=\"sk-toggleable__label sk-toggleable__label-arrow\">KNeighborsRegressor</label><div class=\"sk-toggleable__content\"><pre>KNeighborsRegressor()</pre></div></div></div></div></div>"
     },
     "execution_count": 270,
     "metadata": {},
     "output_type": "execute_result"
    }
   ],
   "source": [
    "knn = KNeighborsRegressor()\n",
    "knn.fit(X_train, y_train)"
   ]
  },
  {
   "cell_type": "code",
   "execution_count": 271,
   "id": "c9368574",
   "metadata": {
    "execution": {
     "iopub.execute_input": "2023-10-17T05:32:56.566613Z",
     "iopub.status.busy": "2023-10-17T05:32:56.565545Z",
     "iopub.status.idle": "2023-10-17T05:32:56.941050Z",
     "shell.execute_reply": "2023-10-17T05:32:56.940220Z"
    },
    "id": "eyvJS7XKMeWR",
    "papermill": {
     "duration": 0.45693,
     "end_time": "2023-10-17T05:32:56.943588",
     "exception": false,
     "start_time": "2023-10-17T05:32:56.486658",
     "status": "completed"
    },
    "tags": [],
    "ExecuteTime": {
     "end_time": "2024-03-21T07:19:13.955166Z",
     "start_time": "2024-03-21T07:19:12.994519Z"
    }
   },
   "outputs": [],
   "source": [
    "df_metrics_reg.loc['KNN', 'train', 'R2'] = knn.score(X_train, y_train)\n",
    "df_metrics_reg.loc['KNN', 'test', 'R2'] = knn.score(X_test, y_test)"
   ]
  },
  {
   "cell_type": "code",
   "execution_count": 272,
   "id": "ab1e4a05",
   "metadata": {
    "execution": {
     "iopub.execute_input": "2023-10-17T05:32:57.107954Z",
     "iopub.status.busy": "2023-10-17T05:32:57.107011Z",
     "iopub.status.idle": "2023-10-17T05:32:57.480882Z",
     "shell.execute_reply": "2023-10-17T05:32:57.479678Z"
    },
    "id": "Yzh91j_RMhbN",
    "papermill": {
     "duration": 0.457491,
     "end_time": "2023-10-17T05:32:57.483429",
     "exception": false,
     "start_time": "2023-10-17T05:32:57.025938",
     "status": "completed"
    },
    "tags": [],
    "ExecuteTime": {
     "end_time": "2024-03-21T07:19:15.203557Z",
     "start_time": "2024-03-21T07:19:13.971001Z"
    }
   },
   "outputs": [],
   "source": [
    "y_train_pred = knn.predict(X_train)\n",
    "y_test_pred = knn.predict(X_test)\n",
    "\n",
    "df_metrics_reg.loc['KNN', 'train', 'MAE'] = mean_absolute_error(y_train, y_train_pred)\n",
    "df_metrics_reg.loc['KNN', 'test', 'MAE'] = mean_absolute_error(y_test, y_test_pred)\n",
    "\n",
    "df_metrics_reg.loc['KNN', 'train', 'RMSE'] = mean_squared_error(y_train, y_train_pred, squared=False)\n",
    "df_metrics_reg.loc['KNN', 'test', 'RMSE'] = mean_squared_error(y_test, y_test_pred, squared=False)"
   ]
  },
  {
   "cell_type": "markdown",
   "id": "68b8c433",
   "metadata": {
    "id": "fVa8hayhMoqQ",
    "papermill": {
     "duration": 0.074067,
     "end_time": "2023-10-17T05:32:57.633380",
     "exception": false,
     "start_time": "2023-10-17T05:32:57.559313",
     "status": "completed"
    },
    "tags": []
   },
   "source": [
    "### Random Forest Regressor"
   ]
  },
  {
   "cell_type": "code",
   "execution_count": 273,
   "id": "e8b050fa",
   "metadata": {
    "execution": {
     "iopub.execute_input": "2023-10-17T05:32:57.786064Z",
     "iopub.status.busy": "2023-10-17T05:32:57.784742Z",
     "iopub.status.idle": "2023-10-17T05:32:58.279947Z",
     "shell.execute_reply": "2023-10-17T05:32:58.278898Z"
    },
    "id": "WuGl9VASMktx",
    "outputId": "8552c5b0-8d64-4911-f930-3d9cef00b845",
    "papermill": {
     "duration": 0.57557,
     "end_time": "2023-10-17T05:32:58.283182",
     "exception": false,
     "start_time": "2023-10-17T05:32:57.707612",
     "status": "completed"
    },
    "tags": [],
    "ExecuteTime": {
     "end_time": "2024-03-21T07:19:15.777611Z",
     "start_time": "2024-03-21T07:19:15.206468Z"
    }
   },
   "outputs": [
    {
     "data": {
      "text/plain": "RandomForestRegressor(max_depth=2, random_state=0)",
      "text/html": "<style>#sk-container-id-9 {color: black;background-color: white;}#sk-container-id-9 pre{padding: 0;}#sk-container-id-9 div.sk-toggleable {background-color: white;}#sk-container-id-9 label.sk-toggleable__label {cursor: pointer;display: block;width: 100%;margin-bottom: 0;padding: 0.3em;box-sizing: border-box;text-align: center;}#sk-container-id-9 label.sk-toggleable__label-arrow:before {content: \"▸\";float: left;margin-right: 0.25em;color: #696969;}#sk-container-id-9 label.sk-toggleable__label-arrow:hover:before {color: black;}#sk-container-id-9 div.sk-estimator:hover label.sk-toggleable__label-arrow:before {color: black;}#sk-container-id-9 div.sk-toggleable__content {max-height: 0;max-width: 0;overflow: hidden;text-align: left;background-color: #f0f8ff;}#sk-container-id-9 div.sk-toggleable__content pre {margin: 0.2em;color: black;border-radius: 0.25em;background-color: #f0f8ff;}#sk-container-id-9 input.sk-toggleable__control:checked~div.sk-toggleable__content {max-height: 200px;max-width: 100%;overflow: auto;}#sk-container-id-9 input.sk-toggleable__control:checked~label.sk-toggleable__label-arrow:before {content: \"▾\";}#sk-container-id-9 div.sk-estimator input.sk-toggleable__control:checked~label.sk-toggleable__label {background-color: #d4ebff;}#sk-container-id-9 div.sk-label input.sk-toggleable__control:checked~label.sk-toggleable__label {background-color: #d4ebff;}#sk-container-id-9 input.sk-hidden--visually {border: 0;clip: rect(1px 1px 1px 1px);clip: rect(1px, 1px, 1px, 1px);height: 1px;margin: -1px;overflow: hidden;padding: 0;position: absolute;width: 1px;}#sk-container-id-9 div.sk-estimator {font-family: monospace;background-color: #f0f8ff;border: 1px dotted black;border-radius: 0.25em;box-sizing: border-box;margin-bottom: 0.5em;}#sk-container-id-9 div.sk-estimator:hover {background-color: #d4ebff;}#sk-container-id-9 div.sk-parallel-item::after {content: \"\";width: 100%;border-bottom: 1px solid gray;flex-grow: 1;}#sk-container-id-9 div.sk-label:hover label.sk-toggleable__label {background-color: #d4ebff;}#sk-container-id-9 div.sk-serial::before {content: \"\";position: absolute;border-left: 1px solid gray;box-sizing: border-box;top: 0;bottom: 0;left: 50%;z-index: 0;}#sk-container-id-9 div.sk-serial {display: flex;flex-direction: column;align-items: center;background-color: white;padding-right: 0.2em;padding-left: 0.2em;position: relative;}#sk-container-id-9 div.sk-item {position: relative;z-index: 1;}#sk-container-id-9 div.sk-parallel {display: flex;align-items: stretch;justify-content: center;background-color: white;position: relative;}#sk-container-id-9 div.sk-item::before, #sk-container-id-9 div.sk-parallel-item::before {content: \"\";position: absolute;border-left: 1px solid gray;box-sizing: border-box;top: 0;bottom: 0;left: 50%;z-index: -1;}#sk-container-id-9 div.sk-parallel-item {display: flex;flex-direction: column;z-index: 1;position: relative;background-color: white;}#sk-container-id-9 div.sk-parallel-item:first-child::after {align-self: flex-end;width: 50%;}#sk-container-id-9 div.sk-parallel-item:last-child::after {align-self: flex-start;width: 50%;}#sk-container-id-9 div.sk-parallel-item:only-child::after {width: 0;}#sk-container-id-9 div.sk-dashed-wrapped {border: 1px dashed gray;margin: 0 0.4em 0.5em 0.4em;box-sizing: border-box;padding-bottom: 0.4em;background-color: white;}#sk-container-id-9 div.sk-label label {font-family: monospace;font-weight: bold;display: inline-block;line-height: 1.2em;}#sk-container-id-9 div.sk-label-container {text-align: center;}#sk-container-id-9 div.sk-container {/* jupyter's `normalize.less` sets `[hidden] { display: none; }` but bootstrap.min.css set `[hidden] { display: none !important; }` so we also need the `!important` here to be able to override the default hidden behavior on the sphinx rendered scikit-learn.org. See: https://github.com/scikit-learn/scikit-learn/issues/21755 */display: inline-block !important;position: relative;}#sk-container-id-9 div.sk-text-repr-fallback {display: none;}</style><div id=\"sk-container-id-9\" class=\"sk-top-container\"><div class=\"sk-text-repr-fallback\"><pre>RandomForestRegressor(max_depth=2, random_state=0)</pre><b>In a Jupyter environment, please rerun this cell to show the HTML representation or trust the notebook. <br />On GitHub, the HTML representation is unable to render, please try loading this page with nbviewer.org.</b></div><div class=\"sk-container\" hidden><div class=\"sk-item\"><div class=\"sk-estimator sk-toggleable\"><input class=\"sk-toggleable__control sk-hidden--visually\" id=\"sk-estimator-id-9\" type=\"checkbox\" checked><label for=\"sk-estimator-id-9\" class=\"sk-toggleable__label sk-toggleable__label-arrow\">RandomForestRegressor</label><div class=\"sk-toggleable__content\"><pre>RandomForestRegressor(max_depth=2, random_state=0)</pre></div></div></div></div></div>"
     },
     "execution_count": 273,
     "metadata": {},
     "output_type": "execute_result"
    }
   ],
   "source": [
    "rf = RandomForestRegressor(max_depth=2, random_state=0)\n",
    "rf.fit(X_train, y_train)"
   ]
  },
  {
   "cell_type": "code",
   "execution_count": 274,
   "id": "37f722fa",
   "metadata": {
    "execution": {
     "iopub.execute_input": "2023-10-17T05:32:58.446740Z",
     "iopub.status.busy": "2023-10-17T05:32:58.446022Z",
     "iopub.status.idle": "2023-10-17T05:32:58.488142Z",
     "shell.execute_reply": "2023-10-17T05:32:58.486919Z"
    },
    "id": "TzEIzDBOMsx_",
    "papermill": {
     "duration": 0.127782,
     "end_time": "2023-10-17T05:32:58.490816",
     "exception": false,
     "start_time": "2023-10-17T05:32:58.363034",
     "status": "completed"
    },
    "tags": [],
    "ExecuteTime": {
     "end_time": "2024-03-21T07:19:15.813082Z",
     "start_time": "2024-03-21T07:19:15.780840Z"
    }
   },
   "outputs": [],
   "source": [
    "df_metrics_reg.loc['Random Forest', 'train', 'R2'] = rf.score(X_train, y_train)\n",
    "df_metrics_reg.loc['Random Forest', 'test', 'R2'] = rf.score(X_test, y_test)"
   ]
  },
  {
   "cell_type": "code",
   "execution_count": 275,
   "id": "783aba85",
   "metadata": {
    "execution": {
     "iopub.execute_input": "2023-10-17T05:32:58.651614Z",
     "iopub.status.busy": "2023-10-17T05:32:58.650641Z",
     "iopub.status.idle": "2023-10-17T05:32:58.695004Z",
     "shell.execute_reply": "2023-10-17T05:32:58.693584Z"
    },
    "id": "YGRCDzIUMwDI",
    "papermill": {
     "duration": 0.129309,
     "end_time": "2023-10-17T05:32:58.697939",
     "exception": false,
     "start_time": "2023-10-17T05:32:58.568630",
     "status": "completed"
    },
    "tags": [],
    "ExecuteTime": {
     "end_time": "2024-03-21T07:19:15.856944Z",
     "start_time": "2024-03-21T07:19:15.814738Z"
    }
   },
   "outputs": [],
   "source": [
    "y_train_pred = rf.predict(X_train)\n",
    "y_test_pred = rf.predict(X_test)\n",
    "df_metrics_reg.loc['Random Forest', 'train', 'MAE'] = mean_absolute_error(y_train, y_train_pred)\n",
    "df_metrics_reg.loc['Random Forest', 'test', 'MAE'] = mean_absolute_error(y_test, y_test_pred)\n",
    "\n",
    "df_metrics_reg.loc['Random Forest', 'train', 'RMSE'] = mean_squared_error(y_train, y_train_pred, squared=False)\n",
    "df_metrics_reg.loc['Random Forest', 'test', 'RMSE'] = mean_squared_error(y_test, y_test_pred, squared=False)"
   ]
  },
  {
   "cell_type": "markdown",
   "id": "38546f65",
   "metadata": {
    "id": "Fx5M3GGzM2Ji",
    "papermill": {
     "duration": 0.081812,
     "end_time": "2023-10-17T05:32:58.859944",
     "exception": false,
     "start_time": "2023-10-17T05:32:58.778132",
     "status": "completed"
    },
    "tags": []
   },
   "source": [
    "### Regression Evaluation"
   ]
  },
  {
   "cell_type": "code",
   "execution_count": 276,
   "id": "0158399b",
   "metadata": {
    "execution": {
     "iopub.execute_input": "2023-10-17T05:32:59.035564Z",
     "iopub.status.busy": "2023-10-17T05:32:59.034272Z",
     "iopub.status.idle": "2023-10-17T05:32:59.048472Z",
     "shell.execute_reply": "2023-10-17T05:32:59.047705Z"
    },
    "id": "2ervuYtzM4NL",
    "outputId": "94544c6f-68c4-49bd-a195-9e46ddde7288",
    "papermill": {
     "duration": 0.109394,
     "end_time": "2023-10-17T05:32:59.051687",
     "exception": false,
     "start_time": "2023-10-17T05:32:58.942293",
     "status": "completed"
    },
    "tags": [],
    "ExecuteTime": {
     "end_time": "2024-03-21T07:19:15.870570Z",
     "start_time": "2024-03-21T07:19:15.858794Z"
    }
   },
   "outputs": [
    {
     "data": {
      "text/plain": "                              value\nmodel         dataset metric       \nLinear        train   RMSE    0.616\n                      MAE     0.388\n                      R2      0.016\n              test    RMSE    0.600\n                      MAE     0.379\n                      R2      0.003\nKNN           train   RMSE    0.537\n                      MAE     0.359\n                      R2      0.253\n              test    RMSE    0.657\n                      MAE     0.438\n                      R2     -0.197\nRandom Forest train   RMSE    0.609\n                      MAE     0.384\n                      R2      0.038\n              test    RMSE    0.593\n                      MAE     0.373\n                      R2      0.026",
      "text/html": "<div>\n<style scoped>\n    .dataframe tbody tr th:only-of-type {\n        vertical-align: middle;\n    }\n\n    .dataframe tbody tr th {\n        vertical-align: top;\n    }\n\n    .dataframe thead th {\n        text-align: right;\n    }\n</style>\n<table border=\"1\" class=\"dataframe\">\n  <thead>\n    <tr style=\"text-align: right;\">\n      <th></th>\n      <th></th>\n      <th></th>\n      <th>value</th>\n    </tr>\n    <tr>\n      <th>model</th>\n      <th>dataset</th>\n      <th>metric</th>\n      <th></th>\n    </tr>\n  </thead>\n  <tbody>\n    <tr>\n      <th rowspan=\"6\" valign=\"top\">Linear</th>\n      <th rowspan=\"3\" valign=\"top\">train</th>\n      <th>RMSE</th>\n      <td>0.616</td>\n    </tr>\n    <tr>\n      <th>MAE</th>\n      <td>0.388</td>\n    </tr>\n    <tr>\n      <th>R2</th>\n      <td>0.016</td>\n    </tr>\n    <tr>\n      <th rowspan=\"3\" valign=\"top\">test</th>\n      <th>RMSE</th>\n      <td>0.600</td>\n    </tr>\n    <tr>\n      <th>MAE</th>\n      <td>0.379</td>\n    </tr>\n    <tr>\n      <th>R2</th>\n      <td>0.003</td>\n    </tr>\n    <tr>\n      <th rowspan=\"6\" valign=\"top\">KNN</th>\n      <th rowspan=\"3\" valign=\"top\">train</th>\n      <th>RMSE</th>\n      <td>0.537</td>\n    </tr>\n    <tr>\n      <th>MAE</th>\n      <td>0.359</td>\n    </tr>\n    <tr>\n      <th>R2</th>\n      <td>0.253</td>\n    </tr>\n    <tr>\n      <th rowspan=\"3\" valign=\"top\">test</th>\n      <th>RMSE</th>\n      <td>0.657</td>\n    </tr>\n    <tr>\n      <th>MAE</th>\n      <td>0.438</td>\n    </tr>\n    <tr>\n      <th>R2</th>\n      <td>-0.197</td>\n    </tr>\n    <tr>\n      <th rowspan=\"6\" valign=\"top\">Random Forest</th>\n      <th rowspan=\"3\" valign=\"top\">train</th>\n      <th>RMSE</th>\n      <td>0.609</td>\n    </tr>\n    <tr>\n      <th>MAE</th>\n      <td>0.384</td>\n    </tr>\n    <tr>\n      <th>R2</th>\n      <td>0.038</td>\n    </tr>\n    <tr>\n      <th rowspan=\"3\" valign=\"top\">test</th>\n      <th>RMSE</th>\n      <td>0.593</td>\n    </tr>\n    <tr>\n      <th>MAE</th>\n      <td>0.373</td>\n    </tr>\n    <tr>\n      <th>R2</th>\n      <td>0.026</td>\n    </tr>\n  </tbody>\n</table>\n</div>"
     },
     "execution_count": 276,
     "metadata": {},
     "output_type": "execute_result"
    }
   ],
   "source": [
    "# Rounding the values\n",
    "\n",
    "df_metrics_reg['value'] = df_metrics_reg['value'].apply(lambda v: round(v, ndigits=3))\n",
    "df_metrics_reg"
   ]
  },
  {
   "cell_type": "code",
   "execution_count": 277,
   "id": "48a31e26",
   "metadata": {
    "execution": {
     "iopub.execute_input": "2023-10-17T05:32:59.227859Z",
     "iopub.status.busy": "2023-10-17T05:32:59.227130Z",
     "iopub.status.idle": "2023-10-17T05:33:00.153869Z",
     "shell.execute_reply": "2023-10-17T05:33:00.152604Z"
    },
    "id": "oKLRt_yCM7NJ",
    "outputId": "3f6d5129-052f-4b00-d60c-407a46f1cd72",
    "papermill": {
     "duration": 1.017788,
     "end_time": "2023-10-17T05:33:00.156441",
     "exception": false,
     "start_time": "2023-10-17T05:32:59.138653",
     "status": "completed"
    },
    "tags": [],
    "ExecuteTime": {
     "end_time": "2024-03-21T07:19:16.475503Z",
     "start_time": "2024-03-21T07:19:15.871713Z"
    }
   },
   "outputs": [
    {
     "data": {
      "text/plain": "<Figure size 1099x500 with 2 Axes>",
      "image/png": "[encoded data removed]"
     },
     "metadata": {},
     "output_type": "display_data"
    }
   ],
   "source": [
    "data = df_metrics_reg.reset_index()\n",
    "\n",
    "g = sns.catplot(col='dataset', data=data, kind='bar', x='model', y='value', hue='metric')\n",
    "\n",
    "# Adding annotations to bars\n",
    "# iterate through axes\n",
    "for ax in g.axes.ravel():\n",
    "    # add annotations\n",
    "    for c in ax.containers:\n",
    "        ax.bar_label(c, label_type='edge')\n",
    "\n",
    "    ax.margins(y=0.2)\n",
    "\n",
    "plt.show()"
   ]
  },
  {
   "cell_type": "markdown",
   "id": "505776ba",
   "metadata": {
    "id": "b8rlCZ-QNaiv",
    "papermill": {
     "duration": 0.082009,
     "end_time": "2023-10-17T05:33:00.327079",
     "exception": false,
     "start_time": "2023-10-17T05:33:00.245070",
     "status": "completed"
    },
    "tags": []
   },
   "source": [
    "\n",
    "    \n",
    "* **The Regression predictions don't hold up very well!**\n",
    "\n",
    "* **We can interpret that the dataset is not suitable for regression problem.**"
   ]
  },
  {
   "cell_type": "markdown",
   "id": "2c2bf3a3",
   "metadata": {
    "id": "ubY-iXq0NvZs",
    "papermill": {
     "duration": 0.080169,
     "end_time": "2023-10-17T05:33:00.486886",
     "exception": false,
     "start_time": "2023-10-17T05:33:00.406717",
     "status": "completed"
    },
    "tags": []
   },
   "source": [
    "\n",
    "## Step 7.2 Classification"
   ]
  },
  {
   "cell_type": "markdown",
   "id": "5d772924",
   "metadata": {
    "id": "OfTJARVJN1Z7",
    "papermill": {
     "duration": 0.080131,
     "end_time": "2023-10-17T05:33:00.647913",
     "exception": false,
     "start_time": "2023-10-17T05:33:00.567782",
     "status": "completed"
    },
    "tags": []
   },
   "source": [
    "\n",
    "    \n",
    "\n",
    "### Let's frame it as a classification problem statement.\n",
    "\n",
    "### Converting the Rating from continuous to discrete"
   ]
  },
  {
   "cell_type": "code",
   "execution_count": 278,
   "id": "1e5b106d",
   "metadata": {
    "execution": {
     "iopub.execute_input": "2023-10-17T05:33:00.813909Z",
     "iopub.status.busy": "2023-10-17T05:33:00.813533Z",
     "iopub.status.idle": "2023-10-17T05:33:00.818875Z",
     "shell.execute_reply": "2023-10-17T05:33:00.817784Z"
    },
    "id": "-YykbEbJNGY9",
    "papermill": {
     "duration": 0.090818,
     "end_time": "2023-10-17T05:33:00.820743",
     "exception": false,
     "start_time": "2023-10-17T05:33:00.729925",
     "status": "completed"
    },
    "tags": [],
    "ExecuteTime": {
     "end_time": "2024-03-21T07:19:16.488461Z",
     "start_time": "2024-03-21T07:19:16.476931Z"
    }
   },
   "outputs": [],
   "source": [
    "y_train_int = y_train.astype(int)\n",
    "y_test_int = y_test.astype(int)"
   ]
  },
  {
   "cell_type": "markdown",
   "id": "6a7ee052",
   "metadata": {
    "id": "hZaOi4rqOCE0",
    "papermill": {
     "duration": 0.080137,
     "end_time": "2023-10-17T05:33:00.981000",
     "exception": false,
     "start_time": "2023-10-17T05:33:00.900863",
     "status": "completed"
    },
    "tags": []
   },
   "source": [
    "\n",
    "    \n",
    "### Creating dataframe for metrics"
   ]
  },
  {
   "cell_type": "code",
   "execution_count": 279,
   "id": "6c00ac12",
   "metadata": {
    "execution": {
     "iopub.execute_input": "2023-10-17T05:33:01.154563Z",
     "iopub.status.busy": "2023-10-17T05:33:01.153656Z",
     "iopub.status.idle": "2023-10-17T05:33:01.162090Z",
     "shell.execute_reply": "2023-10-17T05:33:01.160860Z"
    },
    "id": "c5TUcX6LN9K7",
    "papermill": {
     "duration": 0.093842,
     "end_time": "2023-10-17T05:33:01.164250",
     "exception": false,
     "start_time": "2023-10-17T05:33:01.070408",
     "status": "completed"
    },
    "tags": [],
    "ExecuteTime": {
     "end_time": "2024-03-21T07:19:16.500350Z",
     "start_time": "2024-03-21T07:19:16.489455Z"
    }
   },
   "outputs": [],
   "source": [
    "models = ['Logistic Regression', 'KNN', 'Random Forest']\n",
    "datasets = ['train', 'test']\n",
    "\n",
    "multi_index = pd.MultiIndex.from_product([models, datasets],\n",
    "                                         names=['model', 'dataset'])\n",
    "\n",
    "df_metrics_clf = pd.DataFrame(index=multi_index,\n",
    "                          columns=['accuracy %'])"
   ]
  },
  {
   "cell_type": "code",
   "execution_count": 280,
   "id": "50d9efc2",
   "metadata": {
    "execution": {
     "iopub.execute_input": "2023-10-17T05:33:01.325417Z",
     "iopub.status.busy": "2023-10-17T05:33:01.324461Z",
     "iopub.status.idle": "2023-10-17T05:33:01.333634Z",
     "shell.execute_reply": "2023-10-17T05:33:01.332600Z"
    },
    "id": "CpfHyzSnOHzh",
    "outputId": "4f94fe6f-dc45-45b3-fd82-9c514f5130a7",
    "papermill": {
     "duration": 0.092282,
     "end_time": "2023-10-17T05:33:01.335958",
     "exception": false,
     "start_time": "2023-10-17T05:33:01.243676",
     "status": "completed"
    },
    "tags": [],
    "ExecuteTime": {
     "end_time": "2024-03-21T07:19:16.508103Z",
     "start_time": "2024-03-21T07:19:16.503363Z"
    }
   },
   "outputs": [
    {
     "data": {
      "text/plain": "                            accuracy %\nmodel               dataset           \nLogistic Regression train          NaN\n                    test           NaN\nKNN                 train          NaN\n                    test           NaN\nRandom Forest       train          NaN\n                    test           NaN",
      "text/html": "<div>\n<style scoped>\n    .dataframe tbody tr th:only-of-type {\n        vertical-align: middle;\n    }\n\n    .dataframe tbody tr th {\n        vertical-align: top;\n    }\n\n    .dataframe thead th {\n        text-align: right;\n    }\n</style>\n<table border=\"1\" class=\"dataframe\">\n  <thead>\n    <tr style=\"text-align: right;\">\n      <th></th>\n      <th></th>\n      <th>accuracy %</th>\n    </tr>\n    <tr>\n      <th>model</th>\n      <th>dataset</th>\n      <th></th>\n    </tr>\n  </thead>\n  <tbody>\n    <tr>\n      <th rowspan=\"2\" valign=\"top\">Logistic Regression</th>\n      <th>train</th>\n      <td>NaN</td>\n    </tr>\n    <tr>\n      <th>test</th>\n      <td>NaN</td>\n    </tr>\n    <tr>\n      <th rowspan=\"2\" valign=\"top\">KNN</th>\n      <th>train</th>\n      <td>NaN</td>\n    </tr>\n    <tr>\n      <th>test</th>\n      <td>NaN</td>\n    </tr>\n    <tr>\n      <th rowspan=\"2\" valign=\"top\">Random Forest</th>\n      <th>train</th>\n      <td>NaN</td>\n    </tr>\n    <tr>\n      <th>test</th>\n      <td>NaN</td>\n    </tr>\n  </tbody>\n</table>\n</div>"
     },
     "execution_count": 280,
     "metadata": {},
     "output_type": "execute_result"
    }
   ],
   "source": [
    "df_metrics_clf"
   ]
  },
  {
   "cell_type": "markdown",
   "id": "54e1fae1",
   "metadata": {
    "id": "OqouuMT0OPvq",
    "papermill": {
     "duration": 0.078659,
     "end_time": "2023-10-17T05:33:01.493326",
     "exception": false,
     "start_time": "2023-10-17T05:33:01.414667",
     "status": "completed"
    },
    "tags": []
   },
   "source": [
    "\n",
    "    \n",
    "### Logistic Regression Classifier"
   ]
  },
  {
   "cell_type": "code",
   "execution_count": 281,
   "id": "cdec5202",
   "metadata": {
    "execution": {
     "iopub.execute_input": "2023-10-17T05:33:01.654075Z",
     "iopub.status.busy": "2023-10-17T05:33:01.653023Z",
     "iopub.status.idle": "2023-10-17T05:33:02.092933Z",
     "shell.execute_reply": "2023-10-17T05:33:02.091560Z"
    },
    "id": "mmd-bw4vOKxf",
    "outputId": "2da87c00-420f-4edb-c36b-c54a5af6d81e",
    "papermill": {
     "duration": 0.524667,
     "end_time": "2023-10-17T05:33:02.096770",
     "exception": false,
     "start_time": "2023-10-17T05:33:01.572103",
     "status": "completed"
    },
    "tags": [],
    "ExecuteTime": {
     "end_time": "2024-03-21T07:19:18.318170Z",
     "start_time": "2024-03-21T07:19:16.508878Z"
    }
   },
   "outputs": [
    {
     "data": {
      "text/plain": "LogisticRegression()",
      "text/html": "<style>#sk-container-id-10 {color: black;background-color: white;}#sk-container-id-10 pre{padding: 0;}#sk-container-id-10 div.sk-toggleable {background-color: white;}#sk-container-id-10 label.sk-toggleable__label {cursor: pointer;display: block;width: 100%;margin-bottom: 0;padding: 0.3em;box-sizing: border-box;text-align: center;}#sk-container-id-10 label.sk-toggleable__label-arrow:before {content: \"▸\";float: left;margin-right: 0.25em;color: #696969;}#sk-container-id-10 label.sk-toggleable__label-arrow:hover:before {color: black;}#sk-container-id-10 div.sk-estimator:hover label.sk-toggleable__label-arrow:before {color: black;}#sk-container-id-10 div.sk-toggleable__content {max-height: 0;max-width: 0;overflow: hidden;text-align: left;background-color: #f0f8ff;}#sk-container-id-10 div.sk-toggleable__content pre {margin: 0.2em;color: black;border-radius: 0.25em;background-color: #f0f8ff;}#sk-container-id-10 input.sk-toggleable__control:checked~div.sk-toggleable__content {max-height: 200px;max-width: 100%;overflow: auto;}#sk-container-id-10 input.sk-toggleable__control:checked~label.sk-toggleable__label-arrow:before {content: \"▾\";}#sk-container-id-10 div.sk-estimator input.sk-toggleable__control:checked~label.sk-toggleable__label {background-color: #d4ebff;}#sk-container-id-10 div.sk-label input.sk-toggleable__control:checked~label.sk-toggleable__label {background-color: #d4ebff;}#sk-container-id-10 input.sk-hidden--visually {border: 0;clip: rect(1px 1px 1px 1px);clip: rect(1px, 1px, 1px, 1px);height: 1px;margin: -1px;overflow: hidden;padding: 0;position: absolute;width: 1px;}#sk-container-id-10 div.sk-estimator {font-family: monospace;background-color: #f0f8ff;border: 1px dotted black;border-radius: 0.25em;box-sizing: border-box;margin-bottom: 0.5em;}#sk-container-id-10 div.sk-estimator:hover {background-color: #d4ebff;}#sk-container-id-10 div.sk-parallel-item::after {content: \"\";width: 100%;border-bottom: 1px solid gray;flex-grow: 1;}#sk-container-id-10 div.sk-label:hover label.sk-toggleable__label {background-color: #d4ebff;}#sk-container-id-10 div.sk-serial::before {content: \"\";position: absolute;border-left: 1px solid gray;box-sizing: border-box;top: 0;bottom: 0;left: 50%;z-index: 0;}#sk-container-id-10 div.sk-serial {display: flex;flex-direction: column;align-items: center;background-color: white;padding-right: 0.2em;padding-left: 0.2em;position: relative;}#sk-container-id-10 div.sk-item {position: relative;z-index: 1;}#sk-container-id-10 div.sk-parallel {display: flex;align-items: stretch;justify-content: center;background-color: white;position: relative;}#sk-container-id-10 div.sk-item::before, #sk-container-id-10 div.sk-parallel-item::before {content: \"\";position: absolute;border-left: 1px solid gray;box-sizing: border-box;top: 0;bottom: 0;left: 50%;z-index: -1;}#sk-container-id-10 div.sk-parallel-item {display: flex;flex-direction: column;z-index: 1;position: relative;background-color: white;}#sk-container-id-10 div.sk-parallel-item:first-child::after {align-self: flex-end;width: 50%;}#sk-container-id-10 div.sk-parallel-item:last-child::after {align-self: flex-start;width: 50%;}#sk-container-id-10 div.sk-parallel-item:only-child::after {width: 0;}#sk-container-id-10 div.sk-dashed-wrapped {border: 1px dashed gray;margin: 0 0.4em 0.5em 0.4em;box-sizing: border-box;padding-bottom: 0.4em;background-color: white;}#sk-container-id-10 div.sk-label label {font-family: monospace;font-weight: bold;display: inline-block;line-height: 1.2em;}#sk-container-id-10 div.sk-label-container {text-align: center;}#sk-container-id-10 div.sk-container {/* jupyter's `normalize.less` sets `[hidden] { display: none; }` but bootstrap.min.css set `[hidden] { display: none !important; }` so we also need the `!important` here to be able to override the default hidden behavior on the sphinx rendered scikit-learn.org. See: https://github.com/scikit-learn/scikit-learn/issues/21755 */display: inline-block !important;position: relative;}#sk-container-id-10 div.sk-text-repr-fallback {display: none;}</style><div id=\"sk-container-id-10\" class=\"sk-top-container\"><div class=\"sk-text-repr-fallback\"><pre>LogisticRegression()</pre><b>In a Jupyter environment, please rerun this cell to show the HTML representation or trust the notebook. <br />On GitHub, the HTML representation is unable to render, please try loading this page with nbviewer.org.</b></div><div class=\"sk-container\" hidden><div class=\"sk-item\"><div class=\"sk-estimator sk-toggleable\"><input class=\"sk-toggleable__control sk-hidden--visually\" id=\"sk-estimator-id-10\" type=\"checkbox\" checked><label for=\"sk-estimator-id-10\" class=\"sk-toggleable__label sk-toggleable__label-arrow\">LogisticRegression</label><div class=\"sk-toggleable__content\"><pre>LogisticRegression()</pre></div></div></div></div></div>"
     },
     "execution_count": 281,
     "metadata": {},
     "output_type": "execute_result"
    }
   ],
   "source": [
    "lr_clf = LogisticRegression()\n",
    "lr_clf.fit(X_train, y_train_int)"
   ]
  },
  {
   "cell_type": "code",
   "execution_count": 282,
   "id": "c664f14c",
   "metadata": {
    "execution": {
     "iopub.execute_input": "2023-10-17T05:33:02.330579Z",
     "iopub.status.busy": "2023-10-17T05:33:02.330007Z",
     "iopub.status.idle": "2023-10-17T05:33:02.350274Z",
     "shell.execute_reply": "2023-10-17T05:33:02.348531Z"
    },
    "id": "2LCxVEpmOYHO",
    "papermill": {
     "duration": 0.105727,
     "end_time": "2023-10-17T05:33:02.354646",
     "exception": false,
     "start_time": "2023-10-17T05:33:02.248919",
     "status": "completed"
    },
    "tags": [],
    "ExecuteTime": {
     "end_time": "2024-03-21T07:19:18.408304Z",
     "start_time": "2024-03-21T07:19:18.365747Z"
    }
   },
   "outputs": [],
   "source": [
    "df_metrics_clf.loc['Logistic Regression', 'train'] = lr_clf.score(X_train, y_train_int)\n",
    "df_metrics_clf.loc['Logistic Regression', 'test'] = lr_clf.score(X_test, y_test_int)"
   ]
  },
  {
   "cell_type": "markdown",
   "id": "fae350b9",
   "metadata": {
    "id": "kPSjN1SpOfJt",
    "papermill": {
     "duration": 0.078422,
     "end_time": "2023-10-17T05:33:02.581247",
     "exception": false,
     "start_time": "2023-10-17T05:33:02.502825",
     "status": "completed"
    },
    "tags": []
   },
   "source": [
    "\n",
    "    \n",
    "### KNeighbors Classifier"
   ]
  },
  {
   "cell_type": "code",
   "execution_count": 283,
   "id": "d9bfc7c4",
   "metadata": {
    "execution": {
     "iopub.execute_input": "2023-10-17T05:33:02.740933Z",
     "iopub.status.busy": "2023-10-17T05:33:02.740345Z",
     "iopub.status.idle": "2023-10-17T05:33:02.762974Z",
     "shell.execute_reply": "2023-10-17T05:33:02.761711Z"
    },
    "id": "mDTIEKshOa7V",
    "outputId": "e309c48c-240e-438d-c6b3-0053724b6992",
    "papermill": {
     "duration": 0.105731,
     "end_time": "2023-10-17T05:33:02.765810",
     "exception": false,
     "start_time": "2023-10-17T05:33:02.660079",
     "status": "completed"
    },
    "tags": [],
    "ExecuteTime": {
     "end_time": "2024-03-21T07:19:18.433181Z",
     "start_time": "2024-03-21T07:19:18.416230Z"
    }
   },
   "outputs": [
    {
     "data": {
      "text/plain": "KNeighborsClassifier()",
      "text/html": "<style>#sk-container-id-11 {color: black;background-color: white;}#sk-container-id-11 pre{padding: 0;}#sk-container-id-11 div.sk-toggleable {background-color: white;}#sk-container-id-11 label.sk-toggleable__label {cursor: pointer;display: block;width: 100%;margin-bottom: 0;padding: 0.3em;box-sizing: border-box;text-align: center;}#sk-container-id-11 label.sk-toggleable__label-arrow:before {content: \"▸\";float: left;margin-right: 0.25em;color: #696969;}#sk-container-id-11 label.sk-toggleable__label-arrow:hover:before {color: black;}#sk-container-id-11 div.sk-estimator:hover label.sk-toggleable__label-arrow:before {color: black;}#sk-container-id-11 div.sk-toggleable__content {max-height: 0;max-width: 0;overflow: hidden;text-align: left;background-color: #f0f8ff;}#sk-container-id-11 div.sk-toggleable__content pre {margin: 0.2em;color: black;border-radius: 0.25em;background-color: #f0f8ff;}#sk-container-id-11 input.sk-toggleable__control:checked~div.sk-toggleable__content {max-height: 200px;max-width: 100%;overflow: auto;}#sk-container-id-11 input.sk-toggleable__control:checked~label.sk-toggleable__label-arrow:before {content: \"▾\";}#sk-container-id-11 div.sk-estimator input.sk-toggleable__control:checked~label.sk-toggleable__label {background-color: #d4ebff;}#sk-container-id-11 div.sk-label input.sk-toggleable__control:checked~label.sk-toggleable__label {background-color: #d4ebff;}#sk-container-id-11 input.sk-hidden--visually {border: 0;clip: rect(1px 1px 1px 1px);clip: rect(1px, 1px, 1px, 1px);height: 1px;margin: -1px;overflow: hidden;padding: 0;position: absolute;width: 1px;}#sk-container-id-11 div.sk-estimator {font-family: monospace;background-color: #f0f8ff;border: 1px dotted black;border-radius: 0.25em;box-sizing: border-box;margin-bottom: 0.5em;}#sk-container-id-11 div.sk-estimator:hover {background-color: #d4ebff;}#sk-container-id-11 div.sk-parallel-item::after {content: \"\";width: 100%;border-bottom: 1px solid gray;flex-grow: 1;}#sk-container-id-11 div.sk-label:hover label.sk-toggleable__label {background-color: #d4ebff;}#sk-container-id-11 div.sk-serial::before {content: \"\";position: absolute;border-left: 1px solid gray;box-sizing: border-box;top: 0;bottom: 0;left: 50%;z-index: 0;}#sk-container-id-11 div.sk-serial {display: flex;flex-direction: column;align-items: center;background-color: white;padding-right: 0.2em;padding-left: 0.2em;position: relative;}#sk-container-id-11 div.sk-item {position: relative;z-index: 1;}#sk-container-id-11 div.sk-parallel {display: flex;align-items: stretch;justify-content: center;background-color: white;position: relative;}#sk-container-id-11 div.sk-item::before, #sk-container-id-11 div.sk-parallel-item::before {content: \"\";position: absolute;border-left: 1px solid gray;box-sizing: border-box;top: 0;bottom: 0;left: 50%;z-index: -1;}#sk-container-id-11 div.sk-parallel-item {display: flex;flex-direction: column;z-index: 1;position: relative;background-color: white;}#sk-container-id-11 div.sk-parallel-item:first-child::after {align-self: flex-end;width: 50%;}#sk-container-id-11 div.sk-parallel-item:last-child::after {align-self: flex-start;width: 50%;}#sk-container-id-11 div.sk-parallel-item:only-child::after {width: 0;}#sk-container-id-11 div.sk-dashed-wrapped {border: 1px dashed gray;margin: 0 0.4em 0.5em 0.4em;box-sizing: border-box;padding-bottom: 0.4em;background-color: white;}#sk-container-id-11 div.sk-label label {font-family: monospace;font-weight: bold;display: inline-block;line-height: 1.2em;}#sk-container-id-11 div.sk-label-container {text-align: center;}#sk-container-id-11 div.sk-container {/* jupyter's `normalize.less` sets `[hidden] { display: none; }` but bootstrap.min.css set `[hidden] { display: none !important; }` so we also need the `!important` here to be able to override the default hidden behavior on the sphinx rendered scikit-learn.org. See: https://github.com/scikit-learn/scikit-learn/issues/21755 */display: inline-block !important;position: relative;}#sk-container-id-11 div.sk-text-repr-fallback {display: none;}</style><div id=\"sk-container-id-11\" class=\"sk-top-container\"><div class=\"sk-text-repr-fallback\"><pre>KNeighborsClassifier()</pre><b>In a Jupyter environment, please rerun this cell to show the HTML representation or trust the notebook. <br />On GitHub, the HTML representation is unable to render, please try loading this page with nbviewer.org.</b></div><div class=\"sk-container\" hidden><div class=\"sk-item\"><div class=\"sk-estimator sk-toggleable\"><input class=\"sk-toggleable__control sk-hidden--visually\" id=\"sk-estimator-id-11\" type=\"checkbox\" checked><label for=\"sk-estimator-id-11\" class=\"sk-toggleable__label sk-toggleable__label-arrow\">KNeighborsClassifier</label><div class=\"sk-toggleable__content\"><pre>KNeighborsClassifier()</pre></div></div></div></div></div>"
     },
     "execution_count": 283,
     "metadata": {},
     "output_type": "execute_result"
    }
   ],
   "source": [
    "knn_clf = KNeighborsClassifier()\n",
    "knn_clf.fit(X_train, y_train_int)"
   ]
  },
  {
   "cell_type": "code",
   "execution_count": 284,
   "id": "4f01c393",
   "metadata": {
    "execution": {
     "iopub.execute_input": "2023-10-17T05:33:02.927735Z",
     "iopub.status.busy": "2023-10-17T05:33:02.926943Z",
     "iopub.status.idle": "2023-10-17T05:33:03.769125Z",
     "shell.execute_reply": "2023-10-17T05:33:03.767768Z"
    },
    "id": "EOyaUb0sOiQj",
    "papermill": {
     "duration": 0.927232,
     "end_time": "2023-10-17T05:33:03.772271",
     "exception": false,
     "start_time": "2023-10-17T05:33:02.845039",
     "status": "completed"
    },
    "tags": [],
    "ExecuteTime": {
     "end_time": "2024-03-21T07:19:20.262726Z",
     "start_time": "2024-03-21T07:19:18.437256Z"
    }
   },
   "outputs": [],
   "source": [
    "df_metrics_clf.loc['KNN', 'train'] = knn_clf.score(X_train, y_train_int)\n",
    "df_metrics_clf.loc['KNN', 'test'] = knn_clf.score(X_test, y_test_int)"
   ]
  },
  {
   "cell_type": "markdown",
   "id": "5c8969c5",
   "metadata": {
    "id": "a17cC2__OnaV",
    "papermill": {
     "duration": 0.078427,
     "end_time": "2023-10-17T05:33:03.928947",
     "exception": false,
     "start_time": "2023-10-17T05:33:03.850520",
     "status": "completed"
    },
    "tags": []
   },
   "source": [
    "\n",
    "### Random Forest Classifier"
   ]
  },
  {
   "cell_type": "code",
   "execution_count": 285,
   "id": "78bd54fb",
   "metadata": {
    "execution": {
     "iopub.execute_input": "2023-10-17T05:33:04.121082Z",
     "iopub.status.busy": "2023-10-17T05:33:04.120637Z",
     "iopub.status.idle": "2023-10-17T05:33:05.565021Z",
     "shell.execute_reply": "2023-10-17T05:33:05.563900Z"
    },
    "id": "1gyHvEqVOkq7",
    "outputId": "de00a17f-5d0b-4c59-cb9f-c076441755a9",
    "papermill": {
     "duration": 1.548392,
     "end_time": "2023-10-17T05:33:05.567550",
     "exception": false,
     "start_time": "2023-10-17T05:33:04.019158",
     "status": "completed"
    },
    "tags": [],
    "ExecuteTime": {
     "end_time": "2024-03-21T07:19:20.949637Z",
     "start_time": "2024-03-21T07:19:20.264502Z"
    }
   },
   "outputs": [
    {
     "data": {
      "text/plain": "RandomForestClassifier()",
      "text/html": "<style>#sk-container-id-12 {color: black;background-color: white;}#sk-container-id-12 pre{padding: 0;}#sk-container-id-12 div.sk-toggleable {background-color: white;}#sk-container-id-12 label.sk-toggleable__label {cursor: pointer;display: block;width: 100%;margin-bottom: 0;padding: 0.3em;box-sizing: border-box;text-align: center;}#sk-container-id-12 label.sk-toggleable__label-arrow:before {content: \"▸\";float: left;margin-right: 0.25em;color: #696969;}#sk-container-id-12 label.sk-toggleable__label-arrow:hover:before {color: black;}#sk-container-id-12 div.sk-estimator:hover label.sk-toggleable__label-arrow:before {color: black;}#sk-container-id-12 div.sk-toggleable__content {max-height: 0;max-width: 0;overflow: hidden;text-align: left;background-color: #f0f8ff;}#sk-container-id-12 div.sk-toggleable__content pre {margin: 0.2em;color: black;border-radius: 0.25em;background-color: #f0f8ff;}#sk-container-id-12 input.sk-toggleable__control:checked~div.sk-toggleable__content {max-height: 200px;max-width: 100%;overflow: auto;}#sk-container-id-12 input.sk-toggleable__control:checked~label.sk-toggleable__label-arrow:before {content: \"▾\";}#sk-container-id-12 div.sk-estimator input.sk-toggleable__control:checked~label.sk-toggleable__label {background-color: #d4ebff;}#sk-container-id-12 div.sk-label input.sk-toggleable__control:checked~label.sk-toggleable__label {background-color: #d4ebff;}#sk-container-id-12 input.sk-hidden--visually {border: 0;clip: rect(1px 1px 1px 1px);clip: rect(1px, 1px, 1px, 1px);height: 1px;margin: -1px;overflow: hidden;padding: 0;position: absolute;width: 1px;}#sk-container-id-12 div.sk-estimator {font-family: monospace;background-color: #f0f8ff;border: 1px dotted black;border-radius: 0.25em;box-sizing: border-box;margin-bottom: 0.5em;}#sk-container-id-12 div.sk-estimator:hover {background-color: #d4ebff;}#sk-container-id-12 div.sk-parallel-item::after {content: \"\";width: 100%;border-bottom: 1px solid gray;flex-grow: 1;}#sk-container-id-12 div.sk-label:hover label.sk-toggleable__label {background-color: #d4ebff;}#sk-container-id-12 div.sk-serial::before {content: \"\";position: absolute;border-left: 1px solid gray;box-sizing: border-box;top: 0;bottom: 0;left: 50%;z-index: 0;}#sk-container-id-12 div.sk-serial {display: flex;flex-direction: column;align-items: center;background-color: white;padding-right: 0.2em;padding-left: 0.2em;position: relative;}#sk-container-id-12 div.sk-item {position: relative;z-index: 1;}#sk-container-id-12 div.sk-parallel {display: flex;align-items: stretch;justify-content: center;background-color: white;position: relative;}#sk-container-id-12 div.sk-item::before, #sk-container-id-12 div.sk-parallel-item::before {content: \"\";position: absolute;border-left: 1px solid gray;box-sizing: border-box;top: 0;bottom: 0;left: 50%;z-index: -1;}#sk-container-id-12 div.sk-parallel-item {display: flex;flex-direction: column;z-index: 1;position: relative;background-color: white;}#sk-container-id-12 div.sk-parallel-item:first-child::after {align-self: flex-end;width: 50%;}#sk-container-id-12 div.sk-parallel-item:last-child::after {align-self: flex-start;width: 50%;}#sk-container-id-12 div.sk-parallel-item:only-child::after {width: 0;}#sk-container-id-12 div.sk-dashed-wrapped {border: 1px dashed gray;margin: 0 0.4em 0.5em 0.4em;box-sizing: border-box;padding-bottom: 0.4em;background-color: white;}#sk-container-id-12 div.sk-label label {font-family: monospace;font-weight: bold;display: inline-block;line-height: 1.2em;}#sk-container-id-12 div.sk-label-container {text-align: center;}#sk-container-id-12 div.sk-container {/* jupyter's `normalize.less` sets `[hidden] { display: none; }` but bootstrap.min.css set `[hidden] { display: none !important; }` so we also need the `!important` here to be able to override the default hidden behavior on the sphinx rendered scikit-learn.org. See: https://github.com/scikit-learn/scikit-learn/issues/21755 */display: inline-block !important;position: relative;}#sk-container-id-12 div.sk-text-repr-fallback {display: none;}</style><div id=\"sk-container-id-12\" class=\"sk-top-container\"><div class=\"sk-text-repr-fallback\"><pre>RandomForestClassifier()</pre><b>In a Jupyter environment, please rerun this cell to show the HTML representation or trust the notebook. <br />On GitHub, the HTML representation is unable to render, please try loading this page with nbviewer.org.</b></div><div class=\"sk-container\" hidden><div class=\"sk-item\"><div class=\"sk-estimator sk-toggleable\"><input class=\"sk-toggleable__control sk-hidden--visually\" id=\"sk-estimator-id-12\" type=\"checkbox\" checked><label for=\"sk-estimator-id-12\" class=\"sk-toggleable__label sk-toggleable__label-arrow\">RandomForestClassifier</label><div class=\"sk-toggleable__content\"><pre>RandomForestClassifier()</pre></div></div></div></div></div>"
     },
     "execution_count": 285,
     "metadata": {},
     "output_type": "execute_result"
    }
   ],
   "source": [
    "rf_clf = RandomForestClassifier()\n",
    "rf_clf.fit(X_train, y_train_int)"
   ]
  },
  {
   "cell_type": "code",
   "execution_count": 286,
   "id": "a682e922",
   "metadata": {
    "execution": {
     "iopub.execute_input": "2023-10-17T05:33:05.731758Z",
     "iopub.status.busy": "2023-10-17T05:33:05.731362Z",
     "iopub.status.idle": "2023-10-17T05:33:05.968070Z",
     "shell.execute_reply": "2023-10-17T05:33:05.967199Z"
    },
    "id": "V7CJm9b5Oq7I",
    "papermill": {
     "duration": 0.323253,
     "end_time": "2023-10-17T05:33:05.970402",
     "exception": false,
     "start_time": "2023-10-17T05:33:05.647149",
     "status": "completed"
    },
    "tags": [],
    "ExecuteTime": {
     "end_time": "2024-03-21T07:19:21.190183Z",
     "start_time": "2024-03-21T07:19:20.950360Z"
    }
   },
   "outputs": [],
   "source": [
    "df_metrics_clf.loc['Random Forest', 'train'] = rf_clf.score(X_train, y_train_int)\n",
    "df_metrics_clf.loc['Random Forest', 'test'] = rf_clf.score(X_test, y_test_int)"
   ]
  },
  {
   "cell_type": "markdown",
   "id": "ff537d2d",
   "metadata": {
    "id": "3gFAI1ZYOwpA",
    "papermill": {
     "duration": 0.074722,
     "end_time": "2023-10-17T05:33:06.127842",
     "exception": false,
     "start_time": "2023-10-17T05:33:06.053120",
     "status": "completed"
    },
    "tags": []
   },
   "source": [
    "\n",
    "    \n",
    "### Classification Evaluation"
   ]
  },
  {
   "cell_type": "code",
   "execution_count": 287,
   "id": "6c671ddc",
   "metadata": {
    "execution": {
     "iopub.execute_input": "2023-10-17T05:33:06.280647Z",
     "iopub.status.busy": "2023-10-17T05:33:06.279948Z",
     "iopub.status.idle": "2023-10-17T05:33:06.290772Z",
     "shell.execute_reply": "2023-10-17T05:33:06.289799Z"
    },
    "id": "1psX999vOtjL",
    "outputId": "3190b2e7-7e78-4ae4-8e78-47be61864ca4",
    "papermill": {
     "duration": 0.0897,
     "end_time": "2023-10-17T05:33:06.292707",
     "exception": false,
     "start_time": "2023-10-17T05:33:06.203007",
     "status": "completed"
    },
    "tags": [],
    "ExecuteTime": {
     "end_time": "2024-03-21T07:19:21.196717Z",
     "start_time": "2024-03-21T07:19:21.191009Z"
    }
   },
   "outputs": [
    {
     "data": {
      "text/plain": "                             accuracy %\nmodel               dataset            \nLogistic Regression train         74.47\n                    test          75.28\nKNN                 train         76.59\n                    test          70.60\nRandom Forest       train         99.64\n                    test          74.02",
      "text/html": "<div>\n<style scoped>\n    .dataframe tbody tr th:only-of-type {\n        vertical-align: middle;\n    }\n\n    .dataframe tbody tr th {\n        vertical-align: top;\n    }\n\n    .dataframe thead th {\n        text-align: right;\n    }\n</style>\n<table border=\"1\" class=\"dataframe\">\n  <thead>\n    <tr style=\"text-align: right;\">\n      <th></th>\n      <th></th>\n      <th>accuracy %</th>\n    </tr>\n    <tr>\n      <th>model</th>\n      <th>dataset</th>\n      <th></th>\n    </tr>\n  </thead>\n  <tbody>\n    <tr>\n      <th rowspan=\"2\" valign=\"top\">Logistic Regression</th>\n      <th>train</th>\n      <td>74.47</td>\n    </tr>\n    <tr>\n      <th>test</th>\n      <td>75.28</td>\n    </tr>\n    <tr>\n      <th rowspan=\"2\" valign=\"top\">KNN</th>\n      <th>train</th>\n      <td>76.59</td>\n    </tr>\n    <tr>\n      <th>test</th>\n      <td>70.60</td>\n    </tr>\n    <tr>\n      <th rowspan=\"2\" valign=\"top\">Random Forest</th>\n      <th>train</th>\n      <td>99.64</td>\n    </tr>\n    <tr>\n      <th>test</th>\n      <td>74.02</td>\n    </tr>\n  </tbody>\n</table>\n</div>"
     },
     "execution_count": 287,
     "metadata": {},
     "output_type": "execute_result"
    }
   ],
   "source": [
    "# Rounding and coverting the accuracies to percentages\n",
    "df_metrics_clf['accuracy %'] = df_metrics_clf['accuracy %'].apply(lambda v: round(v*100, ndigits=2))\n",
    "df_metrics_clf"
   ]
  },
  {
   "cell_type": "code",
   "execution_count": 288,
   "id": "f80a3309",
   "metadata": {
    "execution": {
     "iopub.execute_input": "2023-10-17T05:33:06.449379Z",
     "iopub.status.busy": "2023-10-17T05:33:06.448642Z",
     "iopub.status.idle": "2023-10-17T05:33:07.155145Z",
     "shell.execute_reply": "2023-10-17T05:33:07.153877Z"
    },
    "id": "30K95dHmO1OQ",
    "outputId": "8ff7ef0f-819b-4bb7-8ac6-8fa306a44329",
    "papermill": {
     "duration": 0.788712,
     "end_time": "2023-10-17T05:33:07.157912",
     "exception": false,
     "start_time": "2023-10-17T05:33:06.369200",
     "status": "completed"
    },
    "tags": [],
    "ExecuteTime": {
     "end_time": "2024-03-21T07:19:21.549747Z",
     "start_time": "2024-03-21T07:19:21.198853Z"
    }
   },
   "outputs": [
    {
     "data": {
      "text/plain": "<Figure size 1000x500 with 2 Axes>",
      "image/png": "[encoded data removed]"
     },
     "metadata": {},
     "output_type": "display_data"
    }
   ],
   "source": [
    "data = df_metrics_clf.reset_index()\n",
    "\n",
    "g = sns.catplot(col='dataset', data=data, kind='bar', x='model', y='accuracy %')\n",
    "\n",
    "# Adding annotations to bars\n",
    "# iterate through axes\n",
    "for ax in g.axes.ravel():\n",
    "    # add annotations\n",
    "    for c in ax.containers:\n",
    "        ax.bar_label(c, label_type='edge')\n",
    "\n",
    "    ax.margins(y=0.2)\n",
    "\n",
    "plt.show()"
   ]
  },
  {
   "cell_type": "markdown",
   "id": "c92c882b",
   "metadata": {
    "id": "1CRYalj5PBEq",
    "papermill": {
     "duration": 0.079052,
     "end_time": "2023-10-17T05:33:07.314014",
     "exception": false,
     "start_time": "2023-10-17T05:33:07.234962",
     "status": "completed"
    },
    "tags": []
   },
   "source": [
    "\n",
    "**After comparing with Regression models, its clear that we would get better results from Classification!**"
   ]
  },
  {
   "cell_type": "markdown",
   "id": "5298032a",
   "metadata": {
    "id": "-yRzfg4nPm5I",
    "papermill": {
     "duration": 0.079565,
     "end_time": "2023-10-17T05:33:07.473820",
     "exception": false,
     "start_time": "2023-10-17T05:33:07.394255",
     "status": "completed"
    },
    "tags": []
   },
   "source": [
    "\n",
    "## Conclusion"
   ]
  },
  {
   "cell_type": "markdown",
   "id": "7b53542f",
   "metadata": {
    "id": "cYnchR01PvBa",
    "papermill": {
     "duration": 0.082051,
     "end_time": "2023-10-17T05:33:07.635119",
     "exception": false,
     "start_time": "2023-10-17T05:33:07.553068",
     "status": "completed"
    },
    "tags": []
   },
   "source": [
    "\n",
    "\n",
    "* In conclusion, the dataset from Google Play Store apps has been explored and analyzed using various data visualization techniques with the help of Matplotlib, Seaborn and Plotly libraries.\n",
    "\n",
    "* The preliminary analysis, visualization methods and EDA provided insights into the data and helped in understanding the underlying patterns and relationships among the variables.\n",
    "\n",
    "* The analysis of the Google Play Store dataset has shown that there is a weak correlation between the rating and other app attributes such as size, installs, reviews, and price. We found that there was a moderate positive correlation between the number of installs and the rating, suggesting that higher-rated apps tend to have more installs.\n",
    "\n",
    "* We also observed that free apps have higher ratings than paid apps, and that app size does not seem to have a significant impact on rating."
   ]
  }
 ],
 "metadata": {
  "kernelspec": {
   "display_name": "Python 3",
   "language": "python",
   "name": "python3"
  },
  "language_info": {
   "codemirror_mode": {
    "name": "ipython",
    "version": 3
   },
   "file_extension": ".py",
   "mimetype": "text/x-python",
   "name": "python",
   "nbconvert_exporter": "python",
   "pygments_lexer": "ipython3",
   "version": "3.10.12"
  },
  "papermill": {
   "default_parameters": {},
   "duration": 53.900063,
   "end_time": "2023-10-17T05:33:09.007415",
   "environment_variables": {},
   "exception": null,
   "input_path": "__notebook__.ipynb",
   "output_path": "__notebook__.ipynb",
   "parameters": {},
   "start_time": "2023-10-17T05:32:15.107352",
   "version": "2.4.0"
  }
 },
 "nbformat": 4,
 "nbformat_minor": 5
}
