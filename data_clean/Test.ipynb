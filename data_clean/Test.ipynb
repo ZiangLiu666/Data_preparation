{
 "cells": [
  {
   "cell_type": "code",
   "execution_count": 1,
   "id": "initial_id",
   "metadata": {
    "collapsed": true,
    "ExecuteTime": {
     "end_time": "2024-03-18T14:25:44.130781Z",
     "start_time": "2024-03-18T14:25:43.862646Z"
    }
   },
   "outputs": [
    {
     "data": {
      "text/plain": "\"\\n这段代码通过一个lambda函数设置了Pandas显示浮点数的格式。'%.2f' % x指定了浮点数显示为小数点后两位的格式。这意味着所有的浮点数都将以固定的小数点格式显示，而不是科学计数法。\\n\""
     },
     "execution_count": 1,
     "metadata": {},
     "output_type": "execute_result"
    }
   ],
   "source": [
    "import os\n",
    "import pandas as pd\n",
    "import numpy as np\n",
    "\n",
    "np.set_printoptions(suppress=True,   precision=20,  threshold=10,  linewidth=40) # np禁止科学计数法显示\n",
    "'''\n",
    "suppress=True：这个选项禁用科学计数法的显示，即浮点数会以小数形式而非科学记数法形式显示。\n",
    "precision=20：设置浮点数的打印精度为20位小数。这意味着当你打印一个浮点数时，它会显示最多20位小数。\n",
    "threshold=10：这个参数设置数组的打印输出阈值。当数组元素总数超过这个阈值时，NumPy会省略中间的部分，只显示头尾元素。\n",
    "设置为10意味着当数组元素数量超过10时才会触发这种简略显示。\n",
    "linewidth=40：这决定了每行输出的字符数。此设置使得每行的输出宽度限制在40个字符以内。\n",
    "'''\n",
    "pd.set_option('display.float_format',lambda x : '%.2f' % x) # pd禁止科学计数法显示\n",
    "\n",
    "'''\n",
    "这段代码通过一个lambda函数设置了Pandas显示浮点数的格式。'%.2f' % x指定了浮点数显示为小数点后两位的格式。这意味着所有的浮点数都将以固定的小数点格式显示，而不是科学计数法。\n",
    "'''"
   ]
  },
  {
   "cell_type": "code",
   "execution_count": 2,
   "outputs": [
    {
     "data": {
      "text/plain": "      cus_no loan_rct_end_date  baseline value  accelerations  fetal_movement  \\\n0      c_001          2022/4/9             120           0.00            0.00   \n1      c_002         2022/4/25             132           0.01            0.00   \n2      c_003         2022/4/27             133            NaN            0.00   \n3      c_004         2022/3/31             134           0.00            0.00   \n4      c_005         2022/4/22             132           0.01            0.00   \n...      ...               ...             ...            ...             ...   \n2122  c_2123         2022/3/27             140            NaN            0.00   \n2123  c_2124         2022/4/24             140            NaN            0.00   \n2124  c_2125         2022/3/23             140            NaN            0.00   \n2125  c_2126          2022/4/4             142            NaN            0.00   \n2126  c_2127         2022/5/12             142            NaN            0.00   \n\n      uterine_contractions  light_decelerations  severe_decelerations  \\\n0                     0.00                 0.00                  0.00   \n1                     0.01                 0.00                  0.00   \n2                      NaN                 0.00                  0.00   \n3                     0.01                 0.00                  0.00   \n4                     0.01                 0.00                  0.00   \n...                    ...                  ...                   ...   \n2122                  0.01                 0.00                  0.00   \n2123                  0.01                 0.00                  0.00   \n2124                  0.01                 0.00                  0.00   \n2125                  0.01                 0.00                  0.00   \n2126                  0.01                 0.00                  0.00   \n\n      prolongued_decelerations  abnormal_short_term_variability  ...  \\\n0                         0.00                               73  ...   \n1                         0.00                               17  ...   \n2                         0.00                               16  ...   \n3                         0.00                               16  ...   \n4                         0.00                               16  ...   \n...                        ...                              ...  ...   \n2122                      0.00                               78  ...   \n2123                      0.00                               79  ...   \n2124                      0.00                               78  ...   \n2125                      0.00                               74  ...   \n2126                      0.00                               74  ...   \n\n      histogram_median  histogram_variance  histogram_tendency    sex  \\\n0                  121                  73                   1  woman   \n1                  140                  12                   0  woman   \n2                  138                  13                   0  woman   \n3                  137                  13                   1  woman   \n4                  138                  11                   1    man   \n...                ...                 ...                 ...    ...   \n2122               151                   3                   1    man   \n2123               152                   4                   1    man   \n2124               151                   4                   1    man   \n2125               145                   1                   0    man   \n2126               145                   1                   0    man   \n\n          agetype  reside_type  employ        test1  test2  end_pay_off_flag  \n0             old            B       y   0.39301804   0.64                 1  \n1             old            C       n  0.245573059   0.19                 0  \n2            yong            C       y  0.126393521   0.55                 0  \n3             old            B       n  0.860977844   0.62                 0  \n4             old            A       n  0.803580572   0.36                 0  \n...           ...          ...     ...          ...    ...               ...  \n2122  Middle-aged            D       n  0.800221878   0.60                 1  \n2123          old            B       n  0.068765741   0.55                 1  \n2124         yong            D       n      unknown   0.42                 1  \n2125         yong            D       n  0.942651508   0.92                 0  \n2126         yong            D       n           Na   0.92                 0  \n\n[2127 rows x 30 columns]",
      "text/html": "<div>\n<style scoped>\n    .dataframe tbody tr th:only-of-type {\n        vertical-align: middle;\n    }\n\n    .dataframe tbody tr th {\n        vertical-align: top;\n    }\n\n    .dataframe thead th {\n        text-align: right;\n    }\n</style>\n<table border=\"1\" class=\"dataframe\">\n  <thead>\n    <tr style=\"text-align: right;\">\n      <th></th>\n      <th>cus_no</th>\n      <th>loan_rct_end_date</th>\n      <th>baseline value</th>\n      <th>accelerations</th>\n      <th>fetal_movement</th>\n      <th>uterine_contractions</th>\n      <th>light_decelerations</th>\n      <th>severe_decelerations</th>\n      <th>prolongued_decelerations</th>\n      <th>abnormal_short_term_variability</th>\n      <th>...</th>\n      <th>histogram_median</th>\n      <th>histogram_variance</th>\n      <th>histogram_tendency</th>\n      <th>sex</th>\n      <th>agetype</th>\n      <th>reside_type</th>\n      <th>employ</th>\n      <th>test1</th>\n      <th>test2</th>\n      <th>end_pay_off_flag</th>\n    </tr>\n  </thead>\n  <tbody>\n    <tr>\n      <th>0</th>\n      <td>c_001</td>\n      <td>2022/4/9</td>\n      <td>120</td>\n      <td>0.00</td>\n      <td>0.00</td>\n      <td>0.00</td>\n      <td>0.00</td>\n      <td>0.00</td>\n      <td>0.00</td>\n      <td>73</td>\n      <td>...</td>\n      <td>121</td>\n      <td>73</td>\n      <td>1</td>\n      <td>woman</td>\n      <td>old</td>\n      <td>B</td>\n      <td>y</td>\n      <td>0.39301804</td>\n      <td>0.64</td>\n      <td>1</td>\n    </tr>\n    <tr>\n      <th>1</th>\n      <td>c_002</td>\n      <td>2022/4/25</td>\n      <td>132</td>\n      <td>0.01</td>\n      <td>0.00</td>\n      <td>0.01</td>\n      <td>0.00</td>\n      <td>0.00</td>\n      <td>0.00</td>\n      <td>17</td>\n      <td>...</td>\n      <td>140</td>\n      <td>12</td>\n      <td>0</td>\n      <td>woman</td>\n      <td>old</td>\n      <td>C</td>\n      <td>n</td>\n      <td>0.245573059</td>\n      <td>0.19</td>\n      <td>0</td>\n    </tr>\n    <tr>\n      <th>2</th>\n      <td>c_003</td>\n      <td>2022/4/27</td>\n      <td>133</td>\n      <td>NaN</td>\n      <td>0.00</td>\n      <td>NaN</td>\n      <td>0.00</td>\n      <td>0.00</td>\n      <td>0.00</td>\n      <td>16</td>\n      <td>...</td>\n      <td>138</td>\n      <td>13</td>\n      <td>0</td>\n      <td>woman</td>\n      <td>yong</td>\n      <td>C</td>\n      <td>y</td>\n      <td>0.126393521</td>\n      <td>0.55</td>\n      <td>0</td>\n    </tr>\n    <tr>\n      <th>3</th>\n      <td>c_004</td>\n      <td>2022/3/31</td>\n      <td>134</td>\n      <td>0.00</td>\n      <td>0.00</td>\n      <td>0.01</td>\n      <td>0.00</td>\n      <td>0.00</td>\n      <td>0.00</td>\n      <td>16</td>\n      <td>...</td>\n      <td>137</td>\n      <td>13</td>\n      <td>1</td>\n      <td>woman</td>\n      <td>old</td>\n      <td>B</td>\n      <td>n</td>\n      <td>0.860977844</td>\n      <td>0.62</td>\n      <td>0</td>\n    </tr>\n    <tr>\n      <th>4</th>\n      <td>c_005</td>\n      <td>2022/4/22</td>\n      <td>132</td>\n      <td>0.01</td>\n      <td>0.00</td>\n      <td>0.01</td>\n      <td>0.00</td>\n      <td>0.00</td>\n      <td>0.00</td>\n      <td>16</td>\n      <td>...</td>\n      <td>138</td>\n      <td>11</td>\n      <td>1</td>\n      <td>man</td>\n      <td>old</td>\n      <td>A</td>\n      <td>n</td>\n      <td>0.803580572</td>\n      <td>0.36</td>\n      <td>0</td>\n    </tr>\n    <tr>\n      <th>...</th>\n      <td>...</td>\n      <td>...</td>\n      <td>...</td>\n      <td>...</td>\n      <td>...</td>\n      <td>...</td>\n      <td>...</td>\n      <td>...</td>\n      <td>...</td>\n      <td>...</td>\n      <td>...</td>\n      <td>...</td>\n      <td>...</td>\n      <td>...</td>\n      <td>...</td>\n      <td>...</td>\n      <td>...</td>\n      <td>...</td>\n      <td>...</td>\n      <td>...</td>\n      <td>...</td>\n    </tr>\n    <tr>\n      <th>2122</th>\n      <td>c_2123</td>\n      <td>2022/3/27</td>\n      <td>140</td>\n      <td>NaN</td>\n      <td>0.00</td>\n      <td>0.01</td>\n      <td>0.00</td>\n      <td>0.00</td>\n      <td>0.00</td>\n      <td>78</td>\n      <td>...</td>\n      <td>151</td>\n      <td>3</td>\n      <td>1</td>\n      <td>man</td>\n      <td>Middle-aged</td>\n      <td>D</td>\n      <td>n</td>\n      <td>0.800221878</td>\n      <td>0.60</td>\n      <td>1</td>\n    </tr>\n    <tr>\n      <th>2123</th>\n      <td>c_2124</td>\n      <td>2022/4/24</td>\n      <td>140</td>\n      <td>NaN</td>\n      <td>0.00</td>\n      <td>0.01</td>\n      <td>0.00</td>\n      <td>0.00</td>\n      <td>0.00</td>\n      <td>79</td>\n      <td>...</td>\n      <td>152</td>\n      <td>4</td>\n      <td>1</td>\n      <td>man</td>\n      <td>old</td>\n      <td>B</td>\n      <td>n</td>\n      <td>0.068765741</td>\n      <td>0.55</td>\n      <td>1</td>\n    </tr>\n    <tr>\n      <th>2124</th>\n      <td>c_2125</td>\n      <td>2022/3/23</td>\n      <td>140</td>\n      <td>NaN</td>\n      <td>0.00</td>\n      <td>0.01</td>\n      <td>0.00</td>\n      <td>0.00</td>\n      <td>0.00</td>\n      <td>78</td>\n      <td>...</td>\n      <td>151</td>\n      <td>4</td>\n      <td>1</td>\n      <td>man</td>\n      <td>yong</td>\n      <td>D</td>\n      <td>n</td>\n      <td>unknown</td>\n      <td>0.42</td>\n      <td>1</td>\n    </tr>\n    <tr>\n      <th>2125</th>\n      <td>c_2126</td>\n      <td>2022/4/4</td>\n      <td>142</td>\n      <td>NaN</td>\n      <td>0.00</td>\n      <td>0.01</td>\n      <td>0.00</td>\n      <td>0.00</td>\n      <td>0.00</td>\n      <td>74</td>\n      <td>...</td>\n      <td>145</td>\n      <td>1</td>\n      <td>0</td>\n      <td>man</td>\n      <td>yong</td>\n      <td>D</td>\n      <td>n</td>\n      <td>0.942651508</td>\n      <td>0.92</td>\n      <td>0</td>\n    </tr>\n    <tr>\n      <th>2126</th>\n      <td>c_2127</td>\n      <td>2022/5/12</td>\n      <td>142</td>\n      <td>NaN</td>\n      <td>0.00</td>\n      <td>0.01</td>\n      <td>0.00</td>\n      <td>0.00</td>\n      <td>0.00</td>\n      <td>74</td>\n      <td>...</td>\n      <td>145</td>\n      <td>1</td>\n      <td>0</td>\n      <td>man</td>\n      <td>yong</td>\n      <td>D</td>\n      <td>n</td>\n      <td>Na</td>\n      <td>0.92</td>\n      <td>0</td>\n    </tr>\n  </tbody>\n</table>\n<p>2127 rows × 30 columns</p>\n</div>"
     },
     "execution_count": 2,
     "metadata": {},
     "output_type": "execute_result"
    }
   ],
   "source": [
    "df_all = pd.read_csv(r'test_health.csv') # 读取数据，根据你自己文件地址编写\n",
    "\n",
    "df_all.drop_duplicates(inplace=True) # 使用drop_duplicates去重，inplace=True对原数据集进行替换\n",
    "'''\n",
    "df_all.drop_duplicates() 是一个Pandas DataFrame的方法，用于删除数据框中的重复行。默认情况下，这个方法会检查所列，寻找完全相同的行，并只保留首次出现的行，去除之后出现的重复行。\n",
    "inplace=True 参数表示直接在原数据框 df_all 上进行修改，而不是返回一个新的数据框。如果不设置 inplace=True，那么原数据框不会改变，而是返回一个新的已去重的数据框。\n",
    "'''\n",
    "df_all.reset_index(drop=True, inplace=True) # 删除数据后，恢复索引\n",
    "'''\n",
    "在去除重复行之后，数据框 df_all 中的索引可能会变得不连续。例如，如果删除了第3行，原先的索引序列 0, 1, 2, 3, 4, ... 会变成 0, 1, 2, 4, ...，这时第三行的索引（即3）就会缺失。\n",
    "df_all.reset_index(drop=True) 方法用于重置数据框的索引。drop=True 参数表示放弃旧的索引值，如果不设置 drop=True，那么旧的索引会被添加为数据框的一个新列。\n",
    "同样地，inplace=True 表示直接在原数据框上修改，而不是返回一个新的数据框。\n",
    "'''\n",
    "df_all"
   ],
   "metadata": {
    "collapsed": false,
    "ExecuteTime": {
     "end_time": "2024-03-18T14:25:44.167140Z",
     "start_time": "2024-03-18T14:25:44.136355Z"
    }
   },
   "id": "9375cb2fe37122"
  },
  {
   "cell_type": "code",
   "execution_count": 3,
   "outputs": [
    {
     "name": "stdout",
     "output_type": "stream",
     "text": [
      "<class 'pandas.core.frame.DataFrame'>\n",
      "RangeIndex: 2127 entries, 0 to 2126\n",
      "Data columns (total 30 columns):\n",
      " #   Column                                                  Non-Null Count  Dtype  \n",
      "---  ------                                                  --------------  -----  \n",
      " 0   cus_no                                                  2127 non-null   object \n",
      " 1   loan_rct_end_date                                       2127 non-null   object \n",
      " 2   baseline value                                          2127 non-null   int64  \n",
      " 3   accelerations                                           1357 non-null   float64\n",
      " 4   fetal_movement                                          2127 non-null   float64\n",
      " 5   uterine_contractions                                    2126 non-null   float64\n",
      " 6   light_decelerations                                     2127 non-null   float64\n",
      " 7   severe_decelerations                                    2127 non-null   float64\n",
      " 8   prolongued_decelerations                                2127 non-null   float64\n",
      " 9   abnormal_short_term_variability                         2127 non-null   int64  \n",
      " 10  mean_value_of_short_term_variability                    2127 non-null   float64\n",
      " 11  percentage_of_time_with_abnormal_long_term_variability  2127 non-null   int64  \n",
      " 12  mean_value_of_long_term_variability                     2127 non-null   float64\n",
      " 13  histogram_width                                         2127 non-null   int64  \n",
      " 14  histogram_min                                           2127 non-null   int64  \n",
      " 15  histogram_max                                           2127 non-null   int64  \n",
      " 16  histogram_number_of_peaks                               2127 non-null   int64  \n",
      " 17  histogram_number_of_zeroes                              2127 non-null   int64  \n",
      " 18  histogram_mode                                          2127 non-null   int64  \n",
      " 19  histogram_mean                                          2127 non-null   int64  \n",
      " 20  histogram_median                                        2127 non-null   int64  \n",
      " 21  histogram_variance                                      2127 non-null   int64  \n",
      " 22  histogram_tendency                                      2127 non-null   int64  \n",
      " 23  sex                                                     2127 non-null   object \n",
      " 24  agetype                                                 2127 non-null   object \n",
      " 25  reside_type                                             2127 non-null   object \n",
      " 26  employ                                                  2127 non-null   object \n",
      " 27  test1                                                   2127 non-null   object \n",
      " 28  test2                                                   2125 non-null   float64\n",
      " 29  end_pay_off_flag                                        2127 non-null   int64  \n",
      "dtypes: float64(9), int64(14), object(7)\n",
      "memory usage: 498.6+ KB\n"
     ]
    }
   ],
   "source": [
    "df_all.info()\n",
    "# df_all.shape #(2127, 30)"
   ],
   "metadata": {
    "collapsed": false,
    "ExecuteTime": {
     "end_time": "2024-03-18T14:25:44.167538Z",
     "start_time": "2024-03-18T14:25:44.152673Z"
    }
   },
   "id": "d0ed00403f7566b2"
  },
  {
   "cell_type": "code",
   "execution_count": 4,
   "outputs": [
    {
     "name": "stdout",
     "output_type": "stream",
     "text": [
      "缺失量在20.0%以上的变量有:['accelerations']\n"
     ]
    },
    {
     "data": {
      "text/plain": "      cus_no loan_rct_end_date  baseline value  fetal_movement  \\\n0      c_001          2022/4/9             120            0.00   \n1      c_002         2022/4/25             132            0.00   \n2      c_003         2022/4/27             133            0.00   \n3      c_004         2022/3/31             134            0.00   \n4      c_005         2022/4/22             132            0.00   \n...      ...               ...             ...             ...   \n2122  c_2123         2022/3/27             140            0.00   \n2123  c_2124         2022/4/24             140            0.00   \n2124  c_2125         2022/3/23             140            0.00   \n2125  c_2126          2022/4/4             142            0.00   \n2126  c_2127         2022/5/12             142            0.00   \n\n      uterine_contractions  light_decelerations  severe_decelerations  \\\n0                     0.00                 0.00                  0.00   \n1                     0.01                 0.00                  0.00   \n2                      NaN                 0.00                  0.00   \n3                     0.01                 0.00                  0.00   \n4                     0.01                 0.00                  0.00   \n...                    ...                  ...                   ...   \n2122                  0.01                 0.00                  0.00   \n2123                  0.01                 0.00                  0.00   \n2124                  0.01                 0.00                  0.00   \n2125                  0.01                 0.00                  0.00   \n2126                  0.01                 0.00                  0.00   \n\n      prolongued_decelerations  abnormal_short_term_variability  \\\n0                         0.00                               73   \n1                         0.00                               17   \n2                         0.00                               16   \n3                         0.00                               16   \n4                         0.00                               16   \n...                        ...                              ...   \n2122                      0.00                               78   \n2123                      0.00                               79   \n2124                      0.00                               78   \n2125                      0.00                               74   \n2126                      0.00                               74   \n\n      mean_value_of_short_term_variability  ...  histogram_median  \\\n0                                     0.50  ...               121   \n1                                     2.10  ...               140   \n2                                     2.10  ...               138   \n3                                     2.40  ...               137   \n4                                     2.40  ...               138   \n...                                    ...  ...               ...   \n2122                                  0.40  ...               151   \n2123                                  0.40  ...               152   \n2124                                  0.40  ...               151   \n2125                                  0.40  ...               145   \n2126                                  0.40  ...               145   \n\n      histogram_variance  histogram_tendency    sex      agetype  reside_type  \\\n0                     73                   1  woman          old            B   \n1                     12                   0  woman          old            C   \n2                     13                   0  woman         yong            C   \n3                     13                   1  woman          old            B   \n4                     11                   1    man          old            A   \n...                  ...                 ...    ...          ...          ...   \n2122                   3                   1    man  Middle-aged            D   \n2123                   4                   1    man          old            B   \n2124                   4                   1    man         yong            D   \n2125                   1                   0    man         yong            D   \n2126                   1                   0    man         yong            D   \n\n      employ        test1  test2  end_pay_off_flag  \n0          y   0.39301804   0.64                 1  \n1          n  0.245573059   0.19                 0  \n2          y  0.126393521   0.55                 0  \n3          n  0.860977844   0.62                 0  \n4          n  0.803580572   0.36                 0  \n...      ...          ...    ...               ...  \n2122       n  0.800221878   0.60                 1  \n2123       n  0.068765741   0.55                 1  \n2124       n      unknown   0.42                 1  \n2125       n  0.942651508   0.92                 0  \n2126       n           Na   0.92                 0  \n\n[2127 rows x 29 columns]",
      "text/html": "<div>\n<style scoped>\n    .dataframe tbody tr th:only-of-type {\n        vertical-align: middle;\n    }\n\n    .dataframe tbody tr th {\n        vertical-align: top;\n    }\n\n    .dataframe thead th {\n        text-align: right;\n    }\n</style>\n<table border=\"1\" class=\"dataframe\">\n  <thead>\n    <tr style=\"text-align: right;\">\n      <th></th>\n      <th>cus_no</th>\n      <th>loan_rct_end_date</th>\n      <th>baseline value</th>\n      <th>fetal_movement</th>\n      <th>uterine_contractions</th>\n      <th>light_decelerations</th>\n      <th>severe_decelerations</th>\n      <th>prolongued_decelerations</th>\n      <th>abnormal_short_term_variability</th>\n      <th>mean_value_of_short_term_variability</th>\n      <th>...</th>\n      <th>histogram_median</th>\n      <th>histogram_variance</th>\n      <th>histogram_tendency</th>\n      <th>sex</th>\n      <th>agetype</th>\n      <th>reside_type</th>\n      <th>employ</th>\n      <th>test1</th>\n      <th>test2</th>\n      <th>end_pay_off_flag</th>\n    </tr>\n  </thead>\n  <tbody>\n    <tr>\n      <th>0</th>\n      <td>c_001</td>\n      <td>2022/4/9</td>\n      <td>120</td>\n      <td>0.00</td>\n      <td>0.00</td>\n      <td>0.00</td>\n      <td>0.00</td>\n      <td>0.00</td>\n      <td>73</td>\n      <td>0.50</td>\n      <td>...</td>\n      <td>121</td>\n      <td>73</td>\n      <td>1</td>\n      <td>woman</td>\n      <td>old</td>\n      <td>B</td>\n      <td>y</td>\n      <td>0.39301804</td>\n      <td>0.64</td>\n      <td>1</td>\n    </tr>\n    <tr>\n      <th>1</th>\n      <td>c_002</td>\n      <td>2022/4/25</td>\n      <td>132</td>\n      <td>0.00</td>\n      <td>0.01</td>\n      <td>0.00</td>\n      <td>0.00</td>\n      <td>0.00</td>\n      <td>17</td>\n      <td>2.10</td>\n      <td>...</td>\n      <td>140</td>\n      <td>12</td>\n      <td>0</td>\n      <td>woman</td>\n      <td>old</td>\n      <td>C</td>\n      <td>n</td>\n      <td>0.245573059</td>\n      <td>0.19</td>\n      <td>0</td>\n    </tr>\n    <tr>\n      <th>2</th>\n      <td>c_003</td>\n      <td>2022/4/27</td>\n      <td>133</td>\n      <td>0.00</td>\n      <td>NaN</td>\n      <td>0.00</td>\n      <td>0.00</td>\n      <td>0.00</td>\n      <td>16</td>\n      <td>2.10</td>\n      <td>...</td>\n      <td>138</td>\n      <td>13</td>\n      <td>0</td>\n      <td>woman</td>\n      <td>yong</td>\n      <td>C</td>\n      <td>y</td>\n      <td>0.126393521</td>\n      <td>0.55</td>\n      <td>0</td>\n    </tr>\n    <tr>\n      <th>3</th>\n      <td>c_004</td>\n      <td>2022/3/31</td>\n      <td>134</td>\n      <td>0.00</td>\n      <td>0.01</td>\n      <td>0.00</td>\n      <td>0.00</td>\n      <td>0.00</td>\n      <td>16</td>\n      <td>2.40</td>\n      <td>...</td>\n      <td>137</td>\n      <td>13</td>\n      <td>1</td>\n      <td>woman</td>\n      <td>old</td>\n      <td>B</td>\n      <td>n</td>\n      <td>0.860977844</td>\n      <td>0.62</td>\n      <td>0</td>\n    </tr>\n    <tr>\n      <th>4</th>\n      <td>c_005</td>\n      <td>2022/4/22</td>\n      <td>132</td>\n      <td>0.00</td>\n      <td>0.01</td>\n      <td>0.00</td>\n      <td>0.00</td>\n      <td>0.00</td>\n      <td>16</td>\n      <td>2.40</td>\n      <td>...</td>\n      <td>138</td>\n      <td>11</td>\n      <td>1</td>\n      <td>man</td>\n      <td>old</td>\n      <td>A</td>\n      <td>n</td>\n      <td>0.803580572</td>\n      <td>0.36</td>\n      <td>0</td>\n    </tr>\n    <tr>\n      <th>...</th>\n      <td>...</td>\n      <td>...</td>\n      <td>...</td>\n      <td>...</td>\n      <td>...</td>\n      <td>...</td>\n      <td>...</td>\n      <td>...</td>\n      <td>...</td>\n      <td>...</td>\n      <td>...</td>\n      <td>...</td>\n      <td>...</td>\n      <td>...</td>\n      <td>...</td>\n      <td>...</td>\n      <td>...</td>\n      <td>...</td>\n      <td>...</td>\n      <td>...</td>\n      <td>...</td>\n    </tr>\n    <tr>\n      <th>2122</th>\n      <td>c_2123</td>\n      <td>2022/3/27</td>\n      <td>140</td>\n      <td>0.00</td>\n      <td>0.01</td>\n      <td>0.00</td>\n      <td>0.00</td>\n      <td>0.00</td>\n      <td>78</td>\n      <td>0.40</td>\n      <td>...</td>\n      <td>151</td>\n      <td>3</td>\n      <td>1</td>\n      <td>man</td>\n      <td>Middle-aged</td>\n      <td>D</td>\n      <td>n</td>\n      <td>0.800221878</td>\n      <td>0.60</td>\n      <td>1</td>\n    </tr>\n    <tr>\n      <th>2123</th>\n      <td>c_2124</td>\n      <td>2022/4/24</td>\n      <td>140</td>\n      <td>0.00</td>\n      <td>0.01</td>\n      <td>0.00</td>\n      <td>0.00</td>\n      <td>0.00</td>\n      <td>79</td>\n      <td>0.40</td>\n      <td>...</td>\n      <td>152</td>\n      <td>4</td>\n      <td>1</td>\n      <td>man</td>\n      <td>old</td>\n      <td>B</td>\n      <td>n</td>\n      <td>0.068765741</td>\n      <td>0.55</td>\n      <td>1</td>\n    </tr>\n    <tr>\n      <th>2124</th>\n      <td>c_2125</td>\n      <td>2022/3/23</td>\n      <td>140</td>\n      <td>0.00</td>\n      <td>0.01</td>\n      <td>0.00</td>\n      <td>0.00</td>\n      <td>0.00</td>\n      <td>78</td>\n      <td>0.40</td>\n      <td>...</td>\n      <td>151</td>\n      <td>4</td>\n      <td>1</td>\n      <td>man</td>\n      <td>yong</td>\n      <td>D</td>\n      <td>n</td>\n      <td>unknown</td>\n      <td>0.42</td>\n      <td>1</td>\n    </tr>\n    <tr>\n      <th>2125</th>\n      <td>c_2126</td>\n      <td>2022/4/4</td>\n      <td>142</td>\n      <td>0.00</td>\n      <td>0.01</td>\n      <td>0.00</td>\n      <td>0.00</td>\n      <td>0.00</td>\n      <td>74</td>\n      <td>0.40</td>\n      <td>...</td>\n      <td>145</td>\n      <td>1</td>\n      <td>0</td>\n      <td>man</td>\n      <td>yong</td>\n      <td>D</td>\n      <td>n</td>\n      <td>0.942651508</td>\n      <td>0.92</td>\n      <td>0</td>\n    </tr>\n    <tr>\n      <th>2126</th>\n      <td>c_2127</td>\n      <td>2022/5/12</td>\n      <td>142</td>\n      <td>0.00</td>\n      <td>0.01</td>\n      <td>0.00</td>\n      <td>0.00</td>\n      <td>0.00</td>\n      <td>74</td>\n      <td>0.40</td>\n      <td>...</td>\n      <td>145</td>\n      <td>1</td>\n      <td>0</td>\n      <td>man</td>\n      <td>yong</td>\n      <td>D</td>\n      <td>n</td>\n      <td>Na</td>\n      <td>0.92</td>\n      <td>0</td>\n    </tr>\n  </tbody>\n</table>\n<p>2127 rows × 29 columns</p>\n</div>"
     },
     "execution_count": 4,
     "metadata": {},
     "output_type": "execute_result"
    }
   ],
   "source": [
    "'''\n",
    "# 定义查找缺失变量函数，返回 缺失值率> 指定缺失率(narate) 的列表\n",
    "'''\n",
    "def filter_col_by_nan(data, narate=0.2):\n",
    "    '''\n",
    "    :param data: 查找数据集\n",
    "    :param narate: 设定变量的缺失值率，默认20%\n",
    "    :return: 返回 缺失率>narate的变量名称列表\n",
    "    '''\n",
    "    n_samples = data.shape[0]\n",
    "    list_nan_cols = []\n",
    "    for col in data.columns:\n",
    "        if data[col].isna().sum() / n_samples >= (narate):\n",
    "            list_nan_cols.append(col)\n",
    "\n",
    "    print(f'缺失量在{narate * 100}%以上的变量有:{list_nan_cols}')\n",
    "\n",
    "    return list_nan_cols\n",
    "\n",
    "\n",
    "list_nullfactor_todrop = filter_col_by_nan(df_all, narate=0.2)\n",
    "\n",
    "df_select = df_all.drop(list_nullfactor_todrop, axis=1).copy()\n",
    "'''\n",
    "axis=1指定了操作的轴。在Pandas中，axis=0代表行操作，而axis=1代表列操作。因此，这里的axis=1意味着我们想要删除列而不是行。\n",
    ".copy()：在删除指定列后，copy()函数创建了DataFrame修改版本的一个副本。这是一个重要的步骤，因为它确保了原始的df_all DataFrame不会被修改。创建一个副本意味着后续对新DataFramedf_select的任何修改都不会影响原始的df_all DataFrame。\n",
    "'''\n",
    "df_select"
   ],
   "metadata": {
    "collapsed": false,
    "ExecuteTime": {
     "end_time": "2024-03-18T14:25:44.172263Z",
     "start_time": "2024-03-18T14:25:44.161927Z"
    }
   },
   "id": "ac634ee1f3a83861"
  },
  {
   "cell_type": "code",
   "execution_count": 5,
   "outputs": [
    {
     "data": {
      "text/plain": "      baseline value  fetal_movement  uterine_contractions  \\\n0                120            0.00                  0.00   \n1                132            0.00                  0.01   \n2                133            0.00                   NaN   \n3                134            0.00                  0.01   \n4                132            0.00                  0.01   \n...              ...             ...                   ...   \n2122             140            0.00                  0.01   \n2123             140            0.00                  0.01   \n2124             140            0.00                  0.01   \n2125             142            0.00                  0.01   \n2126             142            0.00                  0.01   \n\n      light_decelerations  severe_decelerations  prolongued_decelerations  \\\n0                    0.00                  0.00                      0.00   \n1                    0.00                  0.00                      0.00   \n2                    0.00                  0.00                      0.00   \n3                    0.00                  0.00                      0.00   \n4                    0.00                  0.00                      0.00   \n...                   ...                   ...                       ...   \n2122                 0.00                  0.00                      0.00   \n2123                 0.00                  0.00                      0.00   \n2124                 0.00                  0.00                      0.00   \n2125                 0.00                  0.00                      0.00   \n2126                 0.00                  0.00                      0.00   \n\n      abnormal_short_term_variability  mean_value_of_short_term_variability  \\\n0                                  73                                  0.50   \n1                                  17                                  2.10   \n2                                  16                                  2.10   \n3                                  16                                  2.40   \n4                                  16                                  2.40   \n...                               ...                                   ...   \n2122                               78                                  0.40   \n2123                               79                                  0.40   \n2124                               78                                  0.40   \n2125                               74                                  0.40   \n2126                               74                                  0.40   \n\n      percentage_of_time_with_abnormal_long_term_variability  \\\n0                                                    43        \n1                                                     0        \n2                                                     0        \n3                                                     0        \n4                                                     0        \n...                                                 ...        \n2122                                                 22        \n2123                                                 20        \n2124                                                 27        \n2125                                                 36        \n2126                                                 36        \n\n      mean_value_of_long_term_variability  ...  histogram_median  \\\n0                                    2.40  ...               121   \n1                                   10.40  ...               140   \n2                                   13.40  ...               138   \n3                                   23.00  ...               137   \n4                                   19.90  ...               138   \n...                                   ...  ...               ...   \n2122                                 7.10  ...               151   \n2123                                 6.10  ...               152   \n2124                                 7.00  ...               151   \n2125                                 5.00  ...               145   \n2126                                 5.00  ...               145   \n\n      histogram_variance  histogram_tendency    sex      agetype  reside_type  \\\n0                     73                   1  woman          old            B   \n1                     12                   0  woman          old            C   \n2                     13                   0  woman         yong            C   \n3                     13                   1  woman          old            B   \n4                     11                   1    man          old            A   \n...                  ...                 ...    ...          ...          ...   \n2122                   3                   1    man  Middle-aged            D   \n2123                   4                   1    man          old            B   \n2124                   4                   1    man         yong            D   \n2125                   1                   0    man         yong            D   \n2126                   1                   0    man         yong            D   \n\n      employ        test1  test2  end_pay_off_flag  \n0          y   0.39301804   0.64                 1  \n1          n  0.245573059   0.19                 0  \n2          y  0.126393521   0.55                 0  \n3          n  0.860977844   0.62                 0  \n4          n  0.803580572   0.36                 0  \n...      ...          ...    ...               ...  \n2122       n  0.800221878   0.60                 1  \n2123       n  0.068765741   0.55                 1  \n2124       n      unknown   0.42                 1  \n2125       n  0.942651508   0.92                 0  \n2126       n           Na   0.92                 0  \n\n[2127 rows x 27 columns]",
      "text/html": "<div>\n<style scoped>\n    .dataframe tbody tr th:only-of-type {\n        vertical-align: middle;\n    }\n\n    .dataframe tbody tr th {\n        vertical-align: top;\n    }\n\n    .dataframe thead th {\n        text-align: right;\n    }\n</style>\n<table border=\"1\" class=\"dataframe\">\n  <thead>\n    <tr style=\"text-align: right;\">\n      <th></th>\n      <th>baseline value</th>\n      <th>fetal_movement</th>\n      <th>uterine_contractions</th>\n      <th>light_decelerations</th>\n      <th>severe_decelerations</th>\n      <th>prolongued_decelerations</th>\n      <th>abnormal_short_term_variability</th>\n      <th>mean_value_of_short_term_variability</th>\n      <th>percentage_of_time_with_abnormal_long_term_variability</th>\n      <th>mean_value_of_long_term_variability</th>\n      <th>...</th>\n      <th>histogram_median</th>\n      <th>histogram_variance</th>\n      <th>histogram_tendency</th>\n      <th>sex</th>\n      <th>agetype</th>\n      <th>reside_type</th>\n      <th>employ</th>\n      <th>test1</th>\n      <th>test2</th>\n      <th>end_pay_off_flag</th>\n    </tr>\n  </thead>\n  <tbody>\n    <tr>\n      <th>0</th>\n      <td>120</td>\n      <td>0.00</td>\n      <td>0.00</td>\n      <td>0.00</td>\n      <td>0.00</td>\n      <td>0.00</td>\n      <td>73</td>\n      <td>0.50</td>\n      <td>43</td>\n      <td>2.40</td>\n      <td>...</td>\n      <td>121</td>\n      <td>73</td>\n      <td>1</td>\n      <td>woman</td>\n      <td>old</td>\n      <td>B</td>\n      <td>y</td>\n      <td>0.39301804</td>\n      <td>0.64</td>\n      <td>1</td>\n    </tr>\n    <tr>\n      <th>1</th>\n      <td>132</td>\n      <td>0.00</td>\n      <td>0.01</td>\n      <td>0.00</td>\n      <td>0.00</td>\n      <td>0.00</td>\n      <td>17</td>\n      <td>2.10</td>\n      <td>0</td>\n      <td>10.40</td>\n      <td>...</td>\n      <td>140</td>\n      <td>12</td>\n      <td>0</td>\n      <td>woman</td>\n      <td>old</td>\n      <td>C</td>\n      <td>n</td>\n      <td>0.245573059</td>\n      <td>0.19</td>\n      <td>0</td>\n    </tr>\n    <tr>\n      <th>2</th>\n      <td>133</td>\n      <td>0.00</td>\n      <td>NaN</td>\n      <td>0.00</td>\n      <td>0.00</td>\n      <td>0.00</td>\n      <td>16</td>\n      <td>2.10</td>\n      <td>0</td>\n      <td>13.40</td>\n      <td>...</td>\n      <td>138</td>\n      <td>13</td>\n      <td>0</td>\n      <td>woman</td>\n      <td>yong</td>\n      <td>C</td>\n      <td>y</td>\n      <td>0.126393521</td>\n      <td>0.55</td>\n      <td>0</td>\n    </tr>\n    <tr>\n      <th>3</th>\n      <td>134</td>\n      <td>0.00</td>\n      <td>0.01</td>\n      <td>0.00</td>\n      <td>0.00</td>\n      <td>0.00</td>\n      <td>16</td>\n      <td>2.40</td>\n      <td>0</td>\n      <td>23.00</td>\n      <td>...</td>\n      <td>137</td>\n      <td>13</td>\n      <td>1</td>\n      <td>woman</td>\n      <td>old</td>\n      <td>B</td>\n      <td>n</td>\n      <td>0.860977844</td>\n      <td>0.62</td>\n      <td>0</td>\n    </tr>\n    <tr>\n      <th>4</th>\n      <td>132</td>\n      <td>0.00</td>\n      <td>0.01</td>\n      <td>0.00</td>\n      <td>0.00</td>\n      <td>0.00</td>\n      <td>16</td>\n      <td>2.40</td>\n      <td>0</td>\n      <td>19.90</td>\n      <td>...</td>\n      <td>138</td>\n      <td>11</td>\n      <td>1</td>\n      <td>man</td>\n      <td>old</td>\n      <td>A</td>\n      <td>n</td>\n      <td>0.803580572</td>\n      <td>0.36</td>\n      <td>0</td>\n    </tr>\n    <tr>\n      <th>...</th>\n      <td>...</td>\n      <td>...</td>\n      <td>...</td>\n      <td>...</td>\n      <td>...</td>\n      <td>...</td>\n      <td>...</td>\n      <td>...</td>\n      <td>...</td>\n      <td>...</td>\n      <td>...</td>\n      <td>...</td>\n      <td>...</td>\n      <td>...</td>\n      <td>...</td>\n      <td>...</td>\n      <td>...</td>\n      <td>...</td>\n      <td>...</td>\n      <td>...</td>\n      <td>...</td>\n    </tr>\n    <tr>\n      <th>2122</th>\n      <td>140</td>\n      <td>0.00</td>\n      <td>0.01</td>\n      <td>0.00</td>\n      <td>0.00</td>\n      <td>0.00</td>\n      <td>78</td>\n      <td>0.40</td>\n      <td>22</td>\n      <td>7.10</td>\n      <td>...</td>\n      <td>151</td>\n      <td>3</td>\n      <td>1</td>\n      <td>man</td>\n      <td>Middle-aged</td>\n      <td>D</td>\n      <td>n</td>\n      <td>0.800221878</td>\n      <td>0.60</td>\n      <td>1</td>\n    </tr>\n    <tr>\n      <th>2123</th>\n      <td>140</td>\n      <td>0.00</td>\n      <td>0.01</td>\n      <td>0.00</td>\n      <td>0.00</td>\n      <td>0.00</td>\n      <td>79</td>\n      <td>0.40</td>\n      <td>20</td>\n      <td>6.10</td>\n      <td>...</td>\n      <td>152</td>\n      <td>4</td>\n      <td>1</td>\n      <td>man</td>\n      <td>old</td>\n      <td>B</td>\n      <td>n</td>\n      <td>0.068765741</td>\n      <td>0.55</td>\n      <td>1</td>\n    </tr>\n    <tr>\n      <th>2124</th>\n      <td>140</td>\n      <td>0.00</td>\n      <td>0.01</td>\n      <td>0.00</td>\n      <td>0.00</td>\n      <td>0.00</td>\n      <td>78</td>\n      <td>0.40</td>\n      <td>27</td>\n      <td>7.00</td>\n      <td>...</td>\n      <td>151</td>\n      <td>4</td>\n      <td>1</td>\n      <td>man</td>\n      <td>yong</td>\n      <td>D</td>\n      <td>n</td>\n      <td>unknown</td>\n      <td>0.42</td>\n      <td>1</td>\n    </tr>\n    <tr>\n      <th>2125</th>\n      <td>142</td>\n      <td>0.00</td>\n      <td>0.01</td>\n      <td>0.00</td>\n      <td>0.00</td>\n      <td>0.00</td>\n      <td>74</td>\n      <td>0.40</td>\n      <td>36</td>\n      <td>5.00</td>\n      <td>...</td>\n      <td>145</td>\n      <td>1</td>\n      <td>0</td>\n      <td>man</td>\n      <td>yong</td>\n      <td>D</td>\n      <td>n</td>\n      <td>0.942651508</td>\n      <td>0.92</td>\n      <td>0</td>\n    </tr>\n    <tr>\n      <th>2126</th>\n      <td>142</td>\n      <td>0.00</td>\n      <td>0.01</td>\n      <td>0.00</td>\n      <td>0.00</td>\n      <td>0.00</td>\n      <td>74</td>\n      <td>0.40</td>\n      <td>36</td>\n      <td>5.00</td>\n      <td>...</td>\n      <td>145</td>\n      <td>1</td>\n      <td>0</td>\n      <td>man</td>\n      <td>yong</td>\n      <td>D</td>\n      <td>n</td>\n      <td>Na</td>\n      <td>0.92</td>\n      <td>0</td>\n    </tr>\n  </tbody>\n</table>\n<p>2127 rows × 27 columns</p>\n</div>"
     },
     "execution_count": 5,
     "metadata": {},
     "output_type": "execute_result"
    }
   ],
   "source": [
    "list_factor_todrop = ['cus_no','loan_rct_end_date'] #不需要变量列表\n",
    "\n",
    "df_select.drop(list_factor_todrop, axis=1, inplace=True) \n",
    "\n",
    "df_select"
   ],
   "metadata": {
    "collapsed": false,
    "ExecuteTime": {
     "end_time": "2024-03-18T14:25:44.182576Z",
     "start_time": "2024-03-18T14:25:44.174414Z"
    }
   },
   "id": "33c0b9bb4167cfca"
  },
  {
   "cell_type": "code",
   "execution_count": 6,
   "outputs": [
    {
     "name": "stdout",
     "output_type": "stream",
     "text": [
      "sex\n",
      "woman    1075\n",
      "man      1037\n",
      "media      15\n",
      "Name: count, dtype: int64\n",
      "--------------------------------------------------\n",
      "agetype\n",
      "old            749\n",
      "Middle-aged    697\n",
      "yong           681\n",
      "Name: count, dtype: int64\n",
      "--------------------------------------------------\n",
      "reside_type\n",
      "C    556\n",
      "D    551\n",
      "A    522\n",
      "B    498\n",
      "Name: count, dtype: int64\n",
      "--------------------------------------------------\n",
      "employ\n",
      "y    1069\n",
      "n    1058\n",
      "Name: count, dtype: int64\n",
      "--------------------------------------------------\n",
      "test1\n",
      "Na             4\n",
      "0.39301804     1\n",
      "0.444104315    1\n",
      "0.237617981    1\n",
      "0.090933944    1\n",
      "              ..\n",
      "0.4741229      1\n",
      "0.674967331    1\n",
      "0.975020908    1\n",
      "0.091105301    1\n",
      "0.942651508    1\n",
      "Name: count, Length: 2124, dtype: int64\n",
      "--------------------------------------------------\n"
     ]
    }
   ],
   "source": [
    "# 定义函数，返回离散型函数变量名列表, 并查看映射值数量情况\n",
    "def get_objectfac_list(data ,print_value=False): \n",
    "    lt_discrete = []\n",
    "    for col in data.columns:\n",
    "        if str(data[col].dtype) == 'object':\n",
    "            lt_discrete.append(col)\n",
    "            if print_value == True:\n",
    "                print(data[col].value_counts())\n",
    "                # 50个 *\n",
    "                print(f'-' * 50)\n",
    "    return lt_discrete\n",
    "\n",
    "\n",
    "list_discrete = get_objectfac_list(df_select,True)\n",
    "\n",
    "# 情况3，删除离散型变量，有空值的行\n",
    "df_select.dropna(subset=list_discrete, axis=0,inplace=True)\n",
    "df_select.reset_index(drop=True, inplace=True)"
   ],
   "metadata": {
    "collapsed": false,
    "ExecuteTime": {
     "end_time": "2024-03-18T14:25:44.217161Z",
     "start_time": "2024-03-18T14:25:44.186373Z"
    }
   },
   "id": "5185ee0893dc1b7a"
  },
  {
   "cell_type": "code",
   "execution_count": 6,
   "outputs": [],
   "source": [],
   "metadata": {
    "collapsed": false,
    "ExecuteTime": {
     "end_time": "2024-03-18T14:25:44.217430Z",
     "start_time": "2024-03-18T14:25:44.191114Z"
    }
   },
   "id": "e6864af9c0000757"
  }
 ],
 "metadata": {
  "kernelspec": {
   "display_name": "Python 3",
   "language": "python",
   "name": "python3"
  },
  "language_info": {
   "codemirror_mode": {
    "name": "ipython",
    "version": 2
   },
   "file_extension": ".py",
   "mimetype": "text/x-python",
   "name": "python",
   "nbconvert_exporter": "python",
   "pygments_lexer": "ipython2",
   "version": "2.7.6"
  }
 },
 "nbformat": 4,
 "nbformat_minor": 5
}
