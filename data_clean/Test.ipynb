{
 "cells": [
  {
   "cell_type": "code",
   "execution_count": 14,
   "id": "initial_id",
   "metadata": {
    "collapsed": true,
    "ExecuteTime": {
     "end_time": "2024-03-19T13:42:26.265468Z",
     "start_time": "2024-03-19T13:42:26.260665Z"
    }
   },
   "outputs": [
    {
     "data": {
      "text/plain": "\"\\n这段代码通过一个lambda函数设置了Pandas显示浮点数的格式。'%.2f' % x指定了浮点数显示为小数点后两位的格式。这意味着所有的浮点数都将以固定的小数点格式显示，而不是科学计数法。\\n\""
     },
     "execution_count": 14,
     "metadata": {},
     "output_type": "execute_result"
    }
   ],
   "source": [
    "import os\n",
    "import pandas as pd\n",
    "import numpy as np\n",
    "\n",
    "np.set_printoptions(suppress=True,   precision=20,  threshold=10,  linewidth=40) # np禁止科学计数法显示\n",
    "'''\n",
    "suppress=True：这个选项禁用科学计数法的显示，即浮点数会以小数形式而非科学记数法形式显示。\n",
    "precision=20：设置浮点数的打印精度为20位小数。这意味着当你打印一个浮点数时，它会显示最多20位小数。\n",
    "threshold=10：这个参数设置数组的打印输出阈值。当数组元素总数超过这个阈值时，NumPy会省略中间的部分，只显示头尾元素。\n",
    "设置为10意味着当数组元素数量超过10时才会触发这种简略显示。\n",
    "linewidth=40：这决定了每行输出的字符数。此设置使得每行的输出宽度限制在40个字符以内。\n",
    "'''\n",
    "pd.set_option('display.float_format',lambda x : '%.2f' % x) # pd禁止科学计数法显示\n",
    "\n",
    "'''\n",
    "这段代码通过一个lambda函数设置了Pandas显示浮点数的格式。'%.2f' % x指定了浮点数显示为小数点后两位的格式。这意味着所有的浮点数都将以固定的小数点格式显示，而不是科学计数法。\n",
    "'''"
   ]
  },
  {
   "cell_type": "code",
   "execution_count": 15,
   "outputs": [
    {
     "data": {
      "text/plain": "      cus_no loan_rct_end_date  baseline value  accelerations  fetal_movement  \\\n0      c_001          2022/4/9             120           0.00            0.00   \n1      c_002         2022/4/25             132           0.01            0.00   \n2      c_003         2022/4/27             133            NaN            0.00   \n3      c_004         2022/3/31             134           0.00            0.00   \n4      c_005         2022/4/22             132           0.01            0.00   \n...      ...               ...             ...            ...             ...   \n2122  c_2123         2022/3/27             140            NaN            0.00   \n2123  c_2124         2022/4/24             140            NaN            0.00   \n2124  c_2125         2022/3/23             140            NaN            0.00   \n2125  c_2126          2022/4/4             142            NaN            0.00   \n2126  c_2127         2022/5/12             142            NaN            0.00   \n\n      uterine_contractions  light_decelerations  severe_decelerations  \\\n0                     0.00                 0.00                  0.00   \n1                     0.01                 0.00                  0.00   \n2                      NaN                 0.00                  0.00   \n3                     0.01                 0.00                  0.00   \n4                     0.01                 0.00                  0.00   \n...                    ...                  ...                   ...   \n2122                  0.01                 0.00                  0.00   \n2123                  0.01                 0.00                  0.00   \n2124                  0.01                 0.00                  0.00   \n2125                  0.01                 0.00                  0.00   \n2126                  0.01                 0.00                  0.00   \n\n      prolongued_decelerations  abnormal_short_term_variability  ...  \\\n0                         0.00                               73  ...   \n1                         0.00                               17  ...   \n2                         0.00                               16  ...   \n3                         0.00                               16  ...   \n4                         0.00                               16  ...   \n...                        ...                              ...  ...   \n2122                      0.00                               78  ...   \n2123                      0.00                               79  ...   \n2124                      0.00                               78  ...   \n2125                      0.00                               74  ...   \n2126                      0.00                               74  ...   \n\n      histogram_median  histogram_variance  histogram_tendency    sex  \\\n0                  121                  73                   1  woman   \n1                  140                  12                   0  woman   \n2                  138                  13                   0  woman   \n3                  137                  13                   1  woman   \n4                  138                  11                   1    man   \n...                ...                 ...                 ...    ...   \n2122               151                   3                   1    man   \n2123               152                   4                   1    man   \n2124               151                   4                   1    man   \n2125               145                   1                   0    man   \n2126               145                   1                   0    man   \n\n          agetype  reside_type  employ        test1  test2  end_pay_off_flag  \n0             old            B       y   0.39301804   0.64                 1  \n1             old            C       n  0.245573059   0.19                 0  \n2            yong            C       y  0.126393521   0.55                 0  \n3             old            B       n  0.860977844   0.62                 0  \n4             old            A       n  0.803580572   0.36                 0  \n...           ...          ...     ...          ...    ...               ...  \n2122  Middle-aged            D       n  0.800221878   0.60                 1  \n2123          old            B       n  0.068765741   0.55                 1  \n2124         yong            D       n      unknown   0.42                 1  \n2125         yong            D       n  0.942651508   0.92                 0  \n2126         yong            D       n           Na   0.92                 0  \n\n[2127 rows x 30 columns]",
      "text/html": "<div>\n<style scoped>\n    .dataframe tbody tr th:only-of-type {\n        vertical-align: middle;\n    }\n\n    .dataframe tbody tr th {\n        vertical-align: top;\n    }\n\n    .dataframe thead th {\n        text-align: right;\n    }\n</style>\n<table border=\"1\" class=\"dataframe\">\n  <thead>\n    <tr style=\"text-align: right;\">\n      <th></th>\n      <th>cus_no</th>\n      <th>loan_rct_end_date</th>\n      <th>baseline value</th>\n      <th>accelerations</th>\n      <th>fetal_movement</th>\n      <th>uterine_contractions</th>\n      <th>light_decelerations</th>\n      <th>severe_decelerations</th>\n      <th>prolongued_decelerations</th>\n      <th>abnormal_short_term_variability</th>\n      <th>...</th>\n      <th>histogram_median</th>\n      <th>histogram_variance</th>\n      <th>histogram_tendency</th>\n      <th>sex</th>\n      <th>agetype</th>\n      <th>reside_type</th>\n      <th>employ</th>\n      <th>test1</th>\n      <th>test2</th>\n      <th>end_pay_off_flag</th>\n    </tr>\n  </thead>\n  <tbody>\n    <tr>\n      <th>0</th>\n      <td>c_001</td>\n      <td>2022/4/9</td>\n      <td>120</td>\n      <td>0.00</td>\n      <td>0.00</td>\n      <td>0.00</td>\n      <td>0.00</td>\n      <td>0.00</td>\n      <td>0.00</td>\n      <td>73</td>\n      <td>...</td>\n      <td>121</td>\n      <td>73</td>\n      <td>1</td>\n      <td>woman</td>\n      <td>old</td>\n      <td>B</td>\n      <td>y</td>\n      <td>0.39301804</td>\n      <td>0.64</td>\n      <td>1</td>\n    </tr>\n    <tr>\n      <th>1</th>\n      <td>c_002</td>\n      <td>2022/4/25</td>\n      <td>132</td>\n      <td>0.01</td>\n      <td>0.00</td>\n      <td>0.01</td>\n      <td>0.00</td>\n      <td>0.00</td>\n      <td>0.00</td>\n      <td>17</td>\n      <td>...</td>\n      <td>140</td>\n      <td>12</td>\n      <td>0</td>\n      <td>woman</td>\n      <td>old</td>\n      <td>C</td>\n      <td>n</td>\n      <td>0.245573059</td>\n      <td>0.19</td>\n      <td>0</td>\n    </tr>\n    <tr>\n      <th>2</th>\n      <td>c_003</td>\n      <td>2022/4/27</td>\n      <td>133</td>\n      <td>NaN</td>\n      <td>0.00</td>\n      <td>NaN</td>\n      <td>0.00</td>\n      <td>0.00</td>\n      <td>0.00</td>\n      <td>16</td>\n      <td>...</td>\n      <td>138</td>\n      <td>13</td>\n      <td>0</td>\n      <td>woman</td>\n      <td>yong</td>\n      <td>C</td>\n      <td>y</td>\n      <td>0.126393521</td>\n      <td>0.55</td>\n      <td>0</td>\n    </tr>\n    <tr>\n      <th>3</th>\n      <td>c_004</td>\n      <td>2022/3/31</td>\n      <td>134</td>\n      <td>0.00</td>\n      <td>0.00</td>\n      <td>0.01</td>\n      <td>0.00</td>\n      <td>0.00</td>\n      <td>0.00</td>\n      <td>16</td>\n      <td>...</td>\n      <td>137</td>\n      <td>13</td>\n      <td>1</td>\n      <td>woman</td>\n      <td>old</td>\n      <td>B</td>\n      <td>n</td>\n      <td>0.860977844</td>\n      <td>0.62</td>\n      <td>0</td>\n    </tr>\n    <tr>\n      <th>4</th>\n      <td>c_005</td>\n      <td>2022/4/22</td>\n      <td>132</td>\n      <td>0.01</td>\n      <td>0.00</td>\n      <td>0.01</td>\n      <td>0.00</td>\n      <td>0.00</td>\n      <td>0.00</td>\n      <td>16</td>\n      <td>...</td>\n      <td>138</td>\n      <td>11</td>\n      <td>1</td>\n      <td>man</td>\n      <td>old</td>\n      <td>A</td>\n      <td>n</td>\n      <td>0.803580572</td>\n      <td>0.36</td>\n      <td>0</td>\n    </tr>\n    <tr>\n      <th>...</th>\n      <td>...</td>\n      <td>...</td>\n      <td>...</td>\n      <td>...</td>\n      <td>...</td>\n      <td>...</td>\n      <td>...</td>\n      <td>...</td>\n      <td>...</td>\n      <td>...</td>\n      <td>...</td>\n      <td>...</td>\n      <td>...</td>\n      <td>...</td>\n      <td>...</td>\n      <td>...</td>\n      <td>...</td>\n      <td>...</td>\n      <td>...</td>\n      <td>...</td>\n      <td>...</td>\n    </tr>\n    <tr>\n      <th>2122</th>\n      <td>c_2123</td>\n      <td>2022/3/27</td>\n      <td>140</td>\n      <td>NaN</td>\n      <td>0.00</td>\n      <td>0.01</td>\n      <td>0.00</td>\n      <td>0.00</td>\n      <td>0.00</td>\n      <td>78</td>\n      <td>...</td>\n      <td>151</td>\n      <td>3</td>\n      <td>1</td>\n      <td>man</td>\n      <td>Middle-aged</td>\n      <td>D</td>\n      <td>n</td>\n      <td>0.800221878</td>\n      <td>0.60</td>\n      <td>1</td>\n    </tr>\n    <tr>\n      <th>2123</th>\n      <td>c_2124</td>\n      <td>2022/4/24</td>\n      <td>140</td>\n      <td>NaN</td>\n      <td>0.00</td>\n      <td>0.01</td>\n      <td>0.00</td>\n      <td>0.00</td>\n      <td>0.00</td>\n      <td>79</td>\n      <td>...</td>\n      <td>152</td>\n      <td>4</td>\n      <td>1</td>\n      <td>man</td>\n      <td>old</td>\n      <td>B</td>\n      <td>n</td>\n      <td>0.068765741</td>\n      <td>0.55</td>\n      <td>1</td>\n    </tr>\n    <tr>\n      <th>2124</th>\n      <td>c_2125</td>\n      <td>2022/3/23</td>\n      <td>140</td>\n      <td>NaN</td>\n      <td>0.00</td>\n      <td>0.01</td>\n      <td>0.00</td>\n      <td>0.00</td>\n      <td>0.00</td>\n      <td>78</td>\n      <td>...</td>\n      <td>151</td>\n      <td>4</td>\n      <td>1</td>\n      <td>man</td>\n      <td>yong</td>\n      <td>D</td>\n      <td>n</td>\n      <td>unknown</td>\n      <td>0.42</td>\n      <td>1</td>\n    </tr>\n    <tr>\n      <th>2125</th>\n      <td>c_2126</td>\n      <td>2022/4/4</td>\n      <td>142</td>\n      <td>NaN</td>\n      <td>0.00</td>\n      <td>0.01</td>\n      <td>0.00</td>\n      <td>0.00</td>\n      <td>0.00</td>\n      <td>74</td>\n      <td>...</td>\n      <td>145</td>\n      <td>1</td>\n      <td>0</td>\n      <td>man</td>\n      <td>yong</td>\n      <td>D</td>\n      <td>n</td>\n      <td>0.942651508</td>\n      <td>0.92</td>\n      <td>0</td>\n    </tr>\n    <tr>\n      <th>2126</th>\n      <td>c_2127</td>\n      <td>2022/5/12</td>\n      <td>142</td>\n      <td>NaN</td>\n      <td>0.00</td>\n      <td>0.01</td>\n      <td>0.00</td>\n      <td>0.00</td>\n      <td>0.00</td>\n      <td>74</td>\n      <td>...</td>\n      <td>145</td>\n      <td>1</td>\n      <td>0</td>\n      <td>man</td>\n      <td>yong</td>\n      <td>D</td>\n      <td>n</td>\n      <td>Na</td>\n      <td>0.92</td>\n      <td>0</td>\n    </tr>\n  </tbody>\n</table>\n<p>2127 rows × 30 columns</p>\n</div>"
     },
     "execution_count": 15,
     "metadata": {},
     "output_type": "execute_result"
    }
   ],
   "source": [
    "df_all = pd.read_csv(r'test_health.csv') # 读取数据，根据你自己文件地址编写\n",
    "\n",
    "df_all.drop_duplicates(inplace=True) # 使用drop_duplicates去重，inplace=True对原数据集进行替换\n",
    "'''\n",
    "df_all.drop_duplicates() 是一个Pandas DataFrame的方法，用于删除数据框中的重复行。默认情况下，这个方法会检查所列，寻找完全相同的行，并只保留首次出现的行，去除之后出现的重复行。\n",
    "inplace=True 参数表示直接在原数据框 df_all 上进行修改，而不是返回一个新的数据框。如果不设置 inplace=True，那么原数据框不会改变，而是返回一个新的已去重的数据框。\n",
    "'''\n",
    "df_all.reset_index(drop=True, inplace=True) # 删除数据后，恢复索引\n",
    "'''\n",
    "在去除重复行之后，数据框 df_all 中的索引可能会变得不连续。例如，如果删除了第3行，原先的索引序列 0, 1, 2, 3, 4, ... 会变成 0, 1, 2, 4, ...，这时第三行的索引（即3）就会缺失。\n",
    "df_all.reset_index(drop=True) 方法用于重置数据框的索引。drop=True 参数表示放弃旧的索引值，如果不设置 drop=True，那么旧的索引会被添加为数据框的一个新列。\n",
    "同样地，inplace=True 表示直接在原数据框上修改，而不是返回一个新的数据框。\n",
    "'''\n",
    "df_all"
   ],
   "metadata": {
    "collapsed": false,
    "ExecuteTime": {
     "end_time": "2024-03-19T13:42:26.295429Z",
     "start_time": "2024-03-19T13:42:26.265662Z"
    }
   },
   "id": "9375cb2fe37122"
  },
  {
   "cell_type": "code",
   "execution_count": 16,
   "outputs": [
    {
     "name": "stdout",
     "output_type": "stream",
     "text": [
      "<class 'pandas.core.frame.DataFrame'>\n",
      "RangeIndex: 2127 entries, 0 to 2126\n",
      "Data columns (total 30 columns):\n",
      " #   Column                                                  Non-Null Count  Dtype  \n",
      "---  ------                                                  --------------  -----  \n",
      " 0   cus_no                                                  2127 non-null   object \n",
      " 1   loan_rct_end_date                                       2127 non-null   object \n",
      " 2   baseline value                                          2127 non-null   int64  \n",
      " 3   accelerations                                           1357 non-null   float64\n",
      " 4   fetal_movement                                          2127 non-null   float64\n",
      " 5   uterine_contractions                                    2126 non-null   float64\n",
      " 6   light_decelerations                                     2127 non-null   float64\n",
      " 7   severe_decelerations                                    2127 non-null   float64\n",
      " 8   prolongued_decelerations                                2127 non-null   float64\n",
      " 9   abnormal_short_term_variability                         2127 non-null   int64  \n",
      " 10  mean_value_of_short_term_variability                    2127 non-null   float64\n",
      " 11  percentage_of_time_with_abnormal_long_term_variability  2127 non-null   int64  \n",
      " 12  mean_value_of_long_term_variability                     2127 non-null   float64\n",
      " 13  histogram_width                                         2127 non-null   int64  \n",
      " 14  histogram_min                                           2127 non-null   int64  \n",
      " 15  histogram_max                                           2127 non-null   int64  \n",
      " 16  histogram_number_of_peaks                               2127 non-null   int64  \n",
      " 17  histogram_number_of_zeroes                              2127 non-null   int64  \n",
      " 18  histogram_mode                                          2127 non-null   int64  \n",
      " 19  histogram_mean                                          2127 non-null   int64  \n",
      " 20  histogram_median                                        2127 non-null   int64  \n",
      " 21  histogram_variance                                      2127 non-null   int64  \n",
      " 22  histogram_tendency                                      2127 non-null   int64  \n",
      " 23  sex                                                     2127 non-null   object \n",
      " 24  agetype                                                 2127 non-null   object \n",
      " 25  reside_type                                             2127 non-null   object \n",
      " 26  employ                                                  2127 non-null   object \n",
      " 27  test1                                                   2127 non-null   object \n",
      " 28  test2                                                   2125 non-null   float64\n",
      " 29  end_pay_off_flag                                        2127 non-null   int64  \n",
      "dtypes: float64(9), int64(14), object(7)\n",
      "memory usage: 498.6+ KB\n"
     ]
    }
   ],
   "source": [
    "df_all.info()\n",
    "# df_all.shape #(2127, 30)"
   ],
   "metadata": {
    "collapsed": false,
    "ExecuteTime": {
     "end_time": "2024-03-19T13:42:26.296308Z",
     "start_time": "2024-03-19T13:42:26.281697Z"
    }
   },
   "id": "d0ed00403f7566b2"
  },
  {
   "cell_type": "code",
   "execution_count": 17,
   "outputs": [
    {
     "name": "stdout",
     "output_type": "stream",
     "text": [
      "缺失量在20.0%以上的变量有:['accelerations']\n"
     ]
    },
    {
     "data": {
      "text/plain": "      cus_no loan_rct_end_date  baseline value  fetal_movement  \\\n0      c_001          2022/4/9             120            0.00   \n1      c_002         2022/4/25             132            0.00   \n2      c_003         2022/4/27             133            0.00   \n3      c_004         2022/3/31             134            0.00   \n4      c_005         2022/4/22             132            0.00   \n...      ...               ...             ...             ...   \n2122  c_2123         2022/3/27             140            0.00   \n2123  c_2124         2022/4/24             140            0.00   \n2124  c_2125         2022/3/23             140            0.00   \n2125  c_2126          2022/4/4             142            0.00   \n2126  c_2127         2022/5/12             142            0.00   \n\n      uterine_contractions  light_decelerations  severe_decelerations  \\\n0                     0.00                 0.00                  0.00   \n1                     0.01                 0.00                  0.00   \n2                      NaN                 0.00                  0.00   \n3                     0.01                 0.00                  0.00   \n4                     0.01                 0.00                  0.00   \n...                    ...                  ...                   ...   \n2122                  0.01                 0.00                  0.00   \n2123                  0.01                 0.00                  0.00   \n2124                  0.01                 0.00                  0.00   \n2125                  0.01                 0.00                  0.00   \n2126                  0.01                 0.00                  0.00   \n\n      prolongued_decelerations  abnormal_short_term_variability  \\\n0                         0.00                               73   \n1                         0.00                               17   \n2                         0.00                               16   \n3                         0.00                               16   \n4                         0.00                               16   \n...                        ...                              ...   \n2122                      0.00                               78   \n2123                      0.00                               79   \n2124                      0.00                               78   \n2125                      0.00                               74   \n2126                      0.00                               74   \n\n      mean_value_of_short_term_variability  ...  histogram_median  \\\n0                                     0.50  ...               121   \n1                                     2.10  ...               140   \n2                                     2.10  ...               138   \n3                                     2.40  ...               137   \n4                                     2.40  ...               138   \n...                                    ...  ...               ...   \n2122                                  0.40  ...               151   \n2123                                  0.40  ...               152   \n2124                                  0.40  ...               151   \n2125                                  0.40  ...               145   \n2126                                  0.40  ...               145   \n\n      histogram_variance  histogram_tendency    sex      agetype  reside_type  \\\n0                     73                   1  woman          old            B   \n1                     12                   0  woman          old            C   \n2                     13                   0  woman         yong            C   \n3                     13                   1  woman          old            B   \n4                     11                   1    man          old            A   \n...                  ...                 ...    ...          ...          ...   \n2122                   3                   1    man  Middle-aged            D   \n2123                   4                   1    man          old            B   \n2124                   4                   1    man         yong            D   \n2125                   1                   0    man         yong            D   \n2126                   1                   0    man         yong            D   \n\n      employ        test1  test2  end_pay_off_flag  \n0          y   0.39301804   0.64                 1  \n1          n  0.245573059   0.19                 0  \n2          y  0.126393521   0.55                 0  \n3          n  0.860977844   0.62                 0  \n4          n  0.803580572   0.36                 0  \n...      ...          ...    ...               ...  \n2122       n  0.800221878   0.60                 1  \n2123       n  0.068765741   0.55                 1  \n2124       n      unknown   0.42                 1  \n2125       n  0.942651508   0.92                 0  \n2126       n           Na   0.92                 0  \n\n[2127 rows x 29 columns]",
      "text/html": "<div>\n<style scoped>\n    .dataframe tbody tr th:only-of-type {\n        vertical-align: middle;\n    }\n\n    .dataframe tbody tr th {\n        vertical-align: top;\n    }\n\n    .dataframe thead th {\n        text-align: right;\n    }\n</style>\n<table border=\"1\" class=\"dataframe\">\n  <thead>\n    <tr style=\"text-align: right;\">\n      <th></th>\n      <th>cus_no</th>\n      <th>loan_rct_end_date</th>\n      <th>baseline value</th>\n      <th>fetal_movement</th>\n      <th>uterine_contractions</th>\n      <th>light_decelerations</th>\n      <th>severe_decelerations</th>\n      <th>prolongued_decelerations</th>\n      <th>abnormal_short_term_variability</th>\n      <th>mean_value_of_short_term_variability</th>\n      <th>...</th>\n      <th>histogram_median</th>\n      <th>histogram_variance</th>\n      <th>histogram_tendency</th>\n      <th>sex</th>\n      <th>agetype</th>\n      <th>reside_type</th>\n      <th>employ</th>\n      <th>test1</th>\n      <th>test2</th>\n      <th>end_pay_off_flag</th>\n    </tr>\n  </thead>\n  <tbody>\n    <tr>\n      <th>0</th>\n      <td>c_001</td>\n      <td>2022/4/9</td>\n      <td>120</td>\n      <td>0.00</td>\n      <td>0.00</td>\n      <td>0.00</td>\n      <td>0.00</td>\n      <td>0.00</td>\n      <td>73</td>\n      <td>0.50</td>\n      <td>...</td>\n      <td>121</td>\n      <td>73</td>\n      <td>1</td>\n      <td>woman</td>\n      <td>old</td>\n      <td>B</td>\n      <td>y</td>\n      <td>0.39301804</td>\n      <td>0.64</td>\n      <td>1</td>\n    </tr>\n    <tr>\n      <th>1</th>\n      <td>c_002</td>\n      <td>2022/4/25</td>\n      <td>132</td>\n      <td>0.00</td>\n      <td>0.01</td>\n      <td>0.00</td>\n      <td>0.00</td>\n      <td>0.00</td>\n      <td>17</td>\n      <td>2.10</td>\n      <td>...</td>\n      <td>140</td>\n      <td>12</td>\n      <td>0</td>\n      <td>woman</td>\n      <td>old</td>\n      <td>C</td>\n      <td>n</td>\n      <td>0.245573059</td>\n      <td>0.19</td>\n      <td>0</td>\n    </tr>\n    <tr>\n      <th>2</th>\n      <td>c_003</td>\n      <td>2022/4/27</td>\n      <td>133</td>\n      <td>0.00</td>\n      <td>NaN</td>\n      <td>0.00</td>\n      <td>0.00</td>\n      <td>0.00</td>\n      <td>16</td>\n      <td>2.10</td>\n      <td>...</td>\n      <td>138</td>\n      <td>13</td>\n      <td>0</td>\n      <td>woman</td>\n      <td>yong</td>\n      <td>C</td>\n      <td>y</td>\n      <td>0.126393521</td>\n      <td>0.55</td>\n      <td>0</td>\n    </tr>\n    <tr>\n      <th>3</th>\n      <td>c_004</td>\n      <td>2022/3/31</td>\n      <td>134</td>\n      <td>0.00</td>\n      <td>0.01</td>\n      <td>0.00</td>\n      <td>0.00</td>\n      <td>0.00</td>\n      <td>16</td>\n      <td>2.40</td>\n      <td>...</td>\n      <td>137</td>\n      <td>13</td>\n      <td>1</td>\n      <td>woman</td>\n      <td>old</td>\n      <td>B</td>\n      <td>n</td>\n      <td>0.860977844</td>\n      <td>0.62</td>\n      <td>0</td>\n    </tr>\n    <tr>\n      <th>4</th>\n      <td>c_005</td>\n      <td>2022/4/22</td>\n      <td>132</td>\n      <td>0.00</td>\n      <td>0.01</td>\n      <td>0.00</td>\n      <td>0.00</td>\n      <td>0.00</td>\n      <td>16</td>\n      <td>2.40</td>\n      <td>...</td>\n      <td>138</td>\n      <td>11</td>\n      <td>1</td>\n      <td>man</td>\n      <td>old</td>\n      <td>A</td>\n      <td>n</td>\n      <td>0.803580572</td>\n      <td>0.36</td>\n      <td>0</td>\n    </tr>\n    <tr>\n      <th>...</th>\n      <td>...</td>\n      <td>...</td>\n      <td>...</td>\n      <td>...</td>\n      <td>...</td>\n      <td>...</td>\n      <td>...</td>\n      <td>...</td>\n      <td>...</td>\n      <td>...</td>\n      <td>...</td>\n      <td>...</td>\n      <td>...</td>\n      <td>...</td>\n      <td>...</td>\n      <td>...</td>\n      <td>...</td>\n      <td>...</td>\n      <td>...</td>\n      <td>...</td>\n      <td>...</td>\n    </tr>\n    <tr>\n      <th>2122</th>\n      <td>c_2123</td>\n      <td>2022/3/27</td>\n      <td>140</td>\n      <td>0.00</td>\n      <td>0.01</td>\n      <td>0.00</td>\n      <td>0.00</td>\n      <td>0.00</td>\n      <td>78</td>\n      <td>0.40</td>\n      <td>...</td>\n      <td>151</td>\n      <td>3</td>\n      <td>1</td>\n      <td>man</td>\n      <td>Middle-aged</td>\n      <td>D</td>\n      <td>n</td>\n      <td>0.800221878</td>\n      <td>0.60</td>\n      <td>1</td>\n    </tr>\n    <tr>\n      <th>2123</th>\n      <td>c_2124</td>\n      <td>2022/4/24</td>\n      <td>140</td>\n      <td>0.00</td>\n      <td>0.01</td>\n      <td>0.00</td>\n      <td>0.00</td>\n      <td>0.00</td>\n      <td>79</td>\n      <td>0.40</td>\n      <td>...</td>\n      <td>152</td>\n      <td>4</td>\n      <td>1</td>\n      <td>man</td>\n      <td>old</td>\n      <td>B</td>\n      <td>n</td>\n      <td>0.068765741</td>\n      <td>0.55</td>\n      <td>1</td>\n    </tr>\n    <tr>\n      <th>2124</th>\n      <td>c_2125</td>\n      <td>2022/3/23</td>\n      <td>140</td>\n      <td>0.00</td>\n      <td>0.01</td>\n      <td>0.00</td>\n      <td>0.00</td>\n      <td>0.00</td>\n      <td>78</td>\n      <td>0.40</td>\n      <td>...</td>\n      <td>151</td>\n      <td>4</td>\n      <td>1</td>\n      <td>man</td>\n      <td>yong</td>\n      <td>D</td>\n      <td>n</td>\n      <td>unknown</td>\n      <td>0.42</td>\n      <td>1</td>\n    </tr>\n    <tr>\n      <th>2125</th>\n      <td>c_2126</td>\n      <td>2022/4/4</td>\n      <td>142</td>\n      <td>0.00</td>\n      <td>0.01</td>\n      <td>0.00</td>\n      <td>0.00</td>\n      <td>0.00</td>\n      <td>74</td>\n      <td>0.40</td>\n      <td>...</td>\n      <td>145</td>\n      <td>1</td>\n      <td>0</td>\n      <td>man</td>\n      <td>yong</td>\n      <td>D</td>\n      <td>n</td>\n      <td>0.942651508</td>\n      <td>0.92</td>\n      <td>0</td>\n    </tr>\n    <tr>\n      <th>2126</th>\n      <td>c_2127</td>\n      <td>2022/5/12</td>\n      <td>142</td>\n      <td>0.00</td>\n      <td>0.01</td>\n      <td>0.00</td>\n      <td>0.00</td>\n      <td>0.00</td>\n      <td>74</td>\n      <td>0.40</td>\n      <td>...</td>\n      <td>145</td>\n      <td>1</td>\n      <td>0</td>\n      <td>man</td>\n      <td>yong</td>\n      <td>D</td>\n      <td>n</td>\n      <td>Na</td>\n      <td>0.92</td>\n      <td>0</td>\n    </tr>\n  </tbody>\n</table>\n<p>2127 rows × 29 columns</p>\n</div>"
     },
     "execution_count": 17,
     "metadata": {},
     "output_type": "execute_result"
    }
   ],
   "source": [
    "'''\n",
    "# 定义查找缺失变量函数，返回 缺失值率> 指定缺失率(narate) 的列表\n",
    "'''\n",
    "def filter_col_by_nan(data, narate=0.2):\n",
    "    '''\n",
    "    :param data: 查找数据集\n",
    "    :param narate: 设定变量的缺失值率，默认20%\n",
    "    :return: 返回 缺失率>narate的变量名称列表\n",
    "    '''\n",
    "    n_samples = data.shape[0]\n",
    "    list_nan_cols = []\n",
    "    for col in data.columns:\n",
    "        if data[col].isna().sum() / n_samples >= (narate):\n",
    "            list_nan_cols.append(col)\n",
    "\n",
    "    print(f'缺失量在{narate * 100}%以上的变量有:{list_nan_cols}')\n",
    "\n",
    "    return list_nan_cols\n",
    "\n",
    "\n",
    "list_nullfactor_todrop = filter_col_by_nan(df_all, narate=0.2)\n",
    "\n",
    "df_select = df_all.drop(list_nullfactor_todrop, axis=1).copy()\n",
    "'''\n",
    "axis=1指定了操作的轴。在Pandas中，axis=0代表行操作，而axis=1代表列操作。因此，这里的axis=1意味着我们想要删除列而不是行。\n",
    ".copy()：在删除指定列后，copy()函数创建了DataFrame修改版本的一个副本。这是一个重要的步骤，因为它确保了原始的df_all DataFrame不会被修改。创建一个副本意味着后续对新DataFramedf_select的任何修改都不会影响原始的df_all DataFrame。\n",
    "'''\n",
    "df_select"
   ],
   "metadata": {
    "collapsed": false,
    "ExecuteTime": {
     "end_time": "2024-03-19T13:42:26.303609Z",
     "start_time": "2024-03-19T13:42:26.289255Z"
    }
   },
   "id": "ac634ee1f3a83861"
  },
  {
   "cell_type": "code",
   "execution_count": 18,
   "outputs": [
    {
     "data": {
      "text/plain": "      baseline value  fetal_movement  uterine_contractions  \\\n0                120            0.00                  0.00   \n1                132            0.00                  0.01   \n2                133            0.00                   NaN   \n3                134            0.00                  0.01   \n4                132            0.00                  0.01   \n...              ...             ...                   ...   \n2122             140            0.00                  0.01   \n2123             140            0.00                  0.01   \n2124             140            0.00                  0.01   \n2125             142            0.00                  0.01   \n2126             142            0.00                  0.01   \n\n      light_decelerations  severe_decelerations  prolongued_decelerations  \\\n0                    0.00                  0.00                      0.00   \n1                    0.00                  0.00                      0.00   \n2                    0.00                  0.00                      0.00   \n3                    0.00                  0.00                      0.00   \n4                    0.00                  0.00                      0.00   \n...                   ...                   ...                       ...   \n2122                 0.00                  0.00                      0.00   \n2123                 0.00                  0.00                      0.00   \n2124                 0.00                  0.00                      0.00   \n2125                 0.00                  0.00                      0.00   \n2126                 0.00                  0.00                      0.00   \n\n      abnormal_short_term_variability  mean_value_of_short_term_variability  \\\n0                                  73                                  0.50   \n1                                  17                                  2.10   \n2                                  16                                  2.10   \n3                                  16                                  2.40   \n4                                  16                                  2.40   \n...                               ...                                   ...   \n2122                               78                                  0.40   \n2123                               79                                  0.40   \n2124                               78                                  0.40   \n2125                               74                                  0.40   \n2126                               74                                  0.40   \n\n      percentage_of_time_with_abnormal_long_term_variability  \\\n0                                                    43        \n1                                                     0        \n2                                                     0        \n3                                                     0        \n4                                                     0        \n...                                                 ...        \n2122                                                 22        \n2123                                                 20        \n2124                                                 27        \n2125                                                 36        \n2126                                                 36        \n\n      mean_value_of_long_term_variability  ...  histogram_median  \\\n0                                    2.40  ...               121   \n1                                   10.40  ...               140   \n2                                   13.40  ...               138   \n3                                   23.00  ...               137   \n4                                   19.90  ...               138   \n...                                   ...  ...               ...   \n2122                                 7.10  ...               151   \n2123                                 6.10  ...               152   \n2124                                 7.00  ...               151   \n2125                                 5.00  ...               145   \n2126                                 5.00  ...               145   \n\n      histogram_variance  histogram_tendency    sex      agetype  reside_type  \\\n0                     73                   1  woman          old            B   \n1                     12                   0  woman          old            C   \n2                     13                   0  woman         yong            C   \n3                     13                   1  woman          old            B   \n4                     11                   1    man          old            A   \n...                  ...                 ...    ...          ...          ...   \n2122                   3                   1    man  Middle-aged            D   \n2123                   4                   1    man          old            B   \n2124                   4                   1    man         yong            D   \n2125                   1                   0    man         yong            D   \n2126                   1                   0    man         yong            D   \n\n      employ        test1  test2  end_pay_off_flag  \n0          y   0.39301804   0.64                 1  \n1          n  0.245573059   0.19                 0  \n2          y  0.126393521   0.55                 0  \n3          n  0.860977844   0.62                 0  \n4          n  0.803580572   0.36                 0  \n...      ...          ...    ...               ...  \n2122       n  0.800221878   0.60                 1  \n2123       n  0.068765741   0.55                 1  \n2124       n      unknown   0.42                 1  \n2125       n  0.942651508   0.92                 0  \n2126       n           Na   0.92                 0  \n\n[2127 rows x 27 columns]",
      "text/html": "<div>\n<style scoped>\n    .dataframe tbody tr th:only-of-type {\n        vertical-align: middle;\n    }\n\n    .dataframe tbody tr th {\n        vertical-align: top;\n    }\n\n    .dataframe thead th {\n        text-align: right;\n    }\n</style>\n<table border=\"1\" class=\"dataframe\">\n  <thead>\n    <tr style=\"text-align: right;\">\n      <th></th>\n      <th>baseline value</th>\n      <th>fetal_movement</th>\n      <th>uterine_contractions</th>\n      <th>light_decelerations</th>\n      <th>severe_decelerations</th>\n      <th>prolongued_decelerations</th>\n      <th>abnormal_short_term_variability</th>\n      <th>mean_value_of_short_term_variability</th>\n      <th>percentage_of_time_with_abnormal_long_term_variability</th>\n      <th>mean_value_of_long_term_variability</th>\n      <th>...</th>\n      <th>histogram_median</th>\n      <th>histogram_variance</th>\n      <th>histogram_tendency</th>\n      <th>sex</th>\n      <th>agetype</th>\n      <th>reside_type</th>\n      <th>employ</th>\n      <th>test1</th>\n      <th>test2</th>\n      <th>end_pay_off_flag</th>\n    </tr>\n  </thead>\n  <tbody>\n    <tr>\n      <th>0</th>\n      <td>120</td>\n      <td>0.00</td>\n      <td>0.00</td>\n      <td>0.00</td>\n      <td>0.00</td>\n      <td>0.00</td>\n      <td>73</td>\n      <td>0.50</td>\n      <td>43</td>\n      <td>2.40</td>\n      <td>...</td>\n      <td>121</td>\n      <td>73</td>\n      <td>1</td>\n      <td>woman</td>\n      <td>old</td>\n      <td>B</td>\n      <td>y</td>\n      <td>0.39301804</td>\n      <td>0.64</td>\n      <td>1</td>\n    </tr>\n    <tr>\n      <th>1</th>\n      <td>132</td>\n      <td>0.00</td>\n      <td>0.01</td>\n      <td>0.00</td>\n      <td>0.00</td>\n      <td>0.00</td>\n      <td>17</td>\n      <td>2.10</td>\n      <td>0</td>\n      <td>10.40</td>\n      <td>...</td>\n      <td>140</td>\n      <td>12</td>\n      <td>0</td>\n      <td>woman</td>\n      <td>old</td>\n      <td>C</td>\n      <td>n</td>\n      <td>0.245573059</td>\n      <td>0.19</td>\n      <td>0</td>\n    </tr>\n    <tr>\n      <th>2</th>\n      <td>133</td>\n      <td>0.00</td>\n      <td>NaN</td>\n      <td>0.00</td>\n      <td>0.00</td>\n      <td>0.00</td>\n      <td>16</td>\n      <td>2.10</td>\n      <td>0</td>\n      <td>13.40</td>\n      <td>...</td>\n      <td>138</td>\n      <td>13</td>\n      <td>0</td>\n      <td>woman</td>\n      <td>yong</td>\n      <td>C</td>\n      <td>y</td>\n      <td>0.126393521</td>\n      <td>0.55</td>\n      <td>0</td>\n    </tr>\n    <tr>\n      <th>3</th>\n      <td>134</td>\n      <td>0.00</td>\n      <td>0.01</td>\n      <td>0.00</td>\n      <td>0.00</td>\n      <td>0.00</td>\n      <td>16</td>\n      <td>2.40</td>\n      <td>0</td>\n      <td>23.00</td>\n      <td>...</td>\n      <td>137</td>\n      <td>13</td>\n      <td>1</td>\n      <td>woman</td>\n      <td>old</td>\n      <td>B</td>\n      <td>n</td>\n      <td>0.860977844</td>\n      <td>0.62</td>\n      <td>0</td>\n    </tr>\n    <tr>\n      <th>4</th>\n      <td>132</td>\n      <td>0.00</td>\n      <td>0.01</td>\n      <td>0.00</td>\n      <td>0.00</td>\n      <td>0.00</td>\n      <td>16</td>\n      <td>2.40</td>\n      <td>0</td>\n      <td>19.90</td>\n      <td>...</td>\n      <td>138</td>\n      <td>11</td>\n      <td>1</td>\n      <td>man</td>\n      <td>old</td>\n      <td>A</td>\n      <td>n</td>\n      <td>0.803580572</td>\n      <td>0.36</td>\n      <td>0</td>\n    </tr>\n    <tr>\n      <th>...</th>\n      <td>...</td>\n      <td>...</td>\n      <td>...</td>\n      <td>...</td>\n      <td>...</td>\n      <td>...</td>\n      <td>...</td>\n      <td>...</td>\n      <td>...</td>\n      <td>...</td>\n      <td>...</td>\n      <td>...</td>\n      <td>...</td>\n      <td>...</td>\n      <td>...</td>\n      <td>...</td>\n      <td>...</td>\n      <td>...</td>\n      <td>...</td>\n      <td>...</td>\n      <td>...</td>\n    </tr>\n    <tr>\n      <th>2122</th>\n      <td>140</td>\n      <td>0.00</td>\n      <td>0.01</td>\n      <td>0.00</td>\n      <td>0.00</td>\n      <td>0.00</td>\n      <td>78</td>\n      <td>0.40</td>\n      <td>22</td>\n      <td>7.10</td>\n      <td>...</td>\n      <td>151</td>\n      <td>3</td>\n      <td>1</td>\n      <td>man</td>\n      <td>Middle-aged</td>\n      <td>D</td>\n      <td>n</td>\n      <td>0.800221878</td>\n      <td>0.60</td>\n      <td>1</td>\n    </tr>\n    <tr>\n      <th>2123</th>\n      <td>140</td>\n      <td>0.00</td>\n      <td>0.01</td>\n      <td>0.00</td>\n      <td>0.00</td>\n      <td>0.00</td>\n      <td>79</td>\n      <td>0.40</td>\n      <td>20</td>\n      <td>6.10</td>\n      <td>...</td>\n      <td>152</td>\n      <td>4</td>\n      <td>1</td>\n      <td>man</td>\n      <td>old</td>\n      <td>B</td>\n      <td>n</td>\n      <td>0.068765741</td>\n      <td>0.55</td>\n      <td>1</td>\n    </tr>\n    <tr>\n      <th>2124</th>\n      <td>140</td>\n      <td>0.00</td>\n      <td>0.01</td>\n      <td>0.00</td>\n      <td>0.00</td>\n      <td>0.00</td>\n      <td>78</td>\n      <td>0.40</td>\n      <td>27</td>\n      <td>7.00</td>\n      <td>...</td>\n      <td>151</td>\n      <td>4</td>\n      <td>1</td>\n      <td>man</td>\n      <td>yong</td>\n      <td>D</td>\n      <td>n</td>\n      <td>unknown</td>\n      <td>0.42</td>\n      <td>1</td>\n    </tr>\n    <tr>\n      <th>2125</th>\n      <td>142</td>\n      <td>0.00</td>\n      <td>0.01</td>\n      <td>0.00</td>\n      <td>0.00</td>\n      <td>0.00</td>\n      <td>74</td>\n      <td>0.40</td>\n      <td>36</td>\n      <td>5.00</td>\n      <td>...</td>\n      <td>145</td>\n      <td>1</td>\n      <td>0</td>\n      <td>man</td>\n      <td>yong</td>\n      <td>D</td>\n      <td>n</td>\n      <td>0.942651508</td>\n      <td>0.92</td>\n      <td>0</td>\n    </tr>\n    <tr>\n      <th>2126</th>\n      <td>142</td>\n      <td>0.00</td>\n      <td>0.01</td>\n      <td>0.00</td>\n      <td>0.00</td>\n      <td>0.00</td>\n      <td>74</td>\n      <td>0.40</td>\n      <td>36</td>\n      <td>5.00</td>\n      <td>...</td>\n      <td>145</td>\n      <td>1</td>\n      <td>0</td>\n      <td>man</td>\n      <td>yong</td>\n      <td>D</td>\n      <td>n</td>\n      <td>Na</td>\n      <td>0.92</td>\n      <td>0</td>\n    </tr>\n  </tbody>\n</table>\n<p>2127 rows × 27 columns</p>\n</div>"
     },
     "execution_count": 18,
     "metadata": {},
     "output_type": "execute_result"
    }
   ],
   "source": [
    "list_factor_todrop = ['cus_no','loan_rct_end_date'] #不需要变量列表\n",
    "\n",
    "df_select.drop(list_factor_todrop, axis=1, inplace=True) \n",
    "\n",
    "df_select"
   ],
   "metadata": {
    "collapsed": false,
    "ExecuteTime": {
     "end_time": "2024-03-19T13:42:26.309079Z",
     "start_time": "2024-03-19T13:42:26.300589Z"
    }
   },
   "id": "33c0b9bb4167cfca"
  },
  {
   "cell_type": "code",
   "execution_count": 19,
   "outputs": [
    {
     "name": "stdout",
     "output_type": "stream",
     "text": [
      "sex\n",
      "woman    1075\n",
      "man      1037\n",
      "media      15\n",
      "Name: count, dtype: int64\n",
      "--------------------------------------------------\n",
      "agetype\n",
      "old            749\n",
      "Middle-aged    697\n",
      "yong           681\n",
      "Name: count, dtype: int64\n",
      "--------------------------------------------------\n",
      "reside_type\n",
      "C    556\n",
      "D    551\n",
      "A    522\n",
      "B    498\n",
      "Name: count, dtype: int64\n",
      "--------------------------------------------------\n",
      "employ\n",
      "y    1069\n",
      "n    1058\n",
      "Name: count, dtype: int64\n",
      "--------------------------------------------------\n",
      "test1\n",
      "Na             4\n",
      "0.39301804     1\n",
      "0.444104315    1\n",
      "0.237617981    1\n",
      "0.090933944    1\n",
      "              ..\n",
      "0.4741229      1\n",
      "0.674967331    1\n",
      "0.975020908    1\n",
      "0.091105301    1\n",
      "0.942651508    1\n",
      "Name: count, Length: 2124, dtype: int64\n",
      "--------------------------------------------------\n"
     ]
    }
   ],
   "source": [
    "# 定义函数，返回离散型函数变量名列表, 并查看映射值数量情况\n",
    "def get_objectfac_list(data ,print_value=False): \n",
    "    lt_discrete = []\n",
    "    for col in data.columns:\n",
    "        if str(data[col].dtype) == 'object':\n",
    "            lt_discrete.append(col)\n",
    "            if print_value == True:\n",
    "                print(data[col].value_counts())\n",
    "                # 50个 *\n",
    "                print(f'-' * 50)\n",
    "    return lt_discrete\n",
    "\n",
    "\n",
    "list_discrete = get_objectfac_list(df_select,True)\n",
    "\n",
    "# 情况3，删除离散型变量，有空值的行\n",
    "df_select.dropna(subset=list_discrete, axis=0,inplace=True)\n",
    "df_select.reset_index(drop=True, inplace=True)"
   ],
   "metadata": {
    "collapsed": false,
    "ExecuteTime": {
     "end_time": "2024-03-19T13:42:26.352359Z",
     "start_time": "2024-03-19T13:42:26.312766Z"
    }
   },
   "id": "5185ee0893dc1b7a"
  },
  {
   "cell_type": "code",
   "execution_count": 20,
   "outputs": [
    {
     "data": {
      "text/plain": "  object_facname  sample_num  str_sum  float/int_sum  str_detail\n0            sex        2127     2127              0            \n1        agetype        2127     2127              0            \n2    reside_type        2127     2127              0            \n3         employ        2127     2127              0            \n4          test1        2127        5           2122  Na,unknown",
      "text/html": "<div>\n<style scoped>\n    .dataframe tbody tr th:only-of-type {\n        vertical-align: middle;\n    }\n\n    .dataframe tbody tr th {\n        vertical-align: top;\n    }\n\n    .dataframe thead th {\n        text-align: right;\n    }\n</style>\n<table border=\"1\" class=\"dataframe\">\n  <thead>\n    <tr style=\"text-align: right;\">\n      <th></th>\n      <th>object_facname</th>\n      <th>sample_num</th>\n      <th>str_sum</th>\n      <th>float/int_sum</th>\n      <th>str_detail</th>\n    </tr>\n  </thead>\n  <tbody>\n    <tr>\n      <th>0</th>\n      <td>sex</td>\n      <td>2127</td>\n      <td>2127</td>\n      <td>0</td>\n      <td></td>\n    </tr>\n    <tr>\n      <th>1</th>\n      <td>agetype</td>\n      <td>2127</td>\n      <td>2127</td>\n      <td>0</td>\n      <td></td>\n    </tr>\n    <tr>\n      <th>2</th>\n      <td>reside_type</td>\n      <td>2127</td>\n      <td>2127</td>\n      <td>0</td>\n      <td></td>\n    </tr>\n    <tr>\n      <th>3</th>\n      <td>employ</td>\n      <td>2127</td>\n      <td>2127</td>\n      <td>0</td>\n      <td></td>\n    </tr>\n    <tr>\n      <th>4</th>\n      <td>test1</td>\n      <td>2127</td>\n      <td>5</td>\n      <td>2122</td>\n      <td>Na,unknown</td>\n    </tr>\n  </tbody>\n</table>\n</div>"
     },
     "execution_count": 20,
     "metadata": {},
     "output_type": "execute_result"
    }
   ],
   "source": [
    "# 定义查找数值型类型函数\n",
    "def is_numeric(value):\n",
    "    try:\n",
    "        # 尝试将字符串转换为浮点数\n",
    "        float(value)\n",
    "        return True\n",
    "    except ValueError:\n",
    "        # 如果转换失败，则说明字符串不是一个数值\n",
    "        return False\n",
    "\n",
    "# 定义查找连续型变量是否有字符串情况存在函数\n",
    "def find_str_innum(data):\n",
    "    '''\n",
    "    通过检查传入数据集中object类型的变量，统计字符串str_sum数量 以及 浮点数/整数 int_num数量\n",
    "    :param data: 传入需要检查的数据\n",
    "    :return:object类型变量，数值型和字符串统计表格。object_facname变量名，sample_num样本量，str_num文本数据量\n",
    "    '''\n",
    "    df_find_str_innum = pd.DataFrame(columns=['object_facname', 'sample_num', 'str_sum', 'float/int_sum', 'str_detail'])\n",
    "    num_index = 0\n",
    "    for col in data.columns:\n",
    "        # 只要不全是数值，col类型就为object\n",
    "        if str(data[col].dtype) == 'object':\n",
    "            n_samples = data[col].shape[0]\n",
    "            sum_str = 0\n",
    "            sum_numeric = 0\n",
    "            list_detail = []\n",
    "\n",
    "            for turple in data[col]:\n",
    "                if is_numeric(turple):\n",
    "                    sum_numeric += 1\n",
    "                else:\n",
    "                    sum_str += 1\n",
    "                    list_detail.append(turple)\n",
    "\n",
    "            if n_samples != sum_str:\n",
    "                # 去除重复\n",
    "                list_detail = np.unique(list_detail)\n",
    "                str_detail = ','.join(list_detail)\n",
    "            else:\n",
    "                str_detail = ''\n",
    "\n",
    "            df_find_str_innum.loc[num_index] = [col, n_samples, sum_str, sum_numeric] + [str_detail]\n",
    "            num_index += 1\n",
    "\n",
    "    return df_find_str_innum\n",
    "            \n",
    "df_find_str_innum = find_str_innum(df_select)\n",
    "df_find_str_innum"
   ],
   "metadata": {
    "collapsed": false,
    "ExecuteTime": {
     "end_time": "2024-03-19T13:42:26.395362Z",
     "start_time": "2024-03-19T13:42:26.334Z"
    }
   },
   "id": "ae4201b36e1b3c0c"
  },
  {
   "cell_type": "code",
   "execution_count": 21,
   "outputs": [
    {
     "data": {
      "text/plain": "      baseline value  fetal_movement  uterine_contractions  \\\n0                120            0.00                  0.00   \n1                132            0.00                  0.01   \n2                133            0.00                   NaN   \n3                134            0.00                  0.01   \n4                132            0.00                  0.01   \n...              ...             ...                   ...   \n2117             140            0.00                  0.01   \n2118             140            0.00                  0.01   \n2119             140            0.00                  0.01   \n2120             140            0.00                  0.01   \n2121             142            0.00                  0.01   \n\n      light_decelerations  severe_decelerations  prolongued_decelerations  \\\n0                    0.00                  0.00                      0.00   \n1                    0.00                  0.00                      0.00   \n2                    0.00                  0.00                      0.00   \n3                    0.00                  0.00                      0.00   \n4                    0.00                  0.00                      0.00   \n...                   ...                   ...                       ...   \n2117                 0.00                  0.00                      0.00   \n2118                 0.00                  0.00                      0.00   \n2119                 0.00                  0.00                      0.00   \n2120                 0.00                  0.00                      0.00   \n2121                 0.00                  0.00                      0.00   \n\n      abnormal_short_term_variability  mean_value_of_short_term_variability  \\\n0                                  73                                  0.50   \n1                                  17                                  2.10   \n2                                  16                                  2.10   \n3                                  16                                  2.40   \n4                                  16                                  2.40   \n...                               ...                                   ...   \n2117                               77                                  0.70   \n2118                               79                                  0.20   \n2119                               78                                  0.40   \n2120                               79                                  0.40   \n2121                               74                                  0.40   \n\n      percentage_of_time_with_abnormal_long_term_variability  \\\n0                                                    43        \n1                                                     0        \n2                                                     0        \n3                                                     0        \n4                                                     0        \n...                                                 ...        \n2117                                                 17        \n2118                                                 25        \n2119                                                 22        \n2120                                                 20        \n2121                                                 36        \n\n      mean_value_of_long_term_variability  ...  histogram_median  \\\n0                                    2.40  ...               121   \n1                                   10.40  ...               140   \n2                                   13.40  ...               138   \n3                                   23.00  ...               137   \n4                                   19.90  ...               138   \n...                                   ...  ...               ...   \n2117                                 6.00  ...               145   \n2118                                 7.20  ...               152   \n2119                                 7.10  ...               151   \n2120                                 6.10  ...               152   \n2121                                 5.00  ...               145   \n\n      histogram_variance  histogram_tendency    sex      agetype  reside_type  \\\n0                     73                   1  woman          old            B   \n1                     12                   0  woman          old            C   \n2                     13                   0  woman         yong            C   \n3                     13                   1  woman          old            B   \n4                     11                   1    man          old            A   \n...                  ...                 ...    ...          ...          ...   \n2117                   2                   0    man  Middle-aged            D   \n2118                   2                   0  woman          old            B   \n2119                   3                   1    man  Middle-aged            D   \n2120                   4                   1    man          old            B   \n2121                   1                   0    man         yong            D   \n\n      employ        test1  test2  end_pay_off_flag  \n0          y   0.39301804   0.64                 1  \n1          n  0.245573059   0.19                 0  \n2          y  0.126393521   0.55                 0  \n3          n  0.860977844   0.62                 0  \n4          n  0.803580572   0.36                 0  \n...      ...          ...    ...               ...  \n2117       n  0.271713259   0.75                 0  \n2118       n  0.058447396   0.91                 1  \n2119       n  0.800221878   0.60                 1  \n2120       n  0.068765741   0.55                 1  \n2121       n  0.942651508   0.92                 0  \n\n[2122 rows x 27 columns]",
      "text/html": "<div>\n<style scoped>\n    .dataframe tbody tr th:only-of-type {\n        vertical-align: middle;\n    }\n\n    .dataframe tbody tr th {\n        vertical-align: top;\n    }\n\n    .dataframe thead th {\n        text-align: right;\n    }\n</style>\n<table border=\"1\" class=\"dataframe\">\n  <thead>\n    <tr style=\"text-align: right;\">\n      <th></th>\n      <th>baseline value</th>\n      <th>fetal_movement</th>\n      <th>uterine_contractions</th>\n      <th>light_decelerations</th>\n      <th>severe_decelerations</th>\n      <th>prolongued_decelerations</th>\n      <th>abnormal_short_term_variability</th>\n      <th>mean_value_of_short_term_variability</th>\n      <th>percentage_of_time_with_abnormal_long_term_variability</th>\n      <th>mean_value_of_long_term_variability</th>\n      <th>...</th>\n      <th>histogram_median</th>\n      <th>histogram_variance</th>\n      <th>histogram_tendency</th>\n      <th>sex</th>\n      <th>agetype</th>\n      <th>reside_type</th>\n      <th>employ</th>\n      <th>test1</th>\n      <th>test2</th>\n      <th>end_pay_off_flag</th>\n    </tr>\n  </thead>\n  <tbody>\n    <tr>\n      <th>0</th>\n      <td>120</td>\n      <td>0.00</td>\n      <td>0.00</td>\n      <td>0.00</td>\n      <td>0.00</td>\n      <td>0.00</td>\n      <td>73</td>\n      <td>0.50</td>\n      <td>43</td>\n      <td>2.40</td>\n      <td>...</td>\n      <td>121</td>\n      <td>73</td>\n      <td>1</td>\n      <td>woman</td>\n      <td>old</td>\n      <td>B</td>\n      <td>y</td>\n      <td>0.39301804</td>\n      <td>0.64</td>\n      <td>1</td>\n    </tr>\n    <tr>\n      <th>1</th>\n      <td>132</td>\n      <td>0.00</td>\n      <td>0.01</td>\n      <td>0.00</td>\n      <td>0.00</td>\n      <td>0.00</td>\n      <td>17</td>\n      <td>2.10</td>\n      <td>0</td>\n      <td>10.40</td>\n      <td>...</td>\n      <td>140</td>\n      <td>12</td>\n      <td>0</td>\n      <td>woman</td>\n      <td>old</td>\n      <td>C</td>\n      <td>n</td>\n      <td>0.245573059</td>\n      <td>0.19</td>\n      <td>0</td>\n    </tr>\n    <tr>\n      <th>2</th>\n      <td>133</td>\n      <td>0.00</td>\n      <td>NaN</td>\n      <td>0.00</td>\n      <td>0.00</td>\n      <td>0.00</td>\n      <td>16</td>\n      <td>2.10</td>\n      <td>0</td>\n      <td>13.40</td>\n      <td>...</td>\n      <td>138</td>\n      <td>13</td>\n      <td>0</td>\n      <td>woman</td>\n      <td>yong</td>\n      <td>C</td>\n      <td>y</td>\n      <td>0.126393521</td>\n      <td>0.55</td>\n      <td>0</td>\n    </tr>\n    <tr>\n      <th>3</th>\n      <td>134</td>\n      <td>0.00</td>\n      <td>0.01</td>\n      <td>0.00</td>\n      <td>0.00</td>\n      <td>0.00</td>\n      <td>16</td>\n      <td>2.40</td>\n      <td>0</td>\n      <td>23.00</td>\n      <td>...</td>\n      <td>137</td>\n      <td>13</td>\n      <td>1</td>\n      <td>woman</td>\n      <td>old</td>\n      <td>B</td>\n      <td>n</td>\n      <td>0.860977844</td>\n      <td>0.62</td>\n      <td>0</td>\n    </tr>\n    <tr>\n      <th>4</th>\n      <td>132</td>\n      <td>0.00</td>\n      <td>0.01</td>\n      <td>0.00</td>\n      <td>0.00</td>\n      <td>0.00</td>\n      <td>16</td>\n      <td>2.40</td>\n      <td>0</td>\n      <td>19.90</td>\n      <td>...</td>\n      <td>138</td>\n      <td>11</td>\n      <td>1</td>\n      <td>man</td>\n      <td>old</td>\n      <td>A</td>\n      <td>n</td>\n      <td>0.803580572</td>\n      <td>0.36</td>\n      <td>0</td>\n    </tr>\n    <tr>\n      <th>...</th>\n      <td>...</td>\n      <td>...</td>\n      <td>...</td>\n      <td>...</td>\n      <td>...</td>\n      <td>...</td>\n      <td>...</td>\n      <td>...</td>\n      <td>...</td>\n      <td>...</td>\n      <td>...</td>\n      <td>...</td>\n      <td>...</td>\n      <td>...</td>\n      <td>...</td>\n      <td>...</td>\n      <td>...</td>\n      <td>...</td>\n      <td>...</td>\n      <td>...</td>\n      <td>...</td>\n    </tr>\n    <tr>\n      <th>2117</th>\n      <td>140</td>\n      <td>0.00</td>\n      <td>0.01</td>\n      <td>0.00</td>\n      <td>0.00</td>\n      <td>0.00</td>\n      <td>77</td>\n      <td>0.70</td>\n      <td>17</td>\n      <td>6.00</td>\n      <td>...</td>\n      <td>145</td>\n      <td>2</td>\n      <td>0</td>\n      <td>man</td>\n      <td>Middle-aged</td>\n      <td>D</td>\n      <td>n</td>\n      <td>0.271713259</td>\n      <td>0.75</td>\n      <td>0</td>\n    </tr>\n    <tr>\n      <th>2118</th>\n      <td>140</td>\n      <td>0.00</td>\n      <td>0.01</td>\n      <td>0.00</td>\n      <td>0.00</td>\n      <td>0.00</td>\n      <td>79</td>\n      <td>0.20</td>\n      <td>25</td>\n      <td>7.20</td>\n      <td>...</td>\n      <td>152</td>\n      <td>2</td>\n      <td>0</td>\n      <td>woman</td>\n      <td>old</td>\n      <td>B</td>\n      <td>n</td>\n      <td>0.058447396</td>\n      <td>0.91</td>\n      <td>1</td>\n    </tr>\n    <tr>\n      <th>2119</th>\n      <td>140</td>\n      <td>0.00</td>\n      <td>0.01</td>\n      <td>0.00</td>\n      <td>0.00</td>\n      <td>0.00</td>\n      <td>78</td>\n      <td>0.40</td>\n      <td>22</td>\n      <td>7.10</td>\n      <td>...</td>\n      <td>151</td>\n      <td>3</td>\n      <td>1</td>\n      <td>man</td>\n      <td>Middle-aged</td>\n      <td>D</td>\n      <td>n</td>\n      <td>0.800221878</td>\n      <td>0.60</td>\n      <td>1</td>\n    </tr>\n    <tr>\n      <th>2120</th>\n      <td>140</td>\n      <td>0.00</td>\n      <td>0.01</td>\n      <td>0.00</td>\n      <td>0.00</td>\n      <td>0.00</td>\n      <td>79</td>\n      <td>0.40</td>\n      <td>20</td>\n      <td>6.10</td>\n      <td>...</td>\n      <td>152</td>\n      <td>4</td>\n      <td>1</td>\n      <td>man</td>\n      <td>old</td>\n      <td>B</td>\n      <td>n</td>\n      <td>0.068765741</td>\n      <td>0.55</td>\n      <td>1</td>\n    </tr>\n    <tr>\n      <th>2121</th>\n      <td>142</td>\n      <td>0.00</td>\n      <td>0.01</td>\n      <td>0.00</td>\n      <td>0.00</td>\n      <td>0.00</td>\n      <td>74</td>\n      <td>0.40</td>\n      <td>36</td>\n      <td>5.00</td>\n      <td>...</td>\n      <td>145</td>\n      <td>1</td>\n      <td>0</td>\n      <td>man</td>\n      <td>yong</td>\n      <td>D</td>\n      <td>n</td>\n      <td>0.942651508</td>\n      <td>0.92</td>\n      <td>0</td>\n    </tr>\n  </tbody>\n</table>\n<p>2122 rows × 27 columns</p>\n</div>"
     },
     "execution_count": 21,
     "metadata": {},
     "output_type": "execute_result"
    }
   ],
   "source": [
    "df_select.drop(df_select[(df_select['test1'] == 'Na') |(df_select['test1'] == 'unknown')].index, inplace=True)\n",
    "df_select.reset_index(drop=True, inplace=True) # 恢复索引\n",
    "df_select"
   ],
   "metadata": {
    "collapsed": false,
    "ExecuteTime": {
     "end_time": "2024-03-19T13:42:26.396173Z",
     "start_time": "2024-03-19T13:42:26.336864Z"
    }
   },
   "id": "d469b85260a405e2"
  },
  {
   "cell_type": "code",
   "execution_count": 22,
   "outputs": [
    {
     "name": "stdout",
     "output_type": "stream",
     "text": [
      "<class 'pandas.core.frame.DataFrame'>\n",
      "RangeIndex: 2122 entries, 0 to 2121\n",
      "Data columns (total 27 columns):\n",
      " #   Column                                                  Non-Null Count  Dtype  \n",
      "---  ------                                                  --------------  -----  \n",
      " 0   baseline value                                          2122 non-null   int64  \n",
      " 1   fetal_movement                                          2122 non-null   float64\n",
      " 2   uterine_contractions                                    2121 non-null   float64\n",
      " 3   light_decelerations                                     2122 non-null   float64\n",
      " 4   severe_decelerations                                    2122 non-null   float64\n",
      " 5   prolongued_decelerations                                2122 non-null   float64\n",
      " 6   abnormal_short_term_variability                         2122 non-null   int64  \n",
      " 7   mean_value_of_short_term_variability                    2122 non-null   float64\n",
      " 8   percentage_of_time_with_abnormal_long_term_variability  2122 non-null   int64  \n",
      " 9   mean_value_of_long_term_variability                     2122 non-null   float64\n",
      " 10  histogram_width                                         2122 non-null   int64  \n",
      " 11  histogram_min                                           2122 non-null   int64  \n",
      " 12  histogram_max                                           2122 non-null   int64  \n",
      " 13  histogram_number_of_peaks                               2122 non-null   int64  \n",
      " 14  histogram_number_of_zeroes                              2122 non-null   int64  \n",
      " 15  histogram_mode                                          2122 non-null   int64  \n",
      " 16  histogram_mean                                          2122 non-null   int64  \n",
      " 17  histogram_median                                        2122 non-null   int64  \n",
      " 18  histogram_variance                                      2122 non-null   int64  \n",
      " 19  histogram_tendency                                      2122 non-null   int64  \n",
      " 20  sex                                                     2122 non-null   object \n",
      " 21  agetype                                                 2122 non-null   object \n",
      " 22  reside_type                                             2122 non-null   object \n",
      " 23  employ                                                  2122 non-null   object \n",
      " 24  test1                                                   2122 non-null   float64\n",
      " 25  test2                                                   2120 non-null   float64\n",
      " 26  end_pay_off_flag                                        2122 non-null   int64  \n",
      "dtypes: float64(9), int64(14), object(4)\n",
      "memory usage: 447.7+ KB\n"
     ]
    }
   ],
   "source": [
    "# object 转换为float类型 \n",
    "def obj_transform(df, columns, transtype):\n",
    "    \"\"\"\n",
    "    转换DataFrame中一列或多列的数据类型。\n",
    "    \n",
    "    参数:\n",
    "    - df: 要操作的DataFrame。\n",
    "    - columns: 需要转换的列名列表。\n",
    "    - transtype: 指定的转换类型。'obj_tofloat'表示将对象类型转换为浮点数。\n",
    "    \n",
    "    返回:\n",
    "    - 修改后的DataFrame（原地修改）。\n",
    "    \"\"\"\n",
    "    if transtype == 'float':\n",
    "        for col in columns:\n",
    "            # 使用pd.to_numeric()尝试转换为浮点数，errors='coerce'将无法转换的值设置为NaN\n",
    "            df[col] = pd.to_numeric(df[col], errors='coerce')\n",
    "    return df\n",
    "\n",
    "\n",
    "# 调用函数\n",
    "df_select = obj_transform(df_select, ['test1'], transtype='float')\n",
    "\n",
    "df_select.info()"
   ],
   "metadata": {
    "collapsed": false,
    "ExecuteTime": {
     "end_time": "2024-03-19T13:42:26.396474Z",
     "start_time": "2024-03-19T13:42:26.350449Z"
    }
   },
   "id": "903a86b83624dc7"
  },
  {
   "cell_type": "code",
   "execution_count": 23,
   "outputs": [
    {
     "data": {
      "text/plain": "      baseline value  fetal_movement  uterine_contractions  \\\n2                133            0.00                   NaN   \n1066             133            0.00                  0.01   \n1086             122            0.00                  0.00   \n\n      light_decelerations  severe_decelerations  prolongued_decelerations  \\\n2                    0.00                  0.00                      0.00   \n1066                 0.01                  0.00                      0.00   \n1086                 0.00                  0.00                      0.00   \n\n      abnormal_short_term_variability  mean_value_of_short_term_variability  \\\n2                                  16                                  2.10   \n1066                               17                                  2.40   \n1086                               27                                  1.30   \n\n      percentage_of_time_with_abnormal_long_term_variability  \\\n2                                                     0        \n1066                                                  0        \n1086                                                  0        \n\n      mean_value_of_long_term_variability  ...  histogram_median  \\\n2                                   13.40  ...               138   \n1066                                 2.10  ...               138   \n1086                                 9.30  ...               126   \n\n      histogram_variance  histogram_tendency    sex  agetype  reside_type  \\\n2                     13                   0  woman     yong            C   \n1066                  61                   0  woman     yong            C   \n1086                   1                   0  woman      old            C   \n\n      employ  test1  test2  end_pay_off_flag  \n2          y   0.13   0.55                 0  \n1066       n   0.94    NaN                 0  \n1086       n   0.90    NaN                 0  \n\n[3 rows x 27 columns]",
      "text/html": "<div>\n<style scoped>\n    .dataframe tbody tr th:only-of-type {\n        vertical-align: middle;\n    }\n\n    .dataframe tbody tr th {\n        vertical-align: top;\n    }\n\n    .dataframe thead th {\n        text-align: right;\n    }\n</style>\n<table border=\"1\" class=\"dataframe\">\n  <thead>\n    <tr style=\"text-align: right;\">\n      <th></th>\n      <th>baseline value</th>\n      <th>fetal_movement</th>\n      <th>uterine_contractions</th>\n      <th>light_decelerations</th>\n      <th>severe_decelerations</th>\n      <th>prolongued_decelerations</th>\n      <th>abnormal_short_term_variability</th>\n      <th>mean_value_of_short_term_variability</th>\n      <th>percentage_of_time_with_abnormal_long_term_variability</th>\n      <th>mean_value_of_long_term_variability</th>\n      <th>...</th>\n      <th>histogram_median</th>\n      <th>histogram_variance</th>\n      <th>histogram_tendency</th>\n      <th>sex</th>\n      <th>agetype</th>\n      <th>reside_type</th>\n      <th>employ</th>\n      <th>test1</th>\n      <th>test2</th>\n      <th>end_pay_off_flag</th>\n    </tr>\n  </thead>\n  <tbody>\n    <tr>\n      <th>2</th>\n      <td>133</td>\n      <td>0.00</td>\n      <td>NaN</td>\n      <td>0.00</td>\n      <td>0.00</td>\n      <td>0.00</td>\n      <td>16</td>\n      <td>2.10</td>\n      <td>0</td>\n      <td>13.40</td>\n      <td>...</td>\n      <td>138</td>\n      <td>13</td>\n      <td>0</td>\n      <td>woman</td>\n      <td>yong</td>\n      <td>C</td>\n      <td>y</td>\n      <td>0.13</td>\n      <td>0.55</td>\n      <td>0</td>\n    </tr>\n    <tr>\n      <th>1066</th>\n      <td>133</td>\n      <td>0.00</td>\n      <td>0.01</td>\n      <td>0.01</td>\n      <td>0.00</td>\n      <td>0.00</td>\n      <td>17</td>\n      <td>2.40</td>\n      <td>0</td>\n      <td>2.10</td>\n      <td>...</td>\n      <td>138</td>\n      <td>61</td>\n      <td>0</td>\n      <td>woman</td>\n      <td>yong</td>\n      <td>C</td>\n      <td>n</td>\n      <td>0.94</td>\n      <td>NaN</td>\n      <td>0</td>\n    </tr>\n    <tr>\n      <th>1086</th>\n      <td>122</td>\n      <td>0.00</td>\n      <td>0.00</td>\n      <td>0.00</td>\n      <td>0.00</td>\n      <td>0.00</td>\n      <td>27</td>\n      <td>1.30</td>\n      <td>0</td>\n      <td>9.30</td>\n      <td>...</td>\n      <td>126</td>\n      <td>1</td>\n      <td>0</td>\n      <td>woman</td>\n      <td>old</td>\n      <td>C</td>\n      <td>n</td>\n      <td>0.90</td>\n      <td>NaN</td>\n      <td>0</td>\n    </tr>\n  </tbody>\n</table>\n<p>3 rows × 27 columns</p>\n</div>"
     },
     "execution_count": 23,
     "metadata": {},
     "output_type": "execute_result"
    }
   ],
   "source": [
    "# 需要对数据进行划分\n",
    "\n",
    "# ① 取数值、连续类型的数据\n",
    "list_train_num = ['baseline value','fetal_movement','uterine_contractions','light_decelerations',\n",
    "                  'severe_decelerations','prolongued_decelerations','abnormal_short_term_variability',\n",
    "                  'mean_value_of_short_term_variability','percentage_of_time_with_abnormal_long_term_variability',\n",
    "                  'mean_value_of_long_term_variability','histogram_width',\n",
    "                  'histogram_min','histogram_max','histogram_number_of_peaks','histogram_number_of_zeroes',\n",
    "                  'histogram_mode','histogram_mean','histogram_median','histogram_variance',\n",
    "                  'histogram_tendency','sex','agetype','reside_type',\n",
    "                  'employ','test1','test2']\n",
    "\n",
    "# ②取文本/离散、无需独热编码 类型的数据（类似 住宅类型、就业类型 等字段）\n",
    "list_train_str = ['sex','employ']\n",
    "\n",
    "# ③取文本/离散、需 独热编码 类型的数据（类似 教育水平分类 等变量）\n",
    "list_train_str_needtrf = ['reside_type','agetype']\n",
    "\n",
    "# 查看训练集空值情况（此时只剩数值型空值，其他类型的数据都被处理了）\n",
    "df_select[df_select.isnull().any(axis=1)].head() "
   ],
   "metadata": {
    "collapsed": false,
    "ExecuteTime": {
     "end_time": "2024-03-19T13:43:27.622929Z",
     "start_time": "2024-03-19T13:43:27.598169Z"
    }
   },
   "id": "f3540ed8e2cd318f"
  },
  {
   "cell_type": "code",
   "execution_count": 24,
   "outputs": [],
   "source": [
    "# 数据清洗函数定义\n",
    "from sklearn.impute import SimpleImputer\n",
    "from sklearn.base import BaseEstimator, TransformerMixin\n",
    "from sklearn.preprocessing import LabelEncoder\n",
    "from sklearn.preprocessing import LabelBinarizer\n",
    "from sklearn.utils import check_array\n",
    "from scipy import sparse\n",
    "\n",
    "class CategoricalEncoder(BaseEstimator, TransformerMixin):\n",
    "    \"\"\"\n",
    "    将分类特征编码为数字数组。\n",
    "    此函数输入 分类的整数矩阵 或 字符串矩阵,\n",
    "    将把分类（离散）特征所具有的值转化为数组\n",
    "    \"\"\"\n",
    "\n",
    "    def __init__(self, encoding='onehot', categories='auto', dtype=np.float64,\n",
    "                 handle_unknown='error'):\n",
    "        self.encoding = encoding\n",
    "        self.categories = categories\n",
    "        self.dtype = dtype\n",
    "        self.handle_unknown = handle_unknown\n",
    "\n",
    "    def fit(self, X, y=None):\n",
    "        \"\"\"Fit the CategoricalEncoder to X.\n",
    "        Parameters\n",
    "        ----------\n",
    "        X : array-like, shape [n_samples, n_feature]\n",
    "            The data to determine the categories of each feature.\n",
    "        Returns\n",
    "        -------\n",
    "        self\n",
    "        \"\"\"\n",
    "        \n",
    "        # 报错预警\n",
    "        if self.encoding not in ['onehot', 'onehot-dense', 'ordinal']:\n",
    "            template = (\"encoding should be either 'onehot', 'onehot-dense' \"\n",
    "                        \"or 'ordinal', got %s\")\n",
    "            raise ValueError(template % self.handle_unknown)\n",
    "\n",
    "        if self.handle_unknown not in ['error', 'ignore']:\n",
    "            template = (\"handle_unknown should be either 'error' or \"\n",
    "                        \"'ignore', got %s\")\n",
    "            raise ValueError(template % self.handle_unknown)\n",
    "\n",
    "        if self.encoding == 'ordinal' and self.handle_unknown == 'ignore':\n",
    "            raise ValueError(\"handle_unknown='ignore' is not supported for\"\n",
    "                             \" encoding='ordinal'\")\n",
    "\n",
    "        X = check_array(X, dtype=np.object, accept_sparse='csc', copy=True)\n",
    "        n_samples, n_features = X.shape # n_samples 样本数，n_features 特征数\n",
    "\n",
    "        self._label_encoders_ = [LabelEncoder() for n_f in range(n_features)]\n",
    "\n",
    "        for i in range(n_features):\n",
    "            le = self._label_encoders_[i]\n",
    "            Xi = X[:, i]\n",
    "            if self.categories == 'auto':\n",
    "                le.fit(Xi)\n",
    "            else:\n",
    "                valid_mask = np.in1d(Xi, self.categories[i])\n",
    "                if not np.all(valid_mask):\n",
    "                    if self.handle_unknown == 'error':\n",
    "                        diff = np.unique(Xi[~valid_mask])\n",
    "                        msg = (\"Found unknown categories {0} in column {1}\"\n",
    "                               \" during fit\".format(diff, i))\n",
    "                        raise ValueError(msg)\n",
    "                le.classes_ = np.array(np.sort(self.categories[i]))\n",
    "\n",
    "        self.categories_ = [le.classes_ for le in self._label_encoders_]\n",
    "\n",
    "        return self\n",
    "\n",
    "    def transform(self, X):\n",
    "        \"\"\"Transform X using one-hot encoding.\n",
    "        Parameters\n",
    "        ----------\n",
    "        X : array-like, shape [n_samples, n_features]\n",
    "            The data to encode.\n",
    "        Returns\n",
    "        -------\n",
    "        X_out : sparse matrix or a 2-d array\n",
    "            Transformed input.\n",
    "        \"\"\"\n",
    "        X = check_array(X, accept_sparse='csc', dtype=np.object, copy=True)\n",
    "        n_samples, n_features = X.shape\n",
    "\n",
    "        \n",
    "        X_int = np.zeros_like(X, dtype=np.int) # 构建一个和 X 维度相同的(一毛一样)  整数零矩阵\n",
    "        X_mask = np.ones_like(X, dtype=np.bool) # 构建一个和 X 维度相同的(一毛一样)   布尔矩阵\n",
    "\n",
    "        for i in range(n_features): # 对每个变量开始循环\n",
    "            valid_mask = np.in1d(X[:, i], self.categories_[i]) # 每个变量的每一行，去验证是否是是此变量unqiue中的一个，是返回True\n",
    "            \n",
    "            if not np.all(valid_mask):\n",
    "                if self.handle_unknown == 'error':\n",
    "                    diff = np.unique(X[~valid_mask, i])\n",
    "                    msg = (\"Found unknown categories {0} in column {1}\"\n",
    "                           \" during transform\".format(diff, i))\n",
    "                    raise ValueError(msg)\n",
    "                else:\n",
    "                    # Set the problematic rows to an acceptable value and\n",
    "                    # continue `The rows are marked `X_mask` and will be\n",
    "                    # removed later.\n",
    "                    X_mask[:, i] = valid_mask # unique矩阵赋予X_mask\n",
    "                    X[:, i][~valid_mask] = self.categories_[i][0]\n",
    "            X_int[:, i] = self._label_encoders_[i].transform(X[:, i])\n",
    "\n",
    "        if self.encoding == 'ordinal':\n",
    "            return X_int.astype(self.dtype, copy=False)\n",
    "\n",
    "        mask = X_mask.ravel() # .ravel()将矩阵向量化\n",
    "\n",
    "        n_values = [cats.shape[0] for cats in self.categories_]\n",
    "\n",
    "        n_values = np.array([0] + n_values)\n",
    "        indices = np.cumsum(n_values)\n",
    "\n",
    "        column_indices = (X_int + indices[:-1]).ravel()[mask] # 找到该变量某个离散值中的所有的列索引\n",
    "        row_indices = np.repeat(np.arange(n_samples, dtype=np.int32),\n",
    "                                n_features)[mask]\n",
    "        data = np.ones(n_samples * n_features)[mask]\n",
    "\n",
    "        \n",
    "        out = sparse.csc_matrix((data, (row_indices, column_indices)),\n",
    "                                shape=(n_samples, indices[-1]),\n",
    "                                dtype=self.dtype).tocsr()\n",
    "        # out = out[:,1:] # 这里为one_hot,如果要转换成哑变量需要将状态进行k-1删除，防止虚拟陷阱！\n",
    "        if self.encoding == 'onehot-dense':\n",
    "            return out.toarray()\n",
    "        else:\n",
    "            return out"
   ],
   "metadata": {
    "collapsed": false,
    "ExecuteTime": {
     "end_time": "2024-03-19T14:20:06.840921Z",
     "start_time": "2024-03-19T14:20:05.690860Z"
    }
   },
   "id": "a8eabfa206c5ffff"
  },
  {
   "cell_type": "code",
   "execution_count": null,
   "outputs": [],
   "source": [],
   "metadata": {
    "collapsed": false
   },
   "id": "4848ddc4d066711e"
  }
 ],
 "metadata": {
  "kernelspec": {
   "display_name": "Python 3",
   "language": "python",
   "name": "python3"
  },
  "language_info": {
   "codemirror_mode": {
    "name": "ipython",
    "version": 2
   },
   "file_extension": ".py",
   "mimetype": "text/x-python",
   "name": "python",
   "nbconvert_exporter": "python",
   "pygments_lexer": "ipython2",
   "version": "2.7.6"
  }
 },
 "nbformat": 4,
 "nbformat_minor": 5
}
